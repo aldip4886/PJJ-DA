{
 "cells": [
  {
   "cell_type": "code",
   "execution_count": 1,
   "id": "3b20f827",
   "metadata": {
    "id": "3b20f827",
    "outputId": "14b57fd3-4d57-4561-fd72-8aee4f38e64a"
   },
   "outputs": [
    {
     "name": "stdout",
     "output_type": "stream",
     "text": [
      "nilai x :5, dan nilai y:10\n"
     ]
    }
   ],
   "source": [
    "# jika ditampilkan maka akan keluar nilai x=10 dan nilai y=5\n",
    "\n",
    "x = 5\n",
    "y = 10\n",
    "\n",
    "\n",
    "# ketik kode disini\n",
    "\n",
    "\n",
    "\n",
    "\n",
    "print('nilai x :{}, dan nilai y:{}'.format(x,y))"
   ]
  },
  {
   "cell_type": "code",
   "execution_count": null,
   "id": "b0a34385",
   "metadata": {
    "id": "b0a34385"
   },
   "outputs": [],
   "source": []
  }
 ],
 "metadata": {
  "colab": {
   "name": "quiz_pagi.ipynb",
   "provenance": []
  },
  "kernelspec": {
   "display_name": "Python 3 (ipykernel)",
   "language": "python",
   "name": "python3"
  },
  "language_info": {
   "codemirror_mode": {
    "name": "ipython",
    "version": 3
   },
   "file_extension": ".py",
   "mimetype": "text/x-python",
   "name": "python",
   "nbconvert_exporter": "python",
   "pygments_lexer": "ipython3",
   "version": "3.9.12"
  }
 },
 "nbformat": 4,
 "nbformat_minor": 5
}