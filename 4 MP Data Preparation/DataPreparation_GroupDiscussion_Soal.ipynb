{
 "cells": [
  {
   "cell_type": "markdown",
   "id": "675b1baf",
   "metadata": {},
   "source": [
    "# GROUP DISCUSSION"
   ]
  },
  {
   "cell_type": "code",
   "execution_count": 75,
   "id": "aad72585",
   "metadata": {
    "ExecuteTime": {
     "end_time": "2022-09-29T08:37:41.396699Z",
     "start_time": "2022-09-29T08:37:41.381087Z"
    }
   },
   "outputs": [],
   "source": [
    "##import lib, set pandas display\n",
    "\n",
    "#import pandas\n",
    "import pandas as pd\n",
    "\n",
    "# set display format float\n",
    "pd.options.display.float_format = \"{:,.2f}\".format"
   ]
  },
  {
   "cell_type": "markdown",
   "id": "767fbcb6",
   "metadata": {},
   "source": [
    "## Latihan List Comprehension"
   ]
  },
  {
   "cell_type": "markdown",
   "id": "c80dec5c",
   "metadata": {
    "id": "c80dec5c"
   },
   "source": [
    "**Latihan :**\n",
    "\n",
    "1. Menggunakan list comprehension dan fungsi range() buat list yang berisi angka 1 hingga 100\n",
    "    <br/><br/>\n",
    "    \n",
    "2. Ubah pernyataan dibawah ini menjadi list comprehension\n",
    "```python\n",
    "list_a = [3,9,27,81,243]\n",
    "list_b = []\n",
    "for value in list_a:\n",
    "    list_b.append(value/3)\n",
    "list_b\n",
    "```\n",
    "\n",
    "3. Ubah pernyataan dibawah ini menjadi list comprehension\n",
    "```python\n",
    "list_1 = [x for x in range(100)]\n",
    "list_2 = []\n",
    "for value in list_1:\n",
    "    if value < 25:\n",
    "        list_2.append(value * 2)\n",
    "list_2\n",
    "```\n",
    "\n"
   ]
  },
  {
   "cell_type": "markdown",
   "id": "aa752805",
   "metadata": {},
   "source": [
    "## Jawaban list comprehension"
   ]
  },
  {
   "cell_type": "code",
   "execution_count": 76,
   "id": "d16b02c6",
   "metadata": {
    "ExecuteTime": {
     "end_time": "2022-09-29T08:37:41.490450Z",
     "start_time": "2022-09-29T08:37:41.396699Z"
    },
    "id": "d16b02c6"
   },
   "outputs": [],
   "source": [
    "#Jawaban soal 1\n"
   ]
  },
  {
   "cell_type": "code",
   "execution_count": 77,
   "id": "28cc904c",
   "metadata": {
    "ExecuteTime": {
     "end_time": "2022-09-29T08:37:41.599829Z",
     "start_time": "2022-09-29T08:37:41.490450Z"
    },
    "id": "28cc904c"
   },
   "outputs": [],
   "source": [
    "#Jawaban Soal 2\n"
   ]
  },
  {
   "cell_type": "code",
   "execution_count": 78,
   "id": "7ef3f943",
   "metadata": {
    "ExecuteTime": {
     "end_time": "2022-09-29T08:37:41.709216Z",
     "start_time": "2022-09-29T08:37:41.599829Z"
    },
    "id": "7ef3f943"
   },
   "outputs": [],
   "source": [
    "#Jawaban Soal 3\n"
   ]
  },
  {
   "cell_type": "markdown",
   "id": "0af37217",
   "metadata": {},
   "source": [
    "## Latihan .loc dan .iloc"
   ]
  },
  {
   "cell_type": "markdown",
   "id": "029dd3a8",
   "metadata": {},
   "source": [
    "> **Dengan menggunakan data weather**"
   ]
  },
  {
   "cell_type": "code",
   "execution_count": 79,
   "id": "be840ed4",
   "metadata": {
    "ExecuteTime": {
     "end_time": "2022-09-29T08:37:42.412358Z",
     "start_time": "2022-09-29T08:37:41.709216Z"
    }
   },
   "outputs": [
    {
     "data": {
      "text/html": [
       "<div>\n",
       "<style scoped>\n",
       "    .dataframe tbody tr th:only-of-type {\n",
       "        vertical-align: middle;\n",
       "    }\n",
       "\n",
       "    .dataframe tbody tr th {\n",
       "        vertical-align: top;\n",
       "    }\n",
       "\n",
       "    .dataframe thead th {\n",
       "        text-align: right;\n",
       "    }\n",
       "</style>\n",
       "<table border=\"1\" class=\"dataframe\">\n",
       "  <thead>\n",
       "    <tr style=\"text-align: right;\">\n",
       "      <th></th>\n",
       "      <th>Weather</th>\n",
       "      <th>Temperature</th>\n",
       "      <th>Wind</th>\n",
       "      <th>Humidity</th>\n",
       "    </tr>\n",
       "    <tr>\n",
       "      <th>Day</th>\n",
       "      <th></th>\n",
       "      <th></th>\n",
       "      <th></th>\n",
       "      <th></th>\n",
       "    </tr>\n",
       "  </thead>\n",
       "  <tbody>\n",
       "    <tr>\n",
       "      <th>Mon</th>\n",
       "      <td>Sunny</td>\n",
       "      <td>12.79</td>\n",
       "      <td>13</td>\n",
       "      <td>30</td>\n",
       "    </tr>\n",
       "    <tr>\n",
       "      <th>Tue</th>\n",
       "      <td>Sunny</td>\n",
       "      <td>19.67</td>\n",
       "      <td>28</td>\n",
       "      <td>96</td>\n",
       "    </tr>\n",
       "    <tr>\n",
       "      <th>Wed</th>\n",
       "      <td>Sunny</td>\n",
       "      <td>17.51</td>\n",
       "      <td>16</td>\n",
       "      <td>20</td>\n",
       "    </tr>\n",
       "    <tr>\n",
       "      <th>Thu</th>\n",
       "      <td>Cloudy</td>\n",
       "      <td>14.44</td>\n",
       "      <td>11</td>\n",
       "      <td>22</td>\n",
       "    </tr>\n",
       "    <tr>\n",
       "      <th>Fri</th>\n",
       "      <td>Shower</td>\n",
       "      <td>10.51</td>\n",
       "      <td>26</td>\n",
       "      <td>79</td>\n",
       "    </tr>\n",
       "    <tr>\n",
       "      <th>Sat</th>\n",
       "      <td>Shower</td>\n",
       "      <td>11.07</td>\n",
       "      <td>27</td>\n",
       "      <td>62</td>\n",
       "    </tr>\n",
       "    <tr>\n",
       "      <th>Sun</th>\n",
       "      <td>Sunny</td>\n",
       "      <td>17.50</td>\n",
       "      <td>20</td>\n",
       "      <td>10</td>\n",
       "    </tr>\n",
       "  </tbody>\n",
       "</table>\n",
       "</div>"
      ],
      "text/plain": [
       "    Weather  Temperature  Wind  Humidity\n",
       "Day                                     \n",
       "Mon   Sunny        12.79    13        30\n",
       "Tue   Sunny        19.67    28        96\n",
       "Wed   Sunny        17.51    16        20\n",
       "Thu  Cloudy        14.44    11        22\n",
       "Fri  Shower        10.51    26        79\n",
       "Sat  Shower        11.07    27        62\n",
       "Sun   Sunny        17.50    20        10"
      ]
     },
     "execution_count": 79,
     "metadata": {},
     "output_type": "execute_result"
    }
   ],
   "source": [
    "# data weather\n",
    "df_lat = pd.read_csv(\"https://raw.githubusercontent.com/CRMDSDIP/PJJDAS_IV/main/Data_Preparation/day1/dataset/raw/data_weather.csv\")\n",
    "# df_lat = pd.read_csv(\"dataset/raw/data_weather.csv\")\n",
    "df_lat = df_lat.set_index('Day')\n",
    "df_lat"
   ]
  },
  {
   "cell_type": "markdown",
   "id": "784baf38",
   "metadata": {
    "ExecuteTime": {
     "end_time": "2022-09-29T08:19:38.444754Z",
     "start_time": "2022-09-29T08:19:38.429117Z"
    },
    "id": "kUrdQvbrjgly"
   },
   "source": [
    "**Latihan :**\n",
    "\n",
    "1. Latihan 1\n",
    "    - dengan .loc dan .iloc (keduanya)\n",
    "    - ambil row ke 2 sampai dengan row ke 5 (bukan index)\n",
    "    - dari kolom Weather, Wind, Humidity <br/><br/>\n",
    "    \n",
    "2. Latihan 2\n",
    "    - Tampilkan Dataframe\n",
    "    - dengan .loc ambil weather hari Jumat\n",
    "    - dengan .iloc ambil semua data dari Selasa sampai dengan Kamis"
   ]
  },
  {
   "cell_type": "markdown",
   "id": "47bee051",
   "metadata": {},
   "source": [
    "## Jawaban .loc dan .iloc"
   ]
  },
  {
   "cell_type": "code",
   "execution_count": 80,
   "id": "e3773277",
   "metadata": {
    "ExecuteTime": {
     "end_time": "2022-09-29T08:37:42.427964Z",
     "start_time": "2022-09-29T08:37:42.412358Z"
    },
    "id": "bDqtb9UEqc2N",
    "scrolled": true
   },
   "outputs": [],
   "source": [
    "#jawaban 1\n"
   ]
  },
  {
   "cell_type": "code",
   "execution_count": 81,
   "id": "DwjB_jyIqaST",
   "metadata": {
    "ExecuteTime": {
     "end_time": "2022-09-29T08:37:42.756109Z",
     "start_time": "2022-09-29T08:37:42.427964Z"
    },
    "id": "DwjB_jyIqaST"
   },
   "outputs": [],
   "source": [
    "#jawaban 2\n"
   ]
  },
  {
   "cell_type": "markdown",
   "id": "5104912a",
   "metadata": {},
   "source": [
    "## Latihan Filtering Data"
   ]
  },
  {
   "cell_type": "markdown",
   "id": "1c8eb6fd",
   "metadata": {},
   "source": [
    "> **Dengan menggunakan data weather**"
   ]
  },
  {
   "cell_type": "code",
   "execution_count": 82,
   "id": "9739f13f",
   "metadata": {
    "ExecuteTime": {
     "end_time": "2022-09-29T08:37:43.084230Z",
     "start_time": "2022-09-29T08:37:42.756109Z"
    }
   },
   "outputs": [
    {
     "data": {
      "text/html": [
       "<div>\n",
       "<style scoped>\n",
       "    .dataframe tbody tr th:only-of-type {\n",
       "        vertical-align: middle;\n",
       "    }\n",
       "\n",
       "    .dataframe tbody tr th {\n",
       "        vertical-align: top;\n",
       "    }\n",
       "\n",
       "    .dataframe thead th {\n",
       "        text-align: right;\n",
       "    }\n",
       "</style>\n",
       "<table border=\"1\" class=\"dataframe\">\n",
       "  <thead>\n",
       "    <tr style=\"text-align: right;\">\n",
       "      <th></th>\n",
       "      <th>Weather</th>\n",
       "      <th>Temperature</th>\n",
       "      <th>Wind</th>\n",
       "      <th>Humidity</th>\n",
       "    </tr>\n",
       "    <tr>\n",
       "      <th>Day</th>\n",
       "      <th></th>\n",
       "      <th></th>\n",
       "      <th></th>\n",
       "      <th></th>\n",
       "    </tr>\n",
       "  </thead>\n",
       "  <tbody>\n",
       "    <tr>\n",
       "      <th>Mon</th>\n",
       "      <td>Sunny</td>\n",
       "      <td>12.79</td>\n",
       "      <td>13</td>\n",
       "      <td>30</td>\n",
       "    </tr>\n",
       "    <tr>\n",
       "      <th>Tue</th>\n",
       "      <td>Sunny</td>\n",
       "      <td>19.67</td>\n",
       "      <td>28</td>\n",
       "      <td>96</td>\n",
       "    </tr>\n",
       "    <tr>\n",
       "      <th>Wed</th>\n",
       "      <td>Sunny</td>\n",
       "      <td>17.51</td>\n",
       "      <td>16</td>\n",
       "      <td>20</td>\n",
       "    </tr>\n",
       "    <tr>\n",
       "      <th>Thu</th>\n",
       "      <td>Cloudy</td>\n",
       "      <td>14.44</td>\n",
       "      <td>11</td>\n",
       "      <td>22</td>\n",
       "    </tr>\n",
       "    <tr>\n",
       "      <th>Fri</th>\n",
       "      <td>Shower</td>\n",
       "      <td>10.51</td>\n",
       "      <td>26</td>\n",
       "      <td>79</td>\n",
       "    </tr>\n",
       "    <tr>\n",
       "      <th>Sat</th>\n",
       "      <td>Shower</td>\n",
       "      <td>11.07</td>\n",
       "      <td>27</td>\n",
       "      <td>62</td>\n",
       "    </tr>\n",
       "    <tr>\n",
       "      <th>Sun</th>\n",
       "      <td>Sunny</td>\n",
       "      <td>17.50</td>\n",
       "      <td>20</td>\n",
       "      <td>10</td>\n",
       "    </tr>\n",
       "  </tbody>\n",
       "</table>\n",
       "</div>"
      ],
      "text/plain": [
       "    Weather  Temperature  Wind  Humidity\n",
       "Day                                     \n",
       "Mon   Sunny        12.79    13        30\n",
       "Tue   Sunny        19.67    28        96\n",
       "Wed   Sunny        17.51    16        20\n",
       "Thu  Cloudy        14.44    11        22\n",
       "Fri  Shower        10.51    26        79\n",
       "Sat  Shower        11.07    27        62\n",
       "Sun   Sunny        17.50    20        10"
      ]
     },
     "execution_count": 82,
     "metadata": {},
     "output_type": "execute_result"
    }
   ],
   "source": [
    "# data weather\n",
    "df_lat = pd.read_csv(\"https://raw.githubusercontent.com/CRMDSDIP/PJJDAS_IV/main/Data_Preparation/day1/dataset/raw/data_weather.csv\")\n",
    "# df_lat = pd.read_csv(\"dataset/raw/data_weather.csv\")\n",
    "df_lat = df_lat.set_index('Day')\n",
    "df_lat"
   ]
  },
  {
   "cell_type": "markdown",
   "id": "c1dd944f",
   "metadata": {
    "ExecuteTime": {
     "end_time": "2022-09-29T08:32:53.970790Z",
     "start_time": "2022-09-29T08:32:53.955165Z"
    }
   },
   "source": [
    "**Latihan :**\n",
    "\n",
    "1. Latihan 1\n",
    "   - dengan menggunakan conditional (cara apa saja), tampilkan baris dengan weather sunny <br/><br/>\n",
    "\n",
    "2. Latihan 2\n",
    "   - dengan menggunakan conditional (cara apa saja), tampilkan baris dengan weather sunny dan wind <= 20"
   ]
  },
  {
   "cell_type": "markdown",
   "id": "d8091c06",
   "metadata": {},
   "source": [
    "## Jawaban Filtering Data"
   ]
  },
  {
   "cell_type": "code",
   "execution_count": 83,
   "id": "4deec0fd",
   "metadata": {
    "ExecuteTime": {
     "end_time": "2022-09-29T08:37:43.099852Z",
     "start_time": "2022-09-29T08:37:43.084230Z"
    },
    "scrolled": true
   },
   "outputs": [],
   "source": [
    "# jawaban 1\n"
   ]
  },
  {
   "cell_type": "code",
   "execution_count": 84,
   "id": "6c1c71f9",
   "metadata": {
    "ExecuteTime": {
     "end_time": "2022-09-29T08:37:43.209227Z",
     "start_time": "2022-09-29T08:37:43.099852Z"
    }
   },
   "outputs": [],
   "source": [
    "# jawaban 2\n"
   ]
  },
  {
   "cell_type": "markdown",
   "id": "595f9c58",
   "metadata": {
    "id": "595f9c58"
   },
   "source": [
    "## Latihan Lambda"
   ]
  },
  {
   "cell_type": "markdown",
   "id": "7bb042e4",
   "metadata": {},
   "source": [
    "> **Dengan menggunakan data nilai**"
   ]
  },
  {
   "cell_type": "code",
   "execution_count": 85,
   "id": "37927df5",
   "metadata": {
    "ExecuteTime": {
     "end_time": "2022-09-29T08:37:43.334238Z",
     "start_time": "2022-09-29T08:37:43.209227Z"
    }
   },
   "outputs": [
    {
     "data": {
      "text/html": [
       "<div>\n",
       "<style scoped>\n",
       "    .dataframe tbody tr th:only-of-type {\n",
       "        vertical-align: middle;\n",
       "    }\n",
       "\n",
       "    .dataframe tbody tr th {\n",
       "        vertical-align: top;\n",
       "    }\n",
       "\n",
       "    .dataframe thead th {\n",
       "        text-align: right;\n",
       "    }\n",
       "</style>\n",
       "<table border=\"1\" class=\"dataframe\">\n",
       "  <thead>\n",
       "    <tr style=\"text-align: right;\">\n",
       "      <th></th>\n",
       "      <th>Name</th>\n",
       "      <th>Nilai_Mtk</th>\n",
       "      <th>Nilai_Fisika</th>\n",
       "    </tr>\n",
       "  </thead>\n",
       "  <tbody>\n",
       "    <tr>\n",
       "      <th>0</th>\n",
       "      <td>Reza</td>\n",
       "      <td>90</td>\n",
       "      <td>90</td>\n",
       "    </tr>\n",
       "    <tr>\n",
       "      <th>1</th>\n",
       "      <td>Rizky</td>\n",
       "      <td>100</td>\n",
       "      <td>90</td>\n",
       "    </tr>\n",
       "    <tr>\n",
       "      <th>2</th>\n",
       "      <td>Pratama</td>\n",
       "      <td>100</td>\n",
       "      <td>80</td>\n",
       "    </tr>\n",
       "    <tr>\n",
       "      <th>3</th>\n",
       "      <td>Ade</td>\n",
       "      <td>95</td>\n",
       "      <td>85</td>\n",
       "    </tr>\n",
       "    <tr>\n",
       "      <th>4</th>\n",
       "      <td>Satya</td>\n",
       "      <td>100</td>\n",
       "      <td>95</td>\n",
       "    </tr>\n",
       "    <tr>\n",
       "      <th>5</th>\n",
       "      <td>Wahana</td>\n",
       "      <td>90</td>\n",
       "      <td>85</td>\n",
       "    </tr>\n",
       "  </tbody>\n",
       "</table>\n",
       "</div>"
      ],
      "text/plain": [
       "      Name  Nilai_Mtk  Nilai_Fisika\n",
       "0     Reza         90            90\n",
       "1    Rizky        100            90\n",
       "2  Pratama        100            80\n",
       "3      Ade         95            85\n",
       "4    Satya        100            95\n",
       "5   Wahana         90            85"
      ]
     },
     "execution_count": 85,
     "metadata": {},
     "output_type": "execute_result"
    }
   ],
   "source": [
    "## data nilai\n",
    "\n",
    "# initializing a list\n",
    "values= [['Reza',90,90],['Rizky',100,90],['Pratama',100,80],\n",
    "         ['Ade',95,85],['Satya',100,95],['Wahana',90,85]]\n",
    "\n",
    "# creating pandas dataframe\n",
    "df_lambda = pd.DataFrame(values, columns=['Name','Nilai_Mtk','Nilai_Fisika'])\n",
    "df_lambda"
   ]
  },
  {
   "cell_type": "markdown",
   "id": "b9f15f8c",
   "metadata": {
    "ExecuteTime": {
     "end_time": "2022-09-29T08:04:37.185847Z",
     "start_time": "2022-09-29T08:04:37.170233Z"
    }
   },
   "source": [
    "Latihan lambda :\n",
    "- menggunakan .apply()\n",
    "- karena semua murid mencontek (kecuali ade) maka \"Nilai_Mtk\" selain ade dikurangi 10\n",
    "- karena jujur murid bernama \"Ade\" maka \"Nilai_Mtk\" ditambah 5"
   ]
  },
  {
   "cell_type": "markdown",
   "id": "b2bc3c32",
   "metadata": {},
   "source": [
    "## Jawaban Lambda"
   ]
  },
  {
   "cell_type": "code",
   "execution_count": 86,
   "id": "31268d83",
   "metadata": {
    "ExecuteTime": {
     "end_time": "2022-09-29T08:37:43.427978Z",
     "start_time": "2022-09-29T08:37:43.334238Z"
    },
    "id": "31268d83"
   },
   "outputs": [
    {
     "data": {
      "text/html": [
       "<div>\n",
       "<style scoped>\n",
       "    .dataframe tbody tr th:only-of-type {\n",
       "        vertical-align: middle;\n",
       "    }\n",
       "\n",
       "    .dataframe tbody tr th {\n",
       "        vertical-align: top;\n",
       "    }\n",
       "\n",
       "    .dataframe thead th {\n",
       "        text-align: right;\n",
       "    }\n",
       "</style>\n",
       "<table border=\"1\" class=\"dataframe\">\n",
       "  <thead>\n",
       "    <tr style=\"text-align: right;\">\n",
       "      <th></th>\n",
       "      <th>Name</th>\n",
       "      <th>Nilai_Mtk</th>\n",
       "      <th>Nilai_Fisika</th>\n",
       "    </tr>\n",
       "  </thead>\n",
       "  <tbody>\n",
       "    <tr>\n",
       "      <th>0</th>\n",
       "      <td>Reza</td>\n",
       "      <td>80</td>\n",
       "      <td>90</td>\n",
       "    </tr>\n",
       "    <tr>\n",
       "      <th>1</th>\n",
       "      <td>Rizky</td>\n",
       "      <td>90</td>\n",
       "      <td>90</td>\n",
       "    </tr>\n",
       "    <tr>\n",
       "      <th>2</th>\n",
       "      <td>Pratama</td>\n",
       "      <td>90</td>\n",
       "      <td>80</td>\n",
       "    </tr>\n",
       "    <tr>\n",
       "      <th>3</th>\n",
       "      <td>Ade</td>\n",
       "      <td>100</td>\n",
       "      <td>85</td>\n",
       "    </tr>\n",
       "    <tr>\n",
       "      <th>4</th>\n",
       "      <td>Satya</td>\n",
       "      <td>90</td>\n",
       "      <td>95</td>\n",
       "    </tr>\n",
       "    <tr>\n",
       "      <th>5</th>\n",
       "      <td>Wahana</td>\n",
       "      <td>80</td>\n",
       "      <td>85</td>\n",
       "    </tr>\n",
       "  </tbody>\n",
       "</table>\n",
       "</div>"
      ],
      "text/plain": [
       "      Name  Nilai_Mtk  Nilai_Fisika\n",
       "0     Reza         80            90\n",
       "1    Rizky         90            90\n",
       "2  Pratama         90            80\n",
       "3      Ade        100            85\n",
       "4    Satya         90            95\n",
       "5   Wahana         80            85"
      ]
     },
     "execution_count": 86,
     "metadata": {},
     "output_type": "execute_result"
    }
   ],
   "source": [
    "#jawaban lambda :\n",
    "\n",
    "df_lambda['Nilai_Mtk'] = df_lambda.apply(lambda x : x['Nilai_Mtk'] + 5 if x['Name']=='Ade' else x['Nilai_Mtk']-10, axis=1)\n",
    "df_lambda\n",
    "# ini menunjukkan salah satu fungsi dari df.copy() => df asal tetap"
   ]
  },
  {
   "cell_type": "markdown",
   "id": "74e81255",
   "metadata": {
    "id": "oLlW9C1R29Ey"
   },
   "source": [
    "## Latihan Akhir"
   ]
  },
  {
   "cell_type": "markdown",
   "id": "273c5e4c",
   "metadata": {},
   "source": [
    "> **Dengan menggunakan data sales**"
   ]
  },
  {
   "cell_type": "code",
   "execution_count": 87,
   "id": "ce15a023",
   "metadata": {
    "ExecuteTime": {
     "end_time": "2022-09-29T08:37:44.271743Z",
     "start_time": "2022-09-29T08:37:43.427978Z"
    }
   },
   "outputs": [
    {
     "data": {
      "text/html": [
       "<div>\n",
       "<style scoped>\n",
       "    .dataframe tbody tr th:only-of-type {\n",
       "        vertical-align: middle;\n",
       "    }\n",
       "\n",
       "    .dataframe tbody tr th {\n",
       "        vertical-align: top;\n",
       "    }\n",
       "\n",
       "    .dataframe thead th {\n",
       "        text-align: right;\n",
       "    }\n",
       "</style>\n",
       "<table border=\"1\" class=\"dataframe\">\n",
       "  <thead>\n",
       "    <tr style=\"text-align: right;\">\n",
       "      <th></th>\n",
       "      <th>Customer Number</th>\n",
       "      <th>Customer Name</th>\n",
       "      <th>Address</th>\n",
       "      <th>Type</th>\n",
       "      <th>Sales</th>\n",
       "      <th>Percent Growth</th>\n",
       "    </tr>\n",
       "  </thead>\n",
       "  <tbody>\n",
       "    <tr>\n",
       "      <th>0</th>\n",
       "      <td>100025</td>\n",
       "      <td>Quest Industry</td>\n",
       "      <td>Kebayoran Lama, Jakarta</td>\n",
       "      <td>Company</td>\n",
       "      <td>Rp162500000</td>\n",
       "      <td>30.00%</td>\n",
       "    </tr>\n",
       "    <tr>\n",
       "      <th>1</th>\n",
       "      <td>552278</td>\n",
       "      <td>Smith Plumbing</td>\n",
       "      <td>Pasteur, Bandung</td>\n",
       "      <td>Company</td>\n",
       "      <td>Rp101200000</td>\n",
       "      <td>10.00%</td>\n",
       "    </tr>\n",
       "    <tr>\n",
       "      <th>2</th>\n",
       "      <td>234775</td>\n",
       "      <td>ACME Industrial</td>\n",
       "      <td>Kebayoran Lama, Jakarta</td>\n",
       "      <td>Perusahaan</td>\n",
       "      <td>62500000</td>\n",
       "      <td>NaN</td>\n",
       "    </tr>\n",
       "    <tr>\n",
       "      <th>3</th>\n",
       "      <td>249000</td>\n",
       "      <td>Brekke LTD</td>\n",
       "      <td>Pasteur, Bandung</td>\n",
       "      <td>Company</td>\n",
       "      <td>4900000</td>\n",
       "      <td>4.00%</td>\n",
       "    </tr>\n",
       "    <tr>\n",
       "      <th>4</th>\n",
       "      <td>651029</td>\n",
       "      <td>Harbor Co</td>\n",
       "      <td>Cilincing, Jakarta</td>\n",
       "      <td>Company</td>\n",
       "      <td>Rp12750000</td>\n",
       "      <td>-15.00%</td>\n",
       "    </tr>\n",
       "    <tr>\n",
       "      <th>5</th>\n",
       "      <td>565600</td>\n",
       "      <td>Berkah Jaya</td>\n",
       "      <td>Antapani, Bandung</td>\n",
       "      <td>Perusahaan</td>\n",
       "      <td>Rp762500000</td>\n",
       "      <td>30.00%</td>\n",
       "    </tr>\n",
       "    <tr>\n",
       "      <th>6</th>\n",
       "      <td>897440</td>\n",
       "      <td>Rafee Ahmad</td>\n",
       "      <td>Sawangan, Depok</td>\n",
       "      <td>Personal</td>\n",
       "      <td>Rp12,200,000.00</td>\n",
       "      <td>10.00%</td>\n",
       "    </tr>\n",
       "    <tr>\n",
       "      <th>7</th>\n",
       "      <td>123156</td>\n",
       "      <td>Reza Pratama</td>\n",
       "      <td>Kebayoran Baru, Jakarta</td>\n",
       "      <td>Personal</td>\n",
       "      <td>50000000</td>\n",
       "      <td>25</td>\n",
       "    </tr>\n",
       "    <tr>\n",
       "      <th>8</th>\n",
       "      <td>138135</td>\n",
       "      <td>PT Berdikari</td>\n",
       "      <td>Kebayoran Lama, Jakarta</td>\n",
       "      <td>Perusahaan</td>\n",
       "      <td>Rp9000000</td>\n",
       "      <td>4.00%</td>\n",
       "    </tr>\n",
       "    <tr>\n",
       "      <th>9</th>\n",
       "      <td>748952</td>\n",
       "      <td>Alexander Samiun</td>\n",
       "      <td>Sleman, Jogjakarta</td>\n",
       "      <td>Individu</td>\n",
       "      <td>127450000</td>\n",
       "      <td>-15.00%</td>\n",
       "    </tr>\n",
       "  </tbody>\n",
       "</table>\n",
       "</div>"
      ],
      "text/plain": [
       "   Customer Number     Customer Name                  Address         Type  \\\n",
       "0           100025    Quest Industry  Kebayoran Lama, Jakarta      Company   \n",
       "1           552278    Smith Plumbing         Pasteur, Bandung      Company   \n",
       "2           234775   ACME Industrial  Kebayoran Lama, Jakarta   Perusahaan   \n",
       "3           249000        Brekke LTD         Pasteur, Bandung      Company   \n",
       "4           651029         Harbor Co       Cilincing, Jakarta      Company   \n",
       "5           565600       Berkah Jaya        Antapani, Bandung   Perusahaan   \n",
       "6           897440       Rafee Ahmad          Sawangan, Depok     Personal   \n",
       "7           123156      Reza Pratama  Kebayoran Baru, Jakarta     Personal   \n",
       "8           138135      PT Berdikari  Kebayoran Lama, Jakarta  Perusahaan    \n",
       "9           748952  Alexander Samiun       Sleman, Jogjakarta     Individu   \n",
       "\n",
       "             Sales Percent Growth  \n",
       "0      Rp162500000         30.00%  \n",
       "1      Rp101200000         10.00%  \n",
       "2         62500000            NaN  \n",
       "3          4900000          4.00%  \n",
       "4       Rp12750000        -15.00%  \n",
       "5      Rp762500000         30.00%  \n",
       "6  Rp12,200,000.00         10.00%  \n",
       "7         50000000             25  \n",
       "8        Rp9000000          4.00%  \n",
       "9        127450000        -15.00%  "
      ]
     },
     "execution_count": 87,
     "metadata": {},
     "output_type": "execute_result"
    }
   ],
   "source": [
    "# Data Sales\n",
    "df = pd.read_csv('https://raw.githubusercontent.com/CRMDSDIP/PJJDAS_IV/main/Data_Preparation/day1/dataset/raw/sales_data_latihan.csv')\n",
    "# df = pd.read_csv(\"dataset/raw/sales_data_latihan.csv\")\n",
    "df"
   ]
  },
  {
   "cell_type": "markdown",
   "id": "f29485ae",
   "metadata": {
    "id": "AIqkSrjL2xog"
   },
   "source": [
    "Latihan Akhir : \n",
    "1. Perbaiki format data:\n",
    "- Kolom sales seharusnya numerik (hapus Rp)\n",
    "- Kolom \"Percent Growth\" seharusnya numerik (tanpa tanda %) dan isi NaN (Null) dengan nilai Rata-rata (Mean)\n",
    "- Hilangkan spasi berlebih pada kolom Type \n",
    "<br/><br/>\n",
    "2. Buat laporan:\n",
    "- Jumlah Sales Berdasarkan Tipe\n",
    "- Ambil 3 \"Customer Name\" dengan kenaikan tertinggi"
   ]
  },
  {
   "cell_type": "markdown",
   "id": "8854bd56",
   "metadata": {},
   "source": [
    "## Jawaban Akhir :"
   ]
  },
  {
   "cell_type": "code",
   "execution_count": 88,
   "id": "af6c64a8",
   "metadata": {
    "ExecuteTime": {
     "end_time": "2022-09-29T08:37:44.287365Z",
     "start_time": "2022-09-29T08:37:44.271743Z"
    }
   },
   "outputs": [],
   "source": [
    "## Jawaban 1 :"
   ]
  },
  {
   "cell_type": "code",
   "execution_count": 89,
   "id": "b7a44553",
   "metadata": {
    "ExecuteTime": {
     "end_time": "2022-09-29T08:37:44.412424Z",
     "start_time": "2022-09-29T08:37:44.287365Z"
    }
   },
   "outputs": [],
   "source": [
    "# Sales \n"
   ]
  },
  {
   "cell_type": "code",
   "execution_count": 90,
   "id": "035e650b",
   "metadata": {
    "ExecuteTime": {
     "end_time": "2022-09-29T08:37:44.568620Z",
     "start_time": "2022-09-29T08:37:44.412424Z"
    }
   },
   "outputs": [],
   "source": [
    "# Percent Growth \n"
   ]
  },
  {
   "cell_type": "code",
   "execution_count": 91,
   "id": "db43e6fd",
   "metadata": {
    "ExecuteTime": {
     "end_time": "2022-09-29T08:37:44.709311Z",
     "start_time": "2022-09-29T08:37:44.568620Z"
    }
   },
   "outputs": [],
   "source": [
    "# Type\n"
   ]
  },
  {
   "cell_type": "code",
   "execution_count": 92,
   "id": "07693038",
   "metadata": {
    "ExecuteTime": {
     "end_time": "2022-09-29T08:37:44.818682Z",
     "start_time": "2022-09-29T08:37:44.709311Z"
    }
   },
   "outputs": [],
   "source": [
    "## Jawaban 2 :"
   ]
  },
  {
   "cell_type": "code",
   "execution_count": 93,
   "id": "92e46a45",
   "metadata": {
    "ExecuteTime": {
     "end_time": "2022-09-29T08:37:44.928057Z",
     "start_time": "2022-09-29T08:37:44.818682Z"
    }
   },
   "outputs": [],
   "source": [
    "# sales berdasarkan Type\n"
   ]
  },
  {
   "cell_type": "code",
   "execution_count": 94,
   "id": "063e4ad9",
   "metadata": {
    "ExecuteTime": {
     "end_time": "2022-09-29T08:37:45.037434Z",
     "start_time": "2022-09-29T08:37:44.928057Z"
    }
   },
   "outputs": [],
   "source": [
    "# top 3 Customer Percent Growth\n"
   ]
  }
 ],
 "metadata": {
  "colab": {
   "name": "DataPreparation-Indra.ipynb",
   "provenance": [],
   "toc_visible": true
  },
  "kernelspec": {
   "display_name": "Python 3 (ipykernel)",
   "language": "python",
   "name": "python3"
  },
  "language_info": {
   "codemirror_mode": {
    "name": "ipython",
    "version": 3
   },
   "file_extension": ".py",
   "mimetype": "text/x-python",
   "name": "python",
   "nbconvert_exporter": "python",
   "pygments_lexer": "ipython3",
   "version": "3.9.12"
  },
  "themify": {
   "theme": "MOF-DAC 2"
  },
  "toc": {
   "base_numbering": 1,
   "nav_menu": {},
   "number_sections": true,
   "sideBar": true,
   "skip_h1_title": false,
   "title_cell": "Table of Contents",
   "title_sidebar": "Contents",
   "toc_cell": false,
   "toc_position": {
    "height": "calc(100% - 180px)",
    "left": "10px",
    "top": "150px",
    "width": "298.8px"
   },
   "toc_section_display": true,
   "toc_window_display": true
  },
  "varInspector": {
   "cols": {
    "lenName": 16,
    "lenType": 16,
    "lenVar": 40
   },
   "kernels_config": {
    "python": {
     "delete_cmd_postfix": "",
     "delete_cmd_prefix": "del ",
     "library": "var_list.py",
     "varRefreshCmd": "print(var_dic_list())"
    },
    "r": {
     "delete_cmd_postfix": ") ",
     "delete_cmd_prefix": "rm(",
     "library": "var_list.r",
     "varRefreshCmd": "cat(var_dic_list()) "
    }
   },
   "types_to_exclude": [
    "module",
    "function",
    "builtin_function_or_method",
    "instance",
    "_Feature"
   ],
   "window_display": false
  }
 },
 "nbformat": 4,
 "nbformat_minor": 5
}
