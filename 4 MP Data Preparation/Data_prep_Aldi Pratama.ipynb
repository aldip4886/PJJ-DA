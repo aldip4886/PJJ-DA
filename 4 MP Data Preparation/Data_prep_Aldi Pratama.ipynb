{
 "cells": [
  {
   "cell_type": "markdown",
   "id": "675b1baf",
   "metadata": {},
   "source": [
    "# GROUP DISCUSSION"
   ]
  },
  {
   "cell_type": "code",
   "execution_count": 120,
   "id": "aad72585",
   "metadata": {
    "ExecuteTime": {
     "end_time": "2022-09-29T08:37:41.396699Z",
     "start_time": "2022-09-29T08:37:41.381087Z"
    }
   },
   "outputs": [],
   "source": [
    "##import lib, set pandas display\n",
    "\n",
    "#import pandas\n",
    "import pandas as pd\n",
    "\n",
    "# set display format float\n",
    "pd.options.display.float_format = \"{:,.2f}\".format"
   ]
  },
  {
   "cell_type": "markdown",
   "id": "767fbcb6",
   "metadata": {},
   "source": [
    "## Latihan List Comprehension"
   ]
  },
  {
   "cell_type": "markdown",
   "id": "c80dec5c",
   "metadata": {
    "id": "c80dec5c"
   },
   "source": [
    "**Latihan :**\n",
    "\n",
    "1. Menggunakan list comprehension dan fungsi range() buat list yang berisi angka 1 hingga 100\n",
    "    <br/><br/>\n",
    "    \n",
    "2. Ubah pernyataan dibawah ini menjadi list comprehension\n",
    "```python\n",
    "list_a = [3,9,27,81,243]\n",
    "list_b = []\n",
    "for value in list_a:\n",
    "    list_b.append(value/3)\n",
    "list_b\n",
    "```\n",
    "\n",
    "3. Ubah pernyataan dibawah ini menjadi list comprehension\n",
    "```python\n",
    "list_1 = [x for x in range(100)]\n",
    "list_2 = []\n",
    "for value in list_1:\n",
    "    if value < 25:\n",
    "        list_2.append(value * 2)\n",
    "list_2\n",
    "```\n",
    "\n"
   ]
  },
  {
   "cell_type": "markdown",
   "id": "aa752805",
   "metadata": {},
   "source": [
    "## Jawaban List Comprehension"
   ]
  },
  {
   "cell_type": "markdown",
   "id": "40a243e7",
   "metadata": {},
   "source": [
    "### Jawaban soal 1\n"
   ]
  },
  {
   "cell_type": "code",
   "execution_count": 121,
   "id": "d16b02c6",
   "metadata": {
    "ExecuteTime": {
     "end_time": "2022-09-29T08:37:41.490450Z",
     "start_time": "2022-09-29T08:37:41.396699Z"
    },
    "id": "d16b02c6"
   },
   "outputs": [
    {
     "name": "stdout",
     "output_type": "stream",
     "text": [
      "[1, 2, 3, 4, 5, 6, 7, 8, 9, 10, 11, 12, 13, 14, 15, 16, 17, 18, 19, 20, 21, 22, 23, 24, 25, 26, 27, 28, 29, 30, 31, 32, 33, 34, 35, 36, 37, 38, 39, 40, 41, 42, 43, 44, 45, 46, 47, 48, 49, 50, 51, 52, 53, 54, 55, 56, 57, 58, 59, 60, 61, 62, 63, 64, 65, 66, 67, 68, 69, 70, 71, 72, 73, 74, 75, 76, 77, 78, 79, 80, 81, 82, 83, 84, 85, 86, 87, 88, 89, 90, 91, 92, 93, 94, 95, 96, 97, 98, 99]\n"
     ]
    }
   ],
   "source": [
    "#Jawaban soal 1\n",
    "list_saya=[]\n",
    "for i in range(1,100,1):\n",
    "    list_saya.append(i)\n",
    "print(list_saya)"
   ]
  },
  {
   "cell_type": "code",
   "execution_count": 122,
   "id": "495b62b5",
   "metadata": {},
   "outputs": [
    {
     "name": "stdout",
     "output_type": "stream",
     "text": [
      "[1, 2, 3, 4, 5, 6, 7, 8, 9, 10, 11, 12, 13, 14, 15, 16, 17, 18, 19, 20, 21, 22, 23, 24, 25, 26, 27, 28, 29, 30, 31, 32, 33, 34, 35, 36, 37, 38, 39, 40, 41, 42, 43, 44, 45, 46, 47, 48, 49, 50, 51, 52, 53, 54, 55, 56, 57, 58, 59, 60, 61, 62, 63, 64, 65, 66, 67, 68, 69, 70, 71, 72, 73, 74, 75, 76, 77, 78, 79, 80, 81, 82, 83, 84, 85, 86, 87, 88, 89, 90, 91, 92, 93, 94, 95, 96, 97, 98, 99]\n"
     ]
    }
   ],
   "source": [
    "range_2 = range(1,100,1)\n",
    "list1 = list(range_2)\n",
    "print(list1)"
   ]
  },
  {
   "cell_type": "markdown",
   "id": "dedb77e8",
   "metadata": {},
   "source": [
    "### Jawaban soal 2\n"
   ]
  },
  {
   "cell_type": "code",
   "execution_count": 123,
   "id": "28cc904c",
   "metadata": {
    "ExecuteTime": {
     "end_time": "2022-09-29T08:37:41.599829Z",
     "start_time": "2022-09-29T08:37:41.490450Z"
    },
    "id": "28cc904c"
   },
   "outputs": [
    {
     "data": {
      "text/plain": [
       "[1.0, 3.0, 9.0, 27.0, 81.0]"
      ]
     },
     "execution_count": 123,
     "metadata": {},
     "output_type": "execute_result"
    }
   ],
   "source": [
    "#Jawaban Soal 2\n",
    "list_a = [3,9,27,81,243]\n",
    "list_b = []\n",
    "for value in list_a:\n",
    "    list_b.append(value/3)\n",
    "list_b"
   ]
  },
  {
   "cell_type": "markdown",
   "id": "234fb9a8",
   "metadata": {},
   "source": [
    "### Jawaban soal 3\n"
   ]
  },
  {
   "cell_type": "code",
   "execution_count": 124,
   "id": "7ef3f943",
   "metadata": {
    "ExecuteTime": {
     "end_time": "2022-09-29T08:37:41.709216Z",
     "start_time": "2022-09-29T08:37:41.599829Z"
    },
    "id": "7ef3f943"
   },
   "outputs": [
    {
     "name": "stdout",
     "output_type": "stream",
     "text": [
      "[0, 2, 4, 6, 8, 10, 12, 14, 16, 18, 20, 22, 24, 26, 28, 30, 32, 34, 36, 38, 40, 42, 44, 46, 48]\n"
     ]
    }
   ],
   "source": [
    "#Jawaban Soal 3\n",
    "list_1 = [x for x in range(100)]\n",
    "list_2 = []\n",
    "for value in list_1:\n",
    "    if value < 25:\n",
    "        list_2.append(value * 2)\n",
    "print(list_2)"
   ]
  },
  {
   "cell_type": "markdown",
   "id": "0af37217",
   "metadata": {},
   "source": [
    "## Latihan .loc dan .iloc"
   ]
  },
  {
   "cell_type": "markdown",
   "id": "029dd3a8",
   "metadata": {},
   "source": [
    "> **Dengan menggunakan data weather**"
   ]
  },
  {
   "cell_type": "code",
   "execution_count": 125,
   "id": "be840ed4",
   "metadata": {
    "ExecuteTime": {
     "end_time": "2022-09-29T08:37:42.412358Z",
     "start_time": "2022-09-29T08:37:41.709216Z"
    }
   },
   "outputs": [
    {
     "data": {
      "text/html": [
       "<div>\n",
       "<style scoped>\n",
       "    .dataframe tbody tr th:only-of-type {\n",
       "        vertical-align: middle;\n",
       "    }\n",
       "\n",
       "    .dataframe tbody tr th {\n",
       "        vertical-align: top;\n",
       "    }\n",
       "\n",
       "    .dataframe thead th {\n",
       "        text-align: right;\n",
       "    }\n",
       "</style>\n",
       "<table border=\"1\" class=\"dataframe\">\n",
       "  <thead>\n",
       "    <tr style=\"text-align: right;\">\n",
       "      <th></th>\n",
       "      <th>Weather</th>\n",
       "      <th>Temperature</th>\n",
       "      <th>Wind</th>\n",
       "      <th>Humidity</th>\n",
       "    </tr>\n",
       "    <tr>\n",
       "      <th>Day</th>\n",
       "      <th></th>\n",
       "      <th></th>\n",
       "      <th></th>\n",
       "      <th></th>\n",
       "    </tr>\n",
       "  </thead>\n",
       "  <tbody>\n",
       "    <tr>\n",
       "      <th>Mon</th>\n",
       "      <td>Sunny</td>\n",
       "      <td>12.79</td>\n",
       "      <td>13</td>\n",
       "      <td>30</td>\n",
       "    </tr>\n",
       "    <tr>\n",
       "      <th>Tue</th>\n",
       "      <td>Sunny</td>\n",
       "      <td>19.67</td>\n",
       "      <td>28</td>\n",
       "      <td>96</td>\n",
       "    </tr>\n",
       "    <tr>\n",
       "      <th>Wed</th>\n",
       "      <td>Sunny</td>\n",
       "      <td>17.51</td>\n",
       "      <td>16</td>\n",
       "      <td>20</td>\n",
       "    </tr>\n",
       "    <tr>\n",
       "      <th>Thu</th>\n",
       "      <td>Cloudy</td>\n",
       "      <td>14.44</td>\n",
       "      <td>11</td>\n",
       "      <td>22</td>\n",
       "    </tr>\n",
       "    <tr>\n",
       "      <th>Fri</th>\n",
       "      <td>Shower</td>\n",
       "      <td>10.51</td>\n",
       "      <td>26</td>\n",
       "      <td>79</td>\n",
       "    </tr>\n",
       "    <tr>\n",
       "      <th>Sat</th>\n",
       "      <td>Shower</td>\n",
       "      <td>11.07</td>\n",
       "      <td>27</td>\n",
       "      <td>62</td>\n",
       "    </tr>\n",
       "    <tr>\n",
       "      <th>Sun</th>\n",
       "      <td>Sunny</td>\n",
       "      <td>17.50</td>\n",
       "      <td>20</td>\n",
       "      <td>10</td>\n",
       "    </tr>\n",
       "  </tbody>\n",
       "</table>\n",
       "</div>"
      ],
      "text/plain": [
       "    Weather  Temperature  Wind  Humidity\n",
       "Day                                     \n",
       "Mon   Sunny        12.79    13        30\n",
       "Tue   Sunny        19.67    28        96\n",
       "Wed   Sunny        17.51    16        20\n",
       "Thu  Cloudy        14.44    11        22\n",
       "Fri  Shower        10.51    26        79\n",
       "Sat  Shower        11.07    27        62\n",
       "Sun   Sunny        17.50    20        10"
      ]
     },
     "execution_count": 125,
     "metadata": {},
     "output_type": "execute_result"
    }
   ],
   "source": [
    "# data weather\n",
    "df_lat = pd.read_csv(\"https://raw.githubusercontent.com/CRMDSDIP/PJJDAS_IV/main/Data_Preparation/day1/dataset/raw/data_weather.csv\")\n",
    "# df_lat = pd.read_csv(\"dataset/raw/data_weather.csv\")\n",
    "df_lat = df_lat.set_index('Day')\n",
    "df_lat"
   ]
  },
  {
   "cell_type": "markdown",
   "id": "784baf38",
   "metadata": {
    "ExecuteTime": {
     "end_time": "2022-09-29T08:19:38.444754Z",
     "start_time": "2022-09-29T08:19:38.429117Z"
    },
    "id": "kUrdQvbrjgly"
   },
   "source": [
    "**Latihan :**\n",
    "\n",
    "1. Latihan 1\n",
    "    - dengan .loc dan .iloc (keduanya)\n",
    "    - ambil row ke 2 sampai dengan row ke 5 (bukan index)\n",
    "    - dari kolom Weather, Wind, Humidity <br/><br/>\n",
    "    \n",
    "2. Latihan 2\n",
    "    - Tampilkan Dataframe\n",
    "    - dengan .loc ambil weather hari Jumat\n",
    "    - dengan .iloc ambil semua data dari Selasa sampai dengan Kamis"
   ]
  },
  {
   "cell_type": "markdown",
   "id": "47bee051",
   "metadata": {},
   "source": [
    "## Jawaban .loc dan .iloc"
   ]
  },
  {
   "cell_type": "markdown",
   "id": "4f87a75a",
   "metadata": {},
   "source": [
    "### Jawaban 1\n"
   ]
  },
  {
   "cell_type": "code",
   "execution_count": 126,
   "id": "e3773277",
   "metadata": {
    "ExecuteTime": {
     "end_time": "2022-09-29T08:37:42.427964Z",
     "start_time": "2022-09-29T08:37:42.412358Z"
    },
    "id": "bDqtb9UEqc2N",
    "scrolled": true
   },
   "outputs": [
    {
     "data": {
      "text/html": [
       "<div>\n",
       "<style scoped>\n",
       "    .dataframe tbody tr th:only-of-type {\n",
       "        vertical-align: middle;\n",
       "    }\n",
       "\n",
       "    .dataframe tbody tr th {\n",
       "        vertical-align: top;\n",
       "    }\n",
       "\n",
       "    .dataframe thead th {\n",
       "        text-align: right;\n",
       "    }\n",
       "</style>\n",
       "<table border=\"1\" class=\"dataframe\">\n",
       "  <thead>\n",
       "    <tr style=\"text-align: right;\">\n",
       "      <th></th>\n",
       "      <th>Weather</th>\n",
       "      <th>Wind</th>\n",
       "      <th>Humidity</th>\n",
       "    </tr>\n",
       "    <tr>\n",
       "      <th>Day</th>\n",
       "      <th></th>\n",
       "      <th></th>\n",
       "      <th></th>\n",
       "    </tr>\n",
       "  </thead>\n",
       "  <tbody>\n",
       "    <tr>\n",
       "      <th>Tue</th>\n",
       "      <td>Sunny</td>\n",
       "      <td>28</td>\n",
       "      <td>96</td>\n",
       "    </tr>\n",
       "    <tr>\n",
       "      <th>Wed</th>\n",
       "      <td>Sunny</td>\n",
       "      <td>16</td>\n",
       "      <td>20</td>\n",
       "    </tr>\n",
       "    <tr>\n",
       "      <th>Thu</th>\n",
       "      <td>Cloudy</td>\n",
       "      <td>11</td>\n",
       "      <td>22</td>\n",
       "    </tr>\n",
       "    <tr>\n",
       "      <th>Fri</th>\n",
       "      <td>Shower</td>\n",
       "      <td>26</td>\n",
       "      <td>79</td>\n",
       "    </tr>\n",
       "    <tr>\n",
       "      <th>Sat</th>\n",
       "      <td>Shower</td>\n",
       "      <td>27</td>\n",
       "      <td>62</td>\n",
       "    </tr>\n",
       "  </tbody>\n",
       "</table>\n",
       "</div>"
      ],
      "text/plain": [
       "    Weather  Wind  Humidity\n",
       "Day                        \n",
       "Tue   Sunny    28        96\n",
       "Wed   Sunny    16        20\n",
       "Thu  Cloudy    11        22\n",
       "Fri  Shower    26        79\n",
       "Sat  Shower    27        62"
      ]
     },
     "execution_count": 126,
     "metadata": {},
     "output_type": "execute_result"
    }
   ],
   "source": [
    "# ambil row ke 2 sampai dengan row ke 5 (bukan index) dari kolom Weather, Wind, Humidity\n",
    "# menggunakan loc\n",
    "df_lat.loc['Tue':'Sat',['Weather','Wind','Humidity']] # dengan loc\n",
    "\n"
   ]
  },
  {
   "cell_type": "code",
   "execution_count": 127,
   "id": "039109e8",
   "metadata": {},
   "outputs": [
    {
     "data": {
      "text/html": [
       "<div>\n",
       "<style scoped>\n",
       "    .dataframe tbody tr th:only-of-type {\n",
       "        vertical-align: middle;\n",
       "    }\n",
       "\n",
       "    .dataframe tbody tr th {\n",
       "        vertical-align: top;\n",
       "    }\n",
       "\n",
       "    .dataframe thead th {\n",
       "        text-align: right;\n",
       "    }\n",
       "</style>\n",
       "<table border=\"1\" class=\"dataframe\">\n",
       "  <thead>\n",
       "    <tr style=\"text-align: right;\">\n",
       "      <th></th>\n",
       "      <th>Weather</th>\n",
       "      <th>Wind</th>\n",
       "      <th>Humidity</th>\n",
       "    </tr>\n",
       "    <tr>\n",
       "      <th>Day</th>\n",
       "      <th></th>\n",
       "      <th></th>\n",
       "      <th></th>\n",
       "    </tr>\n",
       "  </thead>\n",
       "  <tbody>\n",
       "    <tr>\n",
       "      <th>Tue</th>\n",
       "      <td>Sunny</td>\n",
       "      <td>28</td>\n",
       "      <td>96</td>\n",
       "    </tr>\n",
       "    <tr>\n",
       "      <th>Wed</th>\n",
       "      <td>Sunny</td>\n",
       "      <td>16</td>\n",
       "      <td>20</td>\n",
       "    </tr>\n",
       "    <tr>\n",
       "      <th>Thu</th>\n",
       "      <td>Cloudy</td>\n",
       "      <td>11</td>\n",
       "      <td>22</td>\n",
       "    </tr>\n",
       "    <tr>\n",
       "      <th>Fri</th>\n",
       "      <td>Shower</td>\n",
       "      <td>26</td>\n",
       "      <td>79</td>\n",
       "    </tr>\n",
       "    <tr>\n",
       "      <th>Sat</th>\n",
       "      <td>Shower</td>\n",
       "      <td>27</td>\n",
       "      <td>62</td>\n",
       "    </tr>\n",
       "  </tbody>\n",
       "</table>\n",
       "</div>"
      ],
      "text/plain": [
       "    Weather  Wind  Humidity\n",
       "Day                        \n",
       "Tue   Sunny    28        96\n",
       "Wed   Sunny    16        20\n",
       "Thu  Cloudy    11        22\n",
       "Fri  Shower    26        79\n",
       "Sat  Shower    27        62"
      ]
     },
     "execution_count": 127,
     "metadata": {},
     "output_type": "execute_result"
    }
   ],
   "source": [
    "# menggunakan iloc\n",
    "df_lat.iloc[1:6,[0,2,3]] # dengan iloc"
   ]
  },
  {
   "cell_type": "markdown",
   "id": "ee912b67",
   "metadata": {},
   "source": [
    "### Jawaban 2\n"
   ]
  },
  {
   "cell_type": "code",
   "execution_count": 128,
   "id": "DwjB_jyIqaST",
   "metadata": {
    "ExecuteTime": {
     "end_time": "2022-09-29T08:37:42.756109Z",
     "start_time": "2022-09-29T08:37:42.427964Z"
    },
    "id": "DwjB_jyIqaST"
   },
   "outputs": [
    {
     "data": {
      "text/html": [
       "<div>\n",
       "<style scoped>\n",
       "    .dataframe tbody tr th:only-of-type {\n",
       "        vertical-align: middle;\n",
       "    }\n",
       "\n",
       "    .dataframe tbody tr th {\n",
       "        vertical-align: top;\n",
       "    }\n",
       "\n",
       "    .dataframe thead th {\n",
       "        text-align: right;\n",
       "    }\n",
       "</style>\n",
       "<table border=\"1\" class=\"dataframe\">\n",
       "  <thead>\n",
       "    <tr style=\"text-align: right;\">\n",
       "      <th></th>\n",
       "      <th>Weather</th>\n",
       "      <th>Temperature</th>\n",
       "      <th>Wind</th>\n",
       "      <th>Humidity</th>\n",
       "    </tr>\n",
       "    <tr>\n",
       "      <th>Day</th>\n",
       "      <th></th>\n",
       "      <th></th>\n",
       "      <th></th>\n",
       "      <th></th>\n",
       "    </tr>\n",
       "  </thead>\n",
       "  <tbody>\n",
       "    <tr>\n",
       "      <th>Mon</th>\n",
       "      <td>Sunny</td>\n",
       "      <td>12.79</td>\n",
       "      <td>13</td>\n",
       "      <td>30</td>\n",
       "    </tr>\n",
       "    <tr>\n",
       "      <th>Tue</th>\n",
       "      <td>Sunny</td>\n",
       "      <td>19.67</td>\n",
       "      <td>28</td>\n",
       "      <td>96</td>\n",
       "    </tr>\n",
       "    <tr>\n",
       "      <th>Wed</th>\n",
       "      <td>Sunny</td>\n",
       "      <td>17.51</td>\n",
       "      <td>16</td>\n",
       "      <td>20</td>\n",
       "    </tr>\n",
       "    <tr>\n",
       "      <th>Thu</th>\n",
       "      <td>Cloudy</td>\n",
       "      <td>14.44</td>\n",
       "      <td>11</td>\n",
       "      <td>22</td>\n",
       "    </tr>\n",
       "    <tr>\n",
       "      <th>Fri</th>\n",
       "      <td>Shower</td>\n",
       "      <td>10.51</td>\n",
       "      <td>26</td>\n",
       "      <td>79</td>\n",
       "    </tr>\n",
       "    <tr>\n",
       "      <th>Sat</th>\n",
       "      <td>Shower</td>\n",
       "      <td>11.07</td>\n",
       "      <td>27</td>\n",
       "      <td>62</td>\n",
       "    </tr>\n",
       "    <tr>\n",
       "      <th>Sun</th>\n",
       "      <td>Sunny</td>\n",
       "      <td>17.50</td>\n",
       "      <td>20</td>\n",
       "      <td>10</td>\n",
       "    </tr>\n",
       "  </tbody>\n",
       "</table>\n",
       "</div>"
      ],
      "text/plain": [
       "    Weather  Temperature  Wind  Humidity\n",
       "Day                                     \n",
       "Mon   Sunny        12.79    13        30\n",
       "Tue   Sunny        19.67    28        96\n",
       "Wed   Sunny        17.51    16        20\n",
       "Thu  Cloudy        14.44    11        22\n",
       "Fri  Shower        10.51    26        79\n",
       "Sat  Shower        11.07    27        62\n",
       "Sun   Sunny        17.50    20        10"
      ]
     },
     "execution_count": 128,
     "metadata": {},
     "output_type": "execute_result"
    }
   ],
   "source": [
    "\n",
    "# Tampilkan Dataframe\n",
    "df_lat\n",
    "\n",
    "\n"
   ]
  },
  {
   "cell_type": "code",
   "execution_count": 129,
   "id": "2609f66b",
   "metadata": {},
   "outputs": [
    {
     "data": {
      "text/html": [
       "<div>\n",
       "<style scoped>\n",
       "    .dataframe tbody tr th:only-of-type {\n",
       "        vertical-align: middle;\n",
       "    }\n",
       "\n",
       "    .dataframe tbody tr th {\n",
       "        vertical-align: top;\n",
       "    }\n",
       "\n",
       "    .dataframe thead th {\n",
       "        text-align: right;\n",
       "    }\n",
       "</style>\n",
       "<table border=\"1\" class=\"dataframe\">\n",
       "  <thead>\n",
       "    <tr style=\"text-align: right;\">\n",
       "      <th></th>\n",
       "      <th>Weather</th>\n",
       "    </tr>\n",
       "    <tr>\n",
       "      <th>Day</th>\n",
       "      <th></th>\n",
       "    </tr>\n",
       "  </thead>\n",
       "  <tbody>\n",
       "    <tr>\n",
       "      <th>Fri</th>\n",
       "      <td>Shower</td>\n",
       "    </tr>\n",
       "  </tbody>\n",
       "</table>\n",
       "</div>"
      ],
      "text/plain": [
       "    Weather\n",
       "Day        \n",
       "Fri  Shower"
      ]
     },
     "execution_count": 129,
     "metadata": {},
     "output_type": "execute_result"
    }
   ],
   "source": [
    "# mengambil weather hari Jumat menggunakan loc\n",
    "df_friday = df_lat.loc['Fri':'Fri',['Weather']]\n",
    "df_friday\n"
   ]
  },
  {
   "cell_type": "code",
   "execution_count": 130,
   "id": "868d0707",
   "metadata": {},
   "outputs": [
    {
     "data": {
      "text/html": [
       "<div>\n",
       "<style scoped>\n",
       "    .dataframe tbody tr th:only-of-type {\n",
       "        vertical-align: middle;\n",
       "    }\n",
       "\n",
       "    .dataframe tbody tr th {\n",
       "        vertical-align: top;\n",
       "    }\n",
       "\n",
       "    .dataframe thead th {\n",
       "        text-align: right;\n",
       "    }\n",
       "</style>\n",
       "<table border=\"1\" class=\"dataframe\">\n",
       "  <thead>\n",
       "    <tr style=\"text-align: right;\">\n",
       "      <th></th>\n",
       "      <th>Weather</th>\n",
       "      <th>Temperature</th>\n",
       "      <th>Wind</th>\n",
       "      <th>Humidity</th>\n",
       "    </tr>\n",
       "    <tr>\n",
       "      <th>Day</th>\n",
       "      <th></th>\n",
       "      <th></th>\n",
       "      <th></th>\n",
       "      <th></th>\n",
       "    </tr>\n",
       "  </thead>\n",
       "  <tbody>\n",
       "    <tr>\n",
       "      <th>Tue</th>\n",
       "      <td>Sunny</td>\n",
       "      <td>19.67</td>\n",
       "      <td>28</td>\n",
       "      <td>96</td>\n",
       "    </tr>\n",
       "    <tr>\n",
       "      <th>Wed</th>\n",
       "      <td>Sunny</td>\n",
       "      <td>17.51</td>\n",
       "      <td>16</td>\n",
       "      <td>20</td>\n",
       "    </tr>\n",
       "    <tr>\n",
       "      <th>Thu</th>\n",
       "      <td>Cloudy</td>\n",
       "      <td>14.44</td>\n",
       "      <td>11</td>\n",
       "      <td>22</td>\n",
       "    </tr>\n",
       "  </tbody>\n",
       "</table>\n",
       "</div>"
      ],
      "text/plain": [
       "    Weather  Temperature  Wind  Humidity\n",
       "Day                                     \n",
       "Tue   Sunny        19.67    28        96\n",
       "Wed   Sunny        17.51    16        20\n",
       "Thu  Cloudy        14.44    11        22"
      ]
     },
     "execution_count": 130,
     "metadata": {},
     "output_type": "execute_result"
    }
   ],
   "source": [
    "# mengambil semua data dengan .iloc dari Selasa sampai dengan Kamis\n",
    "df2 = df_lat.iloc[1:4,]\n",
    "df2"
   ]
  },
  {
   "cell_type": "markdown",
   "id": "5104912a",
   "metadata": {},
   "source": [
    "## Latihan Filtering Data"
   ]
  },
  {
   "cell_type": "markdown",
   "id": "1c8eb6fd",
   "metadata": {},
   "source": [
    "> **Dengan menggunakan data weather**"
   ]
  },
  {
   "cell_type": "code",
   "execution_count": 131,
   "id": "9739f13f",
   "metadata": {
    "ExecuteTime": {
     "end_time": "2022-09-29T08:37:43.084230Z",
     "start_time": "2022-09-29T08:37:42.756109Z"
    }
   },
   "outputs": [
    {
     "data": {
      "text/html": [
       "<div>\n",
       "<style scoped>\n",
       "    .dataframe tbody tr th:only-of-type {\n",
       "        vertical-align: middle;\n",
       "    }\n",
       "\n",
       "    .dataframe tbody tr th {\n",
       "        vertical-align: top;\n",
       "    }\n",
       "\n",
       "    .dataframe thead th {\n",
       "        text-align: right;\n",
       "    }\n",
       "</style>\n",
       "<table border=\"1\" class=\"dataframe\">\n",
       "  <thead>\n",
       "    <tr style=\"text-align: right;\">\n",
       "      <th></th>\n",
       "      <th>Weather</th>\n",
       "      <th>Temperature</th>\n",
       "      <th>Wind</th>\n",
       "      <th>Humidity</th>\n",
       "    </tr>\n",
       "    <tr>\n",
       "      <th>Day</th>\n",
       "      <th></th>\n",
       "      <th></th>\n",
       "      <th></th>\n",
       "      <th></th>\n",
       "    </tr>\n",
       "  </thead>\n",
       "  <tbody>\n",
       "    <tr>\n",
       "      <th>Mon</th>\n",
       "      <td>Sunny</td>\n",
       "      <td>12.79</td>\n",
       "      <td>13</td>\n",
       "      <td>30</td>\n",
       "    </tr>\n",
       "    <tr>\n",
       "      <th>Tue</th>\n",
       "      <td>Sunny</td>\n",
       "      <td>19.67</td>\n",
       "      <td>28</td>\n",
       "      <td>96</td>\n",
       "    </tr>\n",
       "    <tr>\n",
       "      <th>Wed</th>\n",
       "      <td>Sunny</td>\n",
       "      <td>17.51</td>\n",
       "      <td>16</td>\n",
       "      <td>20</td>\n",
       "    </tr>\n",
       "    <tr>\n",
       "      <th>Thu</th>\n",
       "      <td>Cloudy</td>\n",
       "      <td>14.44</td>\n",
       "      <td>11</td>\n",
       "      <td>22</td>\n",
       "    </tr>\n",
       "    <tr>\n",
       "      <th>Fri</th>\n",
       "      <td>Shower</td>\n",
       "      <td>10.51</td>\n",
       "      <td>26</td>\n",
       "      <td>79</td>\n",
       "    </tr>\n",
       "    <tr>\n",
       "      <th>Sat</th>\n",
       "      <td>Shower</td>\n",
       "      <td>11.07</td>\n",
       "      <td>27</td>\n",
       "      <td>62</td>\n",
       "    </tr>\n",
       "    <tr>\n",
       "      <th>Sun</th>\n",
       "      <td>Sunny</td>\n",
       "      <td>17.50</td>\n",
       "      <td>20</td>\n",
       "      <td>10</td>\n",
       "    </tr>\n",
       "  </tbody>\n",
       "</table>\n",
       "</div>"
      ],
      "text/plain": [
       "    Weather  Temperature  Wind  Humidity\n",
       "Day                                     \n",
       "Mon   Sunny        12.79    13        30\n",
       "Tue   Sunny        19.67    28        96\n",
       "Wed   Sunny        17.51    16        20\n",
       "Thu  Cloudy        14.44    11        22\n",
       "Fri  Shower        10.51    26        79\n",
       "Sat  Shower        11.07    27        62\n",
       "Sun   Sunny        17.50    20        10"
      ]
     },
     "execution_count": 131,
     "metadata": {},
     "output_type": "execute_result"
    }
   ],
   "source": [
    "# data weather\n",
    "df_lat = pd.read_csv(\"https://raw.githubusercontent.com/CRMDSDIP/PJJDAS_IV/main/Data_Preparation/day1/dataset/raw/data_weather.csv\")\n",
    "# df_lat = pd.read_csv(\"dataset/raw/data_weather.csv\")\n",
    "df_lat = df_lat.set_index('Day')\n",
    "df_lat"
   ]
  },
  {
   "cell_type": "markdown",
   "id": "c1dd944f",
   "metadata": {
    "ExecuteTime": {
     "end_time": "2022-09-29T08:32:53.970790Z",
     "start_time": "2022-09-29T08:32:53.955165Z"
    }
   },
   "source": [
    "**Latihan :**\n",
    "\n",
    "1. Latihan 1\n",
    "   - dengan menggunakan conditional (cara apa saja), tampilkan baris dengan weather sunny <br/><br/>\n",
    "\n",
    "2. Latihan 2\n",
    "   - dengan menggunakan conditional (cara apa saja), tampilkan baris dengan weather sunny dan wind <= 20"
   ]
  },
  {
   "cell_type": "markdown",
   "id": "d8091c06",
   "metadata": {},
   "source": [
    "## Jawaban Filtering Data"
   ]
  },
  {
   "cell_type": "markdown",
   "id": "4b9cb1d2",
   "metadata": {},
   "source": [
    "### Jawaban 1\n"
   ]
  },
  {
   "cell_type": "code",
   "execution_count": 132,
   "id": "4deec0fd",
   "metadata": {
    "ExecuteTime": {
     "end_time": "2022-09-29T08:37:43.099852Z",
     "start_time": "2022-09-29T08:37:43.084230Z"
    },
    "scrolled": true
   },
   "outputs": [
    {
     "data": {
      "text/html": [
       "<div>\n",
       "<style scoped>\n",
       "    .dataframe tbody tr th:only-of-type {\n",
       "        vertical-align: middle;\n",
       "    }\n",
       "\n",
       "    .dataframe tbody tr th {\n",
       "        vertical-align: top;\n",
       "    }\n",
       "\n",
       "    .dataframe thead th {\n",
       "        text-align: right;\n",
       "    }\n",
       "</style>\n",
       "<table border=\"1\" class=\"dataframe\">\n",
       "  <thead>\n",
       "    <tr style=\"text-align: right;\">\n",
       "      <th></th>\n",
       "      <th>Weather</th>\n",
       "      <th>Temperature</th>\n",
       "      <th>Wind</th>\n",
       "      <th>Humidity</th>\n",
       "    </tr>\n",
       "    <tr>\n",
       "      <th>Day</th>\n",
       "      <th></th>\n",
       "      <th></th>\n",
       "      <th></th>\n",
       "      <th></th>\n",
       "    </tr>\n",
       "  </thead>\n",
       "  <tbody>\n",
       "    <tr>\n",
       "      <th>Mon</th>\n",
       "      <td>Sunny</td>\n",
       "      <td>12.79</td>\n",
       "      <td>13</td>\n",
       "      <td>30</td>\n",
       "    </tr>\n",
       "    <tr>\n",
       "      <th>Tue</th>\n",
       "      <td>Sunny</td>\n",
       "      <td>19.67</td>\n",
       "      <td>28</td>\n",
       "      <td>96</td>\n",
       "    </tr>\n",
       "    <tr>\n",
       "      <th>Wed</th>\n",
       "      <td>Sunny</td>\n",
       "      <td>17.51</td>\n",
       "      <td>16</td>\n",
       "      <td>20</td>\n",
       "    </tr>\n",
       "    <tr>\n",
       "      <th>Sun</th>\n",
       "      <td>Sunny</td>\n",
       "      <td>17.50</td>\n",
       "      <td>20</td>\n",
       "      <td>10</td>\n",
       "    </tr>\n",
       "  </tbody>\n",
       "</table>\n",
       "</div>"
      ],
      "text/plain": [
       "    Weather  Temperature  Wind  Humidity\n",
       "Day                                     \n",
       "Mon   Sunny        12.79    13        30\n",
       "Tue   Sunny        19.67    28        96\n",
       "Wed   Sunny        17.51    16        20\n",
       "Sun   Sunny        17.50    20        10"
      ]
     },
     "execution_count": 132,
     "metadata": {},
     "output_type": "execute_result"
    }
   ],
   "source": [
    "# dengan menggunakan conditional (cara apa saja), tampilkan baris dengan weather sunny\n",
    "df_lat[df_lat['Weather'] == 'Sunny']\n"
   ]
  },
  {
   "cell_type": "markdown",
   "id": "60066b01",
   "metadata": {},
   "source": [
    "### Jawaban 2"
   ]
  },
  {
   "cell_type": "code",
   "execution_count": 133,
   "id": "6c1c71f9",
   "metadata": {
    "ExecuteTime": {
     "end_time": "2022-09-29T08:37:43.209227Z",
     "start_time": "2022-09-29T08:37:43.099852Z"
    }
   },
   "outputs": [
    {
     "data": {
      "text/html": [
       "<div>\n",
       "<style scoped>\n",
       "    .dataframe tbody tr th:only-of-type {\n",
       "        vertical-align: middle;\n",
       "    }\n",
       "\n",
       "    .dataframe tbody tr th {\n",
       "        vertical-align: top;\n",
       "    }\n",
       "\n",
       "    .dataframe thead th {\n",
       "        text-align: right;\n",
       "    }\n",
       "</style>\n",
       "<table border=\"1\" class=\"dataframe\">\n",
       "  <thead>\n",
       "    <tr style=\"text-align: right;\">\n",
       "      <th></th>\n",
       "      <th>Weather</th>\n",
       "      <th>Temperature</th>\n",
       "      <th>Wind</th>\n",
       "      <th>Humidity</th>\n",
       "    </tr>\n",
       "    <tr>\n",
       "      <th>Day</th>\n",
       "      <th></th>\n",
       "      <th></th>\n",
       "      <th></th>\n",
       "      <th></th>\n",
       "    </tr>\n",
       "  </thead>\n",
       "  <tbody>\n",
       "    <tr>\n",
       "      <th>Mon</th>\n",
       "      <td>Sunny</td>\n",
       "      <td>12.79</td>\n",
       "      <td>13</td>\n",
       "      <td>30</td>\n",
       "    </tr>\n",
       "    <tr>\n",
       "      <th>Wed</th>\n",
       "      <td>Sunny</td>\n",
       "      <td>17.51</td>\n",
       "      <td>16</td>\n",
       "      <td>20</td>\n",
       "    </tr>\n",
       "    <tr>\n",
       "      <th>Sun</th>\n",
       "      <td>Sunny</td>\n",
       "      <td>17.50</td>\n",
       "      <td>20</td>\n",
       "      <td>10</td>\n",
       "    </tr>\n",
       "  </tbody>\n",
       "</table>\n",
       "</div>"
      ],
      "text/plain": [
       "    Weather  Temperature  Wind  Humidity\n",
       "Day                                     \n",
       "Mon   Sunny        12.79    13        30\n",
       "Wed   Sunny        17.51    16        20\n",
       "Sun   Sunny        17.50    20        10"
      ]
     },
     "execution_count": 133,
     "metadata": {},
     "output_type": "execute_result"
    }
   ],
   "source": [
    "# dengan menggunakan conditional (cara apa saja), tampilkan baris dengan weather sunny dan wind <= 20\n",
    "df_lat[(df_lat['Weather'] == 'Sunny') & (df_lat['Wind'] <= 20)]\n"
   ]
  },
  {
   "cell_type": "markdown",
   "id": "595f9c58",
   "metadata": {
    "id": "595f9c58"
   },
   "source": [
    "## Latihan Lambda"
   ]
  },
  {
   "cell_type": "markdown",
   "id": "7bb042e4",
   "metadata": {},
   "source": [
    "> **Dengan menggunakan data nilai**"
   ]
  },
  {
   "cell_type": "code",
   "execution_count": 134,
   "id": "37927df5",
   "metadata": {
    "ExecuteTime": {
     "end_time": "2022-09-29T08:37:43.334238Z",
     "start_time": "2022-09-29T08:37:43.209227Z"
    }
   },
   "outputs": [
    {
     "data": {
      "text/html": [
       "<div>\n",
       "<style scoped>\n",
       "    .dataframe tbody tr th:only-of-type {\n",
       "        vertical-align: middle;\n",
       "    }\n",
       "\n",
       "    .dataframe tbody tr th {\n",
       "        vertical-align: top;\n",
       "    }\n",
       "\n",
       "    .dataframe thead th {\n",
       "        text-align: right;\n",
       "    }\n",
       "</style>\n",
       "<table border=\"1\" class=\"dataframe\">\n",
       "  <thead>\n",
       "    <tr style=\"text-align: right;\">\n",
       "      <th></th>\n",
       "      <th>Name</th>\n",
       "      <th>Nilai_Mtk</th>\n",
       "      <th>Nilai_Fisika</th>\n",
       "    </tr>\n",
       "  </thead>\n",
       "  <tbody>\n",
       "    <tr>\n",
       "      <th>0</th>\n",
       "      <td>Reza</td>\n",
       "      <td>90</td>\n",
       "      <td>90</td>\n",
       "    </tr>\n",
       "    <tr>\n",
       "      <th>1</th>\n",
       "      <td>Rizky</td>\n",
       "      <td>100</td>\n",
       "      <td>90</td>\n",
       "    </tr>\n",
       "    <tr>\n",
       "      <th>2</th>\n",
       "      <td>Pratama</td>\n",
       "      <td>100</td>\n",
       "      <td>80</td>\n",
       "    </tr>\n",
       "    <tr>\n",
       "      <th>3</th>\n",
       "      <td>Ade</td>\n",
       "      <td>95</td>\n",
       "      <td>85</td>\n",
       "    </tr>\n",
       "    <tr>\n",
       "      <th>4</th>\n",
       "      <td>Satya</td>\n",
       "      <td>100</td>\n",
       "      <td>95</td>\n",
       "    </tr>\n",
       "    <tr>\n",
       "      <th>5</th>\n",
       "      <td>Wahana</td>\n",
       "      <td>90</td>\n",
       "      <td>85</td>\n",
       "    </tr>\n",
       "  </tbody>\n",
       "</table>\n",
       "</div>"
      ],
      "text/plain": [
       "      Name  Nilai_Mtk  Nilai_Fisika\n",
       "0     Reza         90            90\n",
       "1    Rizky        100            90\n",
       "2  Pratama        100            80\n",
       "3      Ade         95            85\n",
       "4    Satya        100            95\n",
       "5   Wahana         90            85"
      ]
     },
     "execution_count": 134,
     "metadata": {},
     "output_type": "execute_result"
    }
   ],
   "source": [
    "## data nilai\n",
    "\n",
    "# initializing a list\n",
    "values= [['Reza',90,90],['Rizky',100,90],['Pratama',100,80],\n",
    "         ['Ade',95,85],['Satya',100,95],['Wahana',90,85]]\n",
    "\n",
    "# creating pandas dataframe\n",
    "df_lambda = pd.DataFrame(values, columns=['Name','Nilai_Mtk','Nilai_Fisika'])\n",
    "df_lambda"
   ]
  },
  {
   "cell_type": "markdown",
   "id": "b9f15f8c",
   "metadata": {
    "ExecuteTime": {
     "end_time": "2022-09-29T08:04:37.185847Z",
     "start_time": "2022-09-29T08:04:37.170233Z"
    }
   },
   "source": [
    "Latihan lambda :\n",
    "- menggunakan .apply()\n",
    "- karena semua murid mencontek (kecuali ade) maka \"Nilai_Mtk\" selain ade dikurangi 10\n",
    "- karena jujur murid bernama \"Ade\" maka \"Nilai_Mtk\" ditambah 5"
   ]
  },
  {
   "cell_type": "markdown",
   "id": "b2bc3c32",
   "metadata": {},
   "source": [
    "## Jawaban Lambda"
   ]
  },
  {
   "cell_type": "code",
   "execution_count": 135,
   "id": "31268d83",
   "metadata": {
    "ExecuteTime": {
     "end_time": "2022-09-29T08:37:43.427978Z",
     "start_time": "2022-09-29T08:37:43.334238Z"
    },
    "id": "31268d83"
   },
   "outputs": [
    {
     "data": {
      "text/html": [
       "<div>\n",
       "<style scoped>\n",
       "    .dataframe tbody tr th:only-of-type {\n",
       "        vertical-align: middle;\n",
       "    }\n",
       "\n",
       "    .dataframe tbody tr th {\n",
       "        vertical-align: top;\n",
       "    }\n",
       "\n",
       "    .dataframe thead th {\n",
       "        text-align: right;\n",
       "    }\n",
       "</style>\n",
       "<table border=\"1\" class=\"dataframe\">\n",
       "  <thead>\n",
       "    <tr style=\"text-align: right;\">\n",
       "      <th></th>\n",
       "      <th>Name</th>\n",
       "      <th>Nilai_Mtk</th>\n",
       "      <th>Nilai_Fisika</th>\n",
       "    </tr>\n",
       "  </thead>\n",
       "  <tbody>\n",
       "    <tr>\n",
       "      <th>0</th>\n",
       "      <td>Reza</td>\n",
       "      <td>80</td>\n",
       "      <td>90</td>\n",
       "    </tr>\n",
       "    <tr>\n",
       "      <th>1</th>\n",
       "      <td>Rizky</td>\n",
       "      <td>90</td>\n",
       "      <td>90</td>\n",
       "    </tr>\n",
       "    <tr>\n",
       "      <th>2</th>\n",
       "      <td>Pratama</td>\n",
       "      <td>90</td>\n",
       "      <td>80</td>\n",
       "    </tr>\n",
       "    <tr>\n",
       "      <th>3</th>\n",
       "      <td>Ade</td>\n",
       "      <td>100</td>\n",
       "      <td>85</td>\n",
       "    </tr>\n",
       "    <tr>\n",
       "      <th>4</th>\n",
       "      <td>Satya</td>\n",
       "      <td>90</td>\n",
       "      <td>95</td>\n",
       "    </tr>\n",
       "    <tr>\n",
       "      <th>5</th>\n",
       "      <td>Wahana</td>\n",
       "      <td>80</td>\n",
       "      <td>85</td>\n",
       "    </tr>\n",
       "  </tbody>\n",
       "</table>\n",
       "</div>"
      ],
      "text/plain": [
       "      Name  Nilai_Mtk  Nilai_Fisika\n",
       "0     Reza         80            90\n",
       "1    Rizky         90            90\n",
       "2  Pratama         90            80\n",
       "3      Ade        100            85\n",
       "4    Satya         90            95\n",
       "5   Wahana         80            85"
      ]
     },
     "execution_count": 135,
     "metadata": {},
     "output_type": "execute_result"
    }
   ],
   "source": [
    "#jawaban lambda :\n",
    "\n",
    "df_lambda['Nilai_Mtk'] = df_lambda.apply(lambda x : x['Nilai_Mtk'] + 5 if x['Name']=='Ade' else x['Nilai_Mtk']-10, axis=1)\n",
    "df_lambda\n",
    "# ini menunjukkan salah satu fungsi dari df.copy() => df asal tetap"
   ]
  },
  {
   "cell_type": "markdown",
   "id": "74e81255",
   "metadata": {
    "id": "oLlW9C1R29Ey"
   },
   "source": [
    "## Latihan Akhir"
   ]
  },
  {
   "cell_type": "markdown",
   "id": "273c5e4c",
   "metadata": {},
   "source": [
    "> **Dengan menggunakan data sales**"
   ]
  },
  {
   "cell_type": "code",
   "execution_count": 136,
   "id": "ce15a023",
   "metadata": {
    "ExecuteTime": {
     "end_time": "2022-09-29T08:37:44.271743Z",
     "start_time": "2022-09-29T08:37:43.427978Z"
    }
   },
   "outputs": [
    {
     "data": {
      "text/html": [
       "<div>\n",
       "<style scoped>\n",
       "    .dataframe tbody tr th:only-of-type {\n",
       "        vertical-align: middle;\n",
       "    }\n",
       "\n",
       "    .dataframe tbody tr th {\n",
       "        vertical-align: top;\n",
       "    }\n",
       "\n",
       "    .dataframe thead th {\n",
       "        text-align: right;\n",
       "    }\n",
       "</style>\n",
       "<table border=\"1\" class=\"dataframe\">\n",
       "  <thead>\n",
       "    <tr style=\"text-align: right;\">\n",
       "      <th></th>\n",
       "      <th>Customer Number</th>\n",
       "      <th>Customer Name</th>\n",
       "      <th>Address</th>\n",
       "      <th>Type</th>\n",
       "      <th>Sales</th>\n",
       "      <th>Percent Growth</th>\n",
       "    </tr>\n",
       "  </thead>\n",
       "  <tbody>\n",
       "    <tr>\n",
       "      <th>0</th>\n",
       "      <td>100025</td>\n",
       "      <td>Quest Industry</td>\n",
       "      <td>Kebayoran Lama, Jakarta</td>\n",
       "      <td>Company</td>\n",
       "      <td>Rp162500000</td>\n",
       "      <td>30.00%</td>\n",
       "    </tr>\n",
       "    <tr>\n",
       "      <th>1</th>\n",
       "      <td>552278</td>\n",
       "      <td>Smith Plumbing</td>\n",
       "      <td>Pasteur, Bandung</td>\n",
       "      <td>Company</td>\n",
       "      <td>Rp101200000</td>\n",
       "      <td>10.00%</td>\n",
       "    </tr>\n",
       "    <tr>\n",
       "      <th>2</th>\n",
       "      <td>234775</td>\n",
       "      <td>ACME Industrial</td>\n",
       "      <td>Kebayoran Lama, Jakarta</td>\n",
       "      <td>Perusahaan</td>\n",
       "      <td>62500000</td>\n",
       "      <td>NaN</td>\n",
       "    </tr>\n",
       "    <tr>\n",
       "      <th>3</th>\n",
       "      <td>249000</td>\n",
       "      <td>Brekke LTD</td>\n",
       "      <td>Pasteur, Bandung</td>\n",
       "      <td>Company</td>\n",
       "      <td>4900000</td>\n",
       "      <td>4.00%</td>\n",
       "    </tr>\n",
       "    <tr>\n",
       "      <th>4</th>\n",
       "      <td>651029</td>\n",
       "      <td>Harbor Co</td>\n",
       "      <td>Cilincing, Jakarta</td>\n",
       "      <td>Company</td>\n",
       "      <td>Rp12750000</td>\n",
       "      <td>-15.00%</td>\n",
       "    </tr>\n",
       "    <tr>\n",
       "      <th>5</th>\n",
       "      <td>565600</td>\n",
       "      <td>Berkah Jaya</td>\n",
       "      <td>Antapani, Bandung</td>\n",
       "      <td>Perusahaan</td>\n",
       "      <td>Rp762500000</td>\n",
       "      <td>30.00%</td>\n",
       "    </tr>\n",
       "    <tr>\n",
       "      <th>6</th>\n",
       "      <td>897440</td>\n",
       "      <td>Rafee Ahmad</td>\n",
       "      <td>Sawangan, Depok</td>\n",
       "      <td>Personal</td>\n",
       "      <td>Rp12,200,000.00</td>\n",
       "      <td>10.00%</td>\n",
       "    </tr>\n",
       "    <tr>\n",
       "      <th>7</th>\n",
       "      <td>123156</td>\n",
       "      <td>Reza Pratama</td>\n",
       "      <td>Kebayoran Baru, Jakarta</td>\n",
       "      <td>Personal</td>\n",
       "      <td>50000000</td>\n",
       "      <td>25</td>\n",
       "    </tr>\n",
       "    <tr>\n",
       "      <th>8</th>\n",
       "      <td>138135</td>\n",
       "      <td>PT Berdikari</td>\n",
       "      <td>Kebayoran Lama, Jakarta</td>\n",
       "      <td>Perusahaan</td>\n",
       "      <td>Rp9000000</td>\n",
       "      <td>4.00%</td>\n",
       "    </tr>\n",
       "    <tr>\n",
       "      <th>9</th>\n",
       "      <td>748952</td>\n",
       "      <td>Alexander Samiun</td>\n",
       "      <td>Sleman, Jogjakarta</td>\n",
       "      <td>Individu</td>\n",
       "      <td>127450000</td>\n",
       "      <td>-15.00%</td>\n",
       "    </tr>\n",
       "  </tbody>\n",
       "</table>\n",
       "</div>"
      ],
      "text/plain": [
       "   Customer Number     Customer Name                  Address         Type  \\\n",
       "0           100025    Quest Industry  Kebayoran Lama, Jakarta      Company   \n",
       "1           552278    Smith Plumbing         Pasteur, Bandung      Company   \n",
       "2           234775   ACME Industrial  Kebayoran Lama, Jakarta   Perusahaan   \n",
       "3           249000        Brekke LTD         Pasteur, Bandung      Company   \n",
       "4           651029         Harbor Co       Cilincing, Jakarta      Company   \n",
       "5           565600       Berkah Jaya        Antapani, Bandung   Perusahaan   \n",
       "6           897440       Rafee Ahmad          Sawangan, Depok     Personal   \n",
       "7           123156      Reza Pratama  Kebayoran Baru, Jakarta     Personal   \n",
       "8           138135      PT Berdikari  Kebayoran Lama, Jakarta  Perusahaan    \n",
       "9           748952  Alexander Samiun       Sleman, Jogjakarta     Individu   \n",
       "\n",
       "             Sales Percent Growth  \n",
       "0      Rp162500000         30.00%  \n",
       "1      Rp101200000         10.00%  \n",
       "2         62500000            NaN  \n",
       "3          4900000          4.00%  \n",
       "4       Rp12750000        -15.00%  \n",
       "5      Rp762500000         30.00%  \n",
       "6  Rp12,200,000.00         10.00%  \n",
       "7         50000000             25  \n",
       "8        Rp9000000          4.00%  \n",
       "9        127450000        -15.00%  "
      ]
     },
     "execution_count": 136,
     "metadata": {},
     "output_type": "execute_result"
    }
   ],
   "source": [
    "# Data Sales\n",
    "df = pd.read_csv('https://raw.githubusercontent.com/CRMDSDIP/PJJDAS_IV/main/Data_Preparation/day1/dataset/raw/sales_data_latihan.csv')\n",
    "# df = pd.read_csv(\"dataset/raw/sales_data_latihan.csv\")\n",
    "df"
   ]
  },
  {
   "cell_type": "markdown",
   "id": "f29485ae",
   "metadata": {
    "id": "AIqkSrjL2xog"
   },
   "source": [
    "Latihan Akhir : \n",
    "1. Perbaiki format data:\n",
    "- Kolom sales seharusnya numerik (hapus Rp)\n",
    "- Kolom \"Percent Growth\" seharusnya numerik (tanpa tanda %) dan isi NaN (Null) dengan nilai Rata-rata (Mean)\n",
    "- Hilangkan spasi berlebih pada kolom Type \n",
    "<br/><br/>\n",
    "2. Buat laporan:\n",
    "- Jumlah Sales Berdasarkan Tipe\n",
    "- Ambil 3 \"Customer Name\" dengan kenaikan tertinggi"
   ]
  },
  {
   "cell_type": "markdown",
   "id": "8854bd56",
   "metadata": {},
   "source": [
    "## Jawaban Akhir :"
   ]
  },
  {
   "cell_type": "markdown",
   "id": "9efb6aa1",
   "metadata": {
    "ExecuteTime": {
     "end_time": "2022-09-29T08:37:44.287365Z",
     "start_time": "2022-09-29T08:37:44.271743Z"
    }
   },
   "source": [
    "### Jawaban 1 :"
   ]
  },
  {
   "cell_type": "code",
   "execution_count": 137,
   "id": "49b0d171",
   "metadata": {},
   "outputs": [
    {
     "data": {
      "text/plain": [
       "Customer Number     int64\n",
       "Customer Name      object\n",
       "Address            object\n",
       "Type               object\n",
       "Sales              object\n",
       "Percent Growth     object\n",
       "dtype: object"
      ]
     },
     "execution_count": 137,
     "metadata": {},
     "output_type": "execute_result"
    }
   ],
   "source": [
    "# Cek data types\n",
    "df.dtypes"
   ]
  },
  {
   "cell_type": "markdown",
   "id": "b7a44553",
   "metadata": {
    "ExecuteTime": {
     "end_time": "2022-09-29T08:37:44.412424Z",
     "start_time": "2022-09-29T08:37:44.287365Z"
    }
   },
   "source": [
    "#### Sales \n"
   ]
  },
  {
   "cell_type": "code",
   "execution_count": 138,
   "id": "d872a3b6",
   "metadata": {},
   "outputs": [],
   "source": [
    "# menghilangkan notasi mata uang dari data\n",
    "df['Sales'] = df['Sales'].str.replace('Rp|Rp.|IDR','', regex=True)\n"
   ]
  },
  {
   "cell_type": "code",
   "execution_count": 139,
   "id": "277e6306",
   "metadata": {},
   "outputs": [],
   "source": [
    "# menghilangkan thousand separator berupa koma\n",
    "df['Sales'] = df['Sales'].str.replace(',','', regex=True)\n"
   ]
  },
  {
   "cell_type": "code",
   "execution_count": 140,
   "id": "a72504b6",
   "metadata": {},
   "outputs": [],
   "source": [
    "# mengubah tipe data menjadi float\n",
    "df['Sales'] = df['Sales'].astype(float)\n"
   ]
  },
  {
   "cell_type": "code",
   "execution_count": 141,
   "id": "502a7a41",
   "metadata": {},
   "outputs": [
    {
     "data": {
      "text/plain": [
       "dtype('float64')"
      ]
     },
     "execution_count": 141,
     "metadata": {},
     "output_type": "execute_result"
    }
   ],
   "source": [
    "# tipe data kolom Sales setelah di-transform\n",
    "df['Sales'].dtypes"
   ]
  },
  {
   "cell_type": "markdown",
   "id": "035e650b",
   "metadata": {
    "ExecuteTime": {
     "end_time": "2022-09-29T08:37:44.568620Z",
     "start_time": "2022-09-29T08:37:44.412424Z"
    }
   },
   "source": [
    "#### Percent Growth \n"
   ]
  },
  {
   "cell_type": "code",
   "execution_count": 142,
   "id": "92a1652a",
   "metadata": {},
   "outputs": [],
   "source": [
    "# menghilangkan karakter '%' dari data\n",
    "df['Percent Growth'] = df['Percent Growth'].str.replace('%','', regex=False)\n"
   ]
  },
  {
   "cell_type": "code",
   "execution_count": 143,
   "id": "5112644b",
   "metadata": {},
   "outputs": [],
   "source": [
    "# mengubah tipe data menjadi float\n",
    "df['Percent Growth'] = df['Percent Growth'].astype(float)\n"
   ]
  },
  {
   "cell_type": "code",
   "execution_count": 144,
   "id": "a5f4b4ba",
   "metadata": {},
   "outputs": [
    {
     "data": {
      "text/plain": [
       "dtype('float64')"
      ]
     },
     "execution_count": 144,
     "metadata": {},
     "output_type": "execute_result"
    }
   ],
   "source": [
    "# tipe data kolom Percent Growth setelah di-transform\n",
    "df['Percent Growth'].dtypes"
   ]
  },
  {
   "cell_type": "code",
   "execution_count": 145,
   "id": "ff15c15d",
   "metadata": {},
   "outputs": [
    {
     "data": {
      "text/plain": [
       "1"
      ]
     },
     "execution_count": 145,
     "metadata": {},
     "output_type": "execute_result"
    }
   ],
   "source": [
    "# memeriksa apakah ada missing values pada Percent Growth\n",
    "df['Percent Growth'].isna().sum() #ada 1 record yang berisi missing values"
   ]
  },
  {
   "cell_type": "code",
   "execution_count": 146,
   "id": "5dd275c1",
   "metadata": {},
   "outputs": [],
   "source": [
    "# melakukan imputasi missing value menggunakan nilai rata-rata kolom tersebut\n",
    "df[\"Percent Growth\"].fillna(df[\"Percent Growth\"].mean(), inplace=True)\n"
   ]
  },
  {
   "cell_type": "code",
   "execution_count": 147,
   "id": "4838387e",
   "metadata": {},
   "outputs": [
    {
     "data": {
      "text/html": [
       "<div>\n",
       "<style scoped>\n",
       "    .dataframe tbody tr th:only-of-type {\n",
       "        vertical-align: middle;\n",
       "    }\n",
       "\n",
       "    .dataframe tbody tr th {\n",
       "        vertical-align: top;\n",
       "    }\n",
       "\n",
       "    .dataframe thead th {\n",
       "        text-align: right;\n",
       "    }\n",
       "</style>\n",
       "<table border=\"1\" class=\"dataframe\">\n",
       "  <thead>\n",
       "    <tr style=\"text-align: right;\">\n",
       "      <th></th>\n",
       "      <th>Customer Number</th>\n",
       "      <th>Customer Name</th>\n",
       "      <th>Address</th>\n",
       "      <th>Type</th>\n",
       "      <th>Sales</th>\n",
       "      <th>Percent Growth</th>\n",
       "    </tr>\n",
       "  </thead>\n",
       "  <tbody>\n",
       "    <tr>\n",
       "      <th>0</th>\n",
       "      <td>100025</td>\n",
       "      <td>Quest Industry</td>\n",
       "      <td>Kebayoran Lama, Jakarta</td>\n",
       "      <td>Company</td>\n",
       "      <td>162,500,000.00</td>\n",
       "      <td>30.00</td>\n",
       "    </tr>\n",
       "    <tr>\n",
       "      <th>1</th>\n",
       "      <td>552278</td>\n",
       "      <td>Smith Plumbing</td>\n",
       "      <td>Pasteur, Bandung</td>\n",
       "      <td>Company</td>\n",
       "      <td>101,200,000.00</td>\n",
       "      <td>10.00</td>\n",
       "    </tr>\n",
       "    <tr>\n",
       "      <th>2</th>\n",
       "      <td>234775</td>\n",
       "      <td>ACME Industrial</td>\n",
       "      <td>Kebayoran Lama, Jakarta</td>\n",
       "      <td>Perusahaan</td>\n",
       "      <td>62,500,000.00</td>\n",
       "      <td>9.22</td>\n",
       "    </tr>\n",
       "    <tr>\n",
       "      <th>3</th>\n",
       "      <td>249000</td>\n",
       "      <td>Brekke LTD</td>\n",
       "      <td>Pasteur, Bandung</td>\n",
       "      <td>Company</td>\n",
       "      <td>4,900,000.00</td>\n",
       "      <td>4.00</td>\n",
       "    </tr>\n",
       "    <tr>\n",
       "      <th>4</th>\n",
       "      <td>651029</td>\n",
       "      <td>Harbor Co</td>\n",
       "      <td>Cilincing, Jakarta</td>\n",
       "      <td>Company</td>\n",
       "      <td>12,750,000.00</td>\n",
       "      <td>-15.00</td>\n",
       "    </tr>\n",
       "    <tr>\n",
       "      <th>5</th>\n",
       "      <td>565600</td>\n",
       "      <td>Berkah Jaya</td>\n",
       "      <td>Antapani, Bandung</td>\n",
       "      <td>Perusahaan</td>\n",
       "      <td>762,500,000.00</td>\n",
       "      <td>30.00</td>\n",
       "    </tr>\n",
       "    <tr>\n",
       "      <th>6</th>\n",
       "      <td>897440</td>\n",
       "      <td>Rafee Ahmad</td>\n",
       "      <td>Sawangan, Depok</td>\n",
       "      <td>Personal</td>\n",
       "      <td>12,200,000.00</td>\n",
       "      <td>10.00</td>\n",
       "    </tr>\n",
       "    <tr>\n",
       "      <th>7</th>\n",
       "      <td>123156</td>\n",
       "      <td>Reza Pratama</td>\n",
       "      <td>Kebayoran Baru, Jakarta</td>\n",
       "      <td>Personal</td>\n",
       "      <td>50,000,000.00</td>\n",
       "      <td>25.00</td>\n",
       "    </tr>\n",
       "    <tr>\n",
       "      <th>8</th>\n",
       "      <td>138135</td>\n",
       "      <td>PT Berdikari</td>\n",
       "      <td>Kebayoran Lama, Jakarta</td>\n",
       "      <td>Perusahaan</td>\n",
       "      <td>9,000,000.00</td>\n",
       "      <td>4.00</td>\n",
       "    </tr>\n",
       "    <tr>\n",
       "      <th>9</th>\n",
       "      <td>748952</td>\n",
       "      <td>Alexander Samiun</td>\n",
       "      <td>Sleman, Jogjakarta</td>\n",
       "      <td>Individu</td>\n",
       "      <td>127,450,000.00</td>\n",
       "      <td>-15.00</td>\n",
       "    </tr>\n",
       "  </tbody>\n",
       "</table>\n",
       "</div>"
      ],
      "text/plain": [
       "   Customer Number     Customer Name                  Address         Type  \\\n",
       "0           100025    Quest Industry  Kebayoran Lama, Jakarta      Company   \n",
       "1           552278    Smith Plumbing         Pasteur, Bandung      Company   \n",
       "2           234775   ACME Industrial  Kebayoran Lama, Jakarta   Perusahaan   \n",
       "3           249000        Brekke LTD         Pasteur, Bandung      Company   \n",
       "4           651029         Harbor Co       Cilincing, Jakarta      Company   \n",
       "5           565600       Berkah Jaya        Antapani, Bandung   Perusahaan   \n",
       "6           897440       Rafee Ahmad          Sawangan, Depok     Personal   \n",
       "7           123156      Reza Pratama  Kebayoran Baru, Jakarta     Personal   \n",
       "8           138135      PT Berdikari  Kebayoran Lama, Jakarta  Perusahaan    \n",
       "9           748952  Alexander Samiun       Sleman, Jogjakarta     Individu   \n",
       "\n",
       "           Sales  Percent Growth  \n",
       "0 162,500,000.00           30.00  \n",
       "1 101,200,000.00           10.00  \n",
       "2  62,500,000.00            9.22  \n",
       "3   4,900,000.00            4.00  \n",
       "4  12,750,000.00          -15.00  \n",
       "5 762,500,000.00           30.00  \n",
       "6  12,200,000.00           10.00  \n",
       "7  50,000,000.00           25.00  \n",
       "8   9,000,000.00            4.00  \n",
       "9 127,450,000.00          -15.00  "
      ]
     },
     "execution_count": 147,
     "metadata": {},
     "output_type": "execute_result"
    }
   ],
   "source": [
    "# hasil imputasi\n",
    "df"
   ]
  },
  {
   "cell_type": "code",
   "execution_count": 148,
   "id": "8612f30c",
   "metadata": {},
   "outputs": [
    {
     "data": {
      "text/plain": [
       "0"
      ]
     },
     "execution_count": 148,
     "metadata": {},
     "output_type": "execute_result"
    }
   ],
   "source": [
    "# missing value pada kolom Percent Growth setelah imputasi\n",
    "df['Percent Growth'].isna().sum()"
   ]
  },
  {
   "cell_type": "markdown",
   "id": "db43e6fd",
   "metadata": {
    "ExecuteTime": {
     "end_time": "2022-09-29T08:37:44.709311Z",
     "start_time": "2022-09-29T08:37:44.568620Z"
    }
   },
   "source": [
    "#### Type\n"
   ]
  },
  {
   "cell_type": "code",
   "execution_count": 149,
   "id": "b252d412",
   "metadata": {},
   "outputs": [],
   "source": [
    "# menghilangkan karakter whitespace\n",
    "df[\"Type\"] = df[\"Type\"].apply(lambda x : x.strip())"
   ]
  },
  {
   "cell_type": "code",
   "execution_count": 150,
   "id": "47cdcccf",
   "metadata": {},
   "outputs": [
    {
     "data": {
      "text/plain": [
       "dtype('O')"
      ]
     },
     "execution_count": 150,
     "metadata": {},
     "output_type": "execute_result"
    }
   ],
   "source": [
    "# tipe data kolom Type setelah di-transform\n",
    "df['Type'].dtypes"
   ]
  },
  {
   "cell_type": "markdown",
   "id": "07693038",
   "metadata": {
    "ExecuteTime": {
     "end_time": "2022-09-29T08:37:44.818682Z",
     "start_time": "2022-09-29T08:37:44.709311Z"
    }
   },
   "source": [
    "### Jawaban 2 :"
   ]
  },
  {
   "cell_type": "markdown",
   "id": "92e46a45",
   "metadata": {
    "ExecuteTime": {
     "end_time": "2022-09-29T08:37:44.928057Z",
     "start_time": "2022-09-29T08:37:44.818682Z"
    }
   },
   "source": [
    "#### Laporan Sales berdasarkan Type\n"
   ]
  },
  {
   "cell_type": "code",
   "execution_count": 151,
   "id": "05af9440",
   "metadata": {},
   "outputs": [],
   "source": [
    "# duplikasi data frame\n",
    "df_sales = df.copy()\n"
   ]
  },
  {
   "cell_type": "code",
   "execution_count": 152,
   "id": "e9a72cec",
   "metadata": {},
   "outputs": [
    {
     "name": "stderr",
     "output_type": "stream",
     "text": [
      "C:\\Users\\aldip\\AppData\\Local\\Temp\\ipykernel_12344\\876268251.py:2: FutureWarning: ['Customer Name', 'Address'] did not aggregate successfully. If any error is raised this will raise in a future version of pandas. Drop these columns/ops to avoid this warning.\n",
      "  df_sales_by_type = df_sales.groupby(by=['Type']).agg(['sum','count','mean'])\n"
     ]
    },
    {
     "data": {
      "text/html": [
       "<div>\n",
       "<style scoped>\n",
       "    .dataframe tbody tr th:only-of-type {\n",
       "        vertical-align: middle;\n",
       "    }\n",
       "\n",
       "    .dataframe tbody tr th {\n",
       "        vertical-align: top;\n",
       "    }\n",
       "\n",
       "    .dataframe thead tr th {\n",
       "        text-align: left;\n",
       "    }\n",
       "\n",
       "    .dataframe thead tr:last-of-type th {\n",
       "        text-align: right;\n",
       "    }\n",
       "</style>\n",
       "<table border=\"1\" class=\"dataframe\">\n",
       "  <thead>\n",
       "    <tr>\n",
       "      <th></th>\n",
       "      <th colspan=\"3\" halign=\"left\">Customer Number</th>\n",
       "      <th colspan=\"3\" halign=\"left\">Sales</th>\n",
       "      <th colspan=\"3\" halign=\"left\">Percent Growth</th>\n",
       "    </tr>\n",
       "    <tr>\n",
       "      <th></th>\n",
       "      <th>sum</th>\n",
       "      <th>count</th>\n",
       "      <th>mean</th>\n",
       "      <th>sum</th>\n",
       "      <th>count</th>\n",
       "      <th>mean</th>\n",
       "      <th>sum</th>\n",
       "      <th>count</th>\n",
       "      <th>mean</th>\n",
       "    </tr>\n",
       "    <tr>\n",
       "      <th>Type</th>\n",
       "      <th></th>\n",
       "      <th></th>\n",
       "      <th></th>\n",
       "      <th></th>\n",
       "      <th></th>\n",
       "      <th></th>\n",
       "      <th></th>\n",
       "      <th></th>\n",
       "      <th></th>\n",
       "    </tr>\n",
       "  </thead>\n",
       "  <tbody>\n",
       "    <tr>\n",
       "      <th>Company</th>\n",
       "      <td>1552332</td>\n",
       "      <td>4</td>\n",
       "      <td>388,083.00</td>\n",
       "      <td>281,350,000.00</td>\n",
       "      <td>4</td>\n",
       "      <td>70,337,500.00</td>\n",
       "      <td>29.00</td>\n",
       "      <td>4</td>\n",
       "      <td>7.25</td>\n",
       "    </tr>\n",
       "    <tr>\n",
       "      <th>Individu</th>\n",
       "      <td>748952</td>\n",
       "      <td>1</td>\n",
       "      <td>748,952.00</td>\n",
       "      <td>127,450,000.00</td>\n",
       "      <td>1</td>\n",
       "      <td>127,450,000.00</td>\n",
       "      <td>-15.00</td>\n",
       "      <td>1</td>\n",
       "      <td>-15.00</td>\n",
       "    </tr>\n",
       "    <tr>\n",
       "      <th>Personal</th>\n",
       "      <td>1020596</td>\n",
       "      <td>2</td>\n",
       "      <td>510,298.00</td>\n",
       "      <td>62,200,000.00</td>\n",
       "      <td>2</td>\n",
       "      <td>31,100,000.00</td>\n",
       "      <td>35.00</td>\n",
       "      <td>2</td>\n",
       "      <td>17.50</td>\n",
       "    </tr>\n",
       "    <tr>\n",
       "      <th>Perusahaan</th>\n",
       "      <td>938510</td>\n",
       "      <td>3</td>\n",
       "      <td>312,836.67</td>\n",
       "      <td>834,000,000.00</td>\n",
       "      <td>3</td>\n",
       "      <td>278,000,000.00</td>\n",
       "      <td>43.22</td>\n",
       "      <td>3</td>\n",
       "      <td>14.41</td>\n",
       "    </tr>\n",
       "  </tbody>\n",
       "</table>\n",
       "</div>"
      ],
      "text/plain": [
       "           Customer Number                           Sales        \\\n",
       "                       sum count       mean            sum count   \n",
       "Type                                                               \n",
       "Company            1552332     4 388,083.00 281,350,000.00     4   \n",
       "Individu            748952     1 748,952.00 127,450,000.00     1   \n",
       "Personal           1020596     2 510,298.00  62,200,000.00     2   \n",
       "Perusahaan          938510     3 312,836.67 834,000,000.00     3   \n",
       "\n",
       "                          Percent Growth               \n",
       "                     mean            sum count   mean  \n",
       "Type                                                   \n",
       "Company     70,337,500.00          29.00     4   7.25  \n",
       "Individu   127,450,000.00         -15.00     1 -15.00  \n",
       "Personal    31,100,000.00          35.00     2  17.50  \n",
       "Perusahaan 278,000,000.00          43.22     3  14.41  "
      ]
     },
     "execution_count": 152,
     "metadata": {},
     "output_type": "execute_result"
    }
   ],
   "source": [
    "# Melakukan group-by sales berdasarkan type perusahaan\n",
    "df_sales_by_type = df_sales.groupby(by=['Type']).agg(['sum','count','mean'])\n",
    "df_sales_by_type\n",
    "\n"
   ]
  },
  {
   "cell_type": "code",
   "execution_count": 153,
   "id": "171aeb82",
   "metadata": {},
   "outputs": [
    {
     "data": {
      "text/html": [
       "<div>\n",
       "<style scoped>\n",
       "    .dataframe tbody tr th:only-of-type {\n",
       "        vertical-align: middle;\n",
       "    }\n",
       "\n",
       "    .dataframe tbody tr th {\n",
       "        vertical-align: top;\n",
       "    }\n",
       "\n",
       "    .dataframe thead tr th {\n",
       "        text-align: left;\n",
       "    }\n",
       "\n",
       "    .dataframe thead tr:last-of-type th {\n",
       "        text-align: right;\n",
       "    }\n",
       "</style>\n",
       "<table border=\"1\" class=\"dataframe\">\n",
       "  <thead>\n",
       "    <tr>\n",
       "      <th></th>\n",
       "      <th colspan=\"3\" halign=\"left\">Sales</th>\n",
       "    </tr>\n",
       "    <tr>\n",
       "      <th></th>\n",
       "      <th>sum</th>\n",
       "      <th>count</th>\n",
       "      <th>mean</th>\n",
       "    </tr>\n",
       "    <tr>\n",
       "      <th>Type</th>\n",
       "      <th></th>\n",
       "      <th></th>\n",
       "      <th></th>\n",
       "    </tr>\n",
       "  </thead>\n",
       "  <tbody>\n",
       "    <tr>\n",
       "      <th>Company</th>\n",
       "      <td>281,350,000.00</td>\n",
       "      <td>4</td>\n",
       "      <td>70,337,500.00</td>\n",
       "    </tr>\n",
       "    <tr>\n",
       "      <th>Individu</th>\n",
       "      <td>127,450,000.00</td>\n",
       "      <td>1</td>\n",
       "      <td>127,450,000.00</td>\n",
       "    </tr>\n",
       "    <tr>\n",
       "      <th>Personal</th>\n",
       "      <td>62,200,000.00</td>\n",
       "      <td>2</td>\n",
       "      <td>31,100,000.00</td>\n",
       "    </tr>\n",
       "    <tr>\n",
       "      <th>Perusahaan</th>\n",
       "      <td>834,000,000.00</td>\n",
       "      <td>3</td>\n",
       "      <td>278,000,000.00</td>\n",
       "    </tr>\n",
       "  </tbody>\n",
       "</table>\n",
       "</div>"
      ],
      "text/plain": [
       "                    Sales                     \n",
       "                      sum count           mean\n",
       "Type                                          \n",
       "Company    281,350,000.00     4  70,337,500.00\n",
       "Individu   127,450,000.00     1 127,450,000.00\n",
       "Personal    62,200,000.00     2  31,100,000.00\n",
       "Perusahaan 834,000,000.00     3 278,000,000.00"
      ]
     },
     "execution_count": 153,
     "metadata": {},
     "output_type": "execute_result"
    }
   ],
   "source": [
    "# menampilkan hanya data penjualan saja\n",
    "\n",
    "df_sales_by_type.iloc[:,3:6]"
   ]
  },
  {
   "cell_type": "markdown",
   "id": "063e4ad9",
   "metadata": {
    "ExecuteTime": {
     "end_time": "2022-09-29T08:37:45.037434Z",
     "start_time": "2022-09-29T08:37:44.928057Z"
    }
   },
   "source": [
    "#### Top 3 Customer Berdasarkan Percent Growth Tertinggi\n"
   ]
  },
  {
   "cell_type": "code",
   "execution_count": 154,
   "id": "f7e48949",
   "metadata": {},
   "outputs": [],
   "source": [
    "# melakukan sort data berdasarkan Percent Growth secara descending\n",
    "df_best_growth = df.sort_values(by='Percent Growth', ascending=False)"
   ]
  },
  {
   "cell_type": "code",
   "execution_count": 155,
   "id": "2055492c",
   "metadata": {},
   "outputs": [
    {
     "data": {
      "text/html": [
       "<div>\n",
       "<style scoped>\n",
       "    .dataframe tbody tr th:only-of-type {\n",
       "        vertical-align: middle;\n",
       "    }\n",
       "\n",
       "    .dataframe tbody tr th {\n",
       "        vertical-align: top;\n",
       "    }\n",
       "\n",
       "    .dataframe thead th {\n",
       "        text-align: right;\n",
       "    }\n",
       "</style>\n",
       "<table border=\"1\" class=\"dataframe\">\n",
       "  <thead>\n",
       "    <tr style=\"text-align: right;\">\n",
       "      <th></th>\n",
       "      <th>Customer Number</th>\n",
       "      <th>Customer Name</th>\n",
       "      <th>Address</th>\n",
       "      <th>Type</th>\n",
       "      <th>Sales</th>\n",
       "      <th>Percent Growth</th>\n",
       "    </tr>\n",
       "  </thead>\n",
       "  <tbody>\n",
       "    <tr>\n",
       "      <th>0</th>\n",
       "      <td>100025</td>\n",
       "      <td>Quest Industry</td>\n",
       "      <td>Kebayoran Lama, Jakarta</td>\n",
       "      <td>Company</td>\n",
       "      <td>162,500,000.00</td>\n",
       "      <td>30.00</td>\n",
       "    </tr>\n",
       "    <tr>\n",
       "      <th>5</th>\n",
       "      <td>565600</td>\n",
       "      <td>Berkah Jaya</td>\n",
       "      <td>Antapani, Bandung</td>\n",
       "      <td>Perusahaan</td>\n",
       "      <td>762,500,000.00</td>\n",
       "      <td>30.00</td>\n",
       "    </tr>\n",
       "    <tr>\n",
       "      <th>7</th>\n",
       "      <td>123156</td>\n",
       "      <td>Reza Pratama</td>\n",
       "      <td>Kebayoran Baru, Jakarta</td>\n",
       "      <td>Personal</td>\n",
       "      <td>50,000,000.00</td>\n",
       "      <td>25.00</td>\n",
       "    </tr>\n",
       "  </tbody>\n",
       "</table>\n",
       "</div>"
      ],
      "text/plain": [
       "   Customer Number   Customer Name                  Address        Type  \\\n",
       "0           100025  Quest Industry  Kebayoran Lama, Jakarta     Company   \n",
       "5           565600     Berkah Jaya        Antapani, Bandung  Perusahaan   \n",
       "7           123156    Reza Pratama  Kebayoran Baru, Jakarta    Personal   \n",
       "\n",
       "           Sales  Percent Growth  \n",
       "0 162,500,000.00           30.00  \n",
       "5 762,500,000.00           30.00  \n",
       "7  50,000,000.00           25.00  "
      ]
     },
     "execution_count": 155,
     "metadata": {},
     "output_type": "execute_result"
    }
   ],
   "source": [
    "# menampilkan 3 costumer dengan Percent Growth terbesar\n",
    "df_best_growth.iloc[:3,]"
   ]
  },
  {
   "cell_type": "code",
   "execution_count": 156,
   "id": "c90ee854",
   "metadata": {},
   "outputs": [
    {
     "name": "stdout",
     "output_type": "stream",
     "text": [
      "0    Quest Industry\n",
      "5       Berkah Jaya\n",
      "7      Reza Pratama\n",
      "Name: Customer Name, dtype: object\n"
     ]
    }
   ],
   "source": [
    "print(df_best_growth.iloc[:3,1])"
   ]
  }
 ],
 "metadata": {
  "colab": {
   "name": "DataPreparation-Indra.ipynb",
   "provenance": [],
   "toc_visible": true
  },
  "kernelspec": {
   "display_name": "Python 3 (ipykernel)",
   "language": "python",
   "name": "python3"
  },
  "language_info": {
   "codemirror_mode": {
    "name": "ipython",
    "version": 3
   },
   "file_extension": ".py",
   "mimetype": "text/x-python",
   "name": "python",
   "nbconvert_exporter": "python",
   "pygments_lexer": "ipython3",
   "version": "3.9.12"
  },
  "themify": {
   "theme": "MOF-DAC 2"
  },
  "toc": {
   "base_numbering": 1,
   "nav_menu": {},
   "number_sections": true,
   "sideBar": true,
   "skip_h1_title": false,
   "title_cell": "Table of Contents",
   "title_sidebar": "Contents",
   "toc_cell": false,
   "toc_position": {
    "height": "calc(100% - 180px)",
    "left": "10px",
    "top": "150px",
    "width": "298.8px"
   },
   "toc_section_display": true,
   "toc_window_display": true
  },
  "varInspector": {
   "cols": {
    "lenName": 16,
    "lenType": 16,
    "lenVar": 40
   },
   "kernels_config": {
    "python": {
     "delete_cmd_postfix": "",
     "delete_cmd_prefix": "del ",
     "library": "var_list.py",
     "varRefreshCmd": "print(var_dic_list())"
    },
    "r": {
     "delete_cmd_postfix": ") ",
     "delete_cmd_prefix": "rm(",
     "library": "var_list.r",
     "varRefreshCmd": "cat(var_dic_list()) "
    }
   },
   "types_to_exclude": [
    "module",
    "function",
    "builtin_function_or_method",
    "instance",
    "_Feature"
   ],
   "window_display": false
  },
  "vscode": {
   "interpreter": {
    "hash": "ab2f0dbd620797dffa02c13074cd7762c33dd109ad2c79113df1ec96e12c0193"
   }
  }
 },
 "nbformat": 4,
 "nbformat_minor": 5
}
