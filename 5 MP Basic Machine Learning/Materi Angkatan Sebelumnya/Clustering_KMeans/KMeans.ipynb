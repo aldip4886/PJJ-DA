{
 "cells": [
  {
   "cell_type": "code",
   "execution_count": 1,
   "id": "33326112-31bb-435d-9a7a-ede0da46b4f3",
   "metadata": {},
   "outputs": [],
   "source": [
    "# Data Preprocessing Template\n",
    "\n",
    "# Importing the libraries\n",
    "import numpy as np\n",
    "import matplotlib.pyplot as plt\n",
    "import pandas as pd"
   ]
  },
  {
   "cell_type": "code",
   "execution_count": 2,
   "id": "35c7f84c-65bb-4c7b-af53-299064a004f0",
   "metadata": {},
   "outputs": [],
   "source": [
    "# Importing the dataset\n",
    "dataset = pd.read_csv('Mall_Customers.csv')"
   ]
  },
  {
   "cell_type": "code",
   "execution_count": 9,
   "id": "d5634443-b211-494a-947b-4671fde907c2",
   "metadata": {},
   "outputs": [
    {
     "name": "stdout",
     "output_type": "stream",
     "text": [
      "     CustomerID  Genre  Age  Annual Income (k$)  Spending Score (1-100)\n",
      "0             1      0   19                  15                      39\n",
      "1             2      0   21                  15                      81\n",
      "2             3      1   20                  16                       6\n",
      "3             4      1   23                  16                      77\n",
      "4             5      1   31                  17                      40\n",
      "..          ...    ...  ...                 ...                     ...\n",
      "195         196      1   35                 120                      79\n",
      "196         197      1   45                 126                      28\n",
      "197         198      0   32                 126                      74\n",
      "198         199      0   32                 137                      18\n",
      "199         200      0   30                 137                      83\n",
      "\n",
      "[200 rows x 5 columns]\n"
     ]
    }
   ],
   "source": [
    "# replacing values\n",
    "dataset['Genre'].replace(['Male', 'Female'],\n",
    "\t\t\t\t\t\t[0, 1], inplace=True)\n",
    "print(dataset)"
   ]
  },
  {
   "cell_type": "code",
   "execution_count": 10,
   "id": "7a3e958a-ae3f-4c85-87b9-86d480130b83",
   "metadata": {},
   "outputs": [],
   "source": [
    "X = dataset.iloc[:, :-1].values\n",
    "y = dataset.iloc[:, 3].values"
   ]
  },
  {
   "cell_type": "code",
   "execution_count": 11,
   "id": "a8b45f16-2cc1-493d-961f-b25bc5feb622",
   "metadata": {},
   "outputs": [],
   "source": [
    "# Splitting the dataset into the Training set and Test set\n",
    "from sklearn.model_selection import train_test_split\n",
    "X_train, X_test, y_train, y_test = train_test_split(X, y, test_size = 0.2, random_state = 0)"
   ]
  },
  {
   "cell_type": "code",
   "execution_count": 12,
   "id": "c3adb9e8-e23d-4425-b45e-3960c448c63d",
   "metadata": {},
   "outputs": [],
   "source": [
    "from sklearn.model_selection import train_test_split"
   ]
  },
  {
   "cell_type": "code",
   "execution_count": 13,
   "id": "43f7f876-1da7-47d1-a6ab-daec0650d8ad",
   "metadata": {},
   "outputs": [
    {
     "name": "stdout",
     "output_type": "stream",
     "text": [
      "[[135   0  20  73]\n",
      " [ 67   1  43  48]\n",
      " [ 27   1  45  28]\n",
      " [114   0  19  64]\n",
      " [169   1  36  87]\n",
      " [ 64   1  54  47]\n",
      " [  9   0  64  19]\n",
      " [ 76   0  26  54]\n",
      " [119   1  51  67]\n",
      " [144   1  32  76]\n",
      " [ 72   1  47  49]\n",
      " [125   1  23  70]\n",
      " [185   1  41  99]\n",
      " [ 98   1  27  60]\n",
      " [150   0  34  78]\n",
      " [ 25   1  54  28]\n",
      " [ 31   0  60  30]\n",
      " [161   1  56  79]\n",
      " [ 41   1  65  38]\n",
      " [ 57   1  51  44]\n",
      " [132   0  39  71]\n",
      " [ 97   1  47  60]\n",
      " [182   1  32  97]\n",
      " [ 20   1  35  23]\n",
      " [154   1  38  78]\n",
      " [ 93   0  48  60]\n",
      " [ 55   1  50  43]\n",
      " [164   1  31  81]\n",
      " [ 52   0  33  42]\n",
      " [ 87   1  55  57]\n",
      " [140   1  35  74]\n",
      " [ 91   1  68  59]\n",
      " [138   0  32  73]\n",
      " [102   1  49  62]\n",
      " [145   0  25  77]\n",
      " [ 90   1  50  58]\n",
      " [110   0  66  63]\n",
      " [ 15   0  37  20]\n",
      " [ 28   0  35  28]\n",
      " [142   0  32  75]\n",
      " [188   0  28 101]\n",
      " [ 47   1  50  40]\n",
      " [139   0  19  74]\n",
      " [196   1  35 120]\n",
      " [109   0  68  63]\n",
      " [ 63   1  67  47]\n",
      " [  3   1  20  16]\n",
      " [ 60   0  53  46]\n",
      " [137   1  44  73]\n",
      " [198   0  32 126]\n",
      " [ 44   1  31  39]\n",
      " [ 11   0  67  19]\n",
      " [195   1  47 120]\n",
      " [ 74   1  60  50]\n",
      " [197   1  45 126]\n",
      " [179   0  59  93]\n",
      " [176   1  30  88]\n",
      " [127   0  43  71]\n",
      " [ 94   1  40  60]\n",
      " [113   1  38  64]\n",
      " [159   0  34  78]\n",
      " [192   1  32 103]\n",
      " [ 51   1  49  42]\n",
      " [  1   0  19  15]\n",
      " [ 95   1  32  60]\n",
      " [111   0  65  63]\n",
      " [ 96   0  24  60]\n",
      " [ 65   0  63  48]\n",
      " [168   1  33  86]\n",
      " [ 42   0  24  38]\n",
      " [ 70   1  32  48]\n",
      " [ 50   1  31  40]\n",
      " [ 49   1  29  40]\n",
      " [ 86   0  48  54]\n",
      " [ 14   1  24  20]\n",
      " [162   1  29  79]\n",
      " [ 24   0  31  25]\n",
      " [187   1  54 101]\n",
      " [136   1  29  73]\n",
      " [ 21   0  35  24]\n",
      " [ 16   0  22  20]\n",
      " [ 79   1  23  54]\n",
      " [105   0  49  62]\n",
      " [ 53   1  31  43]\n",
      " [101   1  23  62]\n",
      " [ 77   1  45  54]\n",
      " [  4   1  23  16]\n",
      " [117   1  63  65]\n",
      " [165   0  50  85]\n",
      " [199   0  32 137]\n",
      " [  7   1  35  18]\n",
      " [ 69   0  19  48]\n",
      " [ 85   1  21  54]\n",
      " [122   1  38  67]\n",
      " [156   1  27  78]\n",
      " [172   0  28  87]\n",
      " [157   0  37  78]\n",
      " [ 92   0  18  59]\n",
      " [200   0  30 137]\n",
      " [ 12   1  35  19]\n",
      " [120   1  50  67]\n",
      " [103   0  67  62]\n",
      " [ 36   1  21  33]\n",
      " [ 58   0  69  44]\n",
      " [ 66   0  18  48]\n",
      " [  2   0  21  15]\n",
      " [121   0  27  67]\n",
      " [163   0  19  81]\n",
      " [ 43   0  48  39]\n",
      " [106   1  21  62]\n",
      " [133   1  25  72]\n",
      " [174   0  36  87]\n",
      " [ 18   0  20  21]\n",
      " [ 39   1  36  37]\n",
      " [134   1  31  72]\n",
      " [ 54   0  59  43]\n",
      " [158   1  30  78]\n",
      " [129   0  59  71]\n",
      " [ 35   1  49  33]\n",
      " [ 29   1  40  29]\n",
      " [115   1  18  65]\n",
      " [152   0  39  78]\n",
      " [ 32   1  21  30]\n",
      " [167   0  42  86]\n",
      " [128   0  40  71]\n",
      " [177   0  58  88]\n",
      " [ 33   0  53  33]\n",
      " [143   1  28  76]\n",
      " [170   0  32  87]\n",
      " [148   1  32  77]\n",
      " [ 30   1  23  29]\n",
      " [100   0  20  61]\n",
      " [ 83   0  67  54]\n",
      " [ 80   1  49  54]\n",
      " [116   1  19  65]\n",
      " [149   1  34  78]\n",
      " [194   1  38 113]\n",
      " [ 73   1  60  50]\n",
      " [ 78   0  40  54]\n",
      " [ 26   0  29  28]\n",
      " [166   1  36  85]\n",
      " [ 82   0  38  54]\n",
      " [189   1  41 103]\n",
      " [175   1  52  88]\n",
      " [191   1  34 103]\n",
      " [ 40   1  20  37]\n",
      " [ 59   1  27  46]\n",
      " [141   1  57  75]\n",
      " [ 89   1  34  58]\n",
      " [ 71   0  70  49]\n",
      " [ 88   1  22  57]\n",
      " [ 37   1  42  34]\n",
      " [ 22   0  25  24]\n",
      " [ 10   1  30  19]\n",
      " [104   0  26  62]\n",
      " [ 68   1  68  48]\n",
      " [193   0  33 113]\n",
      " [118   1  49  65]\n",
      " [ 48   1  27  40]\n",
      " [173   0  36  87]]\n"
     ]
    }
   ],
   "source": [
    "print(X_train)"
   ]
  },
  {
   "cell_type": "code",
   "execution_count": 14,
   "id": "69d0da9a-0be4-45f4-a4cd-10571d40e584",
   "metadata": {},
   "outputs": [
    {
     "data": {
      "image/png": "[encoded data removed]",
      "text/plain": [
       "<Figure size 432x288 with 1 Axes>"
      ]
     },
     "metadata": {
      "needs_background": "light"
     },
     "output_type": "display_data"
    }
   ],
   "source": [
    "# Using the elbow method to find the optimal number of clusters\n",
    "from sklearn.cluster import KMeans\n",
    "wcss = []\n",
    "for i in range(1, 11):\n",
    "    kmeans = KMeans(n_clusters = i, init = 'k-means++', random_state = 42)\n",
    "    kmeans.fit(X)\n",
    "    wcss.append(kmeans.inertia_)\n",
    "plt.plot(range(1, 11), wcss)\n",
    "plt.title('The Elbow Method')\n",
    "plt.xlabel('Number of clusters')\n",
    "plt.ylabel('WCSS')\n",
    "plt.show()"
   ]
  },
  {
   "cell_type": "code",
   "execution_count": 15,
   "id": "f066fe09-0df8-4254-8e25-5acbf14d7623",
   "metadata": {},
   "outputs": [],
   "source": [
    "# Fitting K-Means to the dataset\n",
    "kmeans = KMeans(n_clusters = 5, init = 'k-means++', random_state = 42)\n",
    "y_kmeans = kmeans.fit_predict(X)"
   ]
  },
  {
   "cell_type": "code",
   "execution_count": 16,
   "id": "2fd854e8-5fbf-4928-947b-85cc975f4623",
   "metadata": {},
   "outputs": [
    {
     "data": {
      "image/png": "[encoded data removed]",
      "text/plain": [
       "<Figure size 432x288 with 1 Axes>"
      ]
     },
     "metadata": {
      "needs_background": "light"
     },
     "output_type": "display_data"
    }
   ],
   "source": [
    "# Visualising the clusters\n",
    "plt.scatter(X[y_kmeans == 0, 0], X[y_kmeans == 0, 1], s = 100, c = 'red', label = 'Cluster 1')\n",
    "plt.scatter(X[y_kmeans == 1, 0], X[y_kmeans == 1, 1], s = 100, c = 'blue', label = 'Cluster 2')\n",
    "plt.scatter(X[y_kmeans == 2, 0], X[y_kmeans == 2, 1], s = 100, c = 'green', label = 'Cluster 3')\n",
    "plt.scatter(X[y_kmeans == 3, 0], X[y_kmeans == 3, 1], s = 100, c = 'cyan', label = 'Cluster 4')\n",
    "plt.scatter(X[y_kmeans == 4, 0], X[y_kmeans == 4, 1], s = 100, c = 'magenta', label = 'Cluster 5')\n",
    "plt.scatter(kmeans.cluster_centers_[:, 0], kmeans.cluster_centers_[:, 1], s = 300, c = 'yellow', label = 'Centroids')\n",
    "plt.title('Clusters of customers')\n",
    "plt.xlabel('Annual Income (k$)')\n",
    "plt.ylabel('Spending Score (1-100)')\n",
    "plt.legend()\n",
    "plt.show()"
   ]
  },
  {
   "cell_type": "code",
   "execution_count": null,
   "id": "ecfb0b89-4941-4706-ba04-609e85f12cab",
   "metadata": {},
   "outputs": [],
   "source": []
  }
 ],
 "metadata": {
  "kernelspec": {
   "display_name": "Python 3 (ipykernel)",
   "language": "python",
   "name": "python3"
  },
  "language_info": {
   "codemirror_mode": {
    "name": "ipython",
    "version": 3
   },
   "file_extension": ".py",
   "mimetype": "text/x-python",
   "name": "python",
   "nbconvert_exporter": "python",
   "pygments_lexer": "ipython3",
   "version": "3.9.12"
  }
 },
 "nbformat": 4,
 "nbformat_minor": 5
}
