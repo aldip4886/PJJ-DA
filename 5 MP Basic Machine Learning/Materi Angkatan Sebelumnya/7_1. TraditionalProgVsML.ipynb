{
  "nbformat": 4,
  "nbformat_minor": 0,
  "metadata": {
    "colab": {
      "name": "TraditionalProgVsML.ipynb",
      "provenance": [],
      "collapsed_sections": [
        "gs4oHpiBrXBr",
        "N_kCW50ozNyo"
      ]
    },
    "kernelspec": {
      "name": "python3",
      "display_name": "Python 3"
    },
    "language_info": {
      "name": "python"
    }
  },
  "cells": [
    {
      "cell_type": "markdown",
      "source": [
        "# Data"
      ],
      "metadata": {
        "id": "uDSGMMMBWBvA"
      }
    },
    {
      "cell_type": "code",
      "execution_count": null,
      "metadata": {
        "id": "5Yqd3SX00ceW"
      },
      "outputs": [],
      "source": [
        "x = [[1,0],[2,1],[3,2],[4,3],[5,4],[6,5],[7,6]]\n",
        "y = [2,5,8,11,14,17,20]"
      ]
    },
    {
      "cell_type": "markdown",
      "source": [
        "# Traditional Programming"
      ],
      "metadata": {
        "id": "vVxUxHBV6tO2"
      }
    },
    {
      "cell_type": "markdown",
      "source": [
        "## The programmer finds rule/ pattern then write it in code"
      ],
      "metadata": {
        "id": "pEjGbKlD7Fdz"
      }
    },
    {
      "cell_type": "code",
      "source": [
        "def hitung(x1,x2):\n",
        "   y = 2*x1+x2\n",
        "   return y"
      ],
      "metadata": {
        "id": "uu2Hrr9o02BW"
      },
      "execution_count": null,
      "outputs": []
    },
    {
      "cell_type": "code",
      "source": [
        "print(hitung(8,7))"
      ],
      "metadata": {
        "colab": {
          "base_uri": "https://localhost:8080/"
        },
        "id": "K7FBOA082gx2",
        "outputId": "51d733da-0ec4-4232-e93c-5bdab4bb4868"
      },
      "execution_count": null,
      "outputs": [
        {
          "output_type": "stream",
          "name": "stdout",
          "text": [
            "23\n"
          ]
        }
      ]
    },
    {
      "cell_type": "markdown",
      "source": [
        "# Machine Learning"
      ],
      "metadata": {
        "id": "oy6oZwj7618N"
      }
    },
    {
      "cell_type": "code",
      "source": [
        "import numpy as np\n",
        "from sklearn.linear_model import LinearRegression"
      ],
      "metadata": {
        "id": "QkJ3-Yx82t2H"
      },
      "execution_count": null,
      "outputs": []
    },
    {
      "cell_type": "code",
      "source": [
        "xtrain = np.array(x)\n",
        "ytrain = np.array(y)"
      ],
      "metadata": {
        "id": "cb7S4H6_3cGP"
      },
      "execution_count": null,
      "outputs": []
    },
    {
      "cell_type": "markdown",
      "source": [
        "\n",
        "\n",
        "## The machine is trained using data"
      ],
      "metadata": {
        "id": "fZ84_F5S7jG4"
      }
    },
    {
      "cell_type": "code",
      "source": [
        "model = LinearRegression()"
      ],
      "metadata": {
        "id": "FzTaWFe03td4"
      },
      "execution_count": null,
      "outputs": []
    },
    {
      "cell_type": "code",
      "source": [
        "model.fit(xtrain, ytrain)"
      ],
      "metadata": {
        "colab": {
          "base_uri": "https://localhost:8080/"
        },
        "id": "i7qGUrGU4CxR",
        "outputId": "a454c90c-2542-4636-cc73-8ed310a50082"
      },
      "execution_count": null,
      "outputs": [
        {
          "output_type": "execute_result",
          "data": {
            "text/plain": [
              "LinearRegression()"
            ]
          },
          "metadata": {},
          "execution_count": 7
        }
      ]
    },
    {
      "cell_type": "code",
      "source": [
        "print(model.predict(np.array([[8,7]])))"
      ],
      "metadata": {
        "colab": {
          "base_uri": "https://localhost:8080/"
        },
        "id": "TDwSnzjy5Wc_",
        "outputId": "f061c6da-2a4a-4200-cb16-199bdc815f5a"
      },
      "execution_count": null,
      "outputs": [
        {
          "output_type": "stream",
          "name": "stdout",
          "text": [
            "[23.]\n"
          ]
        }
      ]
    },
    {
      "cell_type": "markdown",
      "source": [
        "# What happens if the data has a noise"
      ],
      "metadata": {
        "id": "CiOgSJkAXQox"
      }
    },
    {
      "cell_type": "code",
      "source": [
        "xn = [[1,0],[2,1],[3,2],[4,3],[5,4],[6,5],[7,6],[4,6],[5,3]]\n",
        "yn = [2,5,8,11,14,17,20,15,10]"
      ],
      "metadata": {
        "id": "8xY5jRzDXqRc"
      },
      "execution_count": null,
      "outputs": []
    },
    {
      "cell_type": "markdown",
      "source": [
        "## Can you see the pattern from the data now?"
      ],
      "metadata": {
        "id": "QFlMORmUYLNY"
      }
    },
    {
      "cell_type": "markdown",
      "source": [
        "## How Machine Learning handle those data"
      ],
      "metadata": {
        "id": "wmRv_B_tYX7s"
      }
    },
    {
      "cell_type": "code",
      "source": [
        "model2 = LinearRegression()"
      ],
      "metadata": {
        "id": "s160Bn1oYpqw"
      },
      "execution_count": null,
      "outputs": []
    },
    {
      "cell_type": "code",
      "source": [
        "xntrain = np.array(xn)\n",
        "yntrain = np.array(yn)\n",
        "model2.fit(xntrain,yntrain)"
      ],
      "metadata": {
        "colab": {
          "base_uri": "https://localhost:8080/"
        },
        "id": "Q6sIeOIVYvG2",
        "outputId": "c1fee425-1193-4adc-8f4b-0e795814b19d"
      },
      "execution_count": null,
      "outputs": [
        {
          "output_type": "execute_result",
          "data": {
            "text/plain": [
              "LinearRegression()"
            ]
          },
          "metadata": {},
          "execution_count": 11
        }
      ]
    },
    {
      "cell_type": "code",
      "source": [
        "print(model2.predict(np.array([[8,7]])))"
      ],
      "metadata": {
        "colab": {
          "base_uri": "https://localhost:8080/"
        },
        "id": "7cQ2SErSY8rr",
        "outputId": "cb9bb28c-da64-498a-91cd-90ef860ff0af"
      },
      "execution_count": null,
      "outputs": [
        {
          "output_type": "stream",
          "name": "stdout",
          "text": [
            "[22.36543909]\n"
          ]
        }
      ]
    },
    {
      "cell_type": "markdown",
      "source": [
        "# Visualization"
      ],
      "metadata": {
        "id": "gs4oHpiBrXBr"
      }
    },
    {
      "cell_type": "code",
      "source": [
        "import matplotlib.pyplot as plt\n",
        "from mpl_toolkits.mplot3d import Axes3D"
      ],
      "metadata": {
        "id": "Ltl8BI9orcZQ"
      },
      "execution_count": null,
      "outputs": []
    },
    {
      "cell_type": "code",
      "source": [
        "def plot_figs(fig_num, elev, azim, X_train, clf):\n",
        "    fig = plt.figure(fig_num, figsize=(4, 3))\n",
        "    plt.clf()\n",
        "    ax = Axes3D(fig, elev=elev, azim=azim)\n",
        "\n",
        "    ax.scatter(X_train[:, 0], X_train[:, 1], yntrain, c=\"k\", marker=\"+\")\n",
        "    ax.plot_surface(\n",
        "        np.array([[-0.1, -0.1], [0.15, 0.15]]),\n",
        "        np.array([[-0.1, 0.15], [-0.1, 0.15]]),\n",
        "        clf.predict(\n",
        "            np.array([[-0.1, -0.1, 0.15, 0.15], [-0.1, 0.15, -0.1, 0.15]]).T\n",
        "        ).reshape((2, 2)),\n",
        "        alpha=0.5,\n",
        "    )\n",
        "    ax.set_xlabel(\"X_1\")\n",
        "    ax.set_ylabel(\"X_2\")\n",
        "    ax.set_zlabel(\"Y\")\n",
        "    ax.w_xaxis.set_ticklabels([])\n",
        "    ax.w_yaxis.set_ticklabels([])\n",
        "    ax.w_zaxis.set_ticklabels([])\n",
        "\n",
        "\n",
        "# Generate the three different figures from different views\n",
        "elev = 43.5\n",
        "azim = -110\n",
        "plot_figs(1, elev, azim, xntrain, model2)\n",
        "\n",
        "elev = -0.5\n",
        "azim = 0\n",
        "plot_figs(2, elev, azim, xntrain, model2)\n",
        "\n",
        "elev = -0.5\n",
        "azim = 90\n",
        "plot_figs(3, elev, azim, xntrain, model2)\n",
        "\n",
        "plt.show()"
      ],
      "metadata": {
        "colab": {
          "base_uri": "https://localhost:8080/",
          "height": 707
        },
        "id": "YfdB0t8NrZKg",
        "outputId": "82ea8f74-174b-42f8-be65-b42e724859b3"
      },
      "execution_count": null,
      "outputs": [
        {
          "output_type": "display_data",
          "data": {
            "text/plain": [
              "<Figure size 288x216 with 1 Axes>"
            ],
            "image/png": "[encoded data removed]"
          },
          "metadata": {
            "needs_background": "light"
          }
        },
        {
          "output_type": "display_data",
          "data": {
            "text/plain": [
              "<Figure size 288x216 with 1 Axes>"
            ],
            "image/png": "[encoded data removed]"
          },
          "metadata": {
            "needs_background": "light"
          }
        },
        {
          "output_type": "display_data",
          "data": {
            "text/plain": [
              "<Figure size 288x216 with 1 Axes>"
            ],
            "image/png": "[encoded data removed]"
          },
          "metadata": {
            "needs_background": "light"
          }
        }
      ]
    },
    {
      "cell_type": "markdown",
      "source": [
        "# Model Performance"
      ],
      "metadata": {
        "id": "N_kCW50ozNyo"
      }
    },
    {
      "cell_type": "markdown",
      "source": [
        "## R Squared (Model Goodfitness)"
      ],
      "metadata": {
        "id": "gQNGE1450hmf"
      }
    },
    {
      "cell_type": "code",
      "source": [
        "from sklearn.metrics import r2_score"
      ],
      "metadata": {
        "id": "nurCXGY1zTS3"
      },
      "execution_count": null,
      "outputs": []
    },
    {
      "cell_type": "code",
      "source": [
        "ynpred = model2.predict(xntrain)"
      ],
      "metadata": {
        "id": "zFM4mqJfzyP8"
      },
      "execution_count": null,
      "outputs": []
    },
    {
      "cell_type": "code",
      "source": [
        "r2_score(yn, ynpred)"
      ],
      "metadata": {
        "colab": {
          "base_uri": "https://localhost:8080/"
        },
        "id": "XS4ZzHms0Qix",
        "outputId": "6dd6f12e-a63d-4f8d-c26a-0d005bb90165"
      },
      "execution_count": null,
      "outputs": [
        {
          "output_type": "execute_result",
          "data": {
            "text/plain": [
              "0.9810578833875946"
            ]
          },
          "metadata": {},
          "execution_count": 17
        }
      ]
    },
    {
      "cell_type": "markdown",
      "source": [
        "## Mean Squared Error (Loss)"
      ],
      "metadata": {
        "id": "UJL3W5Hy1BlO"
      }
    },
    {
      "cell_type": "code",
      "source": [
        "from sklearn.metrics import mean_squared_error"
      ],
      "metadata": {
        "id": "bbMhmxkT1VHn"
      },
      "execution_count": null,
      "outputs": []
    },
    {
      "cell_type": "code",
      "source": [
        "mean_squared_error(yn,ynpred)"
      ],
      "metadata": {
        "colab": {
          "base_uri": "https://localhost:8080/"
        },
        "id": "5vbjNtPm1W7j",
        "outputId": "7246e50a-d234-4dad-b186-f155778bbb56"
      },
      "execution_count": null,
      "outputs": [
        {
          "output_type": "execute_result",
          "data": {
            "text/plain": [
              "0.5640541391249609"
            ]
          },
          "metadata": {},
          "execution_count": 20
        }
      ]
    },
    {
      "cell_type": "code",
      "source": [
        "mean_squared_error(yn,ynpred, squared=False)"
      ],
      "metadata": {
        "colab": {
          "base_uri": "https://localhost:8080/"
        },
        "id": "ojRgTtBy1xMB",
        "outputId": "184ae820-9537-4983-81a5-f5d0198a4a72"
      },
      "execution_count": null,
      "outputs": [
        {
          "output_type": "execute_result",
          "data": {
            "text/plain": [
              "0.7510353780781308"
            ]
          },
          "metadata": {},
          "execution_count": 21
        }
      ]
    }
  ]
}