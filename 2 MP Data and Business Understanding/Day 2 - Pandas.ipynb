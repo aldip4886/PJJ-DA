{
 "cells": [
  {
   "cell_type": "markdown",
   "id": "1521b40d-c18e-4a69-96cf-5aa24340f47a",
   "metadata": {
    "id": "1521b40d-c18e-4a69-96cf-5aa24340f47a"
   },
   "source": [
    "# Pengantar"
   ]
  },
  {
   "cell_type": "markdown",
   "id": "1b7c19a0-534b-4d25-b95b-f1b17b6f2f4a",
   "metadata": {
    "id": "1b7c19a0-534b-4d25-b95b-f1b17b6f2f4a"
   },
   "source": [
    "## Libraries\n",
    "\n",
    "> Merupakan sekumpulan function, object/class, modul yang didistribusikan untuk dapat digunakan secara luas.\n",
    "\n",
    "Beberapa library yang perlu diketahui:\n",
    "1. [Pandas](https://pandas.pydata.org/).\n",
    "2. [Matplotlib](https://matplotlib.org/).\n",
    "3. [ScikitLearn](https://scikit-learn.org/stable/index.html).\n",
    "4. [NLTK](https://www.nltk.org/)."
   ]
  },
  {
   "cell_type": "markdown",
   "id": "a7c7061c-0099-44f4-946a-9d7543205dae",
   "metadata": {
    "id": "a7c7061c-0099-44f4-946a-9d7543205dae"
   },
   "source": [
    "### Install libraries\n",
    "\n",
    "Cara umum untuk menginstall library pihak ketiga bisa menggunakan perintah:\n",
    "\n",
    "```pip``` install ```nama_library```\n",
    "\n",
    "pip install sklearn\n",
    "\n",
    "Library baru dapat digunakan jika sudah terinstall."
   ]
  },
  {
   "cell_type": "code",
   "execution_count": 1,
   "id": "9d9d406f",
   "metadata": {
    "ExecuteTime": {
     "end_time": "2022-09-27T01:58:05.027236Z",
     "start_time": "2022-09-27T01:58:03.131380Z"
    }
   },
   "outputs": [
    {
     "data": {
      "text/plain": [
       "3.0"
      ]
     },
     "execution_count": 1,
     "metadata": {},
     "output_type": "execute_result"
    }
   ],
   "source": [
    "import math\n",
    "math.pi\n",
    "\n",
    "import numpy as np\n",
    "np.sqrt(9)\n",
    "\n",
    "9**(1/2)\n",
    "\n"
   ]
  },
  {
   "cell_type": "markdown",
   "id": "6f05ec94-6b93-4642-9cd8-9e9b8af93b49",
   "metadata": {
    "id": "6f05ec94-6b93-4642-9cd8-9e9b8af93b49"
   },
   "source": [
    "### Cara memanggil library\n",
    "\n",
    "> Untuk menggunakan sebuah library kita perlu melakukan import\n",
    "\n",
    "```python\n",
    "import math\n",
    "\n",
    "math.pi\n",
    "```\n",
    "\n",
    "> Menggunakan alias untuk library yang kita import\n",
    "\n",
    "```python\n",
    "import numpy as np\n",
    "np.sqrt(9)\n",
    "```\n",
    "\n",
    "> Melakukan import beberapa bagian saja pada library\n",
    "\n",
    "```python\n",
    "from fibo import fib, fib2 #deret fibonacci?\n",
    "fib(500)\n",
    "```"
   ]
  },
  {
   "cell_type": "code",
   "execution_count": 7,
   "id": "b66530a0",
   "metadata": {
    "ExecuteTime": {
     "end_time": "2022-09-27T02:01:13.610896Z",
     "start_time": "2022-09-27T02:01:13.600051Z"
    }
   },
   "outputs": [
    {
     "data": {
      "text/plain": [
       "[1, 2, 3, 1, 2, 3]"
      ]
     },
     "execution_count": 7,
     "metadata": {},
     "output_type": "execute_result"
    }
   ],
   "source": [
    "[1,2,3]*2"
   ]
  },
  {
   "cell_type": "code",
   "execution_count": null,
   "id": "b3f4ec6b",
   "metadata": {},
   "outputs": [],
   "source": [
    "[list]\n",
    "{key:value, key1:value1}\n",
    "[]"
   ]
  },
  {
   "cell_type": "markdown",
   "id": "c1aabb4c-1cda-4757-9f78-bdf7680e98f2",
   "metadata": {
    "id": "c1aabb4c-1cda-4757-9f78-bdf7680e98f2"
   },
   "source": [
    "# Pandas\n",
    "> Library di Python yang menyediakan struktur data dan analisis data yang mudah digunakan. [Pandas](https://pandas.pydata.org/) biasa digunakan untuk membuat tabel, merubah data (list, dictionary, numpy array) menjadi table, mengubah dimensi data, mengecek data, dan lain sebagainya. Dokumentasi [Pandas API Referencee](https://pandas.pydata.org/docs/reference/).\n",
    "\n",
    "<details>\n",
    "\n",
    "![pandas.png](https://upload.wikimedia.org/wikipedia/commons/thumb/e/ed/Pandas_logo.svg/2560px-Pandas_logo.svg.png)\n",
    "\n",
    "</details>"
   ]
  },
  {
   "cell_type": "markdown",
   "id": "61d1e332",
   "metadata": {
    "ExecuteTime": {
     "end_time": "2022-09-24T15:00:33.085192Z",
     "start_time": "2022-09-24T15:00:33.065366Z"
    }
   },
   "source": [
    "<details>\n",
    "# pd.DataFrame(list_nama, columns=['nama_mahasiswa'])\n",
    "# data = {'name': ['nick', 'david', 'joe', 'ross'],\n",
    "#         'age': ['5', '10', '7', '6']} \n",
    "# pd.DataFrame.from_dict(data)\n",
    "\n",
    "# import numpy as np\n",
    "# numpy_array = np.array([[1, 'yo'], [4, 'bro'],\n",
    "#                        [4, 'low'], [1, 'NumPy']])\n",
    "# pd.DataFrame(numpy_array, columns=['age','name'])\n",
    "</details>"
   ]
  },
  {
   "cell_type": "markdown",
   "id": "025c888a-c24f-4b1e-949c-f68b534c747d",
   "metadata": {
    "id": "025c888a-c24f-4b1e-949c-f68b534c747d"
   },
   "source": [
    "## Rekomendasi bacaan\n",
    "\n",
    "1. Video Youtube MOFDAC\n",
    "2. https://pandas.pydata.org/Pandas_Cheat_Sheet.pdf\n",
    "3. https://www.enthought.com/wp-content/uploads/Enthought-Python-Pandas-Cheat-Sheets-1-8-v1.0.2.pdf"
   ]
  },
  {
   "cell_type": "markdown",
   "id": "2d83a025-ffa0-443a-af3d-d01b60ee9c21",
   "metadata": {
    "id": "2d83a025-ffa0-443a-af3d-d01b60ee9c21"
   },
   "source": [
    "## Import Pandas"
   ]
  },
  {
   "cell_type": "markdown",
   "id": "fdb240aa-a724-4e1b-8c63-2c7c458bb965",
   "metadata": {
    "id": "fdb240aa-a724-4e1b-8c63-2c7c458bb965"
   },
   "source": [
    "Notes:\n",
    "- sebelum menggunakan pandas kita harus memastikan apakah pandas sudah terinstall di sistem kita\n",
    "- jika belum terinstall kita bisa menggunakan pip install pandas pada command prompt kita\n",
    "- sebelum menggunakan pandas kita harus memanggil/mengimport library pandas"
   ]
  },
  {
   "cell_type": "code",
   "execution_count": 3,
   "id": "202620d8-0809-426b-bada-22aa084538f1",
   "metadata": {
    "ExecuteTime": {
     "end_time": "2022-09-27T02:03:02.289082Z",
     "start_time": "2022-09-27T02:03:02.279728Z"
    },
    "id": "202620d8-0809-426b-bada-22aa084538f1"
   },
   "outputs": [],
   "source": [
    "#kita akan mengimport library pandas\n",
    "#kita akan memberikan nama lain yaitu pd yang artinya kita bisa memanggil pandas dengan pd\n",
    "import pandas as pd"
   ]
  },
  {
   "cell_type": "markdown",
   "id": "9698f2fa-3a90-4b1d-8516-6668a76c682f",
   "metadata": {
    "id": "9698f2fa-3a90-4b1d-8516-6668a76c682f"
   },
   "source": [
    "##  Series dan DataFrame"
   ]
  },
  {
   "cell_type": "markdown",
   "id": "40fd8600-1ce4-4963-911c-bfdf0c5c01df",
   "metadata": {
    "id": "40fd8600-1ce4-4963-911c-bfdf0c5c01df"
   },
   "source": [
    "sebelum kita berekplorasi lebih jauh dengan pandas kita perlu mengenal tipe struktur data pada pandas. pada pandas ada 2 struktur data yaitu\n",
    "- **series**\n",
    "- **dataframe**\n",
    "\n",
    "\n",
    "berbeda dengan python yang memiliki tuple,list,dictionary, dll."
   ]
  },
  {
   "cell_type": "markdown",
   "id": "4b121072-9e99-4edb-bcbd-1b2686b68953",
   "metadata": {
    "id": "4b121072-9e99-4edb-bcbd-1b2686b68953"
   },
   "source": [
    "### Series"
   ]
  },
  {
   "cell_type": "markdown",
   "id": "2a9f2a61-5064-4ad0-99d1-dfa427b00c5a",
   "metadata": {
    "id": "2a9f2a61-5064-4ad0-99d1-dfa427b00c5a"
   },
   "source": [
    "<img src=\"data:image/png;base64,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\">"
   ]
  },
  {
   "cell_type": "code",
   "execution_count": null,
   "id": "1b725f37",
   "metadata": {},
   "outputs": [],
   "source": [
    "Kolom / observasi /axis1\n",
    "Baris / index / axis0"
   ]
  },
  {
   "cell_type": "code",
   "execution_count": 1,
   "id": "165cf768",
   "metadata": {
    "ExecuteTime": {
     "end_time": "2022-09-27T02:05:18.212209Z",
     "start_time": "2022-09-27T02:05:16.640776Z"
    }
   },
   "outputs": [],
   "source": [
    "import pandas as pd"
   ]
  },
  {
   "cell_type": "code",
   "execution_count": 3,
   "id": "8021f4eb-8d91-47bd-a79a-290ad1279663",
   "metadata": {
    "ExecuteTime": {
     "end_time": "2022-09-27T02:05:38.183888Z",
     "start_time": "2022-09-27T02:05:38.177015Z"
    },
    "id": "8021f4eb-8d91-47bd-a79a-290ad1279663"
   },
   "outputs": [],
   "source": [
    "list_nama = ['Budi','Zainudin','Leonardo','Gwenn','Peter']\n",
    "list_nilai = [10,20,30,40,50]"
   ]
  },
  {
   "cell_type": "code",
   "execution_count": 5,
   "id": "46bdae52-69f1-48e0-822d-864f5cbc0523",
   "metadata": {
    "ExecuteTime": {
     "end_time": "2022-09-27T02:06:12.655486Z",
     "start_time": "2022-09-27T02:06:12.632779Z"
    },
    "colab": {
     "base_uri": "https://localhost:8080/"
    },
    "executionInfo": {
     "elapsed": 4,
     "status": "ok",
     "timestamp": 1648708311502,
     "user": {
      "displayName": "Pratama Suprayogi",
      "userId": "14884808246882934220"
     },
     "user_tz": -420
    },
    "id": "46bdae52-69f1-48e0-822d-864f5cbc0523",
    "outputId": "8f6a2226-b1a9-403e-bff7-d949cfb7450a"
   },
   "outputs": [
    {
     "name": "stdout",
     "output_type": "stream",
     "text": [
      "0        Budi\n",
      "1    Zainudin\n",
      "2    Leonardo\n",
      "3       Gwenn\n",
      "4       Peter\n",
      "Name: nama_mahasiswa, dtype: object\n",
      "0    10\n",
      "1    20\n",
      "2    30\n",
      "3    40\n",
      "4    50\n",
      "Name: nilai_mahasiswa, dtype: int64\n"
     ]
    }
   ],
   "source": [
    "series_nama = pd.Series(list_nama, name='nama_mahasiswa')\n",
    "series_nilai = pd.Series(list_nilai, name='nilai_mahasiswa')\n",
    "print(series_nama)\n",
    "print(series_nilai)"
   ]
  },
  {
   "cell_type": "markdown",
   "id": "71b5466a-1498-4001-8679-0f8cff3398b5",
   "metadata": {},
   "source": [
    "* Budi, Zainudin, dll adalah value dari series_nama\n",
    "* Angka 0, 1, 2, 3, 4 di sebelah kiri adalah index dari series_nama\n",
    "* untuk dapat melihat nama pada series kita dapat memanggil atribut .name\n",
    "* untuk dapat melihat index pada series kita dapat memanggil atribut .index"
   ]
  },
  {
   "cell_type": "markdown",
   "id": "a36d44bc",
   "metadata": {
    "ExecuteTime": {
     "end_time": "2022-09-24T14:50:27.791850Z",
     "start_time": "2022-09-24T14:50:27.783975Z"
    }
   },
   "source": [
    "#### name"
   ]
  },
  {
   "cell_type": "code",
   "execution_count": 8,
   "id": "6f4ab956",
   "metadata": {
    "ExecuteTime": {
     "end_time": "2022-09-27T02:08:25.321961Z",
     "start_time": "2022-09-27T02:08:25.303052Z"
    }
   },
   "outputs": [
    {
     "name": "stdout",
     "output_type": "stream",
     "text": [
      "nama_mahasiswa\n",
      "nilai_mahasiswa\n"
     ]
    }
   ],
   "source": [
    "print(series_nama.name)\n",
    "print(series_nilai.name)"
   ]
  },
  {
   "cell_type": "markdown",
   "id": "58e4bd58-55ca-46fa-af1c-7ae5876b1268",
   "metadata": {},
   "source": [
    "#### index"
   ]
  },
  {
   "cell_type": "code",
   "execution_count": 12,
   "id": "3dfca287-b4f7-4455-89c6-11f5ef4d8776",
   "metadata": {
    "ExecuteTime": {
     "end_time": "2022-09-27T02:09:07.188550Z",
     "start_time": "2022-09-27T02:09:07.175791Z"
    }
   },
   "outputs": [
    {
     "data": {
      "text/plain": [
       "RangeIndex(start=0, stop=5, step=1)"
      ]
     },
     "execution_count": 12,
     "metadata": {},
     "output_type": "execute_result"
    }
   ],
   "source": [
    "series_nama.index"
   ]
  },
  {
   "cell_type": "code",
   "execution_count": 15,
   "id": "ede8c7b0",
   "metadata": {
    "ExecuteTime": {
     "end_time": "2022-09-27T02:09:50.364261Z",
     "start_time": "2022-09-27T02:09:50.347473Z"
    }
   },
   "outputs": [
    {
     "data": {
      "text/plain": [
       "[0, 1, 2, 3, 4]"
      ]
     },
     "execution_count": 15,
     "metadata": {},
     "output_type": "execute_result"
    }
   ],
   "source": [
    "list(pd.RangeIndex(start=0, stop=5, step=1)) "
   ]
  },
  {
   "cell_type": "markdown",
   "id": "3c386bd2",
   "metadata": {
    "ExecuteTime": {
     "end_time": "2022-09-24T14:53:45.725530Z",
     "start_time": "2022-09-24T14:53:45.716250Z"
    }
   },
   "source": [
    "<details>\n",
    "list(pd.RangeIndex(start=0, stop=5, step=1))\n",
    "type(series_nama.index)\n",
    "</details>"
   ]
  },
  {
   "cell_type": "code",
   "execution_count": null,
   "id": "0c0bb523",
   "metadata": {},
   "outputs": [],
   "source": []
  },
  {
   "cell_type": "markdown",
   "id": "49823156-b85c-482a-9fc5-2d32d2fec6a4",
   "metadata": {},
   "source": [
    "* kita juga dapat menentukan atau mengubah index sesuai yang kita inginkan\n",
    "* perhatikan bahwa panjang data index harus sama dengan data seriesnya"
   ]
  },
  {
   "cell_type": "code",
   "execution_count": 16,
   "id": "3a8b27bc",
   "metadata": {
    "ExecuteTime": {
     "end_time": "2022-09-27T02:10:53.233500Z",
     "start_time": "2022-09-27T02:10:53.224015Z"
    }
   },
   "outputs": [
    {
     "data": {
      "text/plain": [
       "5"
      ]
     },
     "execution_count": 16,
     "metadata": {},
     "output_type": "execute_result"
    }
   ],
   "source": [
    "len(list(pd.RangeIndex(start=0, stop=5, step=1)))"
   ]
  },
  {
   "cell_type": "code",
   "execution_count": 17,
   "id": "3d188090",
   "metadata": {
    "ExecuteTime": {
     "end_time": "2022-09-27T02:11:11.341628Z",
     "start_time": "2022-09-27T02:11:11.323601Z"
    }
   },
   "outputs": [
    {
     "data": {
      "text/plain": [
       "5"
      ]
     },
     "execution_count": 17,
     "metadata": {},
     "output_type": "execute_result"
    }
   ],
   "source": [
    "nama_index = ['a', 'b', 'c', 'd', 'e']\n",
    "len(nama_index)"
   ]
  },
  {
   "cell_type": "code",
   "execution_count": 4,
   "id": "bbbe6bec-516e-4c80-85a5-87100388f6b5",
   "metadata": {
    "ExecuteTime": {
     "end_time": "2022-09-27T02:13:05.436371Z",
     "start_time": "2022-09-27T02:13:05.426191Z"
    }
   },
   "outputs": [
    {
     "data": {
      "text/plain": [
       "a        Budi\n",
       "b    Zainudin\n",
       "c    Leonardo\n",
       "d       Gwenn\n",
       "e       Peter\n",
       "dtype: object"
      ]
     },
     "execution_count": 4,
     "metadata": {},
     "output_type": "execute_result"
    }
   ],
   "source": [
    "# kita akan menentukan index yang ingin kita gunakan\n",
    "nama_index = ['a', 'b', 'c', 'd', 'e']\n",
    "\n",
    "series_nama = pd.Series(data=list_nama, index=nama_index)\n",
    "series_nama\n",
    "\n",
    "series_nama.index = nama_index\n",
    "\n",
    "series_nama"
   ]
  },
  {
   "cell_type": "code",
   "execution_count": 8,
   "id": "c9ac1182-7059-410d-9ef5-08448a0cddaa",
   "metadata": {
    "ExecuteTime": {
     "end_time": "2022-09-26T09:39:36.015096Z",
     "start_time": "2022-09-26T09:39:35.986712Z"
    }
   },
   "outputs": [
    {
     "data": {
      "text/plain": [
       "a1        Budi\n",
       "a2    Zainudin\n",
       "a3    Leonardo\n",
       "a4       Gwenn\n",
       "a5       Peter\n",
       "dtype: object"
      ]
     },
     "execution_count": 8,
     "metadata": {},
     "output_type": "execute_result"
    }
   ],
   "source": [
    "#misal kita sudah membuat sebuat series namun kita ingin mengubah index yang ada\n",
    "index_baru = ['a1','a2','a3','a4','a5']\n",
    "series_nama.index = index_baru\n",
    "series_nama"
   ]
  },
  {
   "cell_type": "markdown",
   "id": "ca093f1b-870f-4048-bf7b-bc63cc0633ee",
   "metadata": {},
   "source": [
    "#### Value"
   ]
  },
  {
   "cell_type": "code",
   "execution_count": 9,
   "id": "4d52cb97-cc4f-46bd-91d5-8c1903eccf85",
   "metadata": {
    "ExecuteTime": {
     "end_time": "2022-09-26T09:39:36.374946Z",
     "start_time": "2022-09-26T09:39:36.368947Z"
    }
   },
   "outputs": [
    {
     "data": {
      "text/plain": [
       "array(['Budi', 'Zainudin', 'Leonardo', 'Gwenn', 'Peter'], dtype=object)"
      ]
     },
     "execution_count": 9,
     "metadata": {},
     "output_type": "execute_result"
    }
   ],
   "source": [
    "#kita bisa memanggil seluruh values dari series_nama dengan atribut .values\n",
    "series_nama.values"
   ]
  },
  {
   "cell_type": "markdown",
   "id": "31371037-6124-4792-82fc-688263995cff",
   "metadata": {},
   "source": [
    "#### Method dan Atribut lainnya"
   ]
  },
  {
   "cell_type": "markdown",
   "id": "cd82715b-3ce7-40c0-bb26-c64992d90ec0",
   "metadata": {},
   "source": [
    "* sebelumnya sudah diperkenalkan atribut index dan values\n",
    "* masih ada beberapa method dan atribut yang terdapat pada [Pandas Series](https://pandas.pydata.org/pandas-docs/stable/reference/api/pandas.Series.html)"
   ]
  },
  {
   "cell_type": "code",
   "execution_count": 5,
   "id": "7201989f-7fdf-4bb3-9484-f33fc5fc1ab5",
   "metadata": {
    "ExecuteTime": {
     "end_time": "2022-09-26T09:39:36.998131Z",
     "start_time": "2022-09-26T09:39:36.980180Z"
    }
   },
   "outputs": [
    {
     "name": "stdout",
     "output_type": "stream",
     "text": [
      "['Budi' 'Zainudin' 'Leonardo' 'Gwenn' 'Peter']\n",
      "Index(['a', 'b', 'c', 'd', 'e'], dtype='object')\n",
      "object\n",
      "5\n"
     ]
    }
   ],
   "source": [
    "#beberapa atribut pada pandas Series\n",
    "# 1. melihat values dari series\n",
    "print(series_nama.values)\n",
    "# 2. melihat index dari series\n",
    "print(series_nama.index)\n",
    "# 3. melihat tipe data dari series\n",
    "print(series_nama.dtypes)\n",
    "# 4. melihat ukuran dari series\n",
    "print(series_nama.size)"
   ]
  },
  {
   "cell_type": "code",
   "execution_count": null,
   "id": "599d06dc-f139-4178-b068-01f8bffae3bf",
   "metadata": {
    "ExecuteTime": {
     "end_time": "2022-09-26T09:39:37.198778Z",
     "start_time": "2022-09-26T09:39:37.180893Z"
    }
   },
   "outputs": [
    {
     "ename": "",
     "evalue": "",
     "output_type": "error",
     "traceback": [
      "\u001b[1;31mThe kernel failed to start as a dll could not be loaded.\n",
      "Click <a href='https://aka.ms/kernelFailuresDllLoad'>here</a> for more info."
     ]
    }
   ],
   "source": [
    "import numpy as np\n",
    "angka = np.random.randint(100, size=20) "
   ]
  },
  {
   "cell_type": "code",
   "execution_count": 9,
   "id": "1730f087-8aa3-46e5-8c9c-420c67976254",
   "metadata": {
    "ExecuteTime": {
     "end_time": "2022-09-26T09:39:37.400694Z",
     "start_time": "2022-09-26T09:39:37.380315Z"
    }
   },
   "outputs": [
    {
     "name": "stdout",
     "output_type": "stream",
     "text": [
      "0     26\n",
      "1     28\n",
      "2     94\n",
      "3     25\n",
      "4     54\n",
      "5     54\n",
      "6     64\n",
      "7     47\n",
      "8     12\n",
      "9     93\n",
      "10    95\n",
      "11    99\n",
      "12    51\n",
      "13    97\n",
      "14    10\n",
      "15    36\n",
      "16    45\n",
      "17     2\n",
      "18    39\n",
      "19    28\n",
      "dtype: int32\n"
     ]
    }
   ],
   "source": [
    "#kita akan membuat contoh lain untuk data numerical\n",
    "import numpy as np\n",
    "angka = np.random.randint(100, size=20) \n",
    "series_angka = pd.Series(angka)\n",
    "print(series_angka)"
   ]
  },
  {
   "cell_type": "code",
   "execution_count": 10,
   "id": "3649f53d-0d3a-4941-a838-888d4639cd13",
   "metadata": {
    "ExecuteTime": {
     "end_time": "2022-09-26T09:39:37.586957Z",
     "start_time": "2022-09-26T09:39:37.580739Z"
    }
   },
   "outputs": [
    {
     "name": "stdout",
     "output_type": "stream",
     "text": [
      "[26 28 94 25 54 54 64 47 12 93 95 99 51 97 10 36 45  2 39 28]\n",
      "RangeIndex(start=0, stop=20, step=1)\n",
      "int32\n",
      "20\n"
     ]
    }
   ],
   "source": [
    "#kita coba juga atribut yang telah kita pelajari\n",
    "# 1. melihat values dari series\n",
    "print(series_angka.values)\n",
    "# 2. melihat index dari series\n",
    "print(series_angka.index)\n",
    "# 3. melihat tipe data dari series\n",
    "print(series_angka.dtypes)\n",
    "# 4. melihat ukuran dari series\n",
    "print(series_angka.size)"
   ]
  },
  {
   "cell_type": "markdown",
   "id": "bed53519-872f-43a0-8ffc-f39eaff6794f",
   "metadata": {},
   "source": [
    "beberapa method pada pandas Series"
   ]
  },
  {
   "cell_type": "markdown",
   "id": "e5c05b42-2c8b-4154-9dc6-b9d450da50df",
   "metadata": {},
   "source": [
    "1. Deskripsi dari data"
   ]
  },
  {
   "cell_type": "code",
   "execution_count": 11,
   "id": "c3250f73-98ee-4280-8c1a-1f5be9ae330b",
   "metadata": {
    "ExecuteTime": {
     "end_time": "2022-09-26T09:39:38.210670Z",
     "start_time": "2022-09-26T09:39:38.189081Z"
    }
   },
   "outputs": [
    {
     "data": {
      "text/plain": [
       "count        5\n",
       "unique       5\n",
       "top       Budi\n",
       "freq         1\n",
       "dtype: object"
      ]
     },
     "execution_count": 11,
     "metadata": {},
     "output_type": "execute_result"
    }
   ],
   "source": [
    "#jika data kategorikal maka dia akan menunjukan data sebagai berikut\n",
    "series_nama.describe()"
   ]
  },
  {
   "cell_type": "code",
   "execution_count": 12,
   "id": "97dac36a-4b4f-4578-82fd-950ad0a7cc5c",
   "metadata": {
    "ExecuteTime": {
     "end_time": "2022-09-26T09:39:38.412697Z",
     "start_time": "2022-09-26T09:39:38.394914Z"
    }
   },
   "outputs": [
    {
     "data": {
      "text/plain": [
       "count    20.000000\n",
       "mean     49.950000\n",
       "std      31.218205\n",
       "min       2.000000\n",
       "25%      27.500000\n",
       "50%      46.000000\n",
       "75%      71.250000\n",
       "max      99.000000\n",
       "dtype: float64"
      ]
     },
     "execution_count": 12,
     "metadata": {},
     "output_type": "execute_result"
    }
   ],
   "source": [
    "#jika data numerikal maka dia akan menunjukan data sebagai berikut\n",
    "series_angka.describe()"
   ]
  },
  {
   "cell_type": "code",
   "execution_count": 13,
   "id": "75bf2ee3-04a5-4ecc-b5f0-700b94d48908",
   "metadata": {
    "ExecuteTime": {
     "end_time": "2022-09-26T09:39:38.600552Z",
     "start_time": "2022-09-26T09:39:38.585414Z"
    }
   },
   "outputs": [
    {
     "name": "stdout",
     "output_type": "stream",
     "text": [
      "Nilai unik = ['Budi' 'Zainudin' 'Leonardo' 'Gwenn' 'Peter']\n",
      "Nilai unik = \n",
      "Budi        1\n",
      "Zainudin    1\n",
      "Leonardo    1\n",
      "Gwenn       1\n",
      "Peter       1\n",
      "dtype: int64\n"
     ]
    }
   ],
   "source": [
    "# Nilai unik dari series_nama\n",
    "print(f\"Nilai unik = {series_nama.unique()}\")\n",
    "\n",
    "# Banyak nilai unik dari series_nama\n",
    "print(f\"Nilai unik = \\n{series_nama.value_counts()}\")"
   ]
  },
  {
   "cell_type": "code",
   "execution_count": 14,
   "id": "2d6b20df-1e31-4081-ae40-8e2999614204",
   "metadata": {
    "ExecuteTime": {
     "end_time": "2022-09-26T09:39:38.819062Z",
     "start_time": "2022-09-26T09:39:38.804190Z"
    }
   },
   "outputs": [
    {
     "name": "stdout",
     "output_type": "stream",
     "text": [
      "count    20.000000\n",
      "mean     49.950000\n",
      "std      31.218205\n",
      "min       2.000000\n",
      "25%      27.500000\n",
      "50%      46.000000\n",
      "75%      71.250000\n",
      "max      99.000000\n",
      "dtype: float64\n",
      "Nilai Total : 999\n",
      "Angka tertinggi : 99\n",
      "Angka tertinggi : 2\n",
      "Mean : 49.95\n",
      "Median : 46.0\n"
     ]
    }
   ],
   "source": [
    "#selain itu kita bisa menggunkan beberapa method lain \n",
    "print(series_angka.describe())\n",
    "print(f'Nilai Total : {series_angka.sum()}')\n",
    "print (f'Angka tertinggi : {series_angka.max()}')\n",
    "print (f'Angka tertinggi : {series_angka.min()}')\n",
    "print (f'Mean : {series_angka.mean()}')\n",
    "print (f'Median : {series_angka.median()}')"
   ]
  },
  {
   "cell_type": "markdown",
   "id": "122417d1-0712-4e4e-8517-67af3a8dc4dc",
   "metadata": {},
   "source": [
    "#### Operasi Dasar"
   ]
  },
  {
   "cell_type": "code",
   "execution_count": 18,
   "id": "3db2fbcb-3117-44d9-84ba-1c1b6fa40e99",
   "metadata": {
    "ExecuteTime": {
     "end_time": "2022-09-26T09:39:39.177368Z",
     "start_time": "2022-09-26T09:39:39.156316Z"
    }
   },
   "outputs": [
    {
     "data": {
      "text/plain": [
       "a        Budi\n",
       "b    Zainudin\n",
       "c    Leonardo\n",
       "d       Gwenn\n",
       "e       Peter\n",
       "dtype: object"
      ]
     },
     "execution_count": 18,
     "metadata": {},
     "output_type": "execute_result"
    }
   ],
   "source": [
    "#kita akan gunakan series yang sudah ada yaitu series_nama\n",
    "series_nama"
   ]
  },
  {
   "cell_type": "code",
   "execution_count": 20,
   "id": "65541b34-7fb2-4ab5-a56b-38a902b7d925",
   "metadata": {
    "ExecuteTime": {
     "end_time": "2022-09-26T09:39:39.364141Z",
     "start_time": "2022-09-26T09:39:39.358209Z"
    }
   },
   "outputs": [
    {
     "data": {
      "text/plain": [
       "'Budi'"
      ]
     },
     "execution_count": 20,
     "metadata": {},
     "output_type": "execute_result"
    }
   ],
   "source": [
    "#ketika kita ingin memanggil suatu values kita dapat gunakan indexnya\n",
    "series_nama['a']"
   ]
  },
  {
   "cell_type": "code",
   "execution_count": 21,
   "id": "5da0a8c2-ba20-4008-9ab3-a246bc1441e5",
   "metadata": {
    "ExecuteTime": {
     "end_time": "2022-09-26T09:39:39.566522Z",
     "start_time": "2022-09-26T09:39:39.549805Z"
    }
   },
   "outputs": [
    {
     "data": {
      "text/plain": [
       "a        Budi\n",
       "b    Zainudin\n",
       "c    Leonardo\n",
       "d       Gwenn\n",
       "e       Peter\n",
       "f        Suci\n",
       "dtype: object"
      ]
     },
     "execution_count": 21,
     "metadata": {},
     "output_type": "execute_result"
    }
   ],
   "source": [
    "#jika kita ingin menambahkan data pada series maka kita dapat lakukan\n",
    "series_nama['f'] = 'Suci'\n",
    "series_nama"
   ]
  },
  {
   "cell_type": "code",
   "execution_count": 23,
   "id": "c442de4b-577e-42e0-974a-478e3948340d",
   "metadata": {
    "ExecuteTime": {
     "end_time": "2022-09-26T09:39:39.785922Z",
     "start_time": "2022-09-26T09:39:39.772477Z"
    }
   },
   "outputs": [
    {
     "data": {
      "text/plain": [
       "a        Budi\n",
       "b    Zainudin\n",
       "c    Leonardo\n",
       "d       Gwenn\n",
       "e     Susanto\n",
       "f        Suci\n",
       "dtype: object"
      ]
     },
     "execution_count": 23,
     "metadata": {},
     "output_type": "execute_result"
    }
   ],
   "source": [
    "#untuk merubah value dari suatu index kita dapat lakukan\n",
    "series_nama['e'] = 'Susanto'\n",
    "series_nama"
   ]
  },
  {
   "cell_type": "code",
   "execution_count": 22,
   "id": "6999fc3d-772b-4d6b-a0cf-de89b10f57d3",
   "metadata": {
    "ExecuteTime": {
     "end_time": "2022-09-26T09:39:39.941559Z",
     "start_time": "2022-09-26T09:39:39.932589Z"
    }
   },
   "outputs": [
    {
     "data": {
      "text/plain": [
       "a1        Budi\n",
       "a2    Zainudin\n",
       "a4       Gwenn\n",
       "a5     Susanto\n",
       "a6        Suci\n",
       "dtype: object"
      ]
     },
     "execution_count": 22,
     "metadata": {},
     "output_type": "execute_result"
    }
   ],
   "source": [
    "#untuk menghapus salah satu value maka kita dapat lakukan\n",
    "del series_nama['a3']\n",
    "series_nama"
   ]
  },
  {
   "cell_type": "markdown",
   "id": "c56a184e-f4b2-409f-b412-1f671a90047e",
   "metadata": {},
   "source": [
    "---"
   ]
  },
  {
   "cell_type": "markdown",
   "id": "1083cb2f-549f-4597-9d7d-458a6d1bbcb1",
   "metadata": {},
   "source": [
    "Latihan\n",
    "1. Buat sebuah series dengan data berikut\n",
    "| index | Values (populasi) |\n",
    "| :-: | :-- |\n",
    "|Jakarta| 10.6|\n",
    "|Bandung|1.4|\n",
    "|Medan|2.1|\n",
    "\n",
    "2. tambahkan data Surabaya dengan populasi 2.8\n",
    "3. ternyata data Bandung salah seharusnya 2.4\n",
    "4. cari rata2 penduduk pada wilayah di series"
   ]
  },
  {
   "cell_type": "code",
   "execution_count": 29,
   "id": "c417918d-5cda-410b-861b-eb2547d240f7",
   "metadata": {
    "ExecuteTime": {
     "end_time": "2022-09-26T09:39:40.498703Z",
     "start_time": "2022-09-26T09:39:40.479096Z"
    }
   },
   "outputs": [
    {
     "name": "stdout",
     "output_type": "stream",
     "text": [
      "count     6.000000\n",
      "mean      3.333333\n",
      "std       3.653856\n",
      "min       0.400000\n",
      "25%       1.800000\n",
      "50%       2.250000\n",
      "75%       2.700000\n",
      "max      10.600000\n",
      "Name: populasi, dtype: float64\n",
      "Mean 3.3333333333333326\n",
      "Mean 3.3333333333333326\n",
      "Mean  3.3333333333333326\n"
     ]
    }
   ],
   "source": [
    "# isikan jawabannya disini\n",
    "pop = [10.6, 1.4, 2.1]\n",
    "idx = ['Jakarta', 'Bandung', 'Medan']\n",
    "\n",
    "series_populasi = pd.Series(pop, name='populasi', index=idx)\n",
    "series_populasi['Surabaya'] = 2.8\n",
    "series_populasi['Bandung'] = 2.4\n",
    "series_populasi['Jambi'] = 1.7\n",
    "series_populasi['Bengkulu'] = 0.4\n",
    "print(series_populasi.describe())\n",
    "print('Mean {}'.format(series_populasi.mean()))\n",
    "print('Mean', series_populasi.mean())\n",
    "print(f\"Mean  {series_populasi.mean()}\")        # F-strings\n"
   ]
  },
  {
   "cell_type": "code",
   "execution_count": 28,
   "id": "9ce682fe",
   "metadata": {},
   "outputs": [
    {
     "name": "stdout",
     "output_type": "stream",
     "text": [
      "Jakarta     10.6\n",
      "Bandung      2.4\n",
      "Medan        2.1\n",
      "Surabaya     2.8\n",
      "Jambi        1.7\n",
      "Bengkulu     0.4\n",
      "Name: populasi, dtype: float64\n"
     ]
    }
   ],
   "source": [
    "print(series_populasi)"
   ]
  },
  {
   "cell_type": "markdown",
   "id": "f99158bd-6662-4d91-95f8-dc78e36487f6",
   "metadata": {
    "id": "f99158bd-6662-4d91-95f8-dc78e36487f6"
   },
   "source": [
    "### Dataframe"
   ]
  },
  {
   "cell_type": "markdown",
   "id": "e2a40283-fe57-4abf-8816-43fa11020f9c",
   "metadata": {},
   "source": [
    "* DataFrame dari Pandas adalah struktur data 2-dimensi yang berbentuk tabular (memiliki baris dan kolom)\n",
    "* DataFrame adalah kumpulan Series\n",
    "* Axis 0 == Index, Axis 1 == Column"
   ]
  },
  {
   "cell_type": "markdown",
   "id": "832fd225-54ad-4fef-ab59-755d212570ca",
   "metadata": {
    "id": "832fd225-54ad-4fef-ab59-755d212570ca"
   },
   "source": [
    "<img src=\"https://petruknisme.com/wp-content/uploads/2019/04/series-and-dataframe.width-1200.png\">"
   ]
  },
  {
   "cell_type": "code",
   "execution_count": 24,
   "id": "b87f1ec4-5267-4825-9d30-be9e0b56ed85",
   "metadata": {
    "ExecuteTime": {
     "end_time": "2022-09-26T09:39:41.210366Z",
     "start_time": "2022-09-26T09:39:41.194673Z"
    },
    "id": "b87f1ec4-5267-4825-9d30-be9e0b56ed85"
   },
   "outputs": [],
   "source": [
    "data = {'COUNTRY':['China','India','US','Indonesia','Brazil'],\n",
    "        'GDP':[12_234.78,2_575.67,19_485.39,1_015.54,2_055.51],\n",
    "        'POP':[1_398.72,1_351.16,329.74,268.07,210.32]}\n",
    "\n",
    "columns = ('COUNTRY', 'POP', 'AREA', 'GDP', 'CONT', 'IND_DAY')"
   ]
  },
  {
   "cell_type": "code",
   "execution_count": 25,
   "id": "06439b9a-d734-448f-838a-6ae0961d8675",
   "metadata": {
    "ExecuteTime": {
     "end_time": "2022-09-26T09:39:41.427708Z",
     "start_time": "2022-09-26T09:39:41.409257Z"
    },
    "colab": {
     "base_uri": "https://localhost:8080/",
     "height": 238
    },
    "executionInfo": {
     "elapsed": 532,
     "status": "ok",
     "timestamp": 1648708323317,
     "user": {
      "displayName": "Pratama Suprayogi",
      "userId": "14884808246882934220"
     },
     "user_tz": -420
    },
    "id": "06439b9a-d734-448f-838a-6ae0961d8675",
    "outputId": "3c17f9b5-8910-4e32-b993-915617e34903"
   },
   "outputs": [
    {
     "data": {
      "text/html": [
       "<div>\n",
       "<style scoped>\n",
       "    .dataframe tbody tr th:only-of-type {\n",
       "        vertical-align: middle;\n",
       "    }\n",
       "\n",
       "    .dataframe tbody tr th {\n",
       "        vertical-align: top;\n",
       "    }\n",
       "\n",
       "    .dataframe thead th {\n",
       "        text-align: right;\n",
       "    }\n",
       "</style>\n",
       "<table border=\"1\" class=\"dataframe\">\n",
       "  <thead>\n",
       "    <tr style=\"text-align: right;\">\n",
       "      <th></th>\n",
       "      <th>COUNTRY</th>\n",
       "      <th>GDP</th>\n",
       "      <th>POP</th>\n",
       "    </tr>\n",
       "  </thead>\n",
       "  <tbody>\n",
       "    <tr>\n",
       "      <th>0</th>\n",
       "      <td>China</td>\n",
       "      <td>12234.78</td>\n",
       "      <td>1398.72</td>\n",
       "    </tr>\n",
       "    <tr>\n",
       "      <th>1</th>\n",
       "      <td>India</td>\n",
       "      <td>2575.67</td>\n",
       "      <td>1351.16</td>\n",
       "    </tr>\n",
       "    <tr>\n",
       "      <th>2</th>\n",
       "      <td>US</td>\n",
       "      <td>19485.39</td>\n",
       "      <td>329.74</td>\n",
       "    </tr>\n",
       "    <tr>\n",
       "      <th>3</th>\n",
       "      <td>Indonesia</td>\n",
       "      <td>1015.54</td>\n",
       "      <td>268.07</td>\n",
       "    </tr>\n",
       "    <tr>\n",
       "      <th>4</th>\n",
       "      <td>Brazil</td>\n",
       "      <td>2055.51</td>\n",
       "      <td>210.32</td>\n",
       "    </tr>\n",
       "  </tbody>\n",
       "</table>\n",
       "</div>"
      ],
      "text/plain": [
       "     COUNTRY       GDP      POP\n",
       "0      China  12234.78  1398.72\n",
       "1      India   2575.67  1351.16\n",
       "2         US  19485.39   329.74\n",
       "3  Indonesia   1015.54   268.07\n",
       "4     Brazil   2055.51   210.32"
      ]
     },
     "execution_count": 25,
     "metadata": {},
     "output_type": "execute_result"
    }
   ],
   "source": [
    "df = pd.DataFrame(data=data)\n",
    "df"
   ]
  },
  {
   "cell_type": "markdown",
   "id": "679a13fa-13c6-4570-8bb6-9d918a2a8c9f",
   "metadata": {},
   "source": [
    "* kolom paling kiri merupakan indeks\n",
    "* bagian atas adalah nama kolom"
   ]
  },
  {
   "cell_type": "markdown",
   "id": "1047aa71-4ae0-43d2-b220-30bffa8642a8",
   "metadata": {
    "id": "1047aa71-4ae0-43d2-b220-30bffa8642a8"
   },
   "source": [
    "##  Read Data"
   ]
  },
  {
   "cell_type": "markdown",
   "id": "31cbbbb5-0084-412b-9810-c670c181ed79",
   "metadata": {
    "id": "31cbbbb5-0084-412b-9810-c670c181ed79"
   },
   "source": [
    "### CSV"
   ]
  },
  {
   "cell_type": "markdown",
   "id": "c165f47d-be0b-415b-a9bd-a8cb9fa96b96",
   "metadata": {
    "id": "c165f47d-be0b-415b-a9bd-a8cb9fa96b96"
   },
   "source": [
    " suatu format data dalam basis data di mana setiap record dipisahkan dengan tanda koma (, ) atau titik koma.\n",
    " \n",
    " <img src=\"https://www.wikihow.com/images_en/thumb/1/17/Create-a-CSV-File-Step-9.jpg/v4-460px-Create-a-CSV-File-Step-9.jpg\" width=300>"
   ]
  },
  {
   "cell_type": "markdown",
   "id": "f44fe82d-6950-4807-8a11-cd249594e2ba",
   "metadata": {
    "id": "f44fe82d-6950-4807-8a11-cd249594e2ba"
   },
   "source": [
    "#### Import Sederhana"
   ]
  },
  {
   "cell_type": "markdown",
   "id": "56e80a30-b5d5-4f2a-bc4a-5e7f1dda9c76",
   "metadata": {
    "id": "56e80a30-b5d5-4f2a-bc4a-5e7f1dda9c76"
   },
   "source": [
    "> Untuk membaca file csv gunakan perintah **pd.read_csv(\"lokasi file\")**"
   ]
  },
  {
   "cell_type": "code",
   "execution_count": 2,
   "id": "c82bcd4c",
   "metadata": {
    "ExecuteTime": {
     "end_time": "2022-09-26T09:39:42.717488Z",
     "start_time": "2022-09-26T09:39:42.698571Z"
    }
   },
   "outputs": [],
   "source": [
    "link_airtravel = \"https://raw.githubusercontent.com/mofdac/-materi-das/main/01.%20Python%20for%20DA/airtravel.csv\"\n",
    "link_airtravel2 = \"https://raw.githubusercontent.com/mofdac/-materi-das/main/01.%20Python%20for%20DA/airtravel_2.csv\"\n",
    "link_airtravel3 = \"https://github.com/mofdac/-materi-das/blob/main/01.%20Python%20for%20DA/airtravel_3.xlsx?raw=true\"\n",
    "link_population = \"https://raw.githubusercontent.com/mofdac/-materi-das/main/01.%20Python%20for%20DA/america_population.csv\"\n",
    "link_json = \"https://raw.githubusercontent.com/mofdac/-materi-das/main/01.%20Python%20for%20DA/example_1.json\"\n",
    "link_titanic = \"https://raw.githubusercontent.com/mofdac/-materi-das/main/01.%20Python%20for%20DA/titanic.csv\""
   ]
  },
  {
   "cell_type": "code",
   "execution_count": 3,
   "id": "3bb2c2ca-b455-4723-a2b4-be3d05d1fbbc",
   "metadata": {
    "ExecuteTime": {
     "end_time": "2022-09-26T09:39:43.385865Z",
     "start_time": "2022-09-26T09:39:42.889105Z"
    },
    "id": "3bb2c2ca-b455-4723-a2b4-be3d05d1fbbc"
   },
   "outputs": [],
   "source": [
    "# df_airtravel = pd.read_csv(\"airtravel.csv\")\n",
    "df_airtravel = pd.read_csv(link_airtravel)"
   ]
  },
  {
   "cell_type": "code",
   "execution_count": 4,
   "id": "dd643d56-c194-4be2-a1cb-040d685fdd2b",
   "metadata": {
    "ExecuteTime": {
     "end_time": "2022-09-26T09:39:43.417224Z",
     "start_time": "2022-09-26T09:39:43.390836Z"
    },
    "id": "dd643d56-c194-4be2-a1cb-040d685fdd2b",
    "outputId": "c1b37840-b03d-499a-e025-b7ee999eef0c"
   },
   "outputs": [
    {
     "data": {
      "text/html": [
       "<div>\n",
       "<style scoped>\n",
       "    .dataframe tbody tr th:only-of-type {\n",
       "        vertical-align: middle;\n",
       "    }\n",
       "\n",
       "    .dataframe tbody tr th {\n",
       "        vertical-align: top;\n",
       "    }\n",
       "\n",
       "    .dataframe thead th {\n",
       "        text-align: right;\n",
       "    }\n",
       "</style>\n",
       "<table border=\"1\" class=\"dataframe\">\n",
       "  <thead>\n",
       "    <tr style=\"text-align: right;\">\n",
       "      <th></th>\n",
       "      <th>Month</th>\n",
       "      <th>1958</th>\n",
       "      <th>1959</th>\n",
       "      <th>1960</th>\n",
       "    </tr>\n",
       "  </thead>\n",
       "  <tbody>\n",
       "    <tr>\n",
       "      <th>0</th>\n",
       "      <td>JAN</td>\n",
       "      <td>340</td>\n",
       "      <td>360</td>\n",
       "      <td>417</td>\n",
       "    </tr>\n",
       "    <tr>\n",
       "      <th>1</th>\n",
       "      <td>FEB</td>\n",
       "      <td>318</td>\n",
       "      <td>342</td>\n",
       "      <td>391</td>\n",
       "    </tr>\n",
       "    <tr>\n",
       "      <th>2</th>\n",
       "      <td>MAR</td>\n",
       "      <td>362</td>\n",
       "      <td>406</td>\n",
       "      <td>419</td>\n",
       "    </tr>\n",
       "    <tr>\n",
       "      <th>3</th>\n",
       "      <td>APR</td>\n",
       "      <td>348</td>\n",
       "      <td>396</td>\n",
       "      <td>461</td>\n",
       "    </tr>\n",
       "    <tr>\n",
       "      <th>4</th>\n",
       "      <td>MAY</td>\n",
       "      <td>363</td>\n",
       "      <td>420</td>\n",
       "      <td>472</td>\n",
       "    </tr>\n",
       "    <tr>\n",
       "      <th>5</th>\n",
       "      <td>JUN</td>\n",
       "      <td>435</td>\n",
       "      <td>472</td>\n",
       "      <td>535</td>\n",
       "    </tr>\n",
       "    <tr>\n",
       "      <th>6</th>\n",
       "      <td>JUL</td>\n",
       "      <td>491</td>\n",
       "      <td>548</td>\n",
       "      <td>622</td>\n",
       "    </tr>\n",
       "    <tr>\n",
       "      <th>7</th>\n",
       "      <td>AUG</td>\n",
       "      <td>505</td>\n",
       "      <td>559</td>\n",
       "      <td>606</td>\n",
       "    </tr>\n",
       "    <tr>\n",
       "      <th>8</th>\n",
       "      <td>SEP</td>\n",
       "      <td>404</td>\n",
       "      <td>463</td>\n",
       "      <td>508</td>\n",
       "    </tr>\n",
       "    <tr>\n",
       "      <th>9</th>\n",
       "      <td>OCT</td>\n",
       "      <td>359</td>\n",
       "      <td>407</td>\n",
       "      <td>461</td>\n",
       "    </tr>\n",
       "    <tr>\n",
       "      <th>10</th>\n",
       "      <td>NOV</td>\n",
       "      <td>310</td>\n",
       "      <td>362</td>\n",
       "      <td>390</td>\n",
       "    </tr>\n",
       "    <tr>\n",
       "      <th>11</th>\n",
       "      <td>DEC</td>\n",
       "      <td>337</td>\n",
       "      <td>405</td>\n",
       "      <td>432</td>\n",
       "    </tr>\n",
       "  </tbody>\n",
       "</table>\n",
       "</div>"
      ],
      "text/plain": [
       "   Month   1958  1959  1960\n",
       "0    JAN    340   360   417\n",
       "1    FEB    318   342   391\n",
       "2    MAR    362   406   419\n",
       "3    APR    348   396   461\n",
       "4    MAY    363   420   472\n",
       "5    JUN    435   472   535\n",
       "6    JUL    491   548   622\n",
       "7    AUG    505   559   606\n",
       "8    SEP    404   463   508\n",
       "9    OCT    359   407   461\n",
       "10   NOV    310   362   390\n",
       "11   DEC    337   405   432"
      ]
     },
     "execution_count": 4,
     "metadata": {},
     "output_type": "execute_result"
    }
   ],
   "source": [
    "df_airtravel"
   ]
  },
  {
   "cell_type": "markdown",
   "id": "710ee1fb-b055-4405-a5bf-10f481b1e2ad",
   "metadata": {
    "id": "710ee1fb-b055-4405-a5bf-10f481b1e2ad"
   },
   "source": [
    "#### Import dengan arguments"
   ]
  },
  {
   "cell_type": "markdown",
   "id": "a57ff3b2-e064-4a2b-a3fe-bd9a7745c830",
   "metadata": {
    "id": "a57ff3b2-e064-4a2b-a3fe-bd9a7745c830"
   },
   "source": [
    "> contoh sebelumnya hanya membaca data secara langsung, bagaimana jika kita hanya ingin mengambil bbrp kolom saja?"
   ]
  },
  {
   "cell_type": "code",
   "execution_count": 7,
   "id": "97e87687-59d4-4d31-a0b5-1c8620bb67c2",
   "metadata": {
    "ExecuteTime": {
     "end_time": "2022-09-26T09:39:44.006945Z",
     "start_time": "2022-09-26T09:39:43.618044Z"
    },
    "colab": {
     "base_uri": "https://localhost:8080/",
     "height": 426
    },
    "executionInfo": {
     "elapsed": 462,
     "status": "ok",
     "timestamp": 1648708830650,
     "user": {
      "displayName": "Pratama Suprayogi",
      "userId": "14884808246882934220"
     },
     "user_tz": -420
    },
    "id": "97e87687-59d4-4d31-a0b5-1c8620bb67c2",
    "outputId": "ce8c7fe6-9dc4-4948-dcfb-93f73e3649c6"
   },
   "outputs": [
    {
     "data": {
      "text/html": [
       "<div>\n",
       "<style scoped>\n",
       "    .dataframe tbody tr th:only-of-type {\n",
       "        vertical-align: middle;\n",
       "    }\n",
       "\n",
       "    .dataframe tbody tr th {\n",
       "        vertical-align: top;\n",
       "    }\n",
       "\n",
       "    .dataframe thead th {\n",
       "        text-align: right;\n",
       "    }\n",
       "</style>\n",
       "<table border=\"1\" class=\"dataframe\">\n",
       "  <thead>\n",
       "    <tr style=\"text-align: right;\">\n",
       "      <th></th>\n",
       "      <th>Month</th>\n",
       "      <th>1960</th>\n",
       "    </tr>\n",
       "  </thead>\n",
       "  <tbody>\n",
       "    <tr>\n",
       "      <th>0</th>\n",
       "      <td>JAN</td>\n",
       "      <td>417</td>\n",
       "    </tr>\n",
       "    <tr>\n",
       "      <th>1</th>\n",
       "      <td>FEB</td>\n",
       "      <td>391</td>\n",
       "    </tr>\n",
       "    <tr>\n",
       "      <th>2</th>\n",
       "      <td>MAR</td>\n",
       "      <td>419</td>\n",
       "    </tr>\n",
       "    <tr>\n",
       "      <th>3</th>\n",
       "      <td>APR</td>\n",
       "      <td>461</td>\n",
       "    </tr>\n",
       "    <tr>\n",
       "      <th>4</th>\n",
       "      <td>MAY</td>\n",
       "      <td>472</td>\n",
       "    </tr>\n",
       "    <tr>\n",
       "      <th>5</th>\n",
       "      <td>JUN</td>\n",
       "      <td>535</td>\n",
       "    </tr>\n",
       "    <tr>\n",
       "      <th>6</th>\n",
       "      <td>JUL</td>\n",
       "      <td>622</td>\n",
       "    </tr>\n",
       "    <tr>\n",
       "      <th>7</th>\n",
       "      <td>AUG</td>\n",
       "      <td>606</td>\n",
       "    </tr>\n",
       "    <tr>\n",
       "      <th>8</th>\n",
       "      <td>SEP</td>\n",
       "      <td>508</td>\n",
       "    </tr>\n",
       "    <tr>\n",
       "      <th>9</th>\n",
       "      <td>OCT</td>\n",
       "      <td>461</td>\n",
       "    </tr>\n",
       "    <tr>\n",
       "      <th>10</th>\n",
       "      <td>NOV</td>\n",
       "      <td>390</td>\n",
       "    </tr>\n",
       "    <tr>\n",
       "      <th>11</th>\n",
       "      <td>DEC</td>\n",
       "      <td>432</td>\n",
       "    </tr>\n",
       "  </tbody>\n",
       "</table>\n",
       "</div>"
      ],
      "text/plain": [
       "   Month  1960\n",
       "0    JAN   417\n",
       "1    FEB   391\n",
       "2    MAR   419\n",
       "3    APR   461\n",
       "4    MAY   472\n",
       "5    JUN   535\n",
       "6    JUL   622\n",
       "7    AUG   606\n",
       "8    SEP   508\n",
       "9    OCT   461\n",
       "10   NOV   390\n",
       "11   DEC   432"
      ]
     },
     "execution_count": 7,
     "metadata": {},
     "output_type": "execute_result"
    }
   ],
   "source": [
    "# df_airtravel_ = pd.read_csv(\"airtravel.csv\", usecols = [\"Month\",\"1960\"])\n",
    "df_airtravel_ = pd.read_csv(link_airtravel, usecols = [\"Month\",\"1960\"])\n",
    "df_airtravel_"
   ]
  },
  {
   "cell_type": "markdown",
   "id": "3be5f933-0c1a-4d4b-a18e-82427b6c4083",
   "metadata": {
    "id": "3be5f933-0c1a-4d4b-a18e-82427b6c4083"
   },
   "source": [
    "> walaupun normalnya CSV dipisahkan menggunakan comma tapi terkadang kita dapat menemukan data yang dipisahkan oleh tanda lain seperti ;:|/"
   ]
  },
  {
   "cell_type": "code",
   "execution_count": 30,
   "id": "514ae73b-1e9d-46de-b624-febf4e454474",
   "metadata": {
    "ExecuteTime": {
     "end_time": "2022-09-26T09:39:44.503456Z",
     "start_time": "2022-09-26T09:39:44.009413Z"
    },
    "colab": {
     "base_uri": "https://localhost:8080/",
     "height": 426
    },
    "executionInfo": {
     "elapsed": 419,
     "status": "ok",
     "timestamp": 1648708864807,
     "user": {
      "displayName": "Pratama Suprayogi",
      "userId": "14884808246882934220"
     },
     "user_tz": -420
    },
    "id": "514ae73b-1e9d-46de-b624-febf4e454474",
    "outputId": "62a50634-bab0-4541-8637-d5775064e386"
   },
   "outputs": [
    {
     "data": {
      "text/html": [
       "<div>\n",
       "<style scoped>\n",
       "    .dataframe tbody tr th:only-of-type {\n",
       "        vertical-align: middle;\n",
       "    }\n",
       "\n",
       "    .dataframe tbody tr th {\n",
       "        vertical-align: top;\n",
       "    }\n",
       "\n",
       "    .dataframe thead th {\n",
       "        text-align: right;\n",
       "    }\n",
       "</style>\n",
       "<table border=\"1\" class=\"dataframe\">\n",
       "  <thead>\n",
       "    <tr style=\"text-align: right;\">\n",
       "      <th></th>\n",
       "      <th>Month;1958;1959;1960</th>\n",
       "    </tr>\n",
       "  </thead>\n",
       "  <tbody>\n",
       "    <tr>\n",
       "      <th>0</th>\n",
       "      <td>JAN;340;360;417</td>\n",
       "    </tr>\n",
       "    <tr>\n",
       "      <th>1</th>\n",
       "      <td>FEB;318;342;391</td>\n",
       "    </tr>\n",
       "    <tr>\n",
       "      <th>2</th>\n",
       "      <td>MAR;362;406;419</td>\n",
       "    </tr>\n",
       "    <tr>\n",
       "      <th>3</th>\n",
       "      <td>APR;348;396;461</td>\n",
       "    </tr>\n",
       "    <tr>\n",
       "      <th>4</th>\n",
       "      <td>MAY;363;420;472</td>\n",
       "    </tr>\n",
       "    <tr>\n",
       "      <th>5</th>\n",
       "      <td>JUN;435;472;535</td>\n",
       "    </tr>\n",
       "    <tr>\n",
       "      <th>6</th>\n",
       "      <td>JUL;491;548;622</td>\n",
       "    </tr>\n",
       "    <tr>\n",
       "      <th>7</th>\n",
       "      <td>AUG;505;559;606</td>\n",
       "    </tr>\n",
       "    <tr>\n",
       "      <th>8</th>\n",
       "      <td>SEP;404;463;508</td>\n",
       "    </tr>\n",
       "    <tr>\n",
       "      <th>9</th>\n",
       "      <td>OCT;359;407;461</td>\n",
       "    </tr>\n",
       "    <tr>\n",
       "      <th>10</th>\n",
       "      <td>NOV;310;362;390</td>\n",
       "    </tr>\n",
       "    <tr>\n",
       "      <th>11</th>\n",
       "      <td>DEC;337;405;432</td>\n",
       "    </tr>\n",
       "  </tbody>\n",
       "</table>\n",
       "</div>"
      ],
      "text/plain": [
       "   Month;1958;1959;1960\n",
       "0       JAN;340;360;417\n",
       "1       FEB;318;342;391\n",
       "2       MAR;362;406;419\n",
       "3       APR;348;396;461\n",
       "4       MAY;363;420;472\n",
       "5       JUN;435;472;535\n",
       "6       JUL;491;548;622\n",
       "7       AUG;505;559;606\n",
       "8       SEP;404;463;508\n",
       "9       OCT;359;407;461\n",
       "10      NOV;310;362;390\n",
       "11      DEC;337;405;432"
      ]
     },
     "execution_count": 30,
     "metadata": {},
     "output_type": "execute_result"
    }
   ],
   "source": [
    "#pada file airtravel_2.csv digunakan tanda pemisah ;\n",
    "#jika kita langsung membuakanya maka hasilnya akan seperti\n",
    "# df_airtravel2 = pd.read_csv(\"airtravel_2.csv\")\n",
    "df_airtravel2 = pd.read_csv(link_airtravel2)\n",
    "df_airtravel2"
   ]
  },
  {
   "cell_type": "code",
   "execution_count": 31,
   "id": "96727e97-bb46-4368-bd3e-644cece203ef",
   "metadata": {
    "ExecuteTime": {
     "end_time": "2022-09-26T09:39:44.659307Z",
     "start_time": "2022-09-26T09:39:44.509690Z"
    },
    "colab": {
     "base_uri": "https://localhost:8080/",
     "height": 426
    },
    "executionInfo": {
     "elapsed": 528,
     "status": "ok",
     "timestamp": 1648708879670,
     "user": {
      "displayName": "Pratama Suprayogi",
      "userId": "14884808246882934220"
     },
     "user_tz": -420
    },
    "id": "96727e97-bb46-4368-bd3e-644cece203ef",
    "outputId": "370d3ad4-2851-47c3-bd5b-f36310d65290"
   },
   "outputs": [
    {
     "data": {
      "text/html": [
       "<div>\n",
       "<style scoped>\n",
       "    .dataframe tbody tr th:only-of-type {\n",
       "        vertical-align: middle;\n",
       "    }\n",
       "\n",
       "    .dataframe tbody tr th {\n",
       "        vertical-align: top;\n",
       "    }\n",
       "\n",
       "    .dataframe thead th {\n",
       "        text-align: right;\n",
       "    }\n",
       "</style>\n",
       "<table border=\"1\" class=\"dataframe\">\n",
       "  <thead>\n",
       "    <tr style=\"text-align: right;\">\n",
       "      <th></th>\n",
       "      <th>Month</th>\n",
       "      <th>1958</th>\n",
       "      <th>1959</th>\n",
       "      <th>1960</th>\n",
       "    </tr>\n",
       "  </thead>\n",
       "  <tbody>\n",
       "    <tr>\n",
       "      <th>0</th>\n",
       "      <td>JAN</td>\n",
       "      <td>340</td>\n",
       "      <td>360</td>\n",
       "      <td>417</td>\n",
       "    </tr>\n",
       "    <tr>\n",
       "      <th>1</th>\n",
       "      <td>FEB</td>\n",
       "      <td>318</td>\n",
       "      <td>342</td>\n",
       "      <td>391</td>\n",
       "    </tr>\n",
       "    <tr>\n",
       "      <th>2</th>\n",
       "      <td>MAR</td>\n",
       "      <td>362</td>\n",
       "      <td>406</td>\n",
       "      <td>419</td>\n",
       "    </tr>\n",
       "    <tr>\n",
       "      <th>3</th>\n",
       "      <td>APR</td>\n",
       "      <td>348</td>\n",
       "      <td>396</td>\n",
       "      <td>461</td>\n",
       "    </tr>\n",
       "    <tr>\n",
       "      <th>4</th>\n",
       "      <td>MAY</td>\n",
       "      <td>363</td>\n",
       "      <td>420</td>\n",
       "      <td>472</td>\n",
       "    </tr>\n",
       "    <tr>\n",
       "      <th>5</th>\n",
       "      <td>JUN</td>\n",
       "      <td>435</td>\n",
       "      <td>472</td>\n",
       "      <td>535</td>\n",
       "    </tr>\n",
       "    <tr>\n",
       "      <th>6</th>\n",
       "      <td>JUL</td>\n",
       "      <td>491</td>\n",
       "      <td>548</td>\n",
       "      <td>622</td>\n",
       "    </tr>\n",
       "    <tr>\n",
       "      <th>7</th>\n",
       "      <td>AUG</td>\n",
       "      <td>505</td>\n",
       "      <td>559</td>\n",
       "      <td>606</td>\n",
       "    </tr>\n",
       "    <tr>\n",
       "      <th>8</th>\n",
       "      <td>SEP</td>\n",
       "      <td>404</td>\n",
       "      <td>463</td>\n",
       "      <td>508</td>\n",
       "    </tr>\n",
       "    <tr>\n",
       "      <th>9</th>\n",
       "      <td>OCT</td>\n",
       "      <td>359</td>\n",
       "      <td>407</td>\n",
       "      <td>461</td>\n",
       "    </tr>\n",
       "    <tr>\n",
       "      <th>10</th>\n",
       "      <td>NOV</td>\n",
       "      <td>310</td>\n",
       "      <td>362</td>\n",
       "      <td>390</td>\n",
       "    </tr>\n",
       "    <tr>\n",
       "      <th>11</th>\n",
       "      <td>DEC</td>\n",
       "      <td>337</td>\n",
       "      <td>405</td>\n",
       "      <td>432</td>\n",
       "    </tr>\n",
       "  </tbody>\n",
       "</table>\n",
       "</div>"
      ],
      "text/plain": [
       "   Month  1958  1959  1960\n",
       "0    JAN   340   360   417\n",
       "1    FEB   318   342   391\n",
       "2    MAR   362   406   419\n",
       "3    APR   348   396   461\n",
       "4    MAY   363   420   472\n",
       "5    JUN   435   472   535\n",
       "6    JUL   491   548   622\n",
       "7    AUG   505   559   606\n",
       "8    SEP   404   463   508\n",
       "9    OCT   359   407   461\n",
       "10   NOV   310   362   390\n",
       "11   DEC   337   405   432"
      ]
     },
     "execution_count": 31,
     "metadata": {},
     "output_type": "execute_result"
    }
   ],
   "source": [
    "# df_airtravel2 = pd.read_csv(\"airtravel_2.csv\", sep=';')\n",
    "\n",
    "df_airtravel2 = pd.read_csv(link_airtravel2, sep=';')\n",
    "df_airtravel2"
   ]
  },
  {
   "cell_type": "markdown",
   "id": "fd2b77de-81ce-4ab6-87bf-696b3e54e3d8",
   "metadata": {
    "id": "fd2b77de-81ce-4ab6-87bf-696b3e54e3d8"
   },
   "source": [
    "> list argumen lebih lanjut dapat dilihat di https://pandas.pydata.org/pandas-docs/stable/reference/api/pandas.read_csv.html#pandas.read_csv"
   ]
  },
  {
   "cell_type": "markdown",
   "id": "679f393c-75f4-4903-84ac-8288f56cdfa2",
   "metadata": {
    "id": "679f393c-75f4-4903-84ac-8288f56cdfa2"
   },
   "source": [
    "### Excel"
   ]
  },
  {
   "cell_type": "markdown",
   "id": "f87932a9-2a63-48d8-a277-21e124fdbf4f",
   "metadata": {},
   "source": [
    "> terkadang kita juga menemukan data yang berextensi .xls atau .xlsx maka kita bisa membukanya dengan pd.read_excel"
   ]
  },
  {
   "cell_type": "code",
   "execution_count": 32,
   "id": "784beecf-b86c-40cc-8cd8-fe7b2b908203",
   "metadata": {
    "ExecuteTime": {
     "end_time": "2022-09-26T09:39:48.114687Z",
     "start_time": "2022-09-26T09:39:44.908390Z"
    },
    "colab": {
     "base_uri": "https://localhost:8080/",
     "height": 206
    },
    "executionInfo": {
     "elapsed": 754,
     "status": "ok",
     "timestamp": 1648708885942,
     "user": {
      "displayName": "Pratama Suprayogi",
      "userId": "14884808246882934220"
     },
     "user_tz": -420
    },
    "id": "784beecf-b86c-40cc-8cd8-fe7b2b908203",
    "outputId": "cbef3dc0-8672-461d-fb4d-e74a2f1c7dae"
   },
   "outputs": [
    {
     "data": {
      "text/html": [
       "<div>\n",
       "<style scoped>\n",
       "    .dataframe tbody tr th:only-of-type {\n",
       "        vertical-align: middle;\n",
       "    }\n",
       "\n",
       "    .dataframe tbody tr th {\n",
       "        vertical-align: top;\n",
       "    }\n",
       "\n",
       "    .dataframe thead th {\n",
       "        text-align: right;\n",
       "    }\n",
       "</style>\n",
       "<table border=\"1\" class=\"dataframe\">\n",
       "  <thead>\n",
       "    <tr style=\"text-align: right;\">\n",
       "      <th></th>\n",
       "      <th>Month</th>\n",
       "      <th>1958</th>\n",
       "      <th>1959</th>\n",
       "      <th>1960</th>\n",
       "    </tr>\n",
       "  </thead>\n",
       "  <tbody>\n",
       "    <tr>\n",
       "      <th>0</th>\n",
       "      <td>JAN</td>\n",
       "      <td>340</td>\n",
       "      <td>360</td>\n",
       "      <td>417</td>\n",
       "    </tr>\n",
       "    <tr>\n",
       "      <th>1</th>\n",
       "      <td>FEB</td>\n",
       "      <td>318</td>\n",
       "      <td>342</td>\n",
       "      <td>391</td>\n",
       "    </tr>\n",
       "    <tr>\n",
       "      <th>2</th>\n",
       "      <td>MAR</td>\n",
       "      <td>362</td>\n",
       "      <td>406</td>\n",
       "      <td>419</td>\n",
       "    </tr>\n",
       "    <tr>\n",
       "      <th>3</th>\n",
       "      <td>APR</td>\n",
       "      <td>348</td>\n",
       "      <td>396</td>\n",
       "      <td>461</td>\n",
       "    </tr>\n",
       "    <tr>\n",
       "      <th>4</th>\n",
       "      <td>MAY</td>\n",
       "      <td>363</td>\n",
       "      <td>420</td>\n",
       "      <td>472</td>\n",
       "    </tr>\n",
       "  </tbody>\n",
       "</table>\n",
       "</div>"
      ],
      "text/plain": [
       "  Month  1958  1959  1960\n",
       "0   JAN   340   360   417\n",
       "1   FEB   318   342   391\n",
       "2   MAR   362   406   419\n",
       "3   APR   348   396   461\n",
       "4   MAY   363   420   472"
      ]
     },
     "execution_count": 32,
     "metadata": {},
     "output_type": "execute_result"
    }
   ],
   "source": [
    "# df_airtravel_3 = pd.read_excel('airtravel_3.xlsx')\n",
    "\n",
    "df_airtravel_3 = pd.read_excel(link_airtravel3)\n",
    "df_airtravel_3.head()"
   ]
  },
  {
   "cell_type": "markdown",
   "id": "1918e15f-713f-4ef5-acca-dcd334795d4a",
   "metadata": {},
   "source": [
    "### JSON"
   ]
  },
  {
   "cell_type": "markdown",
   "id": "b7ddb151-16a0-463d-99ef-7e57a9d6990a",
   "metadata": {},
   "source": [
    "* JSON adalah singkatan dari JavaScript Object Notation.\n",
    "* JSON adalah turunan JavaScript yang digunakan dalam transfer dan penyimpanan data.\n",
    "* JSON sering kita temukan di internet"
   ]
  },
  {
   "cell_type": "markdown",
   "id": "276badb0-0ea7-4e5a-b076-3dea4417e909",
   "metadata": {},
   "source": [
    "<img src=\"https://idcloudhost.com/wp-content/uploads/2021/03/Screenshot-2021-03-30-151455.jpg\" width=500>"
   ]
  },
  {
   "cell_type": "code",
   "execution_count": 8,
   "id": "64ad2566-1f16-418a-83be-8b98ce7589ae",
   "metadata": {
    "ExecuteTime": {
     "end_time": "2022-09-26T09:39:49.096683Z",
     "start_time": "2022-09-26T09:39:48.118313Z"
    }
   },
   "outputs": [
    {
     "data": {
      "text/html": [
       "<div>\n",
       "<style scoped>\n",
       "    .dataframe tbody tr th:only-of-type {\n",
       "        vertical-align: middle;\n",
       "    }\n",
       "\n",
       "    .dataframe tbody tr th {\n",
       "        vertical-align: top;\n",
       "    }\n",
       "\n",
       "    .dataframe thead th {\n",
       "        text-align: right;\n",
       "    }\n",
       "</style>\n",
       "<table border=\"1\" class=\"dataframe\">\n",
       "  <thead>\n",
       "    <tr style=\"text-align: right;\">\n",
       "      <th></th>\n",
       "      <th>provider</th>\n",
       "      <th>WARNING_UPGRADE_TO_V6</th>\n",
       "      <th>terms</th>\n",
       "      <th>base</th>\n",
       "      <th>date</th>\n",
       "      <th>time_last_updated</th>\n",
       "      <th>rates</th>\n",
       "    </tr>\n",
       "  </thead>\n",
       "  <tbody>\n",
       "    <tr>\n",
       "      <th>AED</th>\n",
       "      <td>https://www.exchangerate-api.com</td>\n",
       "      <td>https://www.exchangerate-api.com/docs/free</td>\n",
       "      <td>https://www.exchangerate-api.com/terms</td>\n",
       "      <td>USD</td>\n",
       "      <td>2022-09-27</td>\n",
       "      <td>1664236802</td>\n",
       "      <td>3.67</td>\n",
       "    </tr>\n",
       "    <tr>\n",
       "      <th>AFN</th>\n",
       "      <td>https://www.exchangerate-api.com</td>\n",
       "      <td>https://www.exchangerate-api.com/docs/free</td>\n",
       "      <td>https://www.exchangerate-api.com/terms</td>\n",
       "      <td>USD</td>\n",
       "      <td>2022-09-27</td>\n",
       "      <td>1664236802</td>\n",
       "      <td>88.97</td>\n",
       "    </tr>\n",
       "    <tr>\n",
       "      <th>ALL</th>\n",
       "      <td>https://www.exchangerate-api.com</td>\n",
       "      <td>https://www.exchangerate-api.com/docs/free</td>\n",
       "      <td>https://www.exchangerate-api.com/terms</td>\n",
       "      <td>USD</td>\n",
       "      <td>2022-09-27</td>\n",
       "      <td>1664236802</td>\n",
       "      <td>118.14</td>\n",
       "    </tr>\n",
       "    <tr>\n",
       "      <th>AMD</th>\n",
       "      <td>https://www.exchangerate-api.com</td>\n",
       "      <td>https://www.exchangerate-api.com/docs/free</td>\n",
       "      <td>https://www.exchangerate-api.com/terms</td>\n",
       "      <td>USD</td>\n",
       "      <td>2022-09-27</td>\n",
       "      <td>1664236802</td>\n",
       "      <td>412.08</td>\n",
       "    </tr>\n",
       "    <tr>\n",
       "      <th>ANG</th>\n",
       "      <td>https://www.exchangerate-api.com</td>\n",
       "      <td>https://www.exchangerate-api.com/docs/free</td>\n",
       "      <td>https://www.exchangerate-api.com/terms</td>\n",
       "      <td>USD</td>\n",
       "      <td>2022-09-27</td>\n",
       "      <td>1664236802</td>\n",
       "      <td>1.79</td>\n",
       "    </tr>\n",
       "    <tr>\n",
       "      <th>...</th>\n",
       "      <td>...</td>\n",
       "      <td>...</td>\n",
       "      <td>...</td>\n",
       "      <td>...</td>\n",
       "      <td>...</td>\n",
       "      <td>...</td>\n",
       "      <td>...</td>\n",
       "    </tr>\n",
       "    <tr>\n",
       "      <th>XPF</th>\n",
       "      <td>https://www.exchangerate-api.com</td>\n",
       "      <td>https://www.exchangerate-api.com/docs/free</td>\n",
       "      <td>https://www.exchangerate-api.com/terms</td>\n",
       "      <td>USD</td>\n",
       "      <td>2022-09-27</td>\n",
       "      <td>1664236802</td>\n",
       "      <td>124.02</td>\n",
       "    </tr>\n",
       "    <tr>\n",
       "      <th>YER</th>\n",
       "      <td>https://www.exchangerate-api.com</td>\n",
       "      <td>https://www.exchangerate-api.com/docs/free</td>\n",
       "      <td>https://www.exchangerate-api.com/terms</td>\n",
       "      <td>USD</td>\n",
       "      <td>2022-09-27</td>\n",
       "      <td>1664236802</td>\n",
       "      <td>250.08</td>\n",
       "    </tr>\n",
       "    <tr>\n",
       "      <th>ZAR</th>\n",
       "      <td>https://www.exchangerate-api.com</td>\n",
       "      <td>https://www.exchangerate-api.com/docs/free</td>\n",
       "      <td>https://www.exchangerate-api.com/terms</td>\n",
       "      <td>USD</td>\n",
       "      <td>2022-09-27</td>\n",
       "      <td>1664236802</td>\n",
       "      <td>18.05</td>\n",
       "    </tr>\n",
       "    <tr>\n",
       "      <th>ZMW</th>\n",
       "      <td>https://www.exchangerate-api.com</td>\n",
       "      <td>https://www.exchangerate-api.com/docs/free</td>\n",
       "      <td>https://www.exchangerate-api.com/terms</td>\n",
       "      <td>USD</td>\n",
       "      <td>2022-09-27</td>\n",
       "      <td>1664236802</td>\n",
       "      <td>15.81</td>\n",
       "    </tr>\n",
       "    <tr>\n",
       "      <th>ZWL</th>\n",
       "      <td>https://www.exchangerate-api.com</td>\n",
       "      <td>https://www.exchangerate-api.com/docs/free</td>\n",
       "      <td>https://www.exchangerate-api.com/terms</td>\n",
       "      <td>USD</td>\n",
       "      <td>2022-09-27</td>\n",
       "      <td>1664236802</td>\n",
       "      <td>614.46</td>\n",
       "    </tr>\n",
       "  </tbody>\n",
       "</table>\n",
       "<p>162 rows × 7 columns</p>\n",
       "</div>"
      ],
      "text/plain": [
       "                             provider  \\\n",
       "AED  https://www.exchangerate-api.com   \n",
       "AFN  https://www.exchangerate-api.com   \n",
       "ALL  https://www.exchangerate-api.com   \n",
       "AMD  https://www.exchangerate-api.com   \n",
       "ANG  https://www.exchangerate-api.com   \n",
       "..                                ...   \n",
       "XPF  https://www.exchangerate-api.com   \n",
       "YER  https://www.exchangerate-api.com   \n",
       "ZAR  https://www.exchangerate-api.com   \n",
       "ZMW  https://www.exchangerate-api.com   \n",
       "ZWL  https://www.exchangerate-api.com   \n",
       "\n",
       "                          WARNING_UPGRADE_TO_V6  \\\n",
       "AED  https://www.exchangerate-api.com/docs/free   \n",
       "AFN  https://www.exchangerate-api.com/docs/free   \n",
       "ALL  https://www.exchangerate-api.com/docs/free   \n",
       "AMD  https://www.exchangerate-api.com/docs/free   \n",
       "ANG  https://www.exchangerate-api.com/docs/free   \n",
       "..                                          ...   \n",
       "XPF  https://www.exchangerate-api.com/docs/free   \n",
       "YER  https://www.exchangerate-api.com/docs/free   \n",
       "ZAR  https://www.exchangerate-api.com/docs/free   \n",
       "ZMW  https://www.exchangerate-api.com/docs/free   \n",
       "ZWL  https://www.exchangerate-api.com/docs/free   \n",
       "\n",
       "                                      terms base       date  \\\n",
       "AED  https://www.exchangerate-api.com/terms  USD 2022-09-27   \n",
       "AFN  https://www.exchangerate-api.com/terms  USD 2022-09-27   \n",
       "ALL  https://www.exchangerate-api.com/terms  USD 2022-09-27   \n",
       "AMD  https://www.exchangerate-api.com/terms  USD 2022-09-27   \n",
       "ANG  https://www.exchangerate-api.com/terms  USD 2022-09-27   \n",
       "..                                      ...  ...        ...   \n",
       "XPF  https://www.exchangerate-api.com/terms  USD 2022-09-27   \n",
       "YER  https://www.exchangerate-api.com/terms  USD 2022-09-27   \n",
       "ZAR  https://www.exchangerate-api.com/terms  USD 2022-09-27   \n",
       "ZMW  https://www.exchangerate-api.com/terms  USD 2022-09-27   \n",
       "ZWL  https://www.exchangerate-api.com/terms  USD 2022-09-27   \n",
       "\n",
       "     time_last_updated   rates  \n",
       "AED         1664236802    3.67  \n",
       "AFN         1664236802   88.97  \n",
       "ALL         1664236802  118.14  \n",
       "AMD         1664236802  412.08  \n",
       "ANG         1664236802    1.79  \n",
       "..                 ...     ...  \n",
       "XPF         1664236802  124.02  \n",
       "YER         1664236802  250.08  \n",
       "ZAR         1664236802   18.05  \n",
       "ZMW         1664236802   15.81  \n",
       "ZWL         1664236802  614.46  \n",
       "\n",
       "[162 rows x 7 columns]"
      ]
     },
     "execution_count": 8,
     "metadata": {},
     "output_type": "execute_result"
    }
   ],
   "source": [
    "url = \"https://api.exchangerate-api.com/v4/latest/USD\"\n",
    "df = pd.read_json(url)\n",
    "df"
   ]
  },
  {
   "cell_type": "markdown",
   "id": "8f7153e4-1f06-4805-83e3-c8071fc7bb3a",
   "metadata": {},
   "source": [
    "----"
   ]
  },
  {
   "cell_type": "markdown",
   "id": "3c48e008-9b51-401d-bf2f-e3b1da553d91",
   "metadata": {
    "id": "3c48e008-9b51-401d-bf2f-e3b1da553d91"
   },
   "source": [
    "### Summarizing Data"
   ]
  },
  {
   "cell_type": "markdown",
   "id": "c933619b-75ee-4855-92a5-767a5084a511",
   "metadata": {
    "id": "c933619b-75ee-4855-92a5-767a5084a511"
   },
   "source": [
    "> list argumen lebih lanjut dapat dilihat di https://pandas.pydata.org/pandas-docs/stable/reference/api/pandas.read_excel.html#pandas.read_excel"
   ]
  },
  {
   "cell_type": "markdown",
   "id": "3c8e58b1-90b8-4e34-aa92-a8e360e7e8b6",
   "metadata": {
    "id": "3c8e58b1-90b8-4e34-aa92-a8e360e7e8b6"
   },
   "source": [
    "Untuk melihat secara sekilas DataFrame yang kita buat, dapat menggunakan function berikut:\n",
    "\n",
    "| Function | Penjelas |\n",
    "| :-: | :-- |\n",
    "| head() dan tail()| Mengakses baris awal dan akhir DataFrame |\n",
    "| sample()| Memilih data secara acak |\n",
    "| nlargest(n, value)| Memilih beberapa data teratas yang sudah diurutkan | \n",
    "| nsmallest(n, value)| Memilih beberapa data terbawah yang sudah diurutkan |\n",
    "\n",
    "Selain melihat secara sekilas, kita juga bisa mengetahui informasi terkait DataFrame dengan function berikut:\n",
    "\n",
    "| Function | Penjelas |\n",
    "| :-: | :-- |\n",
    "| dataframe.columns| Daftar kolom pada DataFrame |\n",
    "| dataframe.info()| Informasi DataFrame, kolom tipe data dsb |\n",
    "| dataframe.shape| Dimensi DataFrame | \n",
    "| dataframe.size()| Jumlah data pada DataFrame |\n",
    "| dataframe.describe()| menampilkan statistik deskriptif |"
   ]
  },
  {
   "cell_type": "code",
   "execution_count": 17,
   "id": "32082efa-0a19-4f50-8cb8-16f786cc6269",
   "metadata": {
    "ExecuteTime": {
     "end_time": "2022-09-26T09:39:50.839814Z",
     "start_time": "2022-09-26T09:39:49.098767Z"
    },
    "id": "32082efa-0a19-4f50-8cb8-16f786cc6269"
   },
   "outputs": [],
   "source": [
    "#contoh kali ini kita akan membaca file titanic.csv\n",
    "# df_titanic = pd.read_csv('titanic.csv')\n",
    "\n",
    "df_titanic = pd.read_csv(link_titanic)"
   ]
  },
  {
   "cell_type": "code",
   "execution_count": 10,
   "id": "8ae2166a-a3d4-473f-b0b3-57216136a222",
   "metadata": {
    "ExecuteTime": {
     "end_time": "2022-09-26T09:39:50.870109Z",
     "start_time": "2022-09-26T09:39:50.842141Z"
    },
    "colab": {
     "base_uri": "https://localhost:8080/",
     "height": 240
    },
    "executionInfo": {
     "elapsed": 528,
     "status": "ok",
     "timestamp": 1648708904341,
     "user": {
      "displayName": "Pratama Suprayogi",
      "userId": "14884808246882934220"
     },
     "user_tz": -420
    },
    "id": "8ae2166a-a3d4-473f-b0b3-57216136a222",
    "outputId": "8aaf79db-98a3-47ca-9524-b1f1ade9feb3"
   },
   "outputs": [
    {
     "data": {
      "text/html": [
       "<div>\n",
       "<style scoped>\n",
       "    .dataframe tbody tr th:only-of-type {\n",
       "        vertical-align: middle;\n",
       "    }\n",
       "\n",
       "    .dataframe tbody tr th {\n",
       "        vertical-align: top;\n",
       "    }\n",
       "\n",
       "    .dataframe thead th {\n",
       "        text-align: right;\n",
       "    }\n",
       "</style>\n",
       "<table border=\"1\" class=\"dataframe\">\n",
       "  <thead>\n",
       "    <tr style=\"text-align: right;\">\n",
       "      <th></th>\n",
       "      <th>PassengerId</th>\n",
       "      <th>Survived</th>\n",
       "      <th>Pclass</th>\n",
       "      <th>Name</th>\n",
       "      <th>Sex</th>\n",
       "      <th>Age</th>\n",
       "      <th>SibSp</th>\n",
       "      <th>Parch</th>\n",
       "      <th>Ticket</th>\n",
       "      <th>Fare</th>\n",
       "      <th>Cabin</th>\n",
       "      <th>Embarked</th>\n",
       "    </tr>\n",
       "  </thead>\n",
       "  <tbody>\n",
       "    <tr>\n",
       "      <th>0</th>\n",
       "      <td>1</td>\n",
       "      <td>0</td>\n",
       "      <td>3</td>\n",
       "      <td>Braund, Mr. Owen Harris</td>\n",
       "      <td>male</td>\n",
       "      <td>22.0</td>\n",
       "      <td>1</td>\n",
       "      <td>0</td>\n",
       "      <td>A/5 21171</td>\n",
       "      <td>7.2500</td>\n",
       "      <td>NaN</td>\n",
       "      <td>S</td>\n",
       "    </tr>\n",
       "    <tr>\n",
       "      <th>1</th>\n",
       "      <td>2</td>\n",
       "      <td>1</td>\n",
       "      <td>1</td>\n",
       "      <td>Cumings, Mrs. John Bradley (Florence Briggs Th...</td>\n",
       "      <td>female</td>\n",
       "      <td>38.0</td>\n",
       "      <td>1</td>\n",
       "      <td>0</td>\n",
       "      <td>PC 17599</td>\n",
       "      <td>71.2833</td>\n",
       "      <td>C85</td>\n",
       "      <td>C</td>\n",
       "    </tr>\n",
       "    <tr>\n",
       "      <th>2</th>\n",
       "      <td>3</td>\n",
       "      <td>1</td>\n",
       "      <td>3</td>\n",
       "      <td>Heikkinen, Miss. Laina</td>\n",
       "      <td>female</td>\n",
       "      <td>26.0</td>\n",
       "      <td>0</td>\n",
       "      <td>0</td>\n",
       "      <td>STON/O2. 3101282</td>\n",
       "      <td>7.9250</td>\n",
       "      <td>NaN</td>\n",
       "      <td>S</td>\n",
       "    </tr>\n",
       "  </tbody>\n",
       "</table>\n",
       "</div>"
      ],
      "text/plain": [
       "   PassengerId  Survived  Pclass  \\\n",
       "0            1         0       3   \n",
       "1            2         1       1   \n",
       "2            3         1       3   \n",
       "\n",
       "                                                Name     Sex   Age  SibSp  \\\n",
       "0                            Braund, Mr. Owen Harris    male  22.0      1   \n",
       "1  Cumings, Mrs. John Bradley (Florence Briggs Th...  female  38.0      1   \n",
       "2                             Heikkinen, Miss. Laina  female  26.0      0   \n",
       "\n",
       "   Parch            Ticket     Fare Cabin Embarked  \n",
       "0      0         A/5 21171   7.2500   NaN        S  \n",
       "1      0          PC 17599  71.2833   C85        C  \n",
       "2      0  STON/O2. 3101282   7.9250   NaN        S  "
      ]
     },
     "execution_count": 10,
     "metadata": {},
     "output_type": "execute_result"
    }
   ],
   "source": [
    "#kita akan melihat isi 3 file pertama\n",
    "df_titanic.head(3)"
   ]
  },
  {
   "cell_type": "code",
   "execution_count": 11,
   "id": "91ae5883-9fbb-4360-b126-e89ae1db0807",
   "metadata": {
    "ExecuteTime": {
     "end_time": "2022-09-26T09:39:50.885473Z",
     "start_time": "2022-09-26T09:39:50.872082Z"
    },
    "colab": {
     "base_uri": "https://localhost:8080/",
     "height": 205
    },
    "executionInfo": {
     "elapsed": 4,
     "status": "ok",
     "timestamp": 1648708908199,
     "user": {
      "displayName": "Pratama Suprayogi",
      "userId": "14884808246882934220"
     },
     "user_tz": -420
    },
    "id": "91ae5883-9fbb-4360-b126-e89ae1db0807",
    "outputId": "abb39df6-59d9-4cb8-a2d7-c60d160c4278"
   },
   "outputs": [
    {
     "data": {
      "text/html": [
       "<div>\n",
       "<style scoped>\n",
       "    .dataframe tbody tr th:only-of-type {\n",
       "        vertical-align: middle;\n",
       "    }\n",
       "\n",
       "    .dataframe tbody tr th {\n",
       "        vertical-align: top;\n",
       "    }\n",
       "\n",
       "    .dataframe thead th {\n",
       "        text-align: right;\n",
       "    }\n",
       "</style>\n",
       "<table border=\"1\" class=\"dataframe\">\n",
       "  <thead>\n",
       "    <tr style=\"text-align: right;\">\n",
       "      <th></th>\n",
       "      <th>PassengerId</th>\n",
       "      <th>Survived</th>\n",
       "      <th>Pclass</th>\n",
       "      <th>Name</th>\n",
       "      <th>Sex</th>\n",
       "      <th>Age</th>\n",
       "      <th>SibSp</th>\n",
       "      <th>Parch</th>\n",
       "      <th>Ticket</th>\n",
       "      <th>Fare</th>\n",
       "      <th>Cabin</th>\n",
       "      <th>Embarked</th>\n",
       "    </tr>\n",
       "  </thead>\n",
       "  <tbody>\n",
       "    <tr>\n",
       "      <th>888</th>\n",
       "      <td>889</td>\n",
       "      <td>0</td>\n",
       "      <td>3</td>\n",
       "      <td>Johnston, Miss. Catherine Helen \"Carrie\"</td>\n",
       "      <td>female</td>\n",
       "      <td>NaN</td>\n",
       "      <td>1</td>\n",
       "      <td>2</td>\n",
       "      <td>W./C. 6607</td>\n",
       "      <td>23.45</td>\n",
       "      <td>NaN</td>\n",
       "      <td>S</td>\n",
       "    </tr>\n",
       "    <tr>\n",
       "      <th>889</th>\n",
       "      <td>890</td>\n",
       "      <td>1</td>\n",
       "      <td>1</td>\n",
       "      <td>Behr, Mr. Karl Howell</td>\n",
       "      <td>male</td>\n",
       "      <td>26.0</td>\n",
       "      <td>0</td>\n",
       "      <td>0</td>\n",
       "      <td>111369</td>\n",
       "      <td>30.00</td>\n",
       "      <td>C148</td>\n",
       "      <td>C</td>\n",
       "    </tr>\n",
       "    <tr>\n",
       "      <th>890</th>\n",
       "      <td>891</td>\n",
       "      <td>0</td>\n",
       "      <td>3</td>\n",
       "      <td>Dooley, Mr. Patrick</td>\n",
       "      <td>male</td>\n",
       "      <td>32.0</td>\n",
       "      <td>0</td>\n",
       "      <td>0</td>\n",
       "      <td>370376</td>\n",
       "      <td>7.75</td>\n",
       "      <td>NaN</td>\n",
       "      <td>Q</td>\n",
       "    </tr>\n",
       "  </tbody>\n",
       "</table>\n",
       "</div>"
      ],
      "text/plain": [
       "     PassengerId  Survived  Pclass                                      Name  \\\n",
       "888          889         0       3  Johnston, Miss. Catherine Helen \"Carrie\"   \n",
       "889          890         1       1                     Behr, Mr. Karl Howell   \n",
       "890          891         0       3                       Dooley, Mr. Patrick   \n",
       "\n",
       "        Sex   Age  SibSp  Parch      Ticket   Fare Cabin Embarked  \n",
       "888  female   NaN      1      2  W./C. 6607  23.45   NaN        S  \n",
       "889    male  26.0      0      0      111369  30.00  C148        C  \n",
       "890    male  32.0      0      0      370376   7.75   NaN        Q  "
      ]
     },
     "execution_count": 11,
     "metadata": {},
     "output_type": "execute_result"
    }
   ],
   "source": [
    "#kita akan melihat isi 3 file terakhir\n",
    "df_titanic.tail(3)"
   ]
  },
  {
   "cell_type": "code",
   "execution_count": 12,
   "id": "1e0b7a7a-0e8b-448d-ba29-f9be4cb8de48",
   "metadata": {
    "ExecuteTime": {
     "end_time": "2022-09-26T09:39:50.900863Z",
     "start_time": "2022-09-26T09:39:50.888780Z"
    },
    "colab": {
     "base_uri": "https://localhost:8080/",
     "height": 426
    },
    "executionInfo": {
     "elapsed": 424,
     "status": "ok",
     "timestamp": 1648708912710,
     "user": {
      "displayName": "Pratama Suprayogi",
      "userId": "14884808246882934220"
     },
     "user_tz": -420
    },
    "id": "1e0b7a7a-0e8b-448d-ba29-f9be4cb8de48",
    "outputId": "67f0694a-f140-4e95-8005-e70fa1d5ad48"
   },
   "outputs": [
    {
     "data": {
      "text/html": [
       "<div>\n",
       "<style scoped>\n",
       "    .dataframe tbody tr th:only-of-type {\n",
       "        vertical-align: middle;\n",
       "    }\n",
       "\n",
       "    .dataframe tbody tr th {\n",
       "        vertical-align: top;\n",
       "    }\n",
       "\n",
       "    .dataframe thead th {\n",
       "        text-align: right;\n",
       "    }\n",
       "</style>\n",
       "<table border=\"1\" class=\"dataframe\">\n",
       "  <thead>\n",
       "    <tr style=\"text-align: right;\">\n",
       "      <th></th>\n",
       "      <th>0</th>\n",
       "      <th>1</th>\n",
       "      <th>2</th>\n",
       "    </tr>\n",
       "  </thead>\n",
       "  <tbody>\n",
       "    <tr>\n",
       "      <th>PassengerId</th>\n",
       "      <td>1</td>\n",
       "      <td>2</td>\n",
       "      <td>3</td>\n",
       "    </tr>\n",
       "    <tr>\n",
       "      <th>Survived</th>\n",
       "      <td>0</td>\n",
       "      <td>1</td>\n",
       "      <td>1</td>\n",
       "    </tr>\n",
       "    <tr>\n",
       "      <th>Pclass</th>\n",
       "      <td>3</td>\n",
       "      <td>1</td>\n",
       "      <td>3</td>\n",
       "    </tr>\n",
       "    <tr>\n",
       "      <th>Name</th>\n",
       "      <td>Braund, Mr. Owen Harris</td>\n",
       "      <td>Cumings, Mrs. John Bradley (Florence Briggs Th...</td>\n",
       "      <td>Heikkinen, Miss. Laina</td>\n",
       "    </tr>\n",
       "    <tr>\n",
       "      <th>Sex</th>\n",
       "      <td>male</td>\n",
       "      <td>female</td>\n",
       "      <td>female</td>\n",
       "    </tr>\n",
       "    <tr>\n",
       "      <th>Age</th>\n",
       "      <td>22.0</td>\n",
       "      <td>38.0</td>\n",
       "      <td>26.0</td>\n",
       "    </tr>\n",
       "    <tr>\n",
       "      <th>SibSp</th>\n",
       "      <td>1</td>\n",
       "      <td>1</td>\n",
       "      <td>0</td>\n",
       "    </tr>\n",
       "    <tr>\n",
       "      <th>Parch</th>\n",
       "      <td>0</td>\n",
       "      <td>0</td>\n",
       "      <td>0</td>\n",
       "    </tr>\n",
       "    <tr>\n",
       "      <th>Ticket</th>\n",
       "      <td>A/5 21171</td>\n",
       "      <td>PC 17599</td>\n",
       "      <td>STON/O2. 3101282</td>\n",
       "    </tr>\n",
       "    <tr>\n",
       "      <th>Fare</th>\n",
       "      <td>7.25</td>\n",
       "      <td>71.2833</td>\n",
       "      <td>7.925</td>\n",
       "    </tr>\n",
       "    <tr>\n",
       "      <th>Cabin</th>\n",
       "      <td>NaN</td>\n",
       "      <td>C85</td>\n",
       "      <td>NaN</td>\n",
       "    </tr>\n",
       "    <tr>\n",
       "      <th>Embarked</th>\n",
       "      <td>S</td>\n",
       "      <td>C</td>\n",
       "      <td>S</td>\n",
       "    </tr>\n",
       "  </tbody>\n",
       "</table>\n",
       "</div>"
      ],
      "text/plain": [
       "                                   0  \\\n",
       "PassengerId                        1   \n",
       "Survived                           0   \n",
       "Pclass                             3   \n",
       "Name         Braund, Mr. Owen Harris   \n",
       "Sex                             male   \n",
       "Age                             22.0   \n",
       "SibSp                              1   \n",
       "Parch                              0   \n",
       "Ticket                     A/5 21171   \n",
       "Fare                            7.25   \n",
       "Cabin                            NaN   \n",
       "Embarked                           S   \n",
       "\n",
       "                                                             1  \\\n",
       "PassengerId                                                  2   \n",
       "Survived                                                     1   \n",
       "Pclass                                                       1   \n",
       "Name         Cumings, Mrs. John Bradley (Florence Briggs Th...   \n",
       "Sex                                                     female   \n",
       "Age                                                       38.0   \n",
       "SibSp                                                        1   \n",
       "Parch                                                        0   \n",
       "Ticket                                                PC 17599   \n",
       "Fare                                                   71.2833   \n",
       "Cabin                                                      C85   \n",
       "Embarked                                                     C   \n",
       "\n",
       "                                  2  \n",
       "PassengerId                       3  \n",
       "Survived                          1  \n",
       "Pclass                            3  \n",
       "Name         Heikkinen, Miss. Laina  \n",
       "Sex                          female  \n",
       "Age                            26.0  \n",
       "SibSp                             0  \n",
       "Parch                             0  \n",
       "Ticket             STON/O2. 3101282  \n",
       "Fare                          7.925  \n",
       "Cabin                           NaN  \n",
       "Embarked                          S  "
      ]
     },
     "execution_count": 12,
     "metadata": {},
     "output_type": "execute_result"
    }
   ],
   "source": [
    "#kita juga bisa menampilkan dataframe dalam format horizontal dengan menggunakan method transpose atau T\n",
    "df_titanic.head(3).T"
   ]
  },
  {
   "cell_type": "code",
   "execution_count": 38,
   "id": "aeef62e5-d5a8-407c-9474-fa3ac4060e72",
   "metadata": {
    "ExecuteTime": {
     "end_time": "2022-09-26T09:39:50.916984Z",
     "start_time": "2022-09-26T09:39:50.902843Z"
    },
    "colab": {
     "base_uri": "https://localhost:8080/",
     "height": 205
    },
    "executionInfo": {
     "elapsed": 432,
     "status": "ok",
     "timestamp": 1648708930659,
     "user": {
      "displayName": "Pratama Suprayogi",
      "userId": "14884808246882934220"
     },
     "user_tz": -420
    },
    "id": "aeef62e5-d5a8-407c-9474-fa3ac4060e72",
    "outputId": "6d01c327-4bd2-453a-938a-c5fafabeeca8"
   },
   "outputs": [
    {
     "data": {
      "text/html": [
       "<div>\n",
       "<style scoped>\n",
       "    .dataframe tbody tr th:only-of-type {\n",
       "        vertical-align: middle;\n",
       "    }\n",
       "\n",
       "    .dataframe tbody tr th {\n",
       "        vertical-align: top;\n",
       "    }\n",
       "\n",
       "    .dataframe thead th {\n",
       "        text-align: right;\n",
       "    }\n",
       "</style>\n",
       "<table border=\"1\" class=\"dataframe\">\n",
       "  <thead>\n",
       "    <tr style=\"text-align: right;\">\n",
       "      <th></th>\n",
       "      <th>PassengerId</th>\n",
       "      <th>Survived</th>\n",
       "      <th>Pclass</th>\n",
       "      <th>Name</th>\n",
       "      <th>Sex</th>\n",
       "      <th>Age</th>\n",
       "      <th>SibSp</th>\n",
       "      <th>Parch</th>\n",
       "      <th>Ticket</th>\n",
       "      <th>Fare</th>\n",
       "      <th>Cabin</th>\n",
       "      <th>Embarked</th>\n",
       "    </tr>\n",
       "  </thead>\n",
       "  <tbody>\n",
       "    <tr>\n",
       "      <th>21</th>\n",
       "      <td>22</td>\n",
       "      <td>1</td>\n",
       "      <td>2</td>\n",
       "      <td>Beesley, Mr. Lawrence</td>\n",
       "      <td>male</td>\n",
       "      <td>34.0</td>\n",
       "      <td>0</td>\n",
       "      <td>0</td>\n",
       "      <td>248698</td>\n",
       "      <td>13.0000</td>\n",
       "      <td>D56</td>\n",
       "      <td>S</td>\n",
       "    </tr>\n",
       "    <tr>\n",
       "      <th>738</th>\n",
       "      <td>739</td>\n",
       "      <td>0</td>\n",
       "      <td>3</td>\n",
       "      <td>Ivanoff, Mr. Kanio</td>\n",
       "      <td>male</td>\n",
       "      <td>NaN</td>\n",
       "      <td>0</td>\n",
       "      <td>0</td>\n",
       "      <td>349201</td>\n",
       "      <td>7.8958</td>\n",
       "      <td>NaN</td>\n",
       "      <td>S</td>\n",
       "    </tr>\n",
       "    <tr>\n",
       "      <th>311</th>\n",
       "      <td>312</td>\n",
       "      <td>1</td>\n",
       "      <td>1</td>\n",
       "      <td>Ryerson, Miss. Emily Borie</td>\n",
       "      <td>female</td>\n",
       "      <td>18.0</td>\n",
       "      <td>2</td>\n",
       "      <td>2</td>\n",
       "      <td>PC 17608</td>\n",
       "      <td>262.3750</td>\n",
       "      <td>B57 B59 B63 B66</td>\n",
       "      <td>C</td>\n",
       "    </tr>\n",
       "  </tbody>\n",
       "</table>\n",
       "</div>"
      ],
      "text/plain": [
       "     PassengerId  Survived  Pclass                        Name     Sex   Age  \\\n",
       "21            22         1       2       Beesley, Mr. Lawrence    male  34.0   \n",
       "738          739         0       3          Ivanoff, Mr. Kanio    male   NaN   \n",
       "311          312         1       1  Ryerson, Miss. Emily Borie  female  18.0   \n",
       "\n",
       "     SibSp  Parch    Ticket      Fare            Cabin Embarked  \n",
       "21       0      0    248698   13.0000              D56        S  \n",
       "738      0      0    349201    7.8958              NaN        S  \n",
       "311      2      2  PC 17608  262.3750  B57 B59 B63 B66        C  "
      ]
     },
     "execution_count": 38,
     "metadata": {},
     "output_type": "execute_result"
    }
   ],
   "source": [
    "# kita akan mencoba baris secara acak dari dataset\n",
    "df_titanic.sample(3)"
   ]
  },
  {
   "cell_type": "code",
   "execution_count": 39,
   "id": "db392ecc-eb09-4891-8bbb-1086490acdb8",
   "metadata": {
    "ExecuteTime": {
     "end_time": "2022-09-26T09:39:50.947636Z",
     "start_time": "2022-09-26T09:39:50.919827Z"
    },
    "colab": {
     "base_uri": "https://localhost:8080/",
     "height": 222
    },
    "executionInfo": {
     "elapsed": 535,
     "status": "ok",
     "timestamp": 1648708936269,
     "user": {
      "displayName": "Pratama Suprayogi",
      "userId": "14884808246882934220"
     },
     "user_tz": -420
    },
    "id": "db392ecc-eb09-4891-8bbb-1086490acdb8",
    "outputId": "8273d898-6c25-4925-d0e8-d80b3a540dfb"
   },
   "outputs": [
    {
     "data": {
      "text/html": [
       "<div>\n",
       "<style scoped>\n",
       "    .dataframe tbody tr th:only-of-type {\n",
       "        vertical-align: middle;\n",
       "    }\n",
       "\n",
       "    .dataframe tbody tr th {\n",
       "        vertical-align: top;\n",
       "    }\n",
       "\n",
       "    .dataframe thead th {\n",
       "        text-align: right;\n",
       "    }\n",
       "</style>\n",
       "<table border=\"1\" class=\"dataframe\">\n",
       "  <thead>\n",
       "    <tr style=\"text-align: right;\">\n",
       "      <th></th>\n",
       "      <th>PassengerId</th>\n",
       "      <th>Survived</th>\n",
       "      <th>Pclass</th>\n",
       "      <th>Name</th>\n",
       "      <th>Sex</th>\n",
       "      <th>Age</th>\n",
       "      <th>SibSp</th>\n",
       "      <th>Parch</th>\n",
       "      <th>Ticket</th>\n",
       "      <th>Fare</th>\n",
       "      <th>Cabin</th>\n",
       "      <th>Embarked</th>\n",
       "    </tr>\n",
       "  </thead>\n",
       "  <tbody>\n",
       "    <tr>\n",
       "      <th>630</th>\n",
       "      <td>631</td>\n",
       "      <td>1</td>\n",
       "      <td>1</td>\n",
       "      <td>Barkworth, Mr. Algernon Henry Wilson</td>\n",
       "      <td>male</td>\n",
       "      <td>80.0</td>\n",
       "      <td>0</td>\n",
       "      <td>0</td>\n",
       "      <td>27042</td>\n",
       "      <td>30.0000</td>\n",
       "      <td>A23</td>\n",
       "      <td>S</td>\n",
       "    </tr>\n",
       "    <tr>\n",
       "      <th>851</th>\n",
       "      <td>852</td>\n",
       "      <td>0</td>\n",
       "      <td>3</td>\n",
       "      <td>Svensson, Mr. Johan</td>\n",
       "      <td>male</td>\n",
       "      <td>74.0</td>\n",
       "      <td>0</td>\n",
       "      <td>0</td>\n",
       "      <td>347060</td>\n",
       "      <td>7.7750</td>\n",
       "      <td>NaN</td>\n",
       "      <td>S</td>\n",
       "    </tr>\n",
       "    <tr>\n",
       "      <th>96</th>\n",
       "      <td>97</td>\n",
       "      <td>0</td>\n",
       "      <td>1</td>\n",
       "      <td>Goldschmidt, Mr. George B</td>\n",
       "      <td>male</td>\n",
       "      <td>71.0</td>\n",
       "      <td>0</td>\n",
       "      <td>0</td>\n",
       "      <td>PC 17754</td>\n",
       "      <td>34.6542</td>\n",
       "      <td>A5</td>\n",
       "      <td>C</td>\n",
       "    </tr>\n",
       "  </tbody>\n",
       "</table>\n",
       "</div>"
      ],
      "text/plain": [
       "     PassengerId  Survived  Pclass                                  Name  \\\n",
       "630          631         1       1  Barkworth, Mr. Algernon Henry Wilson   \n",
       "851          852         0       3                   Svensson, Mr. Johan   \n",
       "96            97         0       1             Goldschmidt, Mr. George B   \n",
       "\n",
       "      Sex   Age  SibSp  Parch    Ticket     Fare Cabin Embarked  \n",
       "630  male  80.0      0      0     27042  30.0000   A23        S  \n",
       "851  male  74.0      0      0    347060   7.7750   NaN        S  \n",
       "96   male  71.0      0      0  PC 17754  34.6542    A5        C  "
      ]
     },
     "execution_count": 39,
     "metadata": {},
     "output_type": "execute_result"
    }
   ],
   "source": [
    "#kita ingin menampilkan 3 umur tertua\n",
    "df_titanic.nlargest(3,\"Age\")"
   ]
  },
  {
   "cell_type": "code",
   "execution_count": 13,
   "id": "1f20f168-5530-4727-911b-75de84c3dcec",
   "metadata": {
    "ExecuteTime": {
     "end_time": "2022-09-26T09:39:50.962966Z",
     "start_time": "2022-09-26T09:39:50.950918Z"
    },
    "colab": {
     "base_uri": "https://localhost:8080/"
    },
    "executionInfo": {
     "elapsed": 423,
     "status": "ok",
     "timestamp": 1648708944988,
     "user": {
      "displayName": "Pratama Suprayogi",
      "userId": "14884808246882934220"
     },
     "user_tz": -420
    },
    "id": "1f20f168-5530-4727-911b-75de84c3dcec",
    "outputId": "72c79418-93c9-491d-e50f-cb44cbcdc844"
   },
   "outputs": [
    {
     "data": {
      "text/plain": [
       "Index(['PassengerId', 'Survived', 'Pclass', 'Name', 'Sex', 'Age', 'SibSp',\n",
       "       'Parch', 'Ticket', 'Fare', 'Cabin', 'Embarked'],\n",
       "      dtype='object')"
      ]
     },
     "execution_count": 13,
     "metadata": {},
     "output_type": "execute_result"
    }
   ],
   "source": [
    "#kita ingin mengetahui kolom apa saja yang ada pada data titanic\n",
    "df_titanic.columns"
   ]
  },
  {
   "cell_type": "code",
   "execution_count": 41,
   "id": "66bd476a-e5eb-4819-95f7-d7410fc2dea0",
   "metadata": {
    "ExecuteTime": {
     "end_time": "2022-09-26T09:39:53.377515Z",
     "start_time": "2022-09-26T09:39:53.366713Z"
    },
    "colab": {
     "base_uri": "https://localhost:8080/"
    },
    "executionInfo": {
     "elapsed": 3,
     "status": "ok",
     "timestamp": 1648708950579,
     "user": {
      "displayName": "Pratama Suprayogi",
      "userId": "14884808246882934220"
     },
     "user_tz": -420
    },
    "id": "66bd476a-e5eb-4819-95f7-d7410fc2dea0",
    "outputId": "c6054eef-4ab9-4390-fab1-ab9aa562f8f2"
   },
   "outputs": [
    {
     "name": "stdout",
     "output_type": "stream",
     "text": [
      "<class 'pandas.core.frame.DataFrame'>\n",
      "RangeIndex: 891 entries, 0 to 890\n",
      "Data columns (total 12 columns):\n",
      " #   Column       Non-Null Count  Dtype  \n",
      "---  ------       --------------  -----  \n",
      " 0   PassengerId  891 non-null    int64  \n",
      " 1   Survived     891 non-null    int64  \n",
      " 2   Pclass       891 non-null    int64  \n",
      " 3   Name         891 non-null    object \n",
      " 4   Sex          891 non-null    object \n",
      " 5   Age          714 non-null    float64\n",
      " 6   SibSp        891 non-null    int64  \n",
      " 7   Parch        891 non-null    int64  \n",
      " 8   Ticket       891 non-null    object \n",
      " 9   Fare         891 non-null    float64\n",
      " 10  Cabin        204 non-null    object \n",
      " 11  Embarked     889 non-null    object \n",
      "dtypes: float64(2), int64(5), object(5)\n",
      "memory usage: 83.7+ KB\n"
     ]
    }
   ],
   "source": [
    "# kita ingin menampilkan info umum (count dan Dtype) dataset\n",
    "df_titanic.info()"
   ]
  },
  {
   "cell_type": "code",
   "execution_count": 42,
   "id": "7a48c7ed-5272-4b98-ab14-2cba8e9a3a4b",
   "metadata": {
    "ExecuteTime": {
     "end_time": "2022-09-26T09:39:53.656848Z",
     "start_time": "2022-09-26T09:39:53.638948Z"
    },
    "colab": {
     "base_uri": "https://localhost:8080/"
    },
    "executionInfo": {
     "elapsed": 419,
     "status": "ok",
     "timestamp": 1648708963712,
     "user": {
      "displayName": "Pratama Suprayogi",
      "userId": "14884808246882934220"
     },
     "user_tz": -420
    },
    "id": "7a48c7ed-5272-4b98-ab14-2cba8e9a3a4b",
    "outputId": "0617436b-5269-4866-d65b-3c8992067690"
   },
   "outputs": [
    {
     "data": {
      "text/plain": [
       "(891, 12)"
      ]
     },
     "execution_count": 42,
     "metadata": {},
     "output_type": "execute_result"
    }
   ],
   "source": [
    "# kita akan mencoba melakukan print ukuran dari dataset\n",
    "# baris dan kolom\n",
    "df_titanic.shape\n",
    "#terdapat 891 baris dengan 12 kolom"
   ]
  },
  {
   "cell_type": "code",
   "execution_count": 43,
   "id": "cdb304ad-7e3f-4083-b1a5-2c99f009cfa5",
   "metadata": {
    "ExecuteTime": {
     "end_time": "2022-09-26T09:39:53.953623Z",
     "start_time": "2022-09-26T09:39:53.939515Z"
    },
    "colab": {
     "base_uri": "https://localhost:8080/"
    },
    "executionInfo": {
     "elapsed": 405,
     "status": "ok",
     "timestamp": 1648708968896,
     "user": {
      "displayName": "Pratama Suprayogi",
      "userId": "14884808246882934220"
     },
     "user_tz": -420
    },
    "id": "cdb304ad-7e3f-4083-b1a5-2c99f009cfa5",
    "outputId": "10100c8b-7c56-4f43-b7cd-89e395eee3d0"
   },
   "outputs": [
    {
     "data": {
      "text/plain": [
       "10692"
      ]
     },
     "execution_count": 43,
     "metadata": {},
     "output_type": "execute_result"
    }
   ],
   "source": [
    "# kita akan mencoba melakukan print atasjumlah baris di dataset\n",
    "df_titanic.size"
   ]
  },
  {
   "cell_type": "code",
   "execution_count": 44,
   "id": "8f20b9d3-2fb3-465a-80f4-e80f6c71156f",
   "metadata": {
    "ExecuteTime": {
     "end_time": "2022-09-26T09:39:54.265025Z",
     "start_time": "2022-09-26T09:39:54.254059Z"
    },
    "colab": {
     "base_uri": "https://localhost:8080/"
    },
    "executionInfo": {
     "elapsed": 424,
     "status": "ok",
     "timestamp": 1648708975667,
     "user": {
      "displayName": "Pratama Suprayogi",
      "userId": "14884808246882934220"
     },
     "user_tz": -420
    },
    "id": "8f20b9d3-2fb3-465a-80f4-e80f6c71156f",
    "outputId": "67eb3ad1-dd97-4baa-e1de-d35a17344173"
   },
   "outputs": [
    {
     "data": {
      "text/plain": [
       "PassengerId    891\n",
       "Survived       891\n",
       "Pclass         891\n",
       "Name           891\n",
       "Sex            891\n",
       "Age            714\n",
       "SibSp          891\n",
       "Parch          891\n",
       "Ticket         891\n",
       "Fare           891\n",
       "Cabin          204\n",
       "Embarked       889\n",
       "dtype: int64"
      ]
     },
     "execution_count": 44,
     "metadata": {},
     "output_type": "execute_result"
    }
   ],
   "source": [
    "# menghitung count atas satu kolom\n",
    "df_titanic.count()"
   ]
  },
  {
   "cell_type": "code",
   "execution_count": 14,
   "id": "59f6f632-6a40-4c4c-8a61-c42b29c4d5d0",
   "metadata": {
    "ExecuteTime": {
     "end_time": "2022-09-26T09:39:54.575226Z",
     "start_time": "2022-09-26T09:39:54.557397Z"
    },
    "colab": {
     "base_uri": "https://localhost:8080/"
    },
    "executionInfo": {
     "elapsed": 391,
     "status": "ok",
     "timestamp": 1648708990981,
     "user": {
      "displayName": "Pratama Suprayogi",
      "userId": "14884808246882934220"
     },
     "user_tz": -420
    },
    "id": "59f6f632-6a40-4c4c-8a61-c42b29c4d5d0",
    "outputId": "a09935b3-aaf3-4b1a-8876-c46664b5a050"
   },
   "outputs": [
    {
     "data": {
      "text/plain": [
       "891"
      ]
     },
     "execution_count": 14,
     "metadata": {},
     "output_type": "execute_result"
    }
   ],
   "source": [
    "# menghitung panjang maksimal dari suatu kolom di dataset\n",
    "len(df_titanic)"
   ]
  },
  {
   "cell_type": "code",
   "execution_count": 46,
   "id": "d0e8e058-1554-4472-98c1-1f01ae900bb1",
   "metadata": {
    "ExecuteTime": {
     "end_time": "2022-09-26T09:39:54.902526Z",
     "start_time": "2022-09-26T09:39:54.871921Z"
    },
    "colab": {
     "base_uri": "https://localhost:8080/",
     "height": 300
    },
    "executionInfo": {
     "elapsed": 418,
     "status": "ok",
     "timestamp": 1648709000377,
     "user": {
      "displayName": "Pratama Suprayogi",
      "userId": "14884808246882934220"
     },
     "user_tz": -420
    },
    "id": "d0e8e058-1554-4472-98c1-1f01ae900bb1",
    "outputId": "7e8148be-76ea-4ccd-f461-23a80a3eeac2"
   },
   "outputs": [
    {
     "data": {
      "text/html": [
       "<div>\n",
       "<style scoped>\n",
       "    .dataframe tbody tr th:only-of-type {\n",
       "        vertical-align: middle;\n",
       "    }\n",
       "\n",
       "    .dataframe tbody tr th {\n",
       "        vertical-align: top;\n",
       "    }\n",
       "\n",
       "    .dataframe thead th {\n",
       "        text-align: right;\n",
       "    }\n",
       "</style>\n",
       "<table border=\"1\" class=\"dataframe\">\n",
       "  <thead>\n",
       "    <tr style=\"text-align: right;\">\n",
       "      <th></th>\n",
       "      <th>PassengerId</th>\n",
       "      <th>Survived</th>\n",
       "      <th>Pclass</th>\n",
       "      <th>Age</th>\n",
       "      <th>SibSp</th>\n",
       "      <th>Parch</th>\n",
       "      <th>Fare</th>\n",
       "    </tr>\n",
       "  </thead>\n",
       "  <tbody>\n",
       "    <tr>\n",
       "      <th>count</th>\n",
       "      <td>891.000000</td>\n",
       "      <td>891.000000</td>\n",
       "      <td>891.000000</td>\n",
       "      <td>714.000000</td>\n",
       "      <td>891.000000</td>\n",
       "      <td>891.000000</td>\n",
       "      <td>891.000000</td>\n",
       "    </tr>\n",
       "    <tr>\n",
       "      <th>mean</th>\n",
       "      <td>446.000000</td>\n",
       "      <td>0.383838</td>\n",
       "      <td>2.308642</td>\n",
       "      <td>29.699118</td>\n",
       "      <td>0.523008</td>\n",
       "      <td>0.381594</td>\n",
       "      <td>32.204208</td>\n",
       "    </tr>\n",
       "    <tr>\n",
       "      <th>std</th>\n",
       "      <td>257.353842</td>\n",
       "      <td>0.486592</td>\n",
       "      <td>0.836071</td>\n",
       "      <td>14.526497</td>\n",
       "      <td>1.102743</td>\n",
       "      <td>0.806057</td>\n",
       "      <td>49.693429</td>\n",
       "    </tr>\n",
       "    <tr>\n",
       "      <th>min</th>\n",
       "      <td>1.000000</td>\n",
       "      <td>0.000000</td>\n",
       "      <td>1.000000</td>\n",
       "      <td>0.420000</td>\n",
       "      <td>0.000000</td>\n",
       "      <td>0.000000</td>\n",
       "      <td>0.000000</td>\n",
       "    </tr>\n",
       "    <tr>\n",
       "      <th>25%</th>\n",
       "      <td>223.500000</td>\n",
       "      <td>0.000000</td>\n",
       "      <td>2.000000</td>\n",
       "      <td>20.125000</td>\n",
       "      <td>0.000000</td>\n",
       "      <td>0.000000</td>\n",
       "      <td>7.910400</td>\n",
       "    </tr>\n",
       "    <tr>\n",
       "      <th>50%</th>\n",
       "      <td>446.000000</td>\n",
       "      <td>0.000000</td>\n",
       "      <td>3.000000</td>\n",
       "      <td>28.000000</td>\n",
       "      <td>0.000000</td>\n",
       "      <td>0.000000</td>\n",
       "      <td>14.454200</td>\n",
       "    </tr>\n",
       "    <tr>\n",
       "      <th>75%</th>\n",
       "      <td>668.500000</td>\n",
       "      <td>1.000000</td>\n",
       "      <td>3.000000</td>\n",
       "      <td>38.000000</td>\n",
       "      <td>1.000000</td>\n",
       "      <td>0.000000</td>\n",
       "      <td>31.000000</td>\n",
       "    </tr>\n",
       "    <tr>\n",
       "      <th>max</th>\n",
       "      <td>891.000000</td>\n",
       "      <td>1.000000</td>\n",
       "      <td>3.000000</td>\n",
       "      <td>80.000000</td>\n",
       "      <td>8.000000</td>\n",
       "      <td>6.000000</td>\n",
       "      <td>512.329200</td>\n",
       "    </tr>\n",
       "  </tbody>\n",
       "</table>\n",
       "</div>"
      ],
      "text/plain": [
       "       PassengerId    Survived      Pclass         Age       SibSp  \\\n",
       "count   891.000000  891.000000  891.000000  714.000000  891.000000   \n",
       "mean    446.000000    0.383838    2.308642   29.699118    0.523008   \n",
       "std     257.353842    0.486592    0.836071   14.526497    1.102743   \n",
       "min       1.000000    0.000000    1.000000    0.420000    0.000000   \n",
       "25%     223.500000    0.000000    2.000000   20.125000    0.000000   \n",
       "50%     446.000000    0.000000    3.000000   28.000000    0.000000   \n",
       "75%     668.500000    1.000000    3.000000   38.000000    1.000000   \n",
       "max     891.000000    1.000000    3.000000   80.000000    8.000000   \n",
       "\n",
       "            Parch        Fare  \n",
       "count  891.000000  891.000000  \n",
       "mean     0.381594   32.204208  \n",
       "std      0.806057   49.693429  \n",
       "min      0.000000    0.000000  \n",
       "25%      0.000000    7.910400  \n",
       "50%      0.000000   14.454200  \n",
       "75%      0.000000   31.000000  \n",
       "max      6.000000  512.329200  "
      ]
     },
     "execution_count": 46,
     "metadata": {},
     "output_type": "execute_result"
    }
   ],
   "source": [
    "# deskripsi untuk data kuantitatif\n",
    "# menggunakan .describe()\n",
    "df_titanic.describe()"
   ]
  },
  {
   "cell_type": "code",
   "execution_count": 47,
   "id": "aa89fbe9-09f0-464a-8ee2-1af38022efcf",
   "metadata": {
    "ExecuteTime": {
     "end_time": "2022-09-26T09:39:55.215218Z",
     "start_time": "2022-09-26T09:39:55.188642Z"
    },
    "colab": {
     "base_uri": "https://localhost:8080/",
     "height": 175
    },
    "executionInfo": {
     "elapsed": 424,
     "status": "ok",
     "timestamp": 1648709018984,
     "user": {
      "displayName": "Pratama Suprayogi",
      "userId": "14884808246882934220"
     },
     "user_tz": -420
    },
    "id": "aa89fbe9-09f0-464a-8ee2-1af38022efcf",
    "outputId": "f006e1a9-5739-4219-866b-c95e9a67eea4"
   },
   "outputs": [
    {
     "data": {
      "text/html": [
       "<div>\n",
       "<style scoped>\n",
       "    .dataframe tbody tr th:only-of-type {\n",
       "        vertical-align: middle;\n",
       "    }\n",
       "\n",
       "    .dataframe tbody tr th {\n",
       "        vertical-align: top;\n",
       "    }\n",
       "\n",
       "    .dataframe thead th {\n",
       "        text-align: right;\n",
       "    }\n",
       "</style>\n",
       "<table border=\"1\" class=\"dataframe\">\n",
       "  <thead>\n",
       "    <tr style=\"text-align: right;\">\n",
       "      <th></th>\n",
       "      <th>Name</th>\n",
       "      <th>Sex</th>\n",
       "      <th>Ticket</th>\n",
       "      <th>Cabin</th>\n",
       "      <th>Embarked</th>\n",
       "    </tr>\n",
       "  </thead>\n",
       "  <tbody>\n",
       "    <tr>\n",
       "      <th>count</th>\n",
       "      <td>891</td>\n",
       "      <td>891</td>\n",
       "      <td>891</td>\n",
       "      <td>204</td>\n",
       "      <td>889</td>\n",
       "    </tr>\n",
       "    <tr>\n",
       "      <th>unique</th>\n",
       "      <td>891</td>\n",
       "      <td>2</td>\n",
       "      <td>681</td>\n",
       "      <td>147</td>\n",
       "      <td>3</td>\n",
       "    </tr>\n",
       "    <tr>\n",
       "      <th>top</th>\n",
       "      <td>Braund, Mr. Owen Harris</td>\n",
       "      <td>male</td>\n",
       "      <td>347082</td>\n",
       "      <td>B96 B98</td>\n",
       "      <td>S</td>\n",
       "    </tr>\n",
       "    <tr>\n",
       "      <th>freq</th>\n",
       "      <td>1</td>\n",
       "      <td>577</td>\n",
       "      <td>7</td>\n",
       "      <td>4</td>\n",
       "      <td>644</td>\n",
       "    </tr>\n",
       "  </tbody>\n",
       "</table>\n",
       "</div>"
      ],
      "text/plain": [
       "                           Name   Sex  Ticket    Cabin Embarked\n",
       "count                       891   891     891      204      889\n",
       "unique                      891     2     681      147        3\n",
       "top     Braund, Mr. Owen Harris  male  347082  B96 B98        S\n",
       "freq                          1   577       7        4      644"
      ]
     },
     "execution_count": 47,
     "metadata": {},
     "output_type": "execute_result"
    }
   ],
   "source": [
    "# deskripsi untuk data kualitatif\n",
    "df_titanic.describe(include=['O']) "
   ]
  },
  {
   "cell_type": "code",
   "execution_count": 48,
   "id": "fca25b2f-e410-43f9-a241-a536ac09f050",
   "metadata": {
    "ExecuteTime": {
     "end_time": "2022-09-26T09:39:55.481218Z",
     "start_time": "2022-09-26T09:39:55.469615Z"
    },
    "colab": {
     "base_uri": "https://localhost:8080/"
    },
    "executionInfo": {
     "elapsed": 1574,
     "status": "ok",
     "timestamp": 1648709878619,
     "user": {
      "displayName": "Pratama Suprayogi",
      "userId": "14884808246882934220"
     },
     "user_tz": -420
    },
    "id": "fca25b2f-e410-43f9-a241-a536ac09f050",
    "outputId": "00803ed9-8a9b-4ded-a102-68d05ed883f7"
   },
   "outputs": [
    {
     "data": {
      "text/plain": [
       "PassengerId      0\n",
       "Survived         0\n",
       "Pclass           0\n",
       "Name             0\n",
       "Sex              0\n",
       "Age            177\n",
       "SibSp            0\n",
       "Parch            0\n",
       "Ticket           0\n",
       "Fare             0\n",
       "Cabin          687\n",
       "Embarked         2\n",
       "dtype: int64"
      ]
     },
     "execution_count": 48,
     "metadata": {},
     "output_type": "execute_result"
    }
   ],
   "source": [
    "# kita ingin melihat bearapa banyak data yang kosong\n",
    "df_titanic.isna().sum()"
   ]
  },
  {
   "cell_type": "code",
   "execution_count": 49,
   "id": "3e388ea9-96f8-4953-9ea9-abc5dd1f575d",
   "metadata": {
    "ExecuteTime": {
     "end_time": "2022-09-26T09:39:55.822233Z",
     "start_time": "2022-09-26T09:39:55.804773Z"
    },
    "colab": {
     "base_uri": "https://localhost:8080/"
    },
    "executionInfo": {
     "elapsed": 552,
     "status": "ok",
     "timestamp": 1648709887345,
     "user": {
      "displayName": "Pratama Suprayogi",
      "userId": "14884808246882934220"
     },
     "user_tz": -420
    },
    "id": "3e388ea9-96f8-4953-9ea9-abc5dd1f575d",
    "outputId": "ca1071e0-86f1-4335-df4c-9da3f6105139"
   },
   "outputs": [
    {
     "data": {
      "text/plain": [
       "0    549\n",
       "1    342\n",
       "Name: Survived, dtype: int64"
      ]
     },
     "execution_count": 49,
     "metadata": {},
     "output_type": "execute_result"
    }
   ],
   "source": [
    "# kita juga bisa melihat sebaran atas unique value dari suatu kolom\n",
    "df_titanic['Survived'].value_counts()"
   ]
  },
  {
   "cell_type": "code",
   "execution_count": 50,
   "id": "cd0f787f-16c8-4ab1-806c-e3437f18334f",
   "metadata": {
    "ExecuteTime": {
     "end_time": "2022-09-26T09:39:56.272537Z",
     "start_time": "2022-09-26T09:39:56.261376Z"
    },
    "colab": {
     "base_uri": "https://localhost:8080/"
    },
    "executionInfo": {
     "elapsed": 433,
     "status": "ok",
     "timestamp": 1648709897929,
     "user": {
      "displayName": "Pratama Suprayogi",
      "userId": "14884808246882934220"
     },
     "user_tz": -420
    },
    "id": "cd0f787f-16c8-4ab1-806c-e3437f18334f",
    "outputId": "6a727a1c-2c99-43b8-a227-67f4e49c7127"
   },
   "outputs": [
    {
     "name": "stdout",
     "output_type": "stream",
     "text": [
      "[3 1 2]\n"
     ]
    },
    {
     "data": {
      "text/plain": [
       "3"
      ]
     },
     "execution_count": 50,
     "metadata": {},
     "output_type": "execute_result"
    }
   ],
   "source": [
    "# mengetahui jumlah data unique dari suatu fitur dengan .nunique()\n",
    "print(df_titanic['Pclass'].unique())\n",
    "df_titanic['Pclass'].nunique()"
   ]
  },
  {
   "cell_type": "markdown",
   "id": "76ac4527-5075-4168-8700-d93d96b7f23f",
   "metadata": {
    "id": "76ac4527-5075-4168-8700-d93d96b7f23f"
   },
   "source": [
    "## Data Selection"
   ]
  },
  {
   "cell_type": "markdown",
   "id": "dc601b1e-5c19-4820-a452-06b792ad4ab4",
   "metadata": {
    "id": "dc601b1e-5c19-4820-a452-06b792ad4ab4"
   },
   "source": [
    "### Mengambil seluruh baris dari sebagian kolom (row slicing)"
   ]
  },
  {
   "cell_type": "code",
   "execution_count": 51,
   "id": "0857342a-1449-481a-ba1b-505136bc1a23",
   "metadata": {
    "ExecuteTime": {
     "end_time": "2022-09-26T09:39:56.892392Z",
     "start_time": "2022-09-26T09:39:56.871054Z"
    },
    "colab": {
     "base_uri": "https://localhost:8080/"
    },
    "executionInfo": {
     "elapsed": 1430,
     "status": "ok",
     "timestamp": 1648709923041,
     "user": {
      "displayName": "Pratama Suprayogi",
      "userId": "14884808246882934220"
     },
     "user_tz": -420
    },
    "id": "0857342a-1449-481a-ba1b-505136bc1a23",
    "outputId": "f2695d5e-50df-4f94-cd5f-20a3b567c635"
   },
   "outputs": [
    {
     "data": {
      "text/plain": [
       "0                                Braund, Mr. Owen Harris\n",
       "1      Cumings, Mrs. John Bradley (Florence Briggs Th...\n",
       "2                                 Heikkinen, Miss. Laina\n",
       "3           Futrelle, Mrs. Jacques Heath (Lily May Peel)\n",
       "4                               Allen, Mr. William Henry\n",
       "                             ...                        \n",
       "886                                Montvila, Rev. Juozas\n",
       "887                         Graham, Miss. Margaret Edith\n",
       "888             Johnston, Miss. Catherine Helen \"Carrie\"\n",
       "889                                Behr, Mr. Karl Howell\n",
       "890                                  Dooley, Mr. Patrick\n",
       "Name: Name, Length: 891, dtype: object"
      ]
     },
     "execution_count": 51,
     "metadata": {},
     "output_type": "execute_result"
    }
   ],
   "source": [
    "#kita bisa menuliskan nama kolom menggunakan df['nama_kolom']\n",
    "df_titanic['Name']"
   ]
  },
  {
   "cell_type": "code",
   "execution_count": 52,
   "id": "cb3bf594-39b6-4560-8371-ce16d3f702eb",
   "metadata": {
    "ExecuteTime": {
     "end_time": "2022-09-26T09:39:57.062926Z",
     "start_time": "2022-09-26T09:39:57.051452Z"
    },
    "colab": {
     "base_uri": "https://localhost:8080/"
    },
    "executionInfo": {
     "elapsed": 754,
     "status": "ok",
     "timestamp": 1648709927705,
     "user": {
      "displayName": "Pratama Suprayogi",
      "userId": "14884808246882934220"
     },
     "user_tz": -420
    },
    "id": "cb3bf594-39b6-4560-8371-ce16d3f702eb",
    "outputId": "9ec7c34f-f966-4ee9-e730-d9f0a7ba0f3e"
   },
   "outputs": [
    {
     "data": {
      "text/plain": [
       "0                                Braund, Mr. Owen Harris\n",
       "1      Cumings, Mrs. John Bradley (Florence Briggs Th...\n",
       "2                                 Heikkinen, Miss. Laina\n",
       "3           Futrelle, Mrs. Jacques Heath (Lily May Peel)\n",
       "4                               Allen, Mr. William Henry\n",
       "                             ...                        \n",
       "886                                Montvila, Rev. Juozas\n",
       "887                         Graham, Miss. Margaret Edith\n",
       "888             Johnston, Miss. Catherine Helen \"Carrie\"\n",
       "889                                Behr, Mr. Karl Howell\n",
       "890                                  Dooley, Mr. Patrick\n",
       "Name: Name, Length: 891, dtype: object"
      ]
     },
     "execution_count": 52,
     "metadata": {},
     "output_type": "execute_result"
    }
   ],
   "source": [
    "#cara lainnya\n",
    "df_titanic.Name"
   ]
  },
  {
   "cell_type": "code",
   "execution_count": 53,
   "id": "459f72cc-40e3-4794-9cbc-8e4b406aa1a5",
   "metadata": {
    "ExecuteTime": {
     "end_time": "2022-09-26T09:39:57.281174Z",
     "start_time": "2022-09-26T09:39:57.266644Z"
    },
    "colab": {
     "base_uri": "https://localhost:8080/",
     "height": 424
    },
    "executionInfo": {
     "elapsed": 416,
     "status": "ok",
     "timestamp": 1648709939251,
     "user": {
      "displayName": "Pratama Suprayogi",
      "userId": "14884808246882934220"
     },
     "user_tz": -420
    },
    "id": "459f72cc-40e3-4794-9cbc-8e4b406aa1a5",
    "outputId": "855055f4-7fb6-4106-9b83-924c71b8448c"
   },
   "outputs": [
    {
     "data": {
      "text/html": [
       "<div>\n",
       "<style scoped>\n",
       "    .dataframe tbody tr th:only-of-type {\n",
       "        vertical-align: middle;\n",
       "    }\n",
       "\n",
       "    .dataframe tbody tr th {\n",
       "        vertical-align: top;\n",
       "    }\n",
       "\n",
       "    .dataframe thead th {\n",
       "        text-align: right;\n",
       "    }\n",
       "</style>\n",
       "<table border=\"1\" class=\"dataframe\">\n",
       "  <thead>\n",
       "    <tr style=\"text-align: right;\">\n",
       "      <th></th>\n",
       "      <th>Name</th>\n",
       "      <th>Sex</th>\n",
       "      <th>Survived</th>\n",
       "    </tr>\n",
       "  </thead>\n",
       "  <tbody>\n",
       "    <tr>\n",
       "      <th>0</th>\n",
       "      <td>Braund, Mr. Owen Harris</td>\n",
       "      <td>male</td>\n",
       "      <td>0</td>\n",
       "    </tr>\n",
       "    <tr>\n",
       "      <th>1</th>\n",
       "      <td>Cumings, Mrs. John Bradley (Florence Briggs Th...</td>\n",
       "      <td>female</td>\n",
       "      <td>1</td>\n",
       "    </tr>\n",
       "    <tr>\n",
       "      <th>2</th>\n",
       "      <td>Heikkinen, Miss. Laina</td>\n",
       "      <td>female</td>\n",
       "      <td>1</td>\n",
       "    </tr>\n",
       "    <tr>\n",
       "      <th>3</th>\n",
       "      <td>Futrelle, Mrs. Jacques Heath (Lily May Peel)</td>\n",
       "      <td>female</td>\n",
       "      <td>1</td>\n",
       "    </tr>\n",
       "    <tr>\n",
       "      <th>4</th>\n",
       "      <td>Allen, Mr. William Henry</td>\n",
       "      <td>male</td>\n",
       "      <td>0</td>\n",
       "    </tr>\n",
       "    <tr>\n",
       "      <th>...</th>\n",
       "      <td>...</td>\n",
       "      <td>...</td>\n",
       "      <td>...</td>\n",
       "    </tr>\n",
       "    <tr>\n",
       "      <th>886</th>\n",
       "      <td>Montvila, Rev. Juozas</td>\n",
       "      <td>male</td>\n",
       "      <td>0</td>\n",
       "    </tr>\n",
       "    <tr>\n",
       "      <th>887</th>\n",
       "      <td>Graham, Miss. Margaret Edith</td>\n",
       "      <td>female</td>\n",
       "      <td>1</td>\n",
       "    </tr>\n",
       "    <tr>\n",
       "      <th>888</th>\n",
       "      <td>Johnston, Miss. Catherine Helen \"Carrie\"</td>\n",
       "      <td>female</td>\n",
       "      <td>0</td>\n",
       "    </tr>\n",
       "    <tr>\n",
       "      <th>889</th>\n",
       "      <td>Behr, Mr. Karl Howell</td>\n",
       "      <td>male</td>\n",
       "      <td>1</td>\n",
       "    </tr>\n",
       "    <tr>\n",
       "      <th>890</th>\n",
       "      <td>Dooley, Mr. Patrick</td>\n",
       "      <td>male</td>\n",
       "      <td>0</td>\n",
       "    </tr>\n",
       "  </tbody>\n",
       "</table>\n",
       "<p>891 rows × 3 columns</p>\n",
       "</div>"
      ],
      "text/plain": [
       "                                                  Name     Sex  Survived\n",
       "0                              Braund, Mr. Owen Harris    male         0\n",
       "1    Cumings, Mrs. John Bradley (Florence Briggs Th...  female         1\n",
       "2                               Heikkinen, Miss. Laina  female         1\n",
       "3         Futrelle, Mrs. Jacques Heath (Lily May Peel)  female         1\n",
       "4                             Allen, Mr. William Henry    male         0\n",
       "..                                                 ...     ...       ...\n",
       "886                              Montvila, Rev. Juozas    male         0\n",
       "887                       Graham, Miss. Margaret Edith  female         1\n",
       "888           Johnston, Miss. Catherine Helen \"Carrie\"  female         0\n",
       "889                              Behr, Mr. Karl Howell    male         1\n",
       "890                                Dooley, Mr. Patrick    male         0\n",
       "\n",
       "[891 rows x 3 columns]"
      ]
     },
     "execution_count": 53,
     "metadata": {},
     "output_type": "execute_result"
    }
   ],
   "source": [
    "#mengambil lebih dari 1 kolom\n",
    "df_titanic[['Name','Sex','Survived']]"
   ]
  },
  {
   "cell_type": "markdown",
   "id": "d51f167b-1ddf-49f0-a326-b4104426a8c9",
   "metadata": {
    "id": "d51f167b-1ddf-49f0-a326-b4104426a8c9"
   },
   "source": [
    "### Mengambil seluruh kolom dari sebagian baris (columns slicing)"
   ]
  },
  {
   "cell_type": "code",
   "execution_count": 54,
   "id": "d9f9de0e-3322-4c79-99ae-138629426a65",
   "metadata": {
    "ExecuteTime": {
     "end_time": "2022-09-26T09:39:57.654574Z",
     "start_time": "2022-09-26T09:39:57.632742Z"
    }
   },
   "outputs": [
    {
     "data": {
      "text/plain": [
       "PassengerId                   6\n",
       "Survived                      0\n",
       "Pclass                        3\n",
       "Name           Moran, Mr. James\n",
       "Sex                        male\n",
       "Age                         NaN\n",
       "SibSp                         0\n",
       "Parch                         0\n",
       "Ticket                   330877\n",
       "Fare                     8.4583\n",
       "Cabin                       NaN\n",
       "Embarked                      Q\n",
       "Name: 5, dtype: object"
      ]
     },
     "execution_count": 54,
     "metadata": {},
     "output_type": "execute_result"
    }
   ],
   "source": [
    "#mengakses baris menggunakan loc\n",
    "df_titanic.loc[5]"
   ]
  },
  {
   "cell_type": "code",
   "execution_count": 55,
   "id": "1e487d0e-fb25-4fc6-83a5-17470c1bf791",
   "metadata": {
    "ExecuteTime": {
     "end_time": "2022-09-26T09:39:57.855352Z",
     "start_time": "2022-09-26T09:39:57.825923Z"
    },
    "colab": {
     "base_uri": "https://localhost:8080/",
     "height": 288
    },
    "executionInfo": {
     "elapsed": 419,
     "status": "ok",
     "timestamp": 1648709967667,
     "user": {
      "displayName": "Pratama Suprayogi",
      "userId": "14884808246882934220"
     },
     "user_tz": -420
    },
    "id": "1e487d0e-fb25-4fc6-83a5-17470c1bf791",
    "outputId": "c45b4557-c6d5-432c-ae90-a302a616b5b1"
   },
   "outputs": [
    {
     "data": {
      "text/html": [
       "<div>\n",
       "<style scoped>\n",
       "    .dataframe tbody tr th:only-of-type {\n",
       "        vertical-align: middle;\n",
       "    }\n",
       "\n",
       "    .dataframe tbody tr th {\n",
       "        vertical-align: top;\n",
       "    }\n",
       "\n",
       "    .dataframe thead th {\n",
       "        text-align: right;\n",
       "    }\n",
       "</style>\n",
       "<table border=\"1\" class=\"dataframe\">\n",
       "  <thead>\n",
       "    <tr style=\"text-align: right;\">\n",
       "      <th></th>\n",
       "      <th>PassengerId</th>\n",
       "      <th>Survived</th>\n",
       "      <th>Pclass</th>\n",
       "      <th>Name</th>\n",
       "      <th>Sex</th>\n",
       "      <th>Age</th>\n",
       "      <th>SibSp</th>\n",
       "      <th>Parch</th>\n",
       "      <th>Ticket</th>\n",
       "      <th>Fare</th>\n",
       "      <th>Cabin</th>\n",
       "      <th>Embarked</th>\n",
       "    </tr>\n",
       "  </thead>\n",
       "  <tbody>\n",
       "    <tr>\n",
       "      <th>0</th>\n",
       "      <td>1</td>\n",
       "      <td>0</td>\n",
       "      <td>3</td>\n",
       "      <td>Braund, Mr. Owen Harris</td>\n",
       "      <td>male</td>\n",
       "      <td>22.0</td>\n",
       "      <td>1</td>\n",
       "      <td>0</td>\n",
       "      <td>A/5 21171</td>\n",
       "      <td>7.2500</td>\n",
       "      <td>NaN</td>\n",
       "      <td>S</td>\n",
       "    </tr>\n",
       "    <tr>\n",
       "      <th>1</th>\n",
       "      <td>2</td>\n",
       "      <td>1</td>\n",
       "      <td>1</td>\n",
       "      <td>Cumings, Mrs. John Bradley (Florence Briggs Th...</td>\n",
       "      <td>female</td>\n",
       "      <td>38.0</td>\n",
       "      <td>1</td>\n",
       "      <td>0</td>\n",
       "      <td>PC 17599</td>\n",
       "      <td>71.2833</td>\n",
       "      <td>C85</td>\n",
       "      <td>C</td>\n",
       "    </tr>\n",
       "    <tr>\n",
       "      <th>2</th>\n",
       "      <td>3</td>\n",
       "      <td>1</td>\n",
       "      <td>3</td>\n",
       "      <td>Heikkinen, Miss. Laina</td>\n",
       "      <td>female</td>\n",
       "      <td>26.0</td>\n",
       "      <td>0</td>\n",
       "      <td>0</td>\n",
       "      <td>STON/O2. 3101282</td>\n",
       "      <td>7.9250</td>\n",
       "      <td>NaN</td>\n",
       "      <td>S</td>\n",
       "    </tr>\n",
       "    <tr>\n",
       "      <th>3</th>\n",
       "      <td>4</td>\n",
       "      <td>1</td>\n",
       "      <td>1</td>\n",
       "      <td>Futrelle, Mrs. Jacques Heath (Lily May Peel)</td>\n",
       "      <td>female</td>\n",
       "      <td>35.0</td>\n",
       "      <td>1</td>\n",
       "      <td>0</td>\n",
       "      <td>113803</td>\n",
       "      <td>53.1000</td>\n",
       "      <td>C123</td>\n",
       "      <td>S</td>\n",
       "    </tr>\n",
       "  </tbody>\n",
       "</table>\n",
       "</div>"
      ],
      "text/plain": [
       "   PassengerId  Survived  Pclass  \\\n",
       "0            1         0       3   \n",
       "1            2         1       1   \n",
       "2            3         1       3   \n",
       "3            4         1       1   \n",
       "\n",
       "                                                Name     Sex   Age  SibSp  \\\n",
       "0                            Braund, Mr. Owen Harris    male  22.0      1   \n",
       "1  Cumings, Mrs. John Bradley (Florence Briggs Th...  female  38.0      1   \n",
       "2                             Heikkinen, Miss. Laina  female  26.0      0   \n",
       "3       Futrelle, Mrs. Jacques Heath (Lily May Peel)  female  35.0      1   \n",
       "\n",
       "   Parch            Ticket     Fare Cabin Embarked  \n",
       "0      0         A/5 21171   7.2500   NaN        S  \n",
       "1      0          PC 17599  71.2833   C85        C  \n",
       "2      0  STON/O2. 3101282   7.9250   NaN        S  \n",
       "3      0            113803  53.1000  C123        S  "
      ]
     },
     "execution_count": 55,
     "metadata": {},
     "output_type": "execute_result"
    }
   ],
   "source": [
    "df_titanic[:4]"
   ]
  },
  {
   "cell_type": "code",
   "execution_count": 15,
   "id": "b8fe548e-eee3-4ce6-b72e-f52e032053f6",
   "metadata": {
    "ExecuteTime": {
     "end_time": "2022-09-26T09:39:58.223805Z",
     "start_time": "2022-09-26T09:39:58.089613Z"
    },
    "colab": {
     "base_uri": "https://localhost:8080/",
     "height": 236
    },
    "executionInfo": {
     "elapsed": 606,
     "status": "ok",
     "timestamp": 1648709973482,
     "user": {
      "displayName": "Pratama Suprayogi",
      "userId": "14884808246882934220"
     },
     "user_tz": -420
    },
    "id": "b8fe548e-eee3-4ce6-b72e-f52e032053f6",
    "outputId": "a0df350d-80dd-4ad6-b27c-32a73c1a2152"
   },
   "outputs": [
    {
     "data": {
      "text/html": [
       "<div>\n",
       "<style scoped>\n",
       "    .dataframe tbody tr th:only-of-type {\n",
       "        vertical-align: middle;\n",
       "    }\n",
       "\n",
       "    .dataframe tbody tr th {\n",
       "        vertical-align: top;\n",
       "    }\n",
       "\n",
       "    .dataframe thead th {\n",
       "        text-align: right;\n",
       "    }\n",
       "</style>\n",
       "<table border=\"1\" class=\"dataframe\">\n",
       "  <thead>\n",
       "    <tr style=\"text-align: right;\">\n",
       "      <th></th>\n",
       "      <th>PassengerId</th>\n",
       "      <th>Survived</th>\n",
       "      <th>Pclass</th>\n",
       "      <th>Name</th>\n",
       "      <th>Sex</th>\n",
       "      <th>Age</th>\n",
       "      <th>SibSp</th>\n",
       "      <th>Parch</th>\n",
       "      <th>Ticket</th>\n",
       "      <th>Fare</th>\n",
       "      <th>Cabin</th>\n",
       "      <th>Embarked</th>\n",
       "    </tr>\n",
       "  </thead>\n",
       "  <tbody>\n",
       "    <tr>\n",
       "      <th>3</th>\n",
       "      <td>4</td>\n",
       "      <td>1</td>\n",
       "      <td>1</td>\n",
       "      <td>Futrelle, Mrs. Jacques Heath (Lily May Peel)</td>\n",
       "      <td>female</td>\n",
       "      <td>35.0</td>\n",
       "      <td>1</td>\n",
       "      <td>0</td>\n",
       "      <td>113803</td>\n",
       "      <td>53.1000</td>\n",
       "      <td>C123</td>\n",
       "      <td>S</td>\n",
       "    </tr>\n",
       "    <tr>\n",
       "      <th>4</th>\n",
       "      <td>5</td>\n",
       "      <td>0</td>\n",
       "      <td>3</td>\n",
       "      <td>Allen, Mr. William Henry</td>\n",
       "      <td>male</td>\n",
       "      <td>35.0</td>\n",
       "      <td>0</td>\n",
       "      <td>0</td>\n",
       "      <td>373450</td>\n",
       "      <td>8.0500</td>\n",
       "      <td>NaN</td>\n",
       "      <td>S</td>\n",
       "    </tr>\n",
       "    <tr>\n",
       "      <th>5</th>\n",
       "      <td>6</td>\n",
       "      <td>0</td>\n",
       "      <td>3</td>\n",
       "      <td>Moran, Mr. James</td>\n",
       "      <td>male</td>\n",
       "      <td>NaN</td>\n",
       "      <td>0</td>\n",
       "      <td>0</td>\n",
       "      <td>330877</td>\n",
       "      <td>8.4583</td>\n",
       "      <td>NaN</td>\n",
       "      <td>Q</td>\n",
       "    </tr>\n",
       "    <tr>\n",
       "      <th>6</th>\n",
       "      <td>7</td>\n",
       "      <td>0</td>\n",
       "      <td>1</td>\n",
       "      <td>McCarthy, Mr. Timothy J</td>\n",
       "      <td>male</td>\n",
       "      <td>54.0</td>\n",
       "      <td>0</td>\n",
       "      <td>0</td>\n",
       "      <td>17463</td>\n",
       "      <td>51.8625</td>\n",
       "      <td>E46</td>\n",
       "      <td>S</td>\n",
       "    </tr>\n",
       "  </tbody>\n",
       "</table>\n",
       "</div>"
      ],
      "text/plain": [
       "   PassengerId  Survived  Pclass  \\\n",
       "3            4         1       1   \n",
       "4            5         0       3   \n",
       "5            6         0       3   \n",
       "6            7         0       1   \n",
       "\n",
       "                                           Name     Sex   Age  SibSp  Parch  \\\n",
       "3  Futrelle, Mrs. Jacques Heath (Lily May Peel)  female  35.0      1      0   \n",
       "4                      Allen, Mr. William Henry    male  35.0      0      0   \n",
       "5                              Moran, Mr. James    male   NaN      0      0   \n",
       "6                       McCarthy, Mr. Timothy J    male  54.0      0      0   \n",
       "\n",
       "   Ticket     Fare Cabin Embarked  \n",
       "3  113803  53.1000  C123        S  \n",
       "4  373450   8.0500   NaN        S  \n",
       "5  330877   8.4583   NaN        Q  \n",
       "6   17463  51.8625   E46        S  "
      ]
     },
     "metadata": {},
     "output_type": "display_data"
    },
    {
     "data": {
      "text/html": [
       "<div>\n",
       "<style scoped>\n",
       "    .dataframe tbody tr th:only-of-type {\n",
       "        vertical-align: middle;\n",
       "    }\n",
       "\n",
       "    .dataframe tbody tr th {\n",
       "        vertical-align: top;\n",
       "    }\n",
       "\n",
       "    .dataframe thead th {\n",
       "        text-align: right;\n",
       "    }\n",
       "</style>\n",
       "<table border=\"1\" class=\"dataframe\">\n",
       "  <thead>\n",
       "    <tr style=\"text-align: right;\">\n",
       "      <th></th>\n",
       "      <th>PassengerId</th>\n",
       "      <th>Survived</th>\n",
       "      <th>Pclass</th>\n",
       "      <th>Name</th>\n",
       "      <th>Sex</th>\n",
       "      <th>Age</th>\n",
       "      <th>SibSp</th>\n",
       "      <th>Parch</th>\n",
       "      <th>Ticket</th>\n",
       "      <th>Fare</th>\n",
       "      <th>Cabin</th>\n",
       "      <th>Embarked</th>\n",
       "    </tr>\n",
       "  </thead>\n",
       "  <tbody>\n",
       "    <tr>\n",
       "      <th>3</th>\n",
       "      <td>4</td>\n",
       "      <td>1</td>\n",
       "      <td>1</td>\n",
       "      <td>Futrelle, Mrs. Jacques Heath (Lily May Peel)</td>\n",
       "      <td>female</td>\n",
       "      <td>35.0</td>\n",
       "      <td>1</td>\n",
       "      <td>0</td>\n",
       "      <td>113803</td>\n",
       "      <td>53.1000</td>\n",
       "      <td>C123</td>\n",
       "      <td>S</td>\n",
       "    </tr>\n",
       "    <tr>\n",
       "      <th>4</th>\n",
       "      <td>5</td>\n",
       "      <td>0</td>\n",
       "      <td>3</td>\n",
       "      <td>Allen, Mr. William Henry</td>\n",
       "      <td>male</td>\n",
       "      <td>35.0</td>\n",
       "      <td>0</td>\n",
       "      <td>0</td>\n",
       "      <td>373450</td>\n",
       "      <td>8.0500</td>\n",
       "      <td>NaN</td>\n",
       "      <td>S</td>\n",
       "    </tr>\n",
       "    <tr>\n",
       "      <th>5</th>\n",
       "      <td>6</td>\n",
       "      <td>0</td>\n",
       "      <td>3</td>\n",
       "      <td>Moran, Mr. James</td>\n",
       "      <td>male</td>\n",
       "      <td>NaN</td>\n",
       "      <td>0</td>\n",
       "      <td>0</td>\n",
       "      <td>330877</td>\n",
       "      <td>8.4583</td>\n",
       "      <td>NaN</td>\n",
       "      <td>Q</td>\n",
       "    </tr>\n",
       "    <tr>\n",
       "      <th>6</th>\n",
       "      <td>7</td>\n",
       "      <td>0</td>\n",
       "      <td>1</td>\n",
       "      <td>McCarthy, Mr. Timothy J</td>\n",
       "      <td>male</td>\n",
       "      <td>54.0</td>\n",
       "      <td>0</td>\n",
       "      <td>0</td>\n",
       "      <td>17463</td>\n",
       "      <td>51.8625</td>\n",
       "      <td>E46</td>\n",
       "      <td>S</td>\n",
       "    </tr>\n",
       "  </tbody>\n",
       "</table>\n",
       "</div>"
      ],
      "text/plain": [
       "   PassengerId  Survived  Pclass  \\\n",
       "3            4         1       1   \n",
       "4            5         0       3   \n",
       "5            6         0       3   \n",
       "6            7         0       1   \n",
       "\n",
       "                                           Name     Sex   Age  SibSp  Parch  \\\n",
       "3  Futrelle, Mrs. Jacques Heath (Lily May Peel)  female  35.0      1      0   \n",
       "4                      Allen, Mr. William Henry    male  35.0      0      0   \n",
       "5                              Moran, Mr. James    male   NaN      0      0   \n",
       "6                       McCarthy, Mr. Timothy J    male  54.0      0      0   \n",
       "\n",
       "   Ticket     Fare Cabin Embarked  \n",
       "3  113803  53.1000  C123        S  \n",
       "4  373450   8.0500   NaN        S  \n",
       "5  330877   8.4583   NaN        Q  \n",
       "6   17463  51.8625   E46        S  "
      ]
     },
     "metadata": {},
     "output_type": "display_data"
    },
    {
     "data": {
      "text/html": [
       "<div>\n",
       "<style scoped>\n",
       "    .dataframe tbody tr th:only-of-type {\n",
       "        vertical-align: middle;\n",
       "    }\n",
       "\n",
       "    .dataframe tbody tr th {\n",
       "        vertical-align: top;\n",
       "    }\n",
       "\n",
       "    .dataframe thead th {\n",
       "        text-align: right;\n",
       "    }\n",
       "</style>\n",
       "<table border=\"1\" class=\"dataframe\">\n",
       "  <thead>\n",
       "    <tr style=\"text-align: right;\">\n",
       "      <th></th>\n",
       "      <th>PassengerId</th>\n",
       "      <th>Survived</th>\n",
       "      <th>Pclass</th>\n",
       "      <th>Name</th>\n",
       "      <th>Sex</th>\n",
       "      <th>Age</th>\n",
       "      <th>SibSp</th>\n",
       "      <th>Parch</th>\n",
       "      <th>Ticket</th>\n",
       "      <th>Fare</th>\n",
       "      <th>Cabin</th>\n",
       "      <th>Embarked</th>\n",
       "    </tr>\n",
       "  </thead>\n",
       "  <tbody>\n",
       "    <tr>\n",
       "      <th>3</th>\n",
       "      <td>4</td>\n",
       "      <td>1</td>\n",
       "      <td>1</td>\n",
       "      <td>Futrelle, Mrs. Jacques Heath (Lily May Peel)</td>\n",
       "      <td>female</td>\n",
       "      <td>35.0</td>\n",
       "      <td>1</td>\n",
       "      <td>0</td>\n",
       "      <td>113803</td>\n",
       "      <td>53.1000</td>\n",
       "      <td>C123</td>\n",
       "      <td>S</td>\n",
       "    </tr>\n",
       "    <tr>\n",
       "      <th>4</th>\n",
       "      <td>5</td>\n",
       "      <td>0</td>\n",
       "      <td>3</td>\n",
       "      <td>Allen, Mr. William Henry</td>\n",
       "      <td>male</td>\n",
       "      <td>35.0</td>\n",
       "      <td>0</td>\n",
       "      <td>0</td>\n",
       "      <td>373450</td>\n",
       "      <td>8.0500</td>\n",
       "      <td>NaN</td>\n",
       "      <td>S</td>\n",
       "    </tr>\n",
       "    <tr>\n",
       "      <th>5</th>\n",
       "      <td>6</td>\n",
       "      <td>0</td>\n",
       "      <td>3</td>\n",
       "      <td>Moran, Mr. James</td>\n",
       "      <td>male</td>\n",
       "      <td>NaN</td>\n",
       "      <td>0</td>\n",
       "      <td>0</td>\n",
       "      <td>330877</td>\n",
       "      <td>8.4583</td>\n",
       "      <td>NaN</td>\n",
       "      <td>Q</td>\n",
       "    </tr>\n",
       "    <tr>\n",
       "      <th>6</th>\n",
       "      <td>7</td>\n",
       "      <td>0</td>\n",
       "      <td>1</td>\n",
       "      <td>McCarthy, Mr. Timothy J</td>\n",
       "      <td>male</td>\n",
       "      <td>54.0</td>\n",
       "      <td>0</td>\n",
       "      <td>0</td>\n",
       "      <td>17463</td>\n",
       "      <td>51.8625</td>\n",
       "      <td>E46</td>\n",
       "      <td>S</td>\n",
       "    </tr>\n",
       "    <tr>\n",
       "      <th>7</th>\n",
       "      <td>8</td>\n",
       "      <td>0</td>\n",
       "      <td>3</td>\n",
       "      <td>Palsson, Master. Gosta Leonard</td>\n",
       "      <td>male</td>\n",
       "      <td>2.0</td>\n",
       "      <td>3</td>\n",
       "      <td>1</td>\n",
       "      <td>349909</td>\n",
       "      <td>21.0750</td>\n",
       "      <td>NaN</td>\n",
       "      <td>S</td>\n",
       "    </tr>\n",
       "  </tbody>\n",
       "</table>\n",
       "</div>"
      ],
      "text/plain": [
       "   PassengerId  Survived  Pclass  \\\n",
       "3            4         1       1   \n",
       "4            5         0       3   \n",
       "5            6         0       3   \n",
       "6            7         0       1   \n",
       "7            8         0       3   \n",
       "\n",
       "                                           Name     Sex   Age  SibSp  Parch  \\\n",
       "3  Futrelle, Mrs. Jacques Heath (Lily May Peel)  female  35.0      1      0   \n",
       "4                      Allen, Mr. William Henry    male  35.0      0      0   \n",
       "5                              Moran, Mr. James    male   NaN      0      0   \n",
       "6                       McCarthy, Mr. Timothy J    male  54.0      0      0   \n",
       "7                Palsson, Master. Gosta Leonard    male   2.0      3      1   \n",
       "\n",
       "   Ticket     Fare Cabin Embarked  \n",
       "3  113803  53.1000  C123        S  \n",
       "4  373450   8.0500   NaN        S  \n",
       "5  330877   8.4583   NaN        Q  \n",
       "6   17463  51.8625   E46        S  \n",
       "7  349909  21.0750   NaN        S  "
      ]
     },
     "metadata": {},
     "output_type": "display_data"
    }
   ],
   "source": [
    "display(df_titanic[3:7]) # mengakses posisi row menggunakan aturan list slicing\n",
    "display(df_titanic.iloc[3:7]) # mengakses posisi row menggunakan aturan list slicing\n",
    "display(df_titanic.loc[3:7]) # mengakses index\n",
    "# Perhatikan perbedaan slicing dengan index slicing, iloc, dan loc"
   ]
  },
  {
   "cell_type": "code",
   "execution_count": 57,
   "id": "ae26e1a0",
   "metadata": {
    "ExecuteTime": {
     "end_time": "2022-09-26T09:39:58.421853Z",
     "start_time": "2022-09-26T09:39:58.397493Z"
    }
   },
   "outputs": [
    {
     "data": {
      "text/html": [
       "<div>\n",
       "<style scoped>\n",
       "    .dataframe tbody tr th:only-of-type {\n",
       "        vertical-align: middle;\n",
       "    }\n",
       "\n",
       "    .dataframe tbody tr th {\n",
       "        vertical-align: top;\n",
       "    }\n",
       "\n",
       "    .dataframe thead th {\n",
       "        text-align: right;\n",
       "    }\n",
       "</style>\n",
       "<table border=\"1\" class=\"dataframe\">\n",
       "  <thead>\n",
       "    <tr style=\"text-align: right;\">\n",
       "      <th></th>\n",
       "      <th>PassengerId</th>\n",
       "      <th>Survived</th>\n",
       "      <th>Pclass</th>\n",
       "      <th>Name</th>\n",
       "      <th>Sex</th>\n",
       "      <th>Age</th>\n",
       "      <th>SibSp</th>\n",
       "      <th>Parch</th>\n",
       "      <th>Ticket</th>\n",
       "      <th>Fare</th>\n",
       "      <th>Cabin</th>\n",
       "      <th>Embarked</th>\n",
       "    </tr>\n",
       "  </thead>\n",
       "  <tbody>\n",
       "    <tr>\n",
       "      <th>index_0</th>\n",
       "      <td>1</td>\n",
       "      <td>0</td>\n",
       "      <td>3</td>\n",
       "      <td>Braund, Mr. Owen Harris</td>\n",
       "      <td>male</td>\n",
       "      <td>22.0</td>\n",
       "      <td>1</td>\n",
       "      <td>0</td>\n",
       "      <td>A/5 21171</td>\n",
       "      <td>7.2500</td>\n",
       "      <td>NaN</td>\n",
       "      <td>S</td>\n",
       "    </tr>\n",
       "    <tr>\n",
       "      <th>index_1</th>\n",
       "      <td>2</td>\n",
       "      <td>1</td>\n",
       "      <td>1</td>\n",
       "      <td>Cumings, Mrs. John Bradley (Florence Briggs Th...</td>\n",
       "      <td>female</td>\n",
       "      <td>38.0</td>\n",
       "      <td>1</td>\n",
       "      <td>0</td>\n",
       "      <td>PC 17599</td>\n",
       "      <td>71.2833</td>\n",
       "      <td>C85</td>\n",
       "      <td>C</td>\n",
       "    </tr>\n",
       "    <tr>\n",
       "      <th>index_2</th>\n",
       "      <td>3</td>\n",
       "      <td>1</td>\n",
       "      <td>3</td>\n",
       "      <td>Heikkinen, Miss. Laina</td>\n",
       "      <td>female</td>\n",
       "      <td>26.0</td>\n",
       "      <td>0</td>\n",
       "      <td>0</td>\n",
       "      <td>STON/O2. 3101282</td>\n",
       "      <td>7.9250</td>\n",
       "      <td>NaN</td>\n",
       "      <td>S</td>\n",
       "    </tr>\n",
       "    <tr>\n",
       "      <th>index_3</th>\n",
       "      <td>4</td>\n",
       "      <td>1</td>\n",
       "      <td>1</td>\n",
       "      <td>Futrelle, Mrs. Jacques Heath (Lily May Peel)</td>\n",
       "      <td>female</td>\n",
       "      <td>35.0</td>\n",
       "      <td>1</td>\n",
       "      <td>0</td>\n",
       "      <td>113803</td>\n",
       "      <td>53.1000</td>\n",
       "      <td>C123</td>\n",
       "      <td>S</td>\n",
       "    </tr>\n",
       "    <tr>\n",
       "      <th>index_4</th>\n",
       "      <td>5</td>\n",
       "      <td>0</td>\n",
       "      <td>3</td>\n",
       "      <td>Allen, Mr. William Henry</td>\n",
       "      <td>male</td>\n",
       "      <td>35.0</td>\n",
       "      <td>0</td>\n",
       "      <td>0</td>\n",
       "      <td>373450</td>\n",
       "      <td>8.0500</td>\n",
       "      <td>NaN</td>\n",
       "      <td>S</td>\n",
       "    </tr>\n",
       "  </tbody>\n",
       "</table>\n",
       "</div>"
      ],
      "text/plain": [
       "         PassengerId  Survived  Pclass  \\\n",
       "index_0            1         0       3   \n",
       "index_1            2         1       1   \n",
       "index_2            3         1       3   \n",
       "index_3            4         1       1   \n",
       "index_4            5         0       3   \n",
       "\n",
       "                                                      Name     Sex   Age  \\\n",
       "index_0                            Braund, Mr. Owen Harris    male  22.0   \n",
       "index_1  Cumings, Mrs. John Bradley (Florence Briggs Th...  female  38.0   \n",
       "index_2                             Heikkinen, Miss. Laina  female  26.0   \n",
       "index_3       Futrelle, Mrs. Jacques Heath (Lily May Peel)  female  35.0   \n",
       "index_4                           Allen, Mr. William Henry    male  35.0   \n",
       "\n",
       "         SibSp  Parch            Ticket     Fare Cabin Embarked  \n",
       "index_0      1      0         A/5 21171   7.2500   NaN        S  \n",
       "index_1      1      0          PC 17599  71.2833   C85        C  \n",
       "index_2      0      0  STON/O2. 3101282   7.9250   NaN        S  \n",
       "index_3      1      0            113803  53.1000  C123        S  \n",
       "index_4      0      0            373450   8.0500   NaN        S  "
      ]
     },
     "execution_count": 57,
     "metadata": {},
     "output_type": "execute_result"
    }
   ],
   "source": [
    "df_titanic_index = df_titanic.index\n",
    "df_titanic.index = ['index_' + str(x) for x in df_titanic.index]\n",
    "df_titanic.head()"
   ]
  },
  {
   "cell_type": "code",
   "execution_count": 58,
   "id": "8ff135f3",
   "metadata": {
    "ExecuteTime": {
     "end_time": "2022-09-26T09:39:58.946824Z",
     "start_time": "2022-09-26T09:39:58.692373Z"
    }
   },
   "outputs": [
    {
     "data": {
      "text/html": [
       "<div>\n",
       "<style scoped>\n",
       "    .dataframe tbody tr th:only-of-type {\n",
       "        vertical-align: middle;\n",
       "    }\n",
       "\n",
       "    .dataframe tbody tr th {\n",
       "        vertical-align: top;\n",
       "    }\n",
       "\n",
       "    .dataframe thead th {\n",
       "        text-align: right;\n",
       "    }\n",
       "</style>\n",
       "<table border=\"1\" class=\"dataframe\">\n",
       "  <thead>\n",
       "    <tr style=\"text-align: right;\">\n",
       "      <th></th>\n",
       "      <th>PassengerId</th>\n",
       "      <th>Survived</th>\n",
       "      <th>Pclass</th>\n",
       "      <th>Name</th>\n",
       "      <th>Sex</th>\n",
       "      <th>Age</th>\n",
       "      <th>SibSp</th>\n",
       "      <th>Parch</th>\n",
       "      <th>Ticket</th>\n",
       "      <th>Fare</th>\n",
       "      <th>Cabin</th>\n",
       "      <th>Embarked</th>\n",
       "    </tr>\n",
       "  </thead>\n",
       "  <tbody>\n",
       "    <tr>\n",
       "      <th>index_3</th>\n",
       "      <td>4</td>\n",
       "      <td>1</td>\n",
       "      <td>1</td>\n",
       "      <td>Futrelle, Mrs. Jacques Heath (Lily May Peel)</td>\n",
       "      <td>female</td>\n",
       "      <td>35.0</td>\n",
       "      <td>1</td>\n",
       "      <td>0</td>\n",
       "      <td>113803</td>\n",
       "      <td>53.1000</td>\n",
       "      <td>C123</td>\n",
       "      <td>S</td>\n",
       "    </tr>\n",
       "    <tr>\n",
       "      <th>index_4</th>\n",
       "      <td>5</td>\n",
       "      <td>0</td>\n",
       "      <td>3</td>\n",
       "      <td>Allen, Mr. William Henry</td>\n",
       "      <td>male</td>\n",
       "      <td>35.0</td>\n",
       "      <td>0</td>\n",
       "      <td>0</td>\n",
       "      <td>373450</td>\n",
       "      <td>8.0500</td>\n",
       "      <td>NaN</td>\n",
       "      <td>S</td>\n",
       "    </tr>\n",
       "    <tr>\n",
       "      <th>index_5</th>\n",
       "      <td>6</td>\n",
       "      <td>0</td>\n",
       "      <td>3</td>\n",
       "      <td>Moran, Mr. James</td>\n",
       "      <td>male</td>\n",
       "      <td>NaN</td>\n",
       "      <td>0</td>\n",
       "      <td>0</td>\n",
       "      <td>330877</td>\n",
       "      <td>8.4583</td>\n",
       "      <td>NaN</td>\n",
       "      <td>Q</td>\n",
       "    </tr>\n",
       "    <tr>\n",
       "      <th>index_6</th>\n",
       "      <td>7</td>\n",
       "      <td>0</td>\n",
       "      <td>1</td>\n",
       "      <td>McCarthy, Mr. Timothy J</td>\n",
       "      <td>male</td>\n",
       "      <td>54.0</td>\n",
       "      <td>0</td>\n",
       "      <td>0</td>\n",
       "      <td>17463</td>\n",
       "      <td>51.8625</td>\n",
       "      <td>E46</td>\n",
       "      <td>S</td>\n",
       "    </tr>\n",
       "  </tbody>\n",
       "</table>\n",
       "</div>"
      ],
      "text/plain": [
       "         PassengerId  Survived  Pclass  \\\n",
       "index_3            4         1       1   \n",
       "index_4            5         0       3   \n",
       "index_5            6         0       3   \n",
       "index_6            7         0       1   \n",
       "\n",
       "                                                 Name     Sex   Age  SibSp  \\\n",
       "index_3  Futrelle, Mrs. Jacques Heath (Lily May Peel)  female  35.0      1   \n",
       "index_4                      Allen, Mr. William Henry    male  35.0      0   \n",
       "index_5                              Moran, Mr. James    male   NaN      0   \n",
       "index_6                       McCarthy, Mr. Timothy J    male  54.0      0   \n",
       "\n",
       "         Parch  Ticket     Fare Cabin Embarked  \n",
       "index_3      0  113803  53.1000  C123        S  \n",
       "index_4      0  373450   8.0500   NaN        S  \n",
       "index_5      0  330877   8.4583   NaN        Q  \n",
       "index_6      0   17463  51.8625   E46        S  "
      ]
     },
     "metadata": {},
     "output_type": "display_data"
    },
    {
     "data": {
      "text/html": [
       "<div>\n",
       "<style scoped>\n",
       "    .dataframe tbody tr th:only-of-type {\n",
       "        vertical-align: middle;\n",
       "    }\n",
       "\n",
       "    .dataframe tbody tr th {\n",
       "        vertical-align: top;\n",
       "    }\n",
       "\n",
       "    .dataframe thead th {\n",
       "        text-align: right;\n",
       "    }\n",
       "</style>\n",
       "<table border=\"1\" class=\"dataframe\">\n",
       "  <thead>\n",
       "    <tr style=\"text-align: right;\">\n",
       "      <th></th>\n",
       "      <th>PassengerId</th>\n",
       "      <th>Survived</th>\n",
       "      <th>Pclass</th>\n",
       "      <th>Name</th>\n",
       "      <th>Sex</th>\n",
       "      <th>Age</th>\n",
       "      <th>SibSp</th>\n",
       "      <th>Parch</th>\n",
       "      <th>Ticket</th>\n",
       "      <th>Fare</th>\n",
       "      <th>Cabin</th>\n",
       "      <th>Embarked</th>\n",
       "    </tr>\n",
       "  </thead>\n",
       "  <tbody>\n",
       "    <tr>\n",
       "      <th>index_3</th>\n",
       "      <td>4</td>\n",
       "      <td>1</td>\n",
       "      <td>1</td>\n",
       "      <td>Futrelle, Mrs. Jacques Heath (Lily May Peel)</td>\n",
       "      <td>female</td>\n",
       "      <td>35.0</td>\n",
       "      <td>1</td>\n",
       "      <td>0</td>\n",
       "      <td>113803</td>\n",
       "      <td>53.1000</td>\n",
       "      <td>C123</td>\n",
       "      <td>S</td>\n",
       "    </tr>\n",
       "    <tr>\n",
       "      <th>index_4</th>\n",
       "      <td>5</td>\n",
       "      <td>0</td>\n",
       "      <td>3</td>\n",
       "      <td>Allen, Mr. William Henry</td>\n",
       "      <td>male</td>\n",
       "      <td>35.0</td>\n",
       "      <td>0</td>\n",
       "      <td>0</td>\n",
       "      <td>373450</td>\n",
       "      <td>8.0500</td>\n",
       "      <td>NaN</td>\n",
       "      <td>S</td>\n",
       "    </tr>\n",
       "    <tr>\n",
       "      <th>index_5</th>\n",
       "      <td>6</td>\n",
       "      <td>0</td>\n",
       "      <td>3</td>\n",
       "      <td>Moran, Mr. James</td>\n",
       "      <td>male</td>\n",
       "      <td>NaN</td>\n",
       "      <td>0</td>\n",
       "      <td>0</td>\n",
       "      <td>330877</td>\n",
       "      <td>8.4583</td>\n",
       "      <td>NaN</td>\n",
       "      <td>Q</td>\n",
       "    </tr>\n",
       "    <tr>\n",
       "      <th>index_6</th>\n",
       "      <td>7</td>\n",
       "      <td>0</td>\n",
       "      <td>1</td>\n",
       "      <td>McCarthy, Mr. Timothy J</td>\n",
       "      <td>male</td>\n",
       "      <td>54.0</td>\n",
       "      <td>0</td>\n",
       "      <td>0</td>\n",
       "      <td>17463</td>\n",
       "      <td>51.8625</td>\n",
       "      <td>E46</td>\n",
       "      <td>S</td>\n",
       "    </tr>\n",
       "  </tbody>\n",
       "</table>\n",
       "</div>"
      ],
      "text/plain": [
       "         PassengerId  Survived  Pclass  \\\n",
       "index_3            4         1       1   \n",
       "index_4            5         0       3   \n",
       "index_5            6         0       3   \n",
       "index_6            7         0       1   \n",
       "\n",
       "                                                 Name     Sex   Age  SibSp  \\\n",
       "index_3  Futrelle, Mrs. Jacques Heath (Lily May Peel)  female  35.0      1   \n",
       "index_4                      Allen, Mr. William Henry    male  35.0      0   \n",
       "index_5                              Moran, Mr. James    male   NaN      0   \n",
       "index_6                       McCarthy, Mr. Timothy J    male  54.0      0   \n",
       "\n",
       "         Parch  Ticket     Fare Cabin Embarked  \n",
       "index_3      0  113803  53.1000  C123        S  \n",
       "index_4      0  373450   8.0500   NaN        S  \n",
       "index_5      0  330877   8.4583   NaN        Q  \n",
       "index_6      0   17463  51.8625   E46        S  "
      ]
     },
     "metadata": {},
     "output_type": "display_data"
    },
    {
     "data": {
      "text/html": [
       "<div>\n",
       "<style scoped>\n",
       "    .dataframe tbody tr th:only-of-type {\n",
       "        vertical-align: middle;\n",
       "    }\n",
       "\n",
       "    .dataframe tbody tr th {\n",
       "        vertical-align: top;\n",
       "    }\n",
       "\n",
       "    .dataframe thead th {\n",
       "        text-align: right;\n",
       "    }\n",
       "</style>\n",
       "<table border=\"1\" class=\"dataframe\">\n",
       "  <thead>\n",
       "    <tr style=\"text-align: right;\">\n",
       "      <th></th>\n",
       "      <th>PassengerId</th>\n",
       "      <th>Survived</th>\n",
       "      <th>Pclass</th>\n",
       "      <th>Name</th>\n",
       "      <th>Sex</th>\n",
       "      <th>Age</th>\n",
       "      <th>SibSp</th>\n",
       "      <th>Parch</th>\n",
       "      <th>Ticket</th>\n",
       "      <th>Fare</th>\n",
       "      <th>Cabin</th>\n",
       "      <th>Embarked</th>\n",
       "    </tr>\n",
       "  </thead>\n",
       "  <tbody>\n",
       "    <tr>\n",
       "      <th>index_3</th>\n",
       "      <td>4</td>\n",
       "      <td>1</td>\n",
       "      <td>1</td>\n",
       "      <td>Futrelle, Mrs. Jacques Heath (Lily May Peel)</td>\n",
       "      <td>female</td>\n",
       "      <td>35.0</td>\n",
       "      <td>1</td>\n",
       "      <td>0</td>\n",
       "      <td>113803</td>\n",
       "      <td>53.1000</td>\n",
       "      <td>C123</td>\n",
       "      <td>S</td>\n",
       "    </tr>\n",
       "    <tr>\n",
       "      <th>index_4</th>\n",
       "      <td>5</td>\n",
       "      <td>0</td>\n",
       "      <td>3</td>\n",
       "      <td>Allen, Mr. William Henry</td>\n",
       "      <td>male</td>\n",
       "      <td>35.0</td>\n",
       "      <td>0</td>\n",
       "      <td>0</td>\n",
       "      <td>373450</td>\n",
       "      <td>8.0500</td>\n",
       "      <td>NaN</td>\n",
       "      <td>S</td>\n",
       "    </tr>\n",
       "    <tr>\n",
       "      <th>index_5</th>\n",
       "      <td>6</td>\n",
       "      <td>0</td>\n",
       "      <td>3</td>\n",
       "      <td>Moran, Mr. James</td>\n",
       "      <td>male</td>\n",
       "      <td>NaN</td>\n",
       "      <td>0</td>\n",
       "      <td>0</td>\n",
       "      <td>330877</td>\n",
       "      <td>8.4583</td>\n",
       "      <td>NaN</td>\n",
       "      <td>Q</td>\n",
       "    </tr>\n",
       "    <tr>\n",
       "      <th>index_6</th>\n",
       "      <td>7</td>\n",
       "      <td>0</td>\n",
       "      <td>1</td>\n",
       "      <td>McCarthy, Mr. Timothy J</td>\n",
       "      <td>male</td>\n",
       "      <td>54.0</td>\n",
       "      <td>0</td>\n",
       "      <td>0</td>\n",
       "      <td>17463</td>\n",
       "      <td>51.8625</td>\n",
       "      <td>E46</td>\n",
       "      <td>S</td>\n",
       "    </tr>\n",
       "    <tr>\n",
       "      <th>index_7</th>\n",
       "      <td>8</td>\n",
       "      <td>0</td>\n",
       "      <td>3</td>\n",
       "      <td>Palsson, Master. Gosta Leonard</td>\n",
       "      <td>male</td>\n",
       "      <td>2.0</td>\n",
       "      <td>3</td>\n",
       "      <td>1</td>\n",
       "      <td>349909</td>\n",
       "      <td>21.0750</td>\n",
       "      <td>NaN</td>\n",
       "      <td>S</td>\n",
       "    </tr>\n",
       "  </tbody>\n",
       "</table>\n",
       "</div>"
      ],
      "text/plain": [
       "         PassengerId  Survived  Pclass  \\\n",
       "index_3            4         1       1   \n",
       "index_4            5         0       3   \n",
       "index_5            6         0       3   \n",
       "index_6            7         0       1   \n",
       "index_7            8         0       3   \n",
       "\n",
       "                                                 Name     Sex   Age  SibSp  \\\n",
       "index_3  Futrelle, Mrs. Jacques Heath (Lily May Peel)  female  35.0      1   \n",
       "index_4                      Allen, Mr. William Henry    male  35.0      0   \n",
       "index_5                              Moran, Mr. James    male   NaN      0   \n",
       "index_6                       McCarthy, Mr. Timothy J    male  54.0      0   \n",
       "index_7                Palsson, Master. Gosta Leonard    male   2.0      3   \n",
       "\n",
       "         Parch  Ticket     Fare Cabin Embarked  \n",
       "index_3      0  113803  53.1000  C123        S  \n",
       "index_4      0  373450   8.0500   NaN        S  \n",
       "index_5      0  330877   8.4583   NaN        Q  \n",
       "index_6      0   17463  51.8625   E46        S  \n",
       "index_7      1  349909  21.0750   NaN        S  "
      ]
     },
     "metadata": {},
     "output_type": "display_data"
    }
   ],
   "source": [
    "display(df_titanic[3:7]) # mengakses posisi row menggunakan aturan list slicing\n",
    "display(df_titanic.iloc[3:7]) # mengakses posisi row menggunakan aturan list slicing\n",
    "display(df_titanic.loc['index_3':'index_7']) # mengakses index\n",
    "# Perhatikan perbedaan slicing dengan index slicing, iloc, dan loc"
   ]
  },
  {
   "cell_type": "code",
   "execution_count": 59,
   "id": "3e79952b",
   "metadata": {
    "ExecuteTime": {
     "end_time": "2022-09-26T09:39:59.690139Z",
     "start_time": "2022-09-26T09:39:59.659613Z"
    }
   },
   "outputs": [
    {
     "data": {
      "text/html": [
       "<div>\n",
       "<style scoped>\n",
       "    .dataframe tbody tr th:only-of-type {\n",
       "        vertical-align: middle;\n",
       "    }\n",
       "\n",
       "    .dataframe tbody tr th {\n",
       "        vertical-align: top;\n",
       "    }\n",
       "\n",
       "    .dataframe thead th {\n",
       "        text-align: right;\n",
       "    }\n",
       "</style>\n",
       "<table border=\"1\" class=\"dataframe\">\n",
       "  <thead>\n",
       "    <tr style=\"text-align: right;\">\n",
       "      <th></th>\n",
       "      <th>PassengerId</th>\n",
       "      <th>Survived</th>\n",
       "      <th>Pclass</th>\n",
       "      <th>Name</th>\n",
       "      <th>Sex</th>\n",
       "      <th>Age</th>\n",
       "      <th>SibSp</th>\n",
       "      <th>Parch</th>\n",
       "      <th>Ticket</th>\n",
       "      <th>Fare</th>\n",
       "      <th>Cabin</th>\n",
       "      <th>Embarked</th>\n",
       "    </tr>\n",
       "  </thead>\n",
       "  <tbody>\n",
       "    <tr>\n",
       "      <th>0</th>\n",
       "      <td>1</td>\n",
       "      <td>0</td>\n",
       "      <td>3</td>\n",
       "      <td>Braund, Mr. Owen Harris</td>\n",
       "      <td>male</td>\n",
       "      <td>22.0</td>\n",
       "      <td>1</td>\n",
       "      <td>0</td>\n",
       "      <td>A/5 21171</td>\n",
       "      <td>7.2500</td>\n",
       "      <td>NaN</td>\n",
       "      <td>S</td>\n",
       "    </tr>\n",
       "    <tr>\n",
       "      <th>1</th>\n",
       "      <td>2</td>\n",
       "      <td>1</td>\n",
       "      <td>1</td>\n",
       "      <td>Cumings, Mrs. John Bradley (Florence Briggs Th...</td>\n",
       "      <td>female</td>\n",
       "      <td>38.0</td>\n",
       "      <td>1</td>\n",
       "      <td>0</td>\n",
       "      <td>PC 17599</td>\n",
       "      <td>71.2833</td>\n",
       "      <td>C85</td>\n",
       "      <td>C</td>\n",
       "    </tr>\n",
       "    <tr>\n",
       "      <th>2</th>\n",
       "      <td>3</td>\n",
       "      <td>1</td>\n",
       "      <td>3</td>\n",
       "      <td>Heikkinen, Miss. Laina</td>\n",
       "      <td>female</td>\n",
       "      <td>26.0</td>\n",
       "      <td>0</td>\n",
       "      <td>0</td>\n",
       "      <td>STON/O2. 3101282</td>\n",
       "      <td>7.9250</td>\n",
       "      <td>NaN</td>\n",
       "      <td>S</td>\n",
       "    </tr>\n",
       "    <tr>\n",
       "      <th>3</th>\n",
       "      <td>4</td>\n",
       "      <td>1</td>\n",
       "      <td>1</td>\n",
       "      <td>Futrelle, Mrs. Jacques Heath (Lily May Peel)</td>\n",
       "      <td>female</td>\n",
       "      <td>35.0</td>\n",
       "      <td>1</td>\n",
       "      <td>0</td>\n",
       "      <td>113803</td>\n",
       "      <td>53.1000</td>\n",
       "      <td>C123</td>\n",
       "      <td>S</td>\n",
       "    </tr>\n",
       "    <tr>\n",
       "      <th>4</th>\n",
       "      <td>5</td>\n",
       "      <td>0</td>\n",
       "      <td>3</td>\n",
       "      <td>Allen, Mr. William Henry</td>\n",
       "      <td>male</td>\n",
       "      <td>35.0</td>\n",
       "      <td>0</td>\n",
       "      <td>0</td>\n",
       "      <td>373450</td>\n",
       "      <td>8.0500</td>\n",
       "      <td>NaN</td>\n",
       "      <td>S</td>\n",
       "    </tr>\n",
       "  </tbody>\n",
       "</table>\n",
       "</div>"
      ],
      "text/plain": [
       "   PassengerId  Survived  Pclass  \\\n",
       "0            1         0       3   \n",
       "1            2         1       1   \n",
       "2            3         1       3   \n",
       "3            4         1       1   \n",
       "4            5         0       3   \n",
       "\n",
       "                                                Name     Sex   Age  SibSp  \\\n",
       "0                            Braund, Mr. Owen Harris    male  22.0      1   \n",
       "1  Cumings, Mrs. John Bradley (Florence Briggs Th...  female  38.0      1   \n",
       "2                             Heikkinen, Miss. Laina  female  26.0      0   \n",
       "3       Futrelle, Mrs. Jacques Heath (Lily May Peel)  female  35.0      1   \n",
       "4                           Allen, Mr. William Henry    male  35.0      0   \n",
       "\n",
       "   Parch            Ticket     Fare Cabin Embarked  \n",
       "0      0         A/5 21171   7.2500   NaN        S  \n",
       "1      0          PC 17599  71.2833   C85        C  \n",
       "2      0  STON/O2. 3101282   7.9250   NaN        S  \n",
       "3      0            113803  53.1000  C123        S  \n",
       "4      0            373450   8.0500   NaN        S  "
      ]
     },
     "execution_count": 59,
     "metadata": {},
     "output_type": "execute_result"
    }
   ],
   "source": [
    "df_titanic.index = df_titanic_index\n",
    "df_titanic.head()"
   ]
  },
  {
   "cell_type": "code",
   "execution_count": 60,
   "id": "397581f9-4a9c-4e45-863c-1c23fd712673",
   "metadata": {
    "ExecuteTime": {
     "end_time": "2022-09-26T09:40:00.742075Z",
     "start_time": "2022-09-26T09:40:00.717364Z"
    },
    "colab": {
     "base_uri": "https://localhost:8080/",
     "height": 236
    },
    "executionInfo": {
     "elapsed": 424,
     "status": "ok",
     "timestamp": 1648709981738,
     "user": {
      "displayName": "Pratama Suprayogi",
      "userId": "14884808246882934220"
     },
     "user_tz": -420
    },
    "id": "397581f9-4a9c-4e45-863c-1c23fd712673",
    "outputId": "65edf69d-2a50-436c-bf54-07b3620cca2c"
   },
   "outputs": [
    {
     "data": {
      "text/html": [
       "<div>\n",
       "<style scoped>\n",
       "    .dataframe tbody tr th:only-of-type {\n",
       "        vertical-align: middle;\n",
       "    }\n",
       "\n",
       "    .dataframe tbody tr th {\n",
       "        vertical-align: top;\n",
       "    }\n",
       "\n",
       "    .dataframe thead th {\n",
       "        text-align: right;\n",
       "    }\n",
       "</style>\n",
       "<table border=\"1\" class=\"dataframe\">\n",
       "  <thead>\n",
       "    <tr style=\"text-align: right;\">\n",
       "      <th></th>\n",
       "      <th>PassengerId</th>\n",
       "      <th>Survived</th>\n",
       "      <th>Pclass</th>\n",
       "      <th>Name</th>\n",
       "      <th>Sex</th>\n",
       "      <th>Age</th>\n",
       "      <th>SibSp</th>\n",
       "      <th>Parch</th>\n",
       "      <th>Ticket</th>\n",
       "      <th>Fare</th>\n",
       "      <th>Cabin</th>\n",
       "      <th>Embarked</th>\n",
       "    </tr>\n",
       "  </thead>\n",
       "  <tbody>\n",
       "    <tr>\n",
       "      <th>887</th>\n",
       "      <td>888</td>\n",
       "      <td>1</td>\n",
       "      <td>1</td>\n",
       "      <td>Graham, Miss. Margaret Edith</td>\n",
       "      <td>female</td>\n",
       "      <td>19.0</td>\n",
       "      <td>0</td>\n",
       "      <td>0</td>\n",
       "      <td>112053</td>\n",
       "      <td>30.00</td>\n",
       "      <td>B42</td>\n",
       "      <td>S</td>\n",
       "    </tr>\n",
       "    <tr>\n",
       "      <th>888</th>\n",
       "      <td>889</td>\n",
       "      <td>0</td>\n",
       "      <td>3</td>\n",
       "      <td>Johnston, Miss. Catherine Helen \"Carrie\"</td>\n",
       "      <td>female</td>\n",
       "      <td>NaN</td>\n",
       "      <td>1</td>\n",
       "      <td>2</td>\n",
       "      <td>W./C. 6607</td>\n",
       "      <td>23.45</td>\n",
       "      <td>NaN</td>\n",
       "      <td>S</td>\n",
       "    </tr>\n",
       "    <tr>\n",
       "      <th>889</th>\n",
       "      <td>890</td>\n",
       "      <td>1</td>\n",
       "      <td>1</td>\n",
       "      <td>Behr, Mr. Karl Howell</td>\n",
       "      <td>male</td>\n",
       "      <td>26.0</td>\n",
       "      <td>0</td>\n",
       "      <td>0</td>\n",
       "      <td>111369</td>\n",
       "      <td>30.00</td>\n",
       "      <td>C148</td>\n",
       "      <td>C</td>\n",
       "    </tr>\n",
       "    <tr>\n",
       "      <th>890</th>\n",
       "      <td>891</td>\n",
       "      <td>0</td>\n",
       "      <td>3</td>\n",
       "      <td>Dooley, Mr. Patrick</td>\n",
       "      <td>male</td>\n",
       "      <td>32.0</td>\n",
       "      <td>0</td>\n",
       "      <td>0</td>\n",
       "      <td>370376</td>\n",
       "      <td>7.75</td>\n",
       "      <td>NaN</td>\n",
       "      <td>Q</td>\n",
       "    </tr>\n",
       "  </tbody>\n",
       "</table>\n",
       "</div>"
      ],
      "text/plain": [
       "     PassengerId  Survived  Pclass                                      Name  \\\n",
       "887          888         1       1              Graham, Miss. Margaret Edith   \n",
       "888          889         0       3  Johnston, Miss. Catherine Helen \"Carrie\"   \n",
       "889          890         1       1                     Behr, Mr. Karl Howell   \n",
       "890          891         0       3                       Dooley, Mr. Patrick   \n",
       "\n",
       "        Sex   Age  SibSp  Parch      Ticket   Fare Cabin Embarked  \n",
       "887  female  19.0      0      0      112053  30.00   B42        S  \n",
       "888  female   NaN      1      2  W./C. 6607  23.45   NaN        S  \n",
       "889    male  26.0      0      0      111369  30.00  C148        C  \n",
       "890    male  32.0      0      0      370376   7.75   NaN        Q  "
      ]
     },
     "execution_count": 60,
     "metadata": {},
     "output_type": "execute_result"
    }
   ],
   "source": [
    "df_titanic[-4:]"
   ]
  },
  {
   "cell_type": "markdown",
   "id": "3db45008-59af-4976-a47f-31fd85cb692b",
   "metadata": {
    "id": "3db45008-59af-4976-a47f-31fd85cb692b"
   },
   "source": [
    "### Mengambil sebagian baris pada sebagian kolom (row-column slicing)"
   ]
  },
  {
   "cell_type": "code",
   "execution_count": 61,
   "id": "958bce0e-780e-47d6-b1de-c6ea21b5e2d8",
   "metadata": {
    "ExecuteTime": {
     "end_time": "2022-09-26T09:40:01.861390Z",
     "start_time": "2022-09-26T09:40:01.844249Z"
    },
    "colab": {
     "base_uri": "https://localhost:8080/",
     "height": 206
    },
    "executionInfo": {
     "elapsed": 429,
     "status": "ok",
     "timestamp": 1648709995416,
     "user": {
      "displayName": "Pratama Suprayogi",
      "userId": "14884808246882934220"
     },
     "user_tz": -420
    },
    "id": "958bce0e-780e-47d6-b1de-c6ea21b5e2d8",
    "outputId": "691f064f-2415-4eb6-baae-d0ff2a37d4f7"
   },
   "outputs": [
    {
     "data": {
      "text/html": [
       "<div>\n",
       "<style scoped>\n",
       "    .dataframe tbody tr th:only-of-type {\n",
       "        vertical-align: middle;\n",
       "    }\n",
       "\n",
       "    .dataframe tbody tr th {\n",
       "        vertical-align: top;\n",
       "    }\n",
       "\n",
       "    .dataframe thead th {\n",
       "        text-align: right;\n",
       "    }\n",
       "</style>\n",
       "<table border=\"1\" class=\"dataframe\">\n",
       "  <thead>\n",
       "    <tr style=\"text-align: right;\">\n",
       "      <th></th>\n",
       "      <th>Name</th>\n",
       "      <th>Sex</th>\n",
       "      <th>Survived</th>\n",
       "    </tr>\n",
       "  </thead>\n",
       "  <tbody>\n",
       "    <tr>\n",
       "      <th>0</th>\n",
       "      <td>Braund, Mr. Owen Harris</td>\n",
       "      <td>male</td>\n",
       "      <td>0</td>\n",
       "    </tr>\n",
       "    <tr>\n",
       "      <th>1</th>\n",
       "      <td>Cumings, Mrs. John Bradley (Florence Briggs Th...</td>\n",
       "      <td>female</td>\n",
       "      <td>1</td>\n",
       "    </tr>\n",
       "    <tr>\n",
       "      <th>2</th>\n",
       "      <td>Heikkinen, Miss. Laina</td>\n",
       "      <td>female</td>\n",
       "      <td>1</td>\n",
       "    </tr>\n",
       "    <tr>\n",
       "      <th>3</th>\n",
       "      <td>Futrelle, Mrs. Jacques Heath (Lily May Peel)</td>\n",
       "      <td>female</td>\n",
       "      <td>1</td>\n",
       "    </tr>\n",
       "    <tr>\n",
       "      <th>4</th>\n",
       "      <td>Allen, Mr. William Henry</td>\n",
       "      <td>male</td>\n",
       "      <td>0</td>\n",
       "    </tr>\n",
       "  </tbody>\n",
       "</table>\n",
       "</div>"
      ],
      "text/plain": [
       "                                                Name     Sex  Survived\n",
       "0                            Braund, Mr. Owen Harris    male         0\n",
       "1  Cumings, Mrs. John Bradley (Florence Briggs Th...  female         1\n",
       "2                             Heikkinen, Miss. Laina  female         1\n",
       "3       Futrelle, Mrs. Jacques Heath (Lily May Peel)  female         1\n",
       "4                           Allen, Mr. William Henry    male         0"
      ]
     },
     "execution_count": 61,
     "metadata": {},
     "output_type": "execute_result"
    }
   ],
   "source": [
    "df_titanic[['Name','Sex','Survived']][:5]"
   ]
  },
  {
   "cell_type": "markdown",
   "id": "2fbbbac6",
   "metadata": {
    "id": "7f541b88-7520-443d-910f-ad75057f342c"
   },
   "source": [
    "### Loc dan Iloc"
   ]
  },
  {
   "cell_type": "markdown",
   "id": "4b75fdff",
   "metadata": {
    "id": "8d4ec717-f43f-4315-8431-6ee46b987c08"
   },
   "source": [
    "#### .loc"
   ]
  },
  {
   "cell_type": "markdown",
   "id": "54eedc11",
   "metadata": {
    "id": "be11d6c4-243a-43c4-a648-b3af26608e95"
   },
   "source": [
    "> Memilih baris atau kolom dengan label tertentu dari index.\n",
    "\n",
    "```python\n",
    "dataframe1.loc[\"index\", \"kolom\"]\n",
    "\n",
    "dataframe1.loc[\"index_awal\":\"index_akhir\", \"kolom_awal\":\"kolom_akhir\"]\n",
    "```"
   ]
  },
  {
   "cell_type": "code",
   "execution_count": 62,
   "id": "a567e0b1",
   "metadata": {
    "ExecuteTime": {
     "end_time": "2022-09-26T09:40:08.903524Z",
     "start_time": "2022-09-26T09:40:08.886544Z"
    },
    "colab": {
     "base_uri": "https://localhost:8080/",
     "height": 206
    },
    "executionInfo": {
     "elapsed": 417,
     "status": "ok",
     "timestamp": 1648711178032,
     "user": {
      "displayName": "Pratama Suprayogi",
      "userId": "14884808246882934220"
     },
     "user_tz": -420
    },
    "id": "7c21a512-478a-4a68-900f-b991a28b4a2e",
    "outputId": "4715d74f-c998-40a1-9898-9695601c508e"
   },
   "outputs": [
    {
     "data": {
      "text/html": [
       "<div>\n",
       "<style scoped>\n",
       "    .dataframe tbody tr th:only-of-type {\n",
       "        vertical-align: middle;\n",
       "    }\n",
       "\n",
       "    .dataframe tbody tr th {\n",
       "        vertical-align: top;\n",
       "    }\n",
       "\n",
       "    .dataframe thead th {\n",
       "        text-align: right;\n",
       "    }\n",
       "</style>\n",
       "<table border=\"1\" class=\"dataframe\">\n",
       "  <thead>\n",
       "    <tr style=\"text-align: right;\">\n",
       "      <th></th>\n",
       "      <th>Pclass</th>\n",
       "      <th>Name</th>\n",
       "      <th>Sex</th>\n",
       "      <th>Age</th>\n",
       "    </tr>\n",
       "  </thead>\n",
       "  <tbody>\n",
       "    <tr>\n",
       "      <th>0</th>\n",
       "      <td>3</td>\n",
       "      <td>Braund, Mr. Owen Harris</td>\n",
       "      <td>male</td>\n",
       "      <td>22.0</td>\n",
       "    </tr>\n",
       "    <tr>\n",
       "      <th>1</th>\n",
       "      <td>1</td>\n",
       "      <td>Cumings, Mrs. John Bradley (Florence Briggs Th...</td>\n",
       "      <td>female</td>\n",
       "      <td>38.0</td>\n",
       "    </tr>\n",
       "    <tr>\n",
       "      <th>2</th>\n",
       "      <td>3</td>\n",
       "      <td>Heikkinen, Miss. Laina</td>\n",
       "      <td>female</td>\n",
       "      <td>26.0</td>\n",
       "    </tr>\n",
       "    <tr>\n",
       "      <th>3</th>\n",
       "      <td>1</td>\n",
       "      <td>Futrelle, Mrs. Jacques Heath (Lily May Peel)</td>\n",
       "      <td>female</td>\n",
       "      <td>35.0</td>\n",
       "    </tr>\n",
       "    <tr>\n",
       "      <th>4</th>\n",
       "      <td>3</td>\n",
       "      <td>Allen, Mr. William Henry</td>\n",
       "      <td>male</td>\n",
       "      <td>35.0</td>\n",
       "    </tr>\n",
       "  </tbody>\n",
       "</table>\n",
       "</div>"
      ],
      "text/plain": [
       "   Pclass                                               Name     Sex   Age\n",
       "0       3                            Braund, Mr. Owen Harris    male  22.0\n",
       "1       1  Cumings, Mrs. John Bradley (Florence Briggs Th...  female  38.0\n",
       "2       3                             Heikkinen, Miss. Laina  female  26.0\n",
       "3       1       Futrelle, Mrs. Jacques Heath (Lily May Peel)  female  35.0\n",
       "4       3                           Allen, Mr. William Henry    male  35.0"
      ]
     },
     "execution_count": 62,
     "metadata": {},
     "output_type": "execute_result"
    }
   ],
   "source": [
    "# kita akan coba mengakses sampai dengan index ke 4 (baris ke-5) \n",
    "# mulai dari Kolom 'Pclass' s.d. kolom 'Age'\n",
    "df_titanic.loc[:4, 'Pclass':'Age']"
   ]
  },
  {
   "cell_type": "code",
   "execution_count": 63,
   "id": "4e909111",
   "metadata": {
    "ExecuteTime": {
     "end_time": "2022-09-26T09:40:09.279163Z",
     "start_time": "2022-09-26T09:40:09.257151Z"
    },
    "colab": {
     "base_uri": "https://localhost:8080/",
     "height": 320
    },
    "executionInfo": {
     "elapsed": 419,
     "status": "ok",
     "timestamp": 1648711196983,
     "user": {
      "displayName": "Pratama Suprayogi",
      "userId": "14884808246882934220"
     },
     "user_tz": -420
    },
    "id": "804f41ac-495d-41ea-b344-f59905ca3bca",
    "outputId": "3e1db02e-c7fc-4f37-c3a9-8c85c8227d5a"
   },
   "outputs": [
    {
     "data": {
      "text/html": [
       "<div>\n",
       "<style scoped>\n",
       "    .dataframe tbody tr th:only-of-type {\n",
       "        vertical-align: middle;\n",
       "    }\n",
       "\n",
       "    .dataframe tbody tr th {\n",
       "        vertical-align: top;\n",
       "    }\n",
       "\n",
       "    .dataframe thead th {\n",
       "        text-align: right;\n",
       "    }\n",
       "</style>\n",
       "<table border=\"1\" class=\"dataframe\">\n",
       "  <thead>\n",
       "    <tr style=\"text-align: right;\">\n",
       "      <th></th>\n",
       "      <th>PassengerId</th>\n",
       "      <th>Survived</th>\n",
       "      <th>Pclass</th>\n",
       "      <th>Name</th>\n",
       "      <th>Sex</th>\n",
       "      <th>Age</th>\n",
       "      <th>SibSp</th>\n",
       "      <th>Parch</th>\n",
       "      <th>Ticket</th>\n",
       "      <th>Fare</th>\n",
       "      <th>Cabin</th>\n",
       "      <th>Embarked</th>\n",
       "    </tr>\n",
       "  </thead>\n",
       "  <tbody>\n",
       "    <tr>\n",
       "      <th>0</th>\n",
       "      <td>1</td>\n",
       "      <td>0</td>\n",
       "      <td>3</td>\n",
       "      <td>Braund, Mr. Owen Harris</td>\n",
       "      <td>male</td>\n",
       "      <td>22.0</td>\n",
       "      <td>1</td>\n",
       "      <td>0</td>\n",
       "      <td>A/5 21171</td>\n",
       "      <td>7.2500</td>\n",
       "      <td>NaN</td>\n",
       "      <td>S</td>\n",
       "    </tr>\n",
       "    <tr>\n",
       "      <th>1</th>\n",
       "      <td>2</td>\n",
       "      <td>1</td>\n",
       "      <td>1</td>\n",
       "      <td>Cumings, Mrs. John Bradley (Florence Briggs Th...</td>\n",
       "      <td>female</td>\n",
       "      <td>38.0</td>\n",
       "      <td>1</td>\n",
       "      <td>0</td>\n",
       "      <td>PC 17599</td>\n",
       "      <td>71.2833</td>\n",
       "      <td>C85</td>\n",
       "      <td>C</td>\n",
       "    </tr>\n",
       "    <tr>\n",
       "      <th>2</th>\n",
       "      <td>3</td>\n",
       "      <td>1</td>\n",
       "      <td>3</td>\n",
       "      <td>Heikkinen, Miss. Laina</td>\n",
       "      <td>female</td>\n",
       "      <td>26.0</td>\n",
       "      <td>0</td>\n",
       "      <td>0</td>\n",
       "      <td>STON/O2. 3101282</td>\n",
       "      <td>7.9250</td>\n",
       "      <td>NaN</td>\n",
       "      <td>S</td>\n",
       "    </tr>\n",
       "    <tr>\n",
       "      <th>3</th>\n",
       "      <td>4</td>\n",
       "      <td>1</td>\n",
       "      <td>1</td>\n",
       "      <td>Futrelle, Mrs. Jacques Heath (Lily May Peel)</td>\n",
       "      <td>female</td>\n",
       "      <td>35.0</td>\n",
       "      <td>1</td>\n",
       "      <td>0</td>\n",
       "      <td>113803</td>\n",
       "      <td>53.1000</td>\n",
       "      <td>C123</td>\n",
       "      <td>S</td>\n",
       "    </tr>\n",
       "    <tr>\n",
       "      <th>4</th>\n",
       "      <td>5</td>\n",
       "      <td>0</td>\n",
       "      <td>3</td>\n",
       "      <td>Allen, Mr. William Henry</td>\n",
       "      <td>male</td>\n",
       "      <td>35.0</td>\n",
       "      <td>0</td>\n",
       "      <td>0</td>\n",
       "      <td>373450</td>\n",
       "      <td>8.0500</td>\n",
       "      <td>NaN</td>\n",
       "      <td>S</td>\n",
       "    </tr>\n",
       "  </tbody>\n",
       "</table>\n",
       "</div>"
      ],
      "text/plain": [
       "   PassengerId  Survived  Pclass  \\\n",
       "0            1         0       3   \n",
       "1            2         1       1   \n",
       "2            3         1       3   \n",
       "3            4         1       1   \n",
       "4            5         0       3   \n",
       "\n",
       "                                                Name     Sex   Age  SibSp  \\\n",
       "0                            Braund, Mr. Owen Harris    male  22.0      1   \n",
       "1  Cumings, Mrs. John Bradley (Florence Briggs Th...  female  38.0      1   \n",
       "2                             Heikkinen, Miss. Laina  female  26.0      0   \n",
       "3       Futrelle, Mrs. Jacques Heath (Lily May Peel)  female  35.0      1   \n",
       "4                           Allen, Mr. William Henry    male  35.0      0   \n",
       "\n",
       "   Parch            Ticket     Fare Cabin Embarked  \n",
       "0      0         A/5 21171   7.2500   NaN        S  \n",
       "1      0          PC 17599  71.2833   C85        C  \n",
       "2      0  STON/O2. 3101282   7.9250   NaN        S  \n",
       "3      0            113803  53.1000  C123        S  \n",
       "4      0            373450   8.0500   NaN        S  "
      ]
     },
     "execution_count": 63,
     "metadata": {},
     "output_type": "execute_result"
    }
   ],
   "source": [
    "# kita akan coba mengakses sampai dengan index ke 4 (baris ke-5)\n",
    "# atas keseluruhan dataset\n",
    "df_titanic.loc[:4]"
   ]
  },
  {
   "cell_type": "code",
   "execution_count": 64,
   "id": "37856275",
   "metadata": {
    "ExecuteTime": {
     "end_time": "2022-09-26T09:40:09.654824Z",
     "start_time": "2022-09-26T09:40:09.635016Z"
    },
    "colab": {
     "base_uri": "https://localhost:8080/"
    },
    "executionInfo": {
     "elapsed": 989,
     "status": "ok",
     "timestamp": 1648711207653,
     "user": {
      "displayName": "Pratama Suprayogi",
      "userId": "14884808246882934220"
     },
     "user_tz": -420
    },
    "id": "196006a8-066d-4e6f-8e4c-93f89eacae16",
    "outputId": "b4cde5d7-7fb0-4984-b58e-8d4979f3d3ec"
   },
   "outputs": [
    {
     "data": {
      "text/plain": [
       "0    22.0\n",
       "1    38.0\n",
       "2    26.0\n",
       "3    35.0\n",
       "4    35.0\n",
       "Name: Age, dtype: float64"
      ]
     },
     "execution_count": 64,
     "metadata": {},
     "output_type": "execute_result"
    }
   ],
   "source": [
    "# kita akan coba mengakses sampai dengan index ke 4 (baris ke-5) \n",
    "# hanya pada kolom Age\n",
    "df_titanic.loc[:4,'Age']"
   ]
  },
  {
   "cell_type": "markdown",
   "id": "45040641",
   "metadata": {
    "id": "72ede3f0-43e3-4089-993b-04554484fca9"
   },
   "source": [
    "#### .iloc"
   ]
  },
  {
   "cell_type": "markdown",
   "id": "07d5cbea",
   "metadata": {
    "id": "6a27dd09-1bc1-4d2f-8762-8cb640ec6072"
   },
   "source": [
    "> Memilih baris atau kolom dengan label tertentu dari posisi index (integers).\n",
    "\n",
    "```python\n",
    "dataframe1.iloc[baris, kolom]\n",
    "\n",
    "dataframe1.iloc[start:end (baris), start:end(kolom)]\n",
    "```"
   ]
  },
  {
   "cell_type": "code",
   "execution_count": 65,
   "id": "c919c0ce",
   "metadata": {
    "ExecuteTime": {
     "end_time": "2022-09-26T09:40:11.978470Z",
     "start_time": "2022-09-26T09:40:11.963655Z"
    },
    "colab": {
     "base_uri": "https://localhost:8080/",
     "height": 206
    },
    "executionInfo": {
     "elapsed": 423,
     "status": "ok",
     "timestamp": 1648711223389,
     "user": {
      "displayName": "Pratama Suprayogi",
      "userId": "14884808246882934220"
     },
     "user_tz": -420
    },
    "id": "2c129960-e8a8-41c7-be6e-459f408f9ca7",
    "outputId": "b4b3b762-f677-409b-983f-9a831c329d62"
   },
   "outputs": [
    {
     "data": {
      "text/html": [
       "<div>\n",
       "<style scoped>\n",
       "    .dataframe tbody tr th:only-of-type {\n",
       "        vertical-align: middle;\n",
       "    }\n",
       "\n",
       "    .dataframe tbody tr th {\n",
       "        vertical-align: top;\n",
       "    }\n",
       "\n",
       "    .dataframe thead th {\n",
       "        text-align: right;\n",
       "    }\n",
       "</style>\n",
       "<table border=\"1\" class=\"dataframe\">\n",
       "  <thead>\n",
       "    <tr style=\"text-align: right;\">\n",
       "      <th></th>\n",
       "      <th>PassengerId</th>\n",
       "      <th>Survived</th>\n",
       "      <th>Pclass</th>\n",
       "      <th>Name</th>\n",
       "      <th>Sex</th>\n",
       "    </tr>\n",
       "  </thead>\n",
       "  <tbody>\n",
       "    <tr>\n",
       "      <th>5</th>\n",
       "      <td>6</td>\n",
       "      <td>0</td>\n",
       "      <td>3</td>\n",
       "      <td>Moran, Mr. James</td>\n",
       "      <td>male</td>\n",
       "    </tr>\n",
       "    <tr>\n",
       "      <th>6</th>\n",
       "      <td>7</td>\n",
       "      <td>0</td>\n",
       "      <td>1</td>\n",
       "      <td>McCarthy, Mr. Timothy J</td>\n",
       "      <td>male</td>\n",
       "    </tr>\n",
       "    <tr>\n",
       "      <th>7</th>\n",
       "      <td>8</td>\n",
       "      <td>0</td>\n",
       "      <td>3</td>\n",
       "      <td>Palsson, Master. Gosta Leonard</td>\n",
       "      <td>male</td>\n",
       "    </tr>\n",
       "    <tr>\n",
       "      <th>8</th>\n",
       "      <td>9</td>\n",
       "      <td>1</td>\n",
       "      <td>3</td>\n",
       "      <td>Johnson, Mrs. Oscar W (Elisabeth Vilhelmina Berg)</td>\n",
       "      <td>female</td>\n",
       "    </tr>\n",
       "    <tr>\n",
       "      <th>9</th>\n",
       "      <td>10</td>\n",
       "      <td>1</td>\n",
       "      <td>2</td>\n",
       "      <td>Nasser, Mrs. Nicholas (Adele Achem)</td>\n",
       "      <td>female</td>\n",
       "    </tr>\n",
       "  </tbody>\n",
       "</table>\n",
       "</div>"
      ],
      "text/plain": [
       "   PassengerId  Survived  Pclass  \\\n",
       "5            6         0       3   \n",
       "6            7         0       1   \n",
       "7            8         0       3   \n",
       "8            9         1       3   \n",
       "9           10         1       2   \n",
       "\n",
       "                                                Name     Sex  \n",
       "5                                   Moran, Mr. James    male  \n",
       "6                            McCarthy, Mr. Timothy J    male  \n",
       "7                     Palsson, Master. Gosta Leonard    male  \n",
       "8  Johnson, Mrs. Oscar W (Elisabeth Vilhelmina Berg)  female  \n",
       "9                Nasser, Mrs. Nicholas (Adele Achem)  female  "
      ]
     },
     "execution_count": 65,
     "metadata": {},
     "output_type": "execute_result"
    }
   ],
   "source": [
    "# kita akan coba mengakses dari index ke-5 s.d. index ke-9 \n",
    "# dari kolom 1 s.d. 5\n",
    "df_titanic.iloc[5:10, 0:5]"
   ]
  },
  {
   "cell_type": "code",
   "execution_count": 66,
   "id": "6eaca2bb",
   "metadata": {
    "ExecuteTime": {
     "end_time": "2022-09-26T09:40:12.287089Z",
     "start_time": "2022-09-26T09:40:12.267234Z"
    },
    "colab": {
     "base_uri": "https://localhost:8080/",
     "height": 175
    },
    "executionInfo": {
     "elapsed": 1130,
     "status": "ok",
     "timestamp": 1648711228662,
     "user": {
      "displayName": "Pratama Suprayogi",
      "userId": "14884808246882934220"
     },
     "user_tz": -420
    },
    "id": "101d666d-0296-4630-b0cb-ae503aee4851",
    "outputId": "e2c944e9-acb7-47c8-dc44-649ec0675b8b"
   },
   "outputs": [
    {
     "data": {
      "text/html": [
       "<div>\n",
       "<style scoped>\n",
       "    .dataframe tbody tr th:only-of-type {\n",
       "        vertical-align: middle;\n",
       "    }\n",
       "\n",
       "    .dataframe tbody tr th {\n",
       "        vertical-align: top;\n",
       "    }\n",
       "\n",
       "    .dataframe thead th {\n",
       "        text-align: right;\n",
       "    }\n",
       "</style>\n",
       "<table border=\"1\" class=\"dataframe\">\n",
       "  <thead>\n",
       "    <tr style=\"text-align: right;\">\n",
       "      <th></th>\n",
       "      <th>PassengerId</th>\n",
       "      <th>Name</th>\n",
       "      <th>Pclass</th>\n",
       "      <th>Survived</th>\n",
       "    </tr>\n",
       "  </thead>\n",
       "  <tbody>\n",
       "    <tr>\n",
       "      <th>3</th>\n",
       "      <td>4</td>\n",
       "      <td>Futrelle, Mrs. Jacques Heath (Lily May Peel)</td>\n",
       "      <td>1</td>\n",
       "      <td>1</td>\n",
       "    </tr>\n",
       "    <tr>\n",
       "      <th>4</th>\n",
       "      <td>5</td>\n",
       "      <td>Allen, Mr. William Henry</td>\n",
       "      <td>3</td>\n",
       "      <td>0</td>\n",
       "    </tr>\n",
       "    <tr>\n",
       "      <th>5</th>\n",
       "      <td>6</td>\n",
       "      <td>Moran, Mr. James</td>\n",
       "      <td>3</td>\n",
       "      <td>0</td>\n",
       "    </tr>\n",
       "    <tr>\n",
       "      <th>6</th>\n",
       "      <td>7</td>\n",
       "      <td>McCarthy, Mr. Timothy J</td>\n",
       "      <td>1</td>\n",
       "      <td>0</td>\n",
       "    </tr>\n",
       "  </tbody>\n",
       "</table>\n",
       "</div>"
      ],
      "text/plain": [
       "   PassengerId                                          Name  Pclass  Survived\n",
       "3            4  Futrelle, Mrs. Jacques Heath (Lily May Peel)       1         1\n",
       "4            5                      Allen, Mr. William Henry       3         0\n",
       "5            6                              Moran, Mr. James       3         0\n",
       "6            7                       McCarthy, Mr. Timothy J       1         0"
      ]
     },
     "execution_count": 66,
     "metadata": {},
     "output_type": "execute_result"
    }
   ],
   "source": [
    "# kita akan coba mengakses dari index ke-3 s.d. index ke-6\n",
    "# atas kolom 1,4,3,2\n",
    "df_titanic.iloc[3:7, [0,3,2,1]]"
   ]
  },
  {
   "cell_type": "markdown",
   "id": "651585f4-4c33-44e5-8cf8-dca13a829b68",
   "metadata": {
    "id": "651585f4-4c33-44e5-8cf8-dca13a829b68"
   },
   "source": [
    "### Filtering data\n",
    "\n",
    "Cara pertama untuk melakukan filter adalah menggunakan ```conditional```.\n",
    "\n",
    "```python\n",
    "dataframe1[conditional]\n",
    "\n",
    "```\n",
    "\n",
    "Yang kedua menggunakan ```query```.\n",
    "\n",
    "```python\n",
    "df.query('20 < Age < 40')[:5]\n",
    "\n",
    "```"
   ]
  },
  {
   "cell_type": "markdown",
   "id": "4a7eab06-2dca-42e8-aba3-6d3db4b9ec8d",
   "metadata": {
    "id": "4a7eab06-2dca-42e8-aba3-6d3db4b9ec8d"
   },
   "source": [
    "#### Conditional"
   ]
  },
  {
   "cell_type": "code",
   "execution_count": 67,
   "id": "cea26f0d-dcaa-4e3d-9502-04606e61cc1d",
   "metadata": {
    "ExecuteTime": {
     "end_time": "2022-09-26T09:40:19.746857Z",
     "start_time": "2022-09-26T09:40:19.721587Z"
    },
    "colab": {
     "base_uri": "https://localhost:8080/",
     "height": 572
    },
    "executionInfo": {
     "elapsed": 557,
     "status": "ok",
     "timestamp": 1648711257827,
     "user": {
      "displayName": "Pratama Suprayogi",
      "userId": "14884808246882934220"
     },
     "user_tz": -420
    },
    "id": "cea26f0d-dcaa-4e3d-9502-04606e61cc1d",
    "outputId": "4986b2b5-3984-474f-dc7e-6f971f8507ca"
   },
   "outputs": [
    {
     "data": {
      "text/html": [
       "<div>\n",
       "<style scoped>\n",
       "    .dataframe tbody tr th:only-of-type {\n",
       "        vertical-align: middle;\n",
       "    }\n",
       "\n",
       "    .dataframe tbody tr th {\n",
       "        vertical-align: top;\n",
       "    }\n",
       "\n",
       "    .dataframe thead th {\n",
       "        text-align: right;\n",
       "    }\n",
       "</style>\n",
       "<table border=\"1\" class=\"dataframe\">\n",
       "  <thead>\n",
       "    <tr style=\"text-align: right;\">\n",
       "      <th></th>\n",
       "      <th>PassengerId</th>\n",
       "      <th>Survived</th>\n",
       "      <th>Pclass</th>\n",
       "      <th>Name</th>\n",
       "      <th>Sex</th>\n",
       "      <th>Age</th>\n",
       "      <th>SibSp</th>\n",
       "      <th>Parch</th>\n",
       "      <th>Ticket</th>\n",
       "      <th>Fare</th>\n",
       "      <th>Cabin</th>\n",
       "      <th>Embarked</th>\n",
       "    </tr>\n",
       "  </thead>\n",
       "  <tbody>\n",
       "    <tr>\n",
       "      <th>0</th>\n",
       "      <td>1</td>\n",
       "      <td>0</td>\n",
       "      <td>3</td>\n",
       "      <td>Braund, Mr. Owen Harris</td>\n",
       "      <td>male</td>\n",
       "      <td>22.0</td>\n",
       "      <td>1</td>\n",
       "      <td>0</td>\n",
       "      <td>A/5 21171</td>\n",
       "      <td>7.2500</td>\n",
       "      <td>NaN</td>\n",
       "      <td>S</td>\n",
       "    </tr>\n",
       "    <tr>\n",
       "      <th>1</th>\n",
       "      <td>2</td>\n",
       "      <td>1</td>\n",
       "      <td>1</td>\n",
       "      <td>Cumings, Mrs. John Bradley (Florence Briggs Th...</td>\n",
       "      <td>female</td>\n",
       "      <td>38.0</td>\n",
       "      <td>1</td>\n",
       "      <td>0</td>\n",
       "      <td>PC 17599</td>\n",
       "      <td>71.2833</td>\n",
       "      <td>C85</td>\n",
       "      <td>C</td>\n",
       "    </tr>\n",
       "    <tr>\n",
       "      <th>2</th>\n",
       "      <td>3</td>\n",
       "      <td>1</td>\n",
       "      <td>3</td>\n",
       "      <td>Heikkinen, Miss. Laina</td>\n",
       "      <td>female</td>\n",
       "      <td>26.0</td>\n",
       "      <td>0</td>\n",
       "      <td>0</td>\n",
       "      <td>STON/O2. 3101282</td>\n",
       "      <td>7.9250</td>\n",
       "      <td>NaN</td>\n",
       "      <td>S</td>\n",
       "    </tr>\n",
       "    <tr>\n",
       "      <th>3</th>\n",
       "      <td>4</td>\n",
       "      <td>1</td>\n",
       "      <td>1</td>\n",
       "      <td>Futrelle, Mrs. Jacques Heath (Lily May Peel)</td>\n",
       "      <td>female</td>\n",
       "      <td>35.0</td>\n",
       "      <td>1</td>\n",
       "      <td>0</td>\n",
       "      <td>113803</td>\n",
       "      <td>53.1000</td>\n",
       "      <td>C123</td>\n",
       "      <td>S</td>\n",
       "    </tr>\n",
       "    <tr>\n",
       "      <th>4</th>\n",
       "      <td>5</td>\n",
       "      <td>0</td>\n",
       "      <td>3</td>\n",
       "      <td>Allen, Mr. William Henry</td>\n",
       "      <td>male</td>\n",
       "      <td>35.0</td>\n",
       "      <td>0</td>\n",
       "      <td>0</td>\n",
       "      <td>373450</td>\n",
       "      <td>8.0500</td>\n",
       "      <td>NaN</td>\n",
       "      <td>S</td>\n",
       "    </tr>\n",
       "    <tr>\n",
       "      <th>...</th>\n",
       "      <td>...</td>\n",
       "      <td>...</td>\n",
       "      <td>...</td>\n",
       "      <td>...</td>\n",
       "      <td>...</td>\n",
       "      <td>...</td>\n",
       "      <td>...</td>\n",
       "      <td>...</td>\n",
       "      <td>...</td>\n",
       "      <td>...</td>\n",
       "      <td>...</td>\n",
       "      <td>...</td>\n",
       "    </tr>\n",
       "    <tr>\n",
       "      <th>884</th>\n",
       "      <td>885</td>\n",
       "      <td>0</td>\n",
       "      <td>3</td>\n",
       "      <td>Sutehall, Mr. Henry Jr</td>\n",
       "      <td>male</td>\n",
       "      <td>25.0</td>\n",
       "      <td>0</td>\n",
       "      <td>0</td>\n",
       "      <td>SOTON/OQ 392076</td>\n",
       "      <td>7.0500</td>\n",
       "      <td>NaN</td>\n",
       "      <td>S</td>\n",
       "    </tr>\n",
       "    <tr>\n",
       "      <th>885</th>\n",
       "      <td>886</td>\n",
       "      <td>0</td>\n",
       "      <td>3</td>\n",
       "      <td>Rice, Mrs. William (Margaret Norton)</td>\n",
       "      <td>female</td>\n",
       "      <td>39.0</td>\n",
       "      <td>0</td>\n",
       "      <td>5</td>\n",
       "      <td>382652</td>\n",
       "      <td>29.1250</td>\n",
       "      <td>NaN</td>\n",
       "      <td>Q</td>\n",
       "    </tr>\n",
       "    <tr>\n",
       "      <th>886</th>\n",
       "      <td>887</td>\n",
       "      <td>0</td>\n",
       "      <td>2</td>\n",
       "      <td>Montvila, Rev. Juozas</td>\n",
       "      <td>male</td>\n",
       "      <td>27.0</td>\n",
       "      <td>0</td>\n",
       "      <td>0</td>\n",
       "      <td>211536</td>\n",
       "      <td>13.0000</td>\n",
       "      <td>NaN</td>\n",
       "      <td>S</td>\n",
       "    </tr>\n",
       "    <tr>\n",
       "      <th>889</th>\n",
       "      <td>890</td>\n",
       "      <td>1</td>\n",
       "      <td>1</td>\n",
       "      <td>Behr, Mr. Karl Howell</td>\n",
       "      <td>male</td>\n",
       "      <td>26.0</td>\n",
       "      <td>0</td>\n",
       "      <td>0</td>\n",
       "      <td>111369</td>\n",
       "      <td>30.0000</td>\n",
       "      <td>C148</td>\n",
       "      <td>C</td>\n",
       "    </tr>\n",
       "    <tr>\n",
       "      <th>890</th>\n",
       "      <td>891</td>\n",
       "      <td>0</td>\n",
       "      <td>3</td>\n",
       "      <td>Dooley, Mr. Patrick</td>\n",
       "      <td>male</td>\n",
       "      <td>32.0</td>\n",
       "      <td>0</td>\n",
       "      <td>0</td>\n",
       "      <td>370376</td>\n",
       "      <td>7.7500</td>\n",
       "      <td>NaN</td>\n",
       "      <td>Q</td>\n",
       "    </tr>\n",
       "  </tbody>\n",
       "</table>\n",
       "<p>510 rows × 12 columns</p>\n",
       "</div>"
      ],
      "text/plain": [
       "     PassengerId  Survived  Pclass  \\\n",
       "0              1         0       3   \n",
       "1              2         1       1   \n",
       "2              3         1       3   \n",
       "3              4         1       1   \n",
       "4              5         0       3   \n",
       "..           ...       ...     ...   \n",
       "884          885         0       3   \n",
       "885          886         0       3   \n",
       "886          887         0       2   \n",
       "889          890         1       1   \n",
       "890          891         0       3   \n",
       "\n",
       "                                                  Name     Sex   Age  SibSp  \\\n",
       "0                              Braund, Mr. Owen Harris    male  22.0      1   \n",
       "1    Cumings, Mrs. John Bradley (Florence Briggs Th...  female  38.0      1   \n",
       "2                               Heikkinen, Miss. Laina  female  26.0      0   \n",
       "3         Futrelle, Mrs. Jacques Heath (Lily May Peel)  female  35.0      1   \n",
       "4                             Allen, Mr. William Henry    male  35.0      0   \n",
       "..                                                 ...     ...   ...    ...   \n",
       "884                             Sutehall, Mr. Henry Jr    male  25.0      0   \n",
       "885               Rice, Mrs. William (Margaret Norton)  female  39.0      0   \n",
       "886                              Montvila, Rev. Juozas    male  27.0      0   \n",
       "889                              Behr, Mr. Karl Howell    male  26.0      0   \n",
       "890                                Dooley, Mr. Patrick    male  32.0      0   \n",
       "\n",
       "     Parch            Ticket     Fare Cabin Embarked  \n",
       "0        0         A/5 21171   7.2500   NaN        S  \n",
       "1        0          PC 17599  71.2833   C85        C  \n",
       "2        0  STON/O2. 3101282   7.9250   NaN        S  \n",
       "3        0            113803  53.1000  C123        S  \n",
       "4        0            373450   8.0500   NaN        S  \n",
       "..     ...               ...      ...   ...      ...  \n",
       "884      0   SOTON/OQ 392076   7.0500   NaN        S  \n",
       "885      5            382652  29.1250   NaN        Q  \n",
       "886      0            211536  13.0000   NaN        S  \n",
       "889      0            111369  30.0000  C148        C  \n",
       "890      0            370376   7.7500   NaN        Q  \n",
       "\n",
       "[510 rows x 12 columns]"
      ]
     },
     "execution_count": 67,
     "metadata": {},
     "output_type": "execute_result"
    }
   ],
   "source": [
    "# mengambil Data dengan Kondisi\n",
    "# membuat variabel penampung agar memudahkan\n",
    "age = df_titanic.Age >= 22\n",
    "pclass_3 = df_titanic.Pclass == 3\n",
    "male = df_titanic.Sex == \"male\"\n",
    "# filter untuk penumpang berumur diatas 22\n",
    "df_titanic[(age)]"
   ]
  },
  {
   "cell_type": "code",
   "execution_count": 68,
   "id": "677fed80-cd3c-4971-b756-cd7b59c44f4f",
   "metadata": {
    "ExecuteTime": {
     "end_time": "2022-09-26T09:40:20.270172Z",
     "start_time": "2022-09-26T09:40:20.243077Z"
    },
    "colab": {
     "base_uri": "https://localhost:8080/",
     "height": 572
    },
    "executionInfo": {
     "elapsed": 421,
     "status": "ok",
     "timestamp": 1648711308516,
     "user": {
      "displayName": "Pratama Suprayogi",
      "userId": "14884808246882934220"
     },
     "user_tz": -420
    },
    "id": "677fed80-cd3c-4971-b756-cd7b59c44f4f",
    "outputId": "6c14fa83-fd06-43e4-af10-980f4296e3d6"
   },
   "outputs": [
    {
     "data": {
      "text/html": [
       "<div>\n",
       "<style scoped>\n",
       "    .dataframe tbody tr th:only-of-type {\n",
       "        vertical-align: middle;\n",
       "    }\n",
       "\n",
       "    .dataframe tbody tr th {\n",
       "        vertical-align: top;\n",
       "    }\n",
       "\n",
       "    .dataframe thead th {\n",
       "        text-align: right;\n",
       "    }\n",
       "</style>\n",
       "<table border=\"1\" class=\"dataframe\">\n",
       "  <thead>\n",
       "    <tr style=\"text-align: right;\">\n",
       "      <th></th>\n",
       "      <th>PassengerId</th>\n",
       "      <th>Survived</th>\n",
       "      <th>Pclass</th>\n",
       "      <th>Name</th>\n",
       "      <th>Sex</th>\n",
       "      <th>Age</th>\n",
       "      <th>SibSp</th>\n",
       "      <th>Parch</th>\n",
       "      <th>Ticket</th>\n",
       "      <th>Fare</th>\n",
       "      <th>Cabin</th>\n",
       "      <th>Embarked</th>\n",
       "    </tr>\n",
       "  </thead>\n",
       "  <tbody>\n",
       "    <tr>\n",
       "      <th>0</th>\n",
       "      <td>1</td>\n",
       "      <td>0</td>\n",
       "      <td>3</td>\n",
       "      <td>Braund, Mr. Owen Harris</td>\n",
       "      <td>male</td>\n",
       "      <td>22.0</td>\n",
       "      <td>1</td>\n",
       "      <td>0</td>\n",
       "      <td>A/5 21171</td>\n",
       "      <td>7.2500</td>\n",
       "      <td>NaN</td>\n",
       "      <td>S</td>\n",
       "    </tr>\n",
       "    <tr>\n",
       "      <th>4</th>\n",
       "      <td>5</td>\n",
       "      <td>0</td>\n",
       "      <td>3</td>\n",
       "      <td>Allen, Mr. William Henry</td>\n",
       "      <td>male</td>\n",
       "      <td>35.0</td>\n",
       "      <td>0</td>\n",
       "      <td>0</td>\n",
       "      <td>373450</td>\n",
       "      <td>8.0500</td>\n",
       "      <td>NaN</td>\n",
       "      <td>S</td>\n",
       "    </tr>\n",
       "    <tr>\n",
       "      <th>6</th>\n",
       "      <td>7</td>\n",
       "      <td>0</td>\n",
       "      <td>1</td>\n",
       "      <td>McCarthy, Mr. Timothy J</td>\n",
       "      <td>male</td>\n",
       "      <td>54.0</td>\n",
       "      <td>0</td>\n",
       "      <td>0</td>\n",
       "      <td>17463</td>\n",
       "      <td>51.8625</td>\n",
       "      <td>E46</td>\n",
       "      <td>S</td>\n",
       "    </tr>\n",
       "    <tr>\n",
       "      <th>13</th>\n",
       "      <td>14</td>\n",
       "      <td>0</td>\n",
       "      <td>3</td>\n",
       "      <td>Andersson, Mr. Anders Johan</td>\n",
       "      <td>male</td>\n",
       "      <td>39.0</td>\n",
       "      <td>1</td>\n",
       "      <td>5</td>\n",
       "      <td>347082</td>\n",
       "      <td>31.2750</td>\n",
       "      <td>NaN</td>\n",
       "      <td>S</td>\n",
       "    </tr>\n",
       "    <tr>\n",
       "      <th>20</th>\n",
       "      <td>21</td>\n",
       "      <td>0</td>\n",
       "      <td>2</td>\n",
       "      <td>Fynney, Mr. Joseph J</td>\n",
       "      <td>male</td>\n",
       "      <td>35.0</td>\n",
       "      <td>0</td>\n",
       "      <td>0</td>\n",
       "      <td>239865</td>\n",
       "      <td>26.0000</td>\n",
       "      <td>NaN</td>\n",
       "      <td>S</td>\n",
       "    </tr>\n",
       "    <tr>\n",
       "      <th>...</th>\n",
       "      <td>...</td>\n",
       "      <td>...</td>\n",
       "      <td>...</td>\n",
       "      <td>...</td>\n",
       "      <td>...</td>\n",
       "      <td>...</td>\n",
       "      <td>...</td>\n",
       "      <td>...</td>\n",
       "      <td>...</td>\n",
       "      <td>...</td>\n",
       "      <td>...</td>\n",
       "      <td>...</td>\n",
       "    </tr>\n",
       "    <tr>\n",
       "      <th>883</th>\n",
       "      <td>884</td>\n",
       "      <td>0</td>\n",
       "      <td>2</td>\n",
       "      <td>Banfield, Mr. Frederick James</td>\n",
       "      <td>male</td>\n",
       "      <td>28.0</td>\n",
       "      <td>0</td>\n",
       "      <td>0</td>\n",
       "      <td>C.A./SOTON 34068</td>\n",
       "      <td>10.5000</td>\n",
       "      <td>NaN</td>\n",
       "      <td>S</td>\n",
       "    </tr>\n",
       "    <tr>\n",
       "      <th>884</th>\n",
       "      <td>885</td>\n",
       "      <td>0</td>\n",
       "      <td>3</td>\n",
       "      <td>Sutehall, Mr. Henry Jr</td>\n",
       "      <td>male</td>\n",
       "      <td>25.0</td>\n",
       "      <td>0</td>\n",
       "      <td>0</td>\n",
       "      <td>SOTON/OQ 392076</td>\n",
       "      <td>7.0500</td>\n",
       "      <td>NaN</td>\n",
       "      <td>S</td>\n",
       "    </tr>\n",
       "    <tr>\n",
       "      <th>886</th>\n",
       "      <td>887</td>\n",
       "      <td>0</td>\n",
       "      <td>2</td>\n",
       "      <td>Montvila, Rev. Juozas</td>\n",
       "      <td>male</td>\n",
       "      <td>27.0</td>\n",
       "      <td>0</td>\n",
       "      <td>0</td>\n",
       "      <td>211536</td>\n",
       "      <td>13.0000</td>\n",
       "      <td>NaN</td>\n",
       "      <td>S</td>\n",
       "    </tr>\n",
       "    <tr>\n",
       "      <th>889</th>\n",
       "      <td>890</td>\n",
       "      <td>1</td>\n",
       "      <td>1</td>\n",
       "      <td>Behr, Mr. Karl Howell</td>\n",
       "      <td>male</td>\n",
       "      <td>26.0</td>\n",
       "      <td>0</td>\n",
       "      <td>0</td>\n",
       "      <td>111369</td>\n",
       "      <td>30.0000</td>\n",
       "      <td>C148</td>\n",
       "      <td>C</td>\n",
       "    </tr>\n",
       "    <tr>\n",
       "      <th>890</th>\n",
       "      <td>891</td>\n",
       "      <td>0</td>\n",
       "      <td>3</td>\n",
       "      <td>Dooley, Mr. Patrick</td>\n",
       "      <td>male</td>\n",
       "      <td>32.0</td>\n",
       "      <td>0</td>\n",
       "      <td>0</td>\n",
       "      <td>370376</td>\n",
       "      <td>7.7500</td>\n",
       "      <td>NaN</td>\n",
       "      <td>Q</td>\n",
       "    </tr>\n",
       "  </tbody>\n",
       "</table>\n",
       "<p>333 rows × 12 columns</p>\n",
       "</div>"
      ],
      "text/plain": [
       "     PassengerId  Survived  Pclass                           Name   Sex   Age  \\\n",
       "0              1         0       3        Braund, Mr. Owen Harris  male  22.0   \n",
       "4              5         0       3       Allen, Mr. William Henry  male  35.0   \n",
       "6              7         0       1        McCarthy, Mr. Timothy J  male  54.0   \n",
       "13            14         0       3    Andersson, Mr. Anders Johan  male  39.0   \n",
       "20            21         0       2           Fynney, Mr. Joseph J  male  35.0   \n",
       "..           ...       ...     ...                            ...   ...   ...   \n",
       "883          884         0       2  Banfield, Mr. Frederick James  male  28.0   \n",
       "884          885         0       3         Sutehall, Mr. Henry Jr  male  25.0   \n",
       "886          887         0       2          Montvila, Rev. Juozas  male  27.0   \n",
       "889          890         1       1          Behr, Mr. Karl Howell  male  26.0   \n",
       "890          891         0       3            Dooley, Mr. Patrick  male  32.0   \n",
       "\n",
       "     SibSp  Parch            Ticket     Fare Cabin Embarked  \n",
       "0        1      0         A/5 21171   7.2500   NaN        S  \n",
       "4        0      0            373450   8.0500   NaN        S  \n",
       "6        0      0             17463  51.8625   E46        S  \n",
       "13       1      5            347082  31.2750   NaN        S  \n",
       "20       0      0            239865  26.0000   NaN        S  \n",
       "..     ...    ...               ...      ...   ...      ...  \n",
       "883      0      0  C.A./SOTON 34068  10.5000   NaN        S  \n",
       "884      0      0   SOTON/OQ 392076   7.0500   NaN        S  \n",
       "886      0      0            211536  13.0000   NaN        S  \n",
       "889      0      0            111369  30.0000  C148        C  \n",
       "890      0      0            370376   7.7500   NaN        Q  \n",
       "\n",
       "[333 rows x 12 columns]"
      ]
     },
     "execution_count": 68,
     "metadata": {},
     "output_type": "execute_result"
    }
   ],
   "source": [
    "# filter untuk penumpang berjenis kelamin Male dan berumur diatas 22\n",
    "df_titanic[age & male]"
   ]
  },
  {
   "cell_type": "code",
   "execution_count": 69,
   "id": "4b12b556-725f-4af7-add6-ebd19ba657db",
   "metadata": {
    "ExecuteTime": {
     "end_time": "2022-09-26T09:40:21.052133Z",
     "start_time": "2022-09-26T09:40:21.023618Z"
    },
    "colab": {
     "base_uri": "https://localhost:8080/",
     "height": 589
    },
    "executionInfo": {
     "elapsed": 428,
     "status": "ok",
     "timestamp": 1648711315039,
     "user": {
      "displayName": "Pratama Suprayogi",
      "userId": "14884808246882934220"
     },
     "user_tz": -420
    },
    "id": "4b12b556-725f-4af7-add6-ebd19ba657db",
    "outputId": "98f77e23-b920-4741-9de9-5b1ffae68dc9"
   },
   "outputs": [
    {
     "data": {
      "text/html": [
       "<div>\n",
       "<style scoped>\n",
       "    .dataframe tbody tr th:only-of-type {\n",
       "        vertical-align: middle;\n",
       "    }\n",
       "\n",
       "    .dataframe tbody tr th {\n",
       "        vertical-align: top;\n",
       "    }\n",
       "\n",
       "    .dataframe thead th {\n",
       "        text-align: right;\n",
       "    }\n",
       "</style>\n",
       "<table border=\"1\" class=\"dataframe\">\n",
       "  <thead>\n",
       "    <tr style=\"text-align: right;\">\n",
       "      <th></th>\n",
       "      <th>PassengerId</th>\n",
       "      <th>Survived</th>\n",
       "      <th>Pclass</th>\n",
       "      <th>Name</th>\n",
       "      <th>Sex</th>\n",
       "      <th>Age</th>\n",
       "      <th>SibSp</th>\n",
       "      <th>Parch</th>\n",
       "      <th>Ticket</th>\n",
       "      <th>Fare</th>\n",
       "      <th>Cabin</th>\n",
       "      <th>Embarked</th>\n",
       "    </tr>\n",
       "  </thead>\n",
       "  <tbody>\n",
       "    <tr>\n",
       "      <th>0</th>\n",
       "      <td>1</td>\n",
       "      <td>0</td>\n",
       "      <td>3</td>\n",
       "      <td>Braund, Mr. Owen Harris</td>\n",
       "      <td>male</td>\n",
       "      <td>22.0</td>\n",
       "      <td>1</td>\n",
       "      <td>0</td>\n",
       "      <td>A/5 21171</td>\n",
       "      <td>7.2500</td>\n",
       "      <td>NaN</td>\n",
       "      <td>S</td>\n",
       "    </tr>\n",
       "    <tr>\n",
       "      <th>2</th>\n",
       "      <td>3</td>\n",
       "      <td>1</td>\n",
       "      <td>3</td>\n",
       "      <td>Heikkinen, Miss. Laina</td>\n",
       "      <td>female</td>\n",
       "      <td>26.0</td>\n",
       "      <td>0</td>\n",
       "      <td>0</td>\n",
       "      <td>STON/O2. 3101282</td>\n",
       "      <td>7.9250</td>\n",
       "      <td>NaN</td>\n",
       "      <td>S</td>\n",
       "    </tr>\n",
       "    <tr>\n",
       "      <th>4</th>\n",
       "      <td>5</td>\n",
       "      <td>0</td>\n",
       "      <td>3</td>\n",
       "      <td>Allen, Mr. William Henry</td>\n",
       "      <td>male</td>\n",
       "      <td>35.0</td>\n",
       "      <td>0</td>\n",
       "      <td>0</td>\n",
       "      <td>373450</td>\n",
       "      <td>8.0500</td>\n",
       "      <td>NaN</td>\n",
       "      <td>S</td>\n",
       "    </tr>\n",
       "    <tr>\n",
       "      <th>8</th>\n",
       "      <td>9</td>\n",
       "      <td>1</td>\n",
       "      <td>3</td>\n",
       "      <td>Johnson, Mrs. Oscar W (Elisabeth Vilhelmina Berg)</td>\n",
       "      <td>female</td>\n",
       "      <td>27.0</td>\n",
       "      <td>0</td>\n",
       "      <td>2</td>\n",
       "      <td>347742</td>\n",
       "      <td>11.1333</td>\n",
       "      <td>NaN</td>\n",
       "      <td>S</td>\n",
       "    </tr>\n",
       "    <tr>\n",
       "      <th>13</th>\n",
       "      <td>14</td>\n",
       "      <td>0</td>\n",
       "      <td>3</td>\n",
       "      <td>Andersson, Mr. Anders Johan</td>\n",
       "      <td>male</td>\n",
       "      <td>39.0</td>\n",
       "      <td>1</td>\n",
       "      <td>5</td>\n",
       "      <td>347082</td>\n",
       "      <td>31.2750</td>\n",
       "      <td>NaN</td>\n",
       "      <td>S</td>\n",
       "    </tr>\n",
       "    <tr>\n",
       "      <th>...</th>\n",
       "      <td>...</td>\n",
       "      <td>...</td>\n",
       "      <td>...</td>\n",
       "      <td>...</td>\n",
       "      <td>...</td>\n",
       "      <td>...</td>\n",
       "      <td>...</td>\n",
       "      <td>...</td>\n",
       "      <td>...</td>\n",
       "      <td>...</td>\n",
       "      <td>...</td>\n",
       "      <td>...</td>\n",
       "    </tr>\n",
       "    <tr>\n",
       "      <th>881</th>\n",
       "      <td>882</td>\n",
       "      <td>0</td>\n",
       "      <td>3</td>\n",
       "      <td>Markun, Mr. Johann</td>\n",
       "      <td>male</td>\n",
       "      <td>33.0</td>\n",
       "      <td>0</td>\n",
       "      <td>0</td>\n",
       "      <td>349257</td>\n",
       "      <td>7.8958</td>\n",
       "      <td>NaN</td>\n",
       "      <td>S</td>\n",
       "    </tr>\n",
       "    <tr>\n",
       "      <th>882</th>\n",
       "      <td>883</td>\n",
       "      <td>0</td>\n",
       "      <td>3</td>\n",
       "      <td>Dahlberg, Miss. Gerda Ulrika</td>\n",
       "      <td>female</td>\n",
       "      <td>22.0</td>\n",
       "      <td>0</td>\n",
       "      <td>0</td>\n",
       "      <td>7552</td>\n",
       "      <td>10.5167</td>\n",
       "      <td>NaN</td>\n",
       "      <td>S</td>\n",
       "    </tr>\n",
       "    <tr>\n",
       "      <th>884</th>\n",
       "      <td>885</td>\n",
       "      <td>0</td>\n",
       "      <td>3</td>\n",
       "      <td>Sutehall, Mr. Henry Jr</td>\n",
       "      <td>male</td>\n",
       "      <td>25.0</td>\n",
       "      <td>0</td>\n",
       "      <td>0</td>\n",
       "      <td>SOTON/OQ 392076</td>\n",
       "      <td>7.0500</td>\n",
       "      <td>NaN</td>\n",
       "      <td>S</td>\n",
       "    </tr>\n",
       "    <tr>\n",
       "      <th>885</th>\n",
       "      <td>886</td>\n",
       "      <td>0</td>\n",
       "      <td>3</td>\n",
       "      <td>Rice, Mrs. William (Margaret Norton)</td>\n",
       "      <td>female</td>\n",
       "      <td>39.0</td>\n",
       "      <td>0</td>\n",
       "      <td>5</td>\n",
       "      <td>382652</td>\n",
       "      <td>29.1250</td>\n",
       "      <td>NaN</td>\n",
       "      <td>Q</td>\n",
       "    </tr>\n",
       "    <tr>\n",
       "      <th>890</th>\n",
       "      <td>891</td>\n",
       "      <td>0</td>\n",
       "      <td>3</td>\n",
       "      <td>Dooley, Mr. Patrick</td>\n",
       "      <td>male</td>\n",
       "      <td>32.0</td>\n",
       "      <td>0</td>\n",
       "      <td>0</td>\n",
       "      <td>370376</td>\n",
       "      <td>7.7500</td>\n",
       "      <td>NaN</td>\n",
       "      <td>Q</td>\n",
       "    </tr>\n",
       "  </tbody>\n",
       "</table>\n",
       "<p>214 rows × 12 columns</p>\n",
       "</div>"
      ],
      "text/plain": [
       "     PassengerId  Survived  Pclass  \\\n",
       "0              1         0       3   \n",
       "2              3         1       3   \n",
       "4              5         0       3   \n",
       "8              9         1       3   \n",
       "13            14         0       3   \n",
       "..           ...       ...     ...   \n",
       "881          882         0       3   \n",
       "882          883         0       3   \n",
       "884          885         0       3   \n",
       "885          886         0       3   \n",
       "890          891         0       3   \n",
       "\n",
       "                                                  Name     Sex   Age  SibSp  \\\n",
       "0                              Braund, Mr. Owen Harris    male  22.0      1   \n",
       "2                               Heikkinen, Miss. Laina  female  26.0      0   \n",
       "4                             Allen, Mr. William Henry    male  35.0      0   \n",
       "8    Johnson, Mrs. Oscar W (Elisabeth Vilhelmina Berg)  female  27.0      0   \n",
       "13                         Andersson, Mr. Anders Johan    male  39.0      1   \n",
       "..                                                 ...     ...   ...    ...   \n",
       "881                                 Markun, Mr. Johann    male  33.0      0   \n",
       "882                       Dahlberg, Miss. Gerda Ulrika  female  22.0      0   \n",
       "884                             Sutehall, Mr. Henry Jr    male  25.0      0   \n",
       "885               Rice, Mrs. William (Margaret Norton)  female  39.0      0   \n",
       "890                                Dooley, Mr. Patrick    male  32.0      0   \n",
       "\n",
       "     Parch            Ticket     Fare Cabin Embarked  \n",
       "0        0         A/5 21171   7.2500   NaN        S  \n",
       "2        0  STON/O2. 3101282   7.9250   NaN        S  \n",
       "4        0            373450   8.0500   NaN        S  \n",
       "8        2            347742  11.1333   NaN        S  \n",
       "13       5            347082  31.2750   NaN        S  \n",
       "..     ...               ...      ...   ...      ...  \n",
       "881      0            349257   7.8958   NaN        S  \n",
       "882      0              7552  10.5167   NaN        S  \n",
       "884      0   SOTON/OQ 392076   7.0500   NaN        S  \n",
       "885      5            382652  29.1250   NaN        Q  \n",
       "890      0            370376   7.7500   NaN        Q  \n",
       "\n",
       "[214 rows x 12 columns]"
      ]
     },
     "execution_count": 69,
     "metadata": {},
     "output_type": "execute_result"
    }
   ],
   "source": [
    "# filter untuk penumpang berada di class 3 dan berumur diatas 22\n",
    "df_titanic[pclass_3 & age]"
   ]
  },
  {
   "cell_type": "code",
   "execution_count": 19,
   "id": "013c0d70-3160-48ae-ab40-5c43571a5a61",
   "metadata": {
    "ExecuteTime": {
     "end_time": "2022-09-26T09:40:21.721317Z",
     "start_time": "2022-09-26T09:40:21.691189Z"
    },
    "colab": {
     "base_uri": "https://localhost:8080/",
     "height": 1000
    },
    "executionInfo": {
     "elapsed": 430,
     "status": "ok",
     "timestamp": 1648711823774,
     "user": {
      "displayName": "Pratama Suprayogi",
      "userId": "14884808246882934220"
     },
     "user_tz": -420
    },
    "id": "013c0d70-3160-48ae-ab40-5c43571a5a61",
    "outputId": "c62c8992-ac50-455a-cb9a-5d63db1bd4fc"
   },
   "outputs": [
    {
     "data": {
      "text/html": [
       "<div>\n",
       "<style scoped>\n",
       "    .dataframe tbody tr th:only-of-type {\n",
       "        vertical-align: middle;\n",
       "    }\n",
       "\n",
       "    .dataframe tbody tr th {\n",
       "        vertical-align: top;\n",
       "    }\n",
       "\n",
       "    .dataframe thead th {\n",
       "        text-align: right;\n",
       "    }\n",
       "</style>\n",
       "<table border=\"1\" class=\"dataframe\">\n",
       "  <thead>\n",
       "    <tr style=\"text-align: right;\">\n",
       "      <th></th>\n",
       "      <th>PassengerId</th>\n",
       "      <th>Survived</th>\n",
       "      <th>Pclass</th>\n",
       "      <th>Name</th>\n",
       "      <th>Sex</th>\n",
       "      <th>Age</th>\n",
       "      <th>SibSp</th>\n",
       "      <th>Parch</th>\n",
       "      <th>Ticket</th>\n",
       "      <th>Fare</th>\n",
       "      <th>Cabin</th>\n",
       "      <th>Embarked</th>\n",
       "    </tr>\n",
       "  </thead>\n",
       "  <tbody>\n",
       "    <tr>\n",
       "      <th>0</th>\n",
       "      <td>1</td>\n",
       "      <td>0</td>\n",
       "      <td>3</td>\n",
       "      <td>Braund, Mr. Owen Harris</td>\n",
       "      <td>male</td>\n",
       "      <td>22.0</td>\n",
       "      <td>1</td>\n",
       "      <td>0</td>\n",
       "      <td>A/5 21171</td>\n",
       "      <td>7.2500</td>\n",
       "      <td>NaN</td>\n",
       "      <td>S</td>\n",
       "    </tr>\n",
       "    <tr>\n",
       "      <th>2</th>\n",
       "      <td>3</td>\n",
       "      <td>1</td>\n",
       "      <td>3</td>\n",
       "      <td>Heikkinen, Miss. Laina</td>\n",
       "      <td>female</td>\n",
       "      <td>26.0</td>\n",
       "      <td>0</td>\n",
       "      <td>0</td>\n",
       "      <td>STON/O2. 3101282</td>\n",
       "      <td>7.9250</td>\n",
       "      <td>NaN</td>\n",
       "      <td>S</td>\n",
       "    </tr>\n",
       "    <tr>\n",
       "      <th>3</th>\n",
       "      <td>4</td>\n",
       "      <td>1</td>\n",
       "      <td>1</td>\n",
       "      <td>Futrelle, Mrs. Jacques Heath (Lily May Peel)</td>\n",
       "      <td>female</td>\n",
       "      <td>35.0</td>\n",
       "      <td>1</td>\n",
       "      <td>0</td>\n",
       "      <td>113803</td>\n",
       "      <td>53.1000</td>\n",
       "      <td>C123</td>\n",
       "      <td>S</td>\n",
       "    </tr>\n",
       "    <tr>\n",
       "      <th>4</th>\n",
       "      <td>5</td>\n",
       "      <td>0</td>\n",
       "      <td>3</td>\n",
       "      <td>Allen, Mr. William Henry</td>\n",
       "      <td>male</td>\n",
       "      <td>35.0</td>\n",
       "      <td>0</td>\n",
       "      <td>0</td>\n",
       "      <td>373450</td>\n",
       "      <td>8.0500</td>\n",
       "      <td>NaN</td>\n",
       "      <td>S</td>\n",
       "    </tr>\n",
       "    <tr>\n",
       "      <th>5</th>\n",
       "      <td>6</td>\n",
       "      <td>0</td>\n",
       "      <td>3</td>\n",
       "      <td>Moran, Mr. James</td>\n",
       "      <td>male</td>\n",
       "      <td>NaN</td>\n",
       "      <td>0</td>\n",
       "      <td>0</td>\n",
       "      <td>330877</td>\n",
       "      <td>8.4583</td>\n",
       "      <td>NaN</td>\n",
       "      <td>Q</td>\n",
       "    </tr>\n",
       "    <tr>\n",
       "      <th>...</th>\n",
       "      <td>...</td>\n",
       "      <td>...</td>\n",
       "      <td>...</td>\n",
       "      <td>...</td>\n",
       "      <td>...</td>\n",
       "      <td>...</td>\n",
       "      <td>...</td>\n",
       "      <td>...</td>\n",
       "      <td>...</td>\n",
       "      <td>...</td>\n",
       "      <td>...</td>\n",
       "      <td>...</td>\n",
       "    </tr>\n",
       "    <tr>\n",
       "      <th>885</th>\n",
       "      <td>886</td>\n",
       "      <td>0</td>\n",
       "      <td>3</td>\n",
       "      <td>Rice, Mrs. William (Margaret Norton)</td>\n",
       "      <td>female</td>\n",
       "      <td>39.0</td>\n",
       "      <td>0</td>\n",
       "      <td>5</td>\n",
       "      <td>382652</td>\n",
       "      <td>29.1250</td>\n",
       "      <td>NaN</td>\n",
       "      <td>Q</td>\n",
       "    </tr>\n",
       "    <tr>\n",
       "      <th>886</th>\n",
       "      <td>887</td>\n",
       "      <td>0</td>\n",
       "      <td>2</td>\n",
       "      <td>Montvila, Rev. Juozas</td>\n",
       "      <td>male</td>\n",
       "      <td>27.0</td>\n",
       "      <td>0</td>\n",
       "      <td>0</td>\n",
       "      <td>211536</td>\n",
       "      <td>13.0000</td>\n",
       "      <td>NaN</td>\n",
       "      <td>S</td>\n",
       "    </tr>\n",
       "    <tr>\n",
       "      <th>887</th>\n",
       "      <td>888</td>\n",
       "      <td>1</td>\n",
       "      <td>1</td>\n",
       "      <td>Graham, Miss. Margaret Edith</td>\n",
       "      <td>female</td>\n",
       "      <td>19.0</td>\n",
       "      <td>0</td>\n",
       "      <td>0</td>\n",
       "      <td>112053</td>\n",
       "      <td>30.0000</td>\n",
       "      <td>B42</td>\n",
       "      <td>S</td>\n",
       "    </tr>\n",
       "    <tr>\n",
       "      <th>888</th>\n",
       "      <td>889</td>\n",
       "      <td>0</td>\n",
       "      <td>3</td>\n",
       "      <td>Johnston, Miss. Catherine Helen \"Carrie\"</td>\n",
       "      <td>female</td>\n",
       "      <td>NaN</td>\n",
       "      <td>1</td>\n",
       "      <td>2</td>\n",
       "      <td>W./C. 6607</td>\n",
       "      <td>23.4500</td>\n",
       "      <td>NaN</td>\n",
       "      <td>S</td>\n",
       "    </tr>\n",
       "    <tr>\n",
       "      <th>890</th>\n",
       "      <td>891</td>\n",
       "      <td>0</td>\n",
       "      <td>3</td>\n",
       "      <td>Dooley, Mr. Patrick</td>\n",
       "      <td>male</td>\n",
       "      <td>32.0</td>\n",
       "      <td>0</td>\n",
       "      <td>0</td>\n",
       "      <td>370376</td>\n",
       "      <td>7.7500</td>\n",
       "      <td>NaN</td>\n",
       "      <td>Q</td>\n",
       "    </tr>\n",
       "  </tbody>\n",
       "</table>\n",
       "<p>721 rows × 12 columns</p>\n",
       "</div>"
      ],
      "text/plain": [
       "     PassengerId  Survived  Pclass  \\\n",
       "0              1         0       3   \n",
       "2              3         1       3   \n",
       "3              4         1       1   \n",
       "4              5         0       3   \n",
       "5              6         0       3   \n",
       "..           ...       ...     ...   \n",
       "885          886         0       3   \n",
       "886          887         0       2   \n",
       "887          888         1       1   \n",
       "888          889         0       3   \n",
       "890          891         0       3   \n",
       "\n",
       "                                             Name     Sex   Age  SibSp  Parch  \\\n",
       "0                         Braund, Mr. Owen Harris    male  22.0      1      0   \n",
       "2                          Heikkinen, Miss. Laina  female  26.0      0      0   \n",
       "3    Futrelle, Mrs. Jacques Heath (Lily May Peel)  female  35.0      1      0   \n",
       "4                        Allen, Mr. William Henry    male  35.0      0      0   \n",
       "5                                Moran, Mr. James    male   NaN      0      0   \n",
       "..                                            ...     ...   ...    ...    ...   \n",
       "885          Rice, Mrs. William (Margaret Norton)  female  39.0      0      5   \n",
       "886                         Montvila, Rev. Juozas    male  27.0      0      0   \n",
       "887                  Graham, Miss. Margaret Edith  female  19.0      0      0   \n",
       "888      Johnston, Miss. Catherine Helen \"Carrie\"  female   NaN      1      2   \n",
       "890                           Dooley, Mr. Patrick    male  32.0      0      0   \n",
       "\n",
       "               Ticket     Fare Cabin Embarked  \n",
       "0           A/5 21171   7.2500   NaN        S  \n",
       "2    STON/O2. 3101282   7.9250   NaN        S  \n",
       "3              113803  53.1000  C123        S  \n",
       "4              373450   8.0500   NaN        S  \n",
       "5              330877   8.4583   NaN        Q  \n",
       "..                ...      ...   ...      ...  \n",
       "885            382652  29.1250   NaN        Q  \n",
       "886            211536  13.0000   NaN        S  \n",
       "887            112053  30.0000   B42        S  \n",
       "888        W./C. 6607  23.4500   NaN        S  \n",
       "890            370376   7.7500   NaN        Q  \n",
       "\n",
       "[721 rows x 12 columns]"
      ]
     },
     "execution_count": 19,
     "metadata": {},
     "output_type": "execute_result"
    }
   ],
   "source": [
    "# filter penumpang dengan Embarked Q atau penumpang dengan Embarked S\n",
    "df_titanic[(df_titanic.Embarked == \"Q\") | (df_titanic.Embarked == \"S\")]"
   ]
  },
  {
   "cell_type": "markdown",
   "id": "18f814d1-1448-4f4a-95a3-e1bd02256c50",
   "metadata": {
    "id": "18f814d1-1448-4f4a-95a3-e1bd02256c50"
   },
   "source": [
    "#### Query"
   ]
  },
  {
   "cell_type": "code",
   "execution_count": 71,
   "id": "233be737-4950-48d4-806f-fec55959a80d",
   "metadata": {
    "ExecuteTime": {
     "end_time": "2022-09-26T09:40:23.339424Z",
     "start_time": "2022-09-26T09:40:23.320116Z"
    },
    "colab": {
     "base_uri": "https://localhost:8080/",
     "height": 320
    },
    "executionInfo": {
     "elapsed": 2095,
     "status": "ok",
     "timestamp": 1648711471610,
     "user": {
      "displayName": "Pratama Suprayogi",
      "userId": "14884808246882934220"
     },
     "user_tz": -420
    },
    "id": "233be737-4950-48d4-806f-fec55959a80d",
    "outputId": "914cb388-23be-49be-d924-bbfc0a108bd1"
   },
   "outputs": [
    {
     "data": {
      "text/html": [
       "<div>\n",
       "<style scoped>\n",
       "    .dataframe tbody tr th:only-of-type {\n",
       "        vertical-align: middle;\n",
       "    }\n",
       "\n",
       "    .dataframe tbody tr th {\n",
       "        vertical-align: top;\n",
       "    }\n",
       "\n",
       "    .dataframe thead th {\n",
       "        text-align: right;\n",
       "    }\n",
       "</style>\n",
       "<table border=\"1\" class=\"dataframe\">\n",
       "  <thead>\n",
       "    <tr style=\"text-align: right;\">\n",
       "      <th></th>\n",
       "      <th>PassengerId</th>\n",
       "      <th>Survived</th>\n",
       "      <th>Pclass</th>\n",
       "      <th>Name</th>\n",
       "      <th>Sex</th>\n",
       "      <th>Age</th>\n",
       "      <th>SibSp</th>\n",
       "      <th>Parch</th>\n",
       "      <th>Ticket</th>\n",
       "      <th>Fare</th>\n",
       "      <th>Cabin</th>\n",
       "      <th>Embarked</th>\n",
       "    </tr>\n",
       "  </thead>\n",
       "  <tbody>\n",
       "    <tr>\n",
       "      <th>0</th>\n",
       "      <td>1</td>\n",
       "      <td>0</td>\n",
       "      <td>3</td>\n",
       "      <td>Braund, Mr. Owen Harris</td>\n",
       "      <td>male</td>\n",
       "      <td>22.0</td>\n",
       "      <td>1</td>\n",
       "      <td>0</td>\n",
       "      <td>A/5 21171</td>\n",
       "      <td>7.2500</td>\n",
       "      <td>NaN</td>\n",
       "      <td>S</td>\n",
       "    </tr>\n",
       "    <tr>\n",
       "      <th>1</th>\n",
       "      <td>2</td>\n",
       "      <td>1</td>\n",
       "      <td>1</td>\n",
       "      <td>Cumings, Mrs. John Bradley (Florence Briggs Th...</td>\n",
       "      <td>female</td>\n",
       "      <td>38.0</td>\n",
       "      <td>1</td>\n",
       "      <td>0</td>\n",
       "      <td>PC 17599</td>\n",
       "      <td>71.2833</td>\n",
       "      <td>C85</td>\n",
       "      <td>C</td>\n",
       "    </tr>\n",
       "    <tr>\n",
       "      <th>2</th>\n",
       "      <td>3</td>\n",
       "      <td>1</td>\n",
       "      <td>3</td>\n",
       "      <td>Heikkinen, Miss. Laina</td>\n",
       "      <td>female</td>\n",
       "      <td>26.0</td>\n",
       "      <td>0</td>\n",
       "      <td>0</td>\n",
       "      <td>STON/O2. 3101282</td>\n",
       "      <td>7.9250</td>\n",
       "      <td>NaN</td>\n",
       "      <td>S</td>\n",
       "    </tr>\n",
       "    <tr>\n",
       "      <th>3</th>\n",
       "      <td>4</td>\n",
       "      <td>1</td>\n",
       "      <td>1</td>\n",
       "      <td>Futrelle, Mrs. Jacques Heath (Lily May Peel)</td>\n",
       "      <td>female</td>\n",
       "      <td>35.0</td>\n",
       "      <td>1</td>\n",
       "      <td>0</td>\n",
       "      <td>113803</td>\n",
       "      <td>53.1000</td>\n",
       "      <td>C123</td>\n",
       "      <td>S</td>\n",
       "    </tr>\n",
       "    <tr>\n",
       "      <th>4</th>\n",
       "      <td>5</td>\n",
       "      <td>0</td>\n",
       "      <td>3</td>\n",
       "      <td>Allen, Mr. William Henry</td>\n",
       "      <td>male</td>\n",
       "      <td>35.0</td>\n",
       "      <td>0</td>\n",
       "      <td>0</td>\n",
       "      <td>373450</td>\n",
       "      <td>8.0500</td>\n",
       "      <td>NaN</td>\n",
       "      <td>S</td>\n",
       "    </tr>\n",
       "  </tbody>\n",
       "</table>\n",
       "</div>"
      ],
      "text/plain": [
       "   PassengerId  Survived  Pclass  \\\n",
       "0            1         0       3   \n",
       "1            2         1       1   \n",
       "2            3         1       3   \n",
       "3            4         1       1   \n",
       "4            5         0       3   \n",
       "\n",
       "                                                Name     Sex   Age  SibSp  \\\n",
       "0                            Braund, Mr. Owen Harris    male  22.0      1   \n",
       "1  Cumings, Mrs. John Bradley (Florence Briggs Th...  female  38.0      1   \n",
       "2                             Heikkinen, Miss. Laina  female  26.0      0   \n",
       "3       Futrelle, Mrs. Jacques Heath (Lily May Peel)  female  35.0      1   \n",
       "4                           Allen, Mr. William Henry    male  35.0      0   \n",
       "\n",
       "   Parch            Ticket     Fare Cabin Embarked  \n",
       "0      0         A/5 21171   7.2500   NaN        S  \n",
       "1      0          PC 17599  71.2833   C85        C  \n",
       "2      0  STON/O2. 3101282   7.9250   NaN        S  \n",
       "3      0            113803  53.1000  C123        S  \n",
       "4      0            373450   8.0500   NaN        S  "
      ]
     },
     "execution_count": 71,
     "metadata": {},
     "output_type": "execute_result"
    }
   ],
   "source": [
    "# kita akan mencoba mengambil Kolom Age \n",
    "# dimana nilai \"Age\" berada di antara 20 s.d. 40 tahun (5 baris pertama)\n",
    "df_titanic.query('20 < Age < 40')[:5]"
   ]
  },
  {
   "cell_type": "markdown",
   "id": "dbe01bc1-bb24-4c1c-8f4e-dabc50427cac",
   "metadata": {
    "id": "dbe01bc1-bb24-4c1c-8f4e-dabc50427cac"
   },
   "source": [
    "---\n",
    "**Latihan**"
   ]
  },
  {
   "cell_type": "markdown",
   "id": "48a62b28-8862-4107-b993-550efe14ce87",
   "metadata": {
    "id": "48a62b28-8862-4107-b993-550efe14ce87"
   },
   "source": [
    "1. Ambil data dari titanic.csv dengan kriteria penumpang ```diatas 40 tahun``` dan berjenis kelamin ```Perempuan```.\n",
    "2. Tampilkan data penumpang dengan ```kelas \"1\"``` yang berhasil selamat ```(Survived = 1)```."
   ]
  },
  {
   "cell_type": "code",
   "execution_count": 21,
   "id": "477dc07f",
   "metadata": {},
   "outputs": [
    {
     "data": {
      "text/html": [
       "<div>\n",
       "<style scoped>\n",
       "    .dataframe tbody tr th:only-of-type {\n",
       "        vertical-align: middle;\n",
       "    }\n",
       "\n",
       "    .dataframe tbody tr th {\n",
       "        vertical-align: top;\n",
       "    }\n",
       "\n",
       "    .dataframe thead th {\n",
       "        text-align: right;\n",
       "    }\n",
       "</style>\n",
       "<table border=\"1\" class=\"dataframe\">\n",
       "  <thead>\n",
       "    <tr style=\"text-align: right;\">\n",
       "      <th></th>\n",
       "      <th>PassengerId</th>\n",
       "      <th>Survived</th>\n",
       "      <th>Pclass</th>\n",
       "      <th>Name</th>\n",
       "      <th>Sex</th>\n",
       "      <th>Age</th>\n",
       "      <th>SibSp</th>\n",
       "      <th>Parch</th>\n",
       "      <th>Ticket</th>\n",
       "      <th>Fare</th>\n",
       "      <th>Cabin</th>\n",
       "      <th>Embarked</th>\n",
       "    </tr>\n",
       "  </thead>\n",
       "  <tbody>\n",
       "    <tr>\n",
       "      <th>1</th>\n",
       "      <td>2</td>\n",
       "      <td>1</td>\n",
       "      <td>1</td>\n",
       "      <td>Cumings, Mrs. John Bradley (Florence Briggs Th...</td>\n",
       "      <td>female</td>\n",
       "      <td>38.0</td>\n",
       "      <td>1</td>\n",
       "      <td>0</td>\n",
       "      <td>PC 17599</td>\n",
       "      <td>71.2833</td>\n",
       "      <td>C85</td>\n",
       "      <td>C</td>\n",
       "    </tr>\n",
       "    <tr>\n",
       "      <th>2</th>\n",
       "      <td>3</td>\n",
       "      <td>1</td>\n",
       "      <td>3</td>\n",
       "      <td>Heikkinen, Miss. Laina</td>\n",
       "      <td>female</td>\n",
       "      <td>26.0</td>\n",
       "      <td>0</td>\n",
       "      <td>0</td>\n",
       "      <td>STON/O2. 3101282</td>\n",
       "      <td>7.9250</td>\n",
       "      <td>NaN</td>\n",
       "      <td>S</td>\n",
       "    </tr>\n",
       "    <tr>\n",
       "      <th>3</th>\n",
       "      <td>4</td>\n",
       "      <td>1</td>\n",
       "      <td>1</td>\n",
       "      <td>Futrelle, Mrs. Jacques Heath (Lily May Peel)</td>\n",
       "      <td>female</td>\n",
       "      <td>35.0</td>\n",
       "      <td>1</td>\n",
       "      <td>0</td>\n",
       "      <td>113803</td>\n",
       "      <td>53.1000</td>\n",
       "      <td>C123</td>\n",
       "      <td>S</td>\n",
       "    </tr>\n",
       "    <tr>\n",
       "      <th>6</th>\n",
       "      <td>7</td>\n",
       "      <td>0</td>\n",
       "      <td>1</td>\n",
       "      <td>McCarthy, Mr. Timothy J</td>\n",
       "      <td>male</td>\n",
       "      <td>54.0</td>\n",
       "      <td>0</td>\n",
       "      <td>0</td>\n",
       "      <td>17463</td>\n",
       "      <td>51.8625</td>\n",
       "      <td>E46</td>\n",
       "      <td>S</td>\n",
       "    </tr>\n",
       "    <tr>\n",
       "      <th>8</th>\n",
       "      <td>9</td>\n",
       "      <td>1</td>\n",
       "      <td>3</td>\n",
       "      <td>Johnson, Mrs. Oscar W (Elisabeth Vilhelmina Berg)</td>\n",
       "      <td>female</td>\n",
       "      <td>27.0</td>\n",
       "      <td>0</td>\n",
       "      <td>2</td>\n",
       "      <td>347742</td>\n",
       "      <td>11.1333</td>\n",
       "      <td>NaN</td>\n",
       "      <td>S</td>\n",
       "    </tr>\n",
       "    <tr>\n",
       "      <th>...</th>\n",
       "      <td>...</td>\n",
       "      <td>...</td>\n",
       "      <td>...</td>\n",
       "      <td>...</td>\n",
       "      <td>...</td>\n",
       "      <td>...</td>\n",
       "      <td>...</td>\n",
       "      <td>...</td>\n",
       "      <td>...</td>\n",
       "      <td>...</td>\n",
       "      <td>...</td>\n",
       "      <td>...</td>\n",
       "    </tr>\n",
       "    <tr>\n",
       "      <th>880</th>\n",
       "      <td>881</td>\n",
       "      <td>1</td>\n",
       "      <td>2</td>\n",
       "      <td>Shelley, Mrs. William (Imanita Parrish Hall)</td>\n",
       "      <td>female</td>\n",
       "      <td>25.0</td>\n",
       "      <td>0</td>\n",
       "      <td>1</td>\n",
       "      <td>230433</td>\n",
       "      <td>26.0000</td>\n",
       "      <td>NaN</td>\n",
       "      <td>S</td>\n",
       "    </tr>\n",
       "    <tr>\n",
       "      <th>882</th>\n",
       "      <td>883</td>\n",
       "      <td>0</td>\n",
       "      <td>3</td>\n",
       "      <td>Dahlberg, Miss. Gerda Ulrika</td>\n",
       "      <td>female</td>\n",
       "      <td>22.0</td>\n",
       "      <td>0</td>\n",
       "      <td>0</td>\n",
       "      <td>7552</td>\n",
       "      <td>10.5167</td>\n",
       "      <td>NaN</td>\n",
       "      <td>S</td>\n",
       "    </tr>\n",
       "    <tr>\n",
       "      <th>885</th>\n",
       "      <td>886</td>\n",
       "      <td>0</td>\n",
       "      <td>3</td>\n",
       "      <td>Rice, Mrs. William (Margaret Norton)</td>\n",
       "      <td>female</td>\n",
       "      <td>39.0</td>\n",
       "      <td>0</td>\n",
       "      <td>5</td>\n",
       "      <td>382652</td>\n",
       "      <td>29.1250</td>\n",
       "      <td>NaN</td>\n",
       "      <td>Q</td>\n",
       "    </tr>\n",
       "    <tr>\n",
       "      <th>887</th>\n",
       "      <td>888</td>\n",
       "      <td>1</td>\n",
       "      <td>1</td>\n",
       "      <td>Graham, Miss. Margaret Edith</td>\n",
       "      <td>female</td>\n",
       "      <td>19.0</td>\n",
       "      <td>0</td>\n",
       "      <td>0</td>\n",
       "      <td>112053</td>\n",
       "      <td>30.0000</td>\n",
       "      <td>B42</td>\n",
       "      <td>S</td>\n",
       "    </tr>\n",
       "    <tr>\n",
       "      <th>888</th>\n",
       "      <td>889</td>\n",
       "      <td>0</td>\n",
       "      <td>3</td>\n",
       "      <td>Johnston, Miss. Catherine Helen \"Carrie\"</td>\n",
       "      <td>female</td>\n",
       "      <td>NaN</td>\n",
       "      <td>1</td>\n",
       "      <td>2</td>\n",
       "      <td>W./C. 6607</td>\n",
       "      <td>23.4500</td>\n",
       "      <td>NaN</td>\n",
       "      <td>S</td>\n",
       "    </tr>\n",
       "  </tbody>\n",
       "</table>\n",
       "<p>416 rows × 12 columns</p>\n",
       "</div>"
      ],
      "text/plain": [
       "     PassengerId  Survived  Pclass  \\\n",
       "1              2         1       1   \n",
       "2              3         1       3   \n",
       "3              4         1       1   \n",
       "6              7         0       1   \n",
       "8              9         1       3   \n",
       "..           ...       ...     ...   \n",
       "880          881         1       2   \n",
       "882          883         0       3   \n",
       "885          886         0       3   \n",
       "887          888         1       1   \n",
       "888          889         0       3   \n",
       "\n",
       "                                                  Name     Sex   Age  SibSp  \\\n",
       "1    Cumings, Mrs. John Bradley (Florence Briggs Th...  female  38.0      1   \n",
       "2                               Heikkinen, Miss. Laina  female  26.0      0   \n",
       "3         Futrelle, Mrs. Jacques Heath (Lily May Peel)  female  35.0      1   \n",
       "6                              McCarthy, Mr. Timothy J    male  54.0      0   \n",
       "8    Johnson, Mrs. Oscar W (Elisabeth Vilhelmina Berg)  female  27.0      0   \n",
       "..                                                 ...     ...   ...    ...   \n",
       "880       Shelley, Mrs. William (Imanita Parrish Hall)  female  25.0      0   \n",
       "882                       Dahlberg, Miss. Gerda Ulrika  female  22.0      0   \n",
       "885               Rice, Mrs. William (Margaret Norton)  female  39.0      0   \n",
       "887                       Graham, Miss. Margaret Edith  female  19.0      0   \n",
       "888           Johnston, Miss. Catherine Helen \"Carrie\"  female   NaN      1   \n",
       "\n",
       "     Parch            Ticket     Fare Cabin Embarked  \n",
       "1        0          PC 17599  71.2833   C85        C  \n",
       "2        0  STON/O2. 3101282   7.9250   NaN        S  \n",
       "3        0            113803  53.1000  C123        S  \n",
       "6        0             17463  51.8625   E46        S  \n",
       "8        2            347742  11.1333   NaN        S  \n",
       "..     ...               ...      ...   ...      ...  \n",
       "880      1            230433  26.0000   NaN        S  \n",
       "882      0              7552  10.5167   NaN        S  \n",
       "885      5            382652  29.1250   NaN        Q  \n",
       "887      0            112053  30.0000   B42        S  \n",
       "888      2        W./C. 6607  23.4500   NaN        S  \n",
       "\n",
       "[416 rows x 12 columns]"
      ]
     },
     "execution_count": 21,
     "metadata": {},
     "output_type": "execute_result"
    }
   ],
   "source": [
    "df_titanic[(df_titanic.Age > 40.0) | (df_titanic.Sex == \"female\")]"
   ]
  },
  {
   "cell_type": "code",
   "execution_count": 25,
   "id": "2f99c9dd",
   "metadata": {},
   "outputs": [
    {
     "data": {
      "text/html": [
       "<div>\n",
       "<style scoped>\n",
       "    .dataframe tbody tr th:only-of-type {\n",
       "        vertical-align: middle;\n",
       "    }\n",
       "\n",
       "    .dataframe tbody tr th {\n",
       "        vertical-align: top;\n",
       "    }\n",
       "\n",
       "    .dataframe thead th {\n",
       "        text-align: right;\n",
       "    }\n",
       "</style>\n",
       "<table border=\"1\" class=\"dataframe\">\n",
       "  <thead>\n",
       "    <tr style=\"text-align: right;\">\n",
       "      <th></th>\n",
       "      <th>PassengerId</th>\n",
       "      <th>Survived</th>\n",
       "      <th>Pclass</th>\n",
       "      <th>Name</th>\n",
       "      <th>Sex</th>\n",
       "      <th>Age</th>\n",
       "      <th>SibSp</th>\n",
       "      <th>Parch</th>\n",
       "      <th>Ticket</th>\n",
       "      <th>Fare</th>\n",
       "      <th>Cabin</th>\n",
       "      <th>Embarked</th>\n",
       "    </tr>\n",
       "  </thead>\n",
       "  <tbody>\n",
       "    <tr>\n",
       "      <th>1</th>\n",
       "      <td>2</td>\n",
       "      <td>1</td>\n",
       "      <td>1</td>\n",
       "      <td>Cumings, Mrs. John Bradley (Florence Briggs Th...</td>\n",
       "      <td>female</td>\n",
       "      <td>38.0</td>\n",
       "      <td>1</td>\n",
       "      <td>0</td>\n",
       "      <td>PC 17599</td>\n",
       "      <td>71.2833</td>\n",
       "      <td>C85</td>\n",
       "      <td>C</td>\n",
       "    </tr>\n",
       "    <tr>\n",
       "      <th>2</th>\n",
       "      <td>3</td>\n",
       "      <td>1</td>\n",
       "      <td>3</td>\n",
       "      <td>Heikkinen, Miss. Laina</td>\n",
       "      <td>female</td>\n",
       "      <td>26.0</td>\n",
       "      <td>0</td>\n",
       "      <td>0</td>\n",
       "      <td>STON/O2. 3101282</td>\n",
       "      <td>7.9250</td>\n",
       "      <td>NaN</td>\n",
       "      <td>S</td>\n",
       "    </tr>\n",
       "    <tr>\n",
       "      <th>3</th>\n",
       "      <td>4</td>\n",
       "      <td>1</td>\n",
       "      <td>1</td>\n",
       "      <td>Futrelle, Mrs. Jacques Heath (Lily May Peel)</td>\n",
       "      <td>female</td>\n",
       "      <td>35.0</td>\n",
       "      <td>1</td>\n",
       "      <td>0</td>\n",
       "      <td>113803</td>\n",
       "      <td>53.1000</td>\n",
       "      <td>C123</td>\n",
       "      <td>S</td>\n",
       "    </tr>\n",
       "    <tr>\n",
       "      <th>6</th>\n",
       "      <td>7</td>\n",
       "      <td>0</td>\n",
       "      <td>1</td>\n",
       "      <td>McCarthy, Mr. Timothy J</td>\n",
       "      <td>male</td>\n",
       "      <td>54.0</td>\n",
       "      <td>0</td>\n",
       "      <td>0</td>\n",
       "      <td>17463</td>\n",
       "      <td>51.8625</td>\n",
       "      <td>E46</td>\n",
       "      <td>S</td>\n",
       "    </tr>\n",
       "    <tr>\n",
       "      <th>8</th>\n",
       "      <td>9</td>\n",
       "      <td>1</td>\n",
       "      <td>3</td>\n",
       "      <td>Johnson, Mrs. Oscar W (Elisabeth Vilhelmina Berg)</td>\n",
       "      <td>female</td>\n",
       "      <td>27.0</td>\n",
       "      <td>0</td>\n",
       "      <td>2</td>\n",
       "      <td>347742</td>\n",
       "      <td>11.1333</td>\n",
       "      <td>NaN</td>\n",
       "      <td>S</td>\n",
       "    </tr>\n",
       "    <tr>\n",
       "      <th>...</th>\n",
       "      <td>...</td>\n",
       "      <td>...</td>\n",
       "      <td>...</td>\n",
       "      <td>...</td>\n",
       "      <td>...</td>\n",
       "      <td>...</td>\n",
       "      <td>...</td>\n",
       "      <td>...</td>\n",
       "      <td>...</td>\n",
       "      <td>...</td>\n",
       "      <td>...</td>\n",
       "      <td>...</td>\n",
       "    </tr>\n",
       "    <tr>\n",
       "      <th>875</th>\n",
       "      <td>876</td>\n",
       "      <td>1</td>\n",
       "      <td>3</td>\n",
       "      <td>Najib, Miss. Adele Kiamie \"Jane\"</td>\n",
       "      <td>female</td>\n",
       "      <td>15.0</td>\n",
       "      <td>0</td>\n",
       "      <td>0</td>\n",
       "      <td>2667</td>\n",
       "      <td>7.2250</td>\n",
       "      <td>NaN</td>\n",
       "      <td>C</td>\n",
       "    </tr>\n",
       "    <tr>\n",
       "      <th>879</th>\n",
       "      <td>880</td>\n",
       "      <td>1</td>\n",
       "      <td>1</td>\n",
       "      <td>Potter, Mrs. Thomas Jr (Lily Alexenia Wilson)</td>\n",
       "      <td>female</td>\n",
       "      <td>56.0</td>\n",
       "      <td>0</td>\n",
       "      <td>1</td>\n",
       "      <td>11767</td>\n",
       "      <td>83.1583</td>\n",
       "      <td>C50</td>\n",
       "      <td>C</td>\n",
       "    </tr>\n",
       "    <tr>\n",
       "      <th>880</th>\n",
       "      <td>881</td>\n",
       "      <td>1</td>\n",
       "      <td>2</td>\n",
       "      <td>Shelley, Mrs. William (Imanita Parrish Hall)</td>\n",
       "      <td>female</td>\n",
       "      <td>25.0</td>\n",
       "      <td>0</td>\n",
       "      <td>1</td>\n",
       "      <td>230433</td>\n",
       "      <td>26.0000</td>\n",
       "      <td>NaN</td>\n",
       "      <td>S</td>\n",
       "    </tr>\n",
       "    <tr>\n",
       "      <th>887</th>\n",
       "      <td>888</td>\n",
       "      <td>1</td>\n",
       "      <td>1</td>\n",
       "      <td>Graham, Miss. Margaret Edith</td>\n",
       "      <td>female</td>\n",
       "      <td>19.0</td>\n",
       "      <td>0</td>\n",
       "      <td>0</td>\n",
       "      <td>112053</td>\n",
       "      <td>30.0000</td>\n",
       "      <td>B42</td>\n",
       "      <td>S</td>\n",
       "    </tr>\n",
       "    <tr>\n",
       "      <th>889</th>\n",
       "      <td>890</td>\n",
       "      <td>1</td>\n",
       "      <td>1</td>\n",
       "      <td>Behr, Mr. Karl Howell</td>\n",
       "      <td>male</td>\n",
       "      <td>26.0</td>\n",
       "      <td>0</td>\n",
       "      <td>0</td>\n",
       "      <td>111369</td>\n",
       "      <td>30.0000</td>\n",
       "      <td>C148</td>\n",
       "      <td>C</td>\n",
       "    </tr>\n",
       "  </tbody>\n",
       "</table>\n",
       "<p>422 rows × 12 columns</p>\n",
       "</div>"
      ],
      "text/plain": [
       "     PassengerId  Survived  Pclass  \\\n",
       "1              2         1       1   \n",
       "2              3         1       3   \n",
       "3              4         1       1   \n",
       "6              7         0       1   \n",
       "8              9         1       3   \n",
       "..           ...       ...     ...   \n",
       "875          876         1       3   \n",
       "879          880         1       1   \n",
       "880          881         1       2   \n",
       "887          888         1       1   \n",
       "889          890         1       1   \n",
       "\n",
       "                                                  Name     Sex   Age  SibSp  \\\n",
       "1    Cumings, Mrs. John Bradley (Florence Briggs Th...  female  38.0      1   \n",
       "2                               Heikkinen, Miss. Laina  female  26.0      0   \n",
       "3         Futrelle, Mrs. Jacques Heath (Lily May Peel)  female  35.0      1   \n",
       "6                              McCarthy, Mr. Timothy J    male  54.0      0   \n",
       "8    Johnson, Mrs. Oscar W (Elisabeth Vilhelmina Berg)  female  27.0      0   \n",
       "..                                                 ...     ...   ...    ...   \n",
       "875                   Najib, Miss. Adele Kiamie \"Jane\"  female  15.0      0   \n",
       "879      Potter, Mrs. Thomas Jr (Lily Alexenia Wilson)  female  56.0      0   \n",
       "880       Shelley, Mrs. William (Imanita Parrish Hall)  female  25.0      0   \n",
       "887                       Graham, Miss. Margaret Edith  female  19.0      0   \n",
       "889                              Behr, Mr. Karl Howell    male  26.0      0   \n",
       "\n",
       "     Parch            Ticket     Fare Cabin Embarked  \n",
       "1        0          PC 17599  71.2833   C85        C  \n",
       "2        0  STON/O2. 3101282   7.9250   NaN        S  \n",
       "3        0            113803  53.1000  C123        S  \n",
       "6        0             17463  51.8625   E46        S  \n",
       "8        2            347742  11.1333   NaN        S  \n",
       "..     ...               ...      ...   ...      ...  \n",
       "875      0              2667   7.2250   NaN        C  \n",
       "879      1             11767  83.1583   C50        C  \n",
       "880      1            230433  26.0000   NaN        S  \n",
       "887      0            112053  30.0000   B42        S  \n",
       "889      0            111369  30.0000  C148        C  \n",
       "\n",
       "[422 rows x 12 columns]"
      ]
     },
     "execution_count": 25,
     "metadata": {},
     "output_type": "execute_result"
    }
   ],
   "source": [
    "df_titanic[(df_titanic.Pclass == 1) | (df_titanic.Survived == 1)]\n"
   ]
  },
  {
   "cell_type": "code",
   "execution_count": 72,
   "id": "9e0a35f9",
   "metadata": {
    "ExecuteTime": {
     "end_time": "2022-09-26T09:40:30.706538Z",
     "start_time": "2022-09-26T09:40:30.697573Z"
    }
   },
   "outputs": [
    {
     "data": {
      "text/plain": [
       "PassengerId      int64\n",
       "Survived         int64\n",
       "Pclass           int64\n",
       "Name            object\n",
       "Sex             object\n",
       "Age            float64\n",
       "SibSp            int64\n",
       "Parch            int64\n",
       "Ticket          object\n",
       "Fare           float64\n",
       "Cabin           object\n",
       "Embarked        object\n",
       "dtype: object"
      ]
     },
     "execution_count": 72,
     "metadata": {},
     "output_type": "execute_result"
    }
   ],
   "source": [
    "df_titanic.dtypes"
   ]
  },
  {
   "cell_type": "code",
   "execution_count": 35,
   "id": "4b1e87a4-c607-4582-88c9-f8acfd5f1552",
   "metadata": {
    "ExecuteTime": {
     "end_time": "2022-09-26T09:40:31.033080Z",
     "start_time": "2022-09-26T09:40:31.005099Z"
    },
    "id": "4b1e87a4-c607-4582-88c9-f8acfd5f1552",
    "outputId": "0975923a-4235-4cd6-95ea-44ef5d76adc0",
    "scrolled": false
   },
   "outputs": [
    {
     "data": {
      "text/plain": [
       "(25, 12)"
      ]
     },
     "execution_count": 35,
     "metadata": {},
     "output_type": "execute_result"
    }
   ],
   "source": [
    "#isi jawabanmu disini\n",
    "Age = df_titanic['Age'] > 40\n",
    "Female = df_titanic['Sex'] == 'female'\n",
    "df_titanic.query('Age > 40 and Sex == \"female\"').shape\n",
    "# df_titanic[(df_titanic['Age'] > 40) & (df_titanic['Sex'] == 'female')].shape\n",
    "# df_titanic.loc[(df_titanic['Age'] > 40) & (df_titanic['Sex'] == 'female')].shape\n",
    "\n",
    "# filtered_df_titanic = df_titanic[Age & Female]\n",
    "# Pclass1 = filtered_df_titanic.Pclass == 1\n",
    "# Survived1 = filtered_df_titanic.Survived == 1\n",
    "# filtered_df_titanic[Pclass1 & Survived1]\n",
    "\n",
    "df_titanic.query('(Age > 40 and Sex == \"female\") and (Pclass == 1 and Survived == 1)').shape"
   ]
  },
  {
   "cell_type": "markdown",
   "id": "d52711db",
   "metadata": {},
   "source": [
    "## Modifying Dataframe"
   ]
  },
  {
   "cell_type": "markdown",
   "id": "f371b583",
   "metadata": {},
   "source": [
    "### Menambahkan Kolom"
   ]
  },
  {
   "cell_type": "code",
   "execution_count": 76,
   "id": "c12f7de3",
   "metadata": {
    "ExecuteTime": {
     "end_time": "2022-09-26T09:42:34.392946Z",
     "start_time": "2022-09-26T09:42:34.365489Z"
    }
   },
   "outputs": [
    {
     "data": {
      "text/html": [
       "<div>\n",
       "<style scoped>\n",
       "    .dataframe tbody tr th:only-of-type {\n",
       "        vertical-align: middle;\n",
       "    }\n",
       "\n",
       "    .dataframe tbody tr th {\n",
       "        vertical-align: top;\n",
       "    }\n",
       "\n",
       "    .dataframe thead th {\n",
       "        text-align: right;\n",
       "    }\n",
       "</style>\n",
       "<table border=\"1\" class=\"dataframe\">\n",
       "  <thead>\n",
       "    <tr style=\"text-align: right;\">\n",
       "      <th></th>\n",
       "      <th>PassengerId</th>\n",
       "      <th>Survived</th>\n",
       "      <th>Pclass</th>\n",
       "      <th>Name</th>\n",
       "      <th>Sex</th>\n",
       "      <th>Age</th>\n",
       "      <th>SibSp</th>\n",
       "      <th>Parch</th>\n",
       "      <th>Ticket</th>\n",
       "      <th>Fare</th>\n",
       "      <th>Cabin</th>\n",
       "      <th>Embarked</th>\n",
       "      <th>Kolom_new</th>\n",
       "    </tr>\n",
       "  </thead>\n",
       "  <tbody>\n",
       "    <tr>\n",
       "      <th>0</th>\n",
       "      <td>1</td>\n",
       "      <td>0</td>\n",
       "      <td>3</td>\n",
       "      <td>Braund, Mr. Owen Harris</td>\n",
       "      <td>male</td>\n",
       "      <td>22.0</td>\n",
       "      <td>1</td>\n",
       "      <td>0</td>\n",
       "      <td>A/5 21171</td>\n",
       "      <td>7.2500</td>\n",
       "      <td>NaN</td>\n",
       "      <td>S</td>\n",
       "      <td>14.5000</td>\n",
       "    </tr>\n",
       "    <tr>\n",
       "      <th>1</th>\n",
       "      <td>2</td>\n",
       "      <td>1</td>\n",
       "      <td>1</td>\n",
       "      <td>Cumings, Mrs. John Bradley (Florence Briggs Th...</td>\n",
       "      <td>female</td>\n",
       "      <td>38.0</td>\n",
       "      <td>1</td>\n",
       "      <td>0</td>\n",
       "      <td>PC 17599</td>\n",
       "      <td>71.2833</td>\n",
       "      <td>C85</td>\n",
       "      <td>C</td>\n",
       "      <td>142.5666</td>\n",
       "    </tr>\n",
       "    <tr>\n",
       "      <th>2</th>\n",
       "      <td>3</td>\n",
       "      <td>1</td>\n",
       "      <td>3</td>\n",
       "      <td>Heikkinen, Miss. Laina</td>\n",
       "      <td>female</td>\n",
       "      <td>26.0</td>\n",
       "      <td>0</td>\n",
       "      <td>0</td>\n",
       "      <td>STON/O2. 3101282</td>\n",
       "      <td>7.9250</td>\n",
       "      <td>NaN</td>\n",
       "      <td>S</td>\n",
       "      <td>7.9250</td>\n",
       "    </tr>\n",
       "    <tr>\n",
       "      <th>3</th>\n",
       "      <td>4</td>\n",
       "      <td>1</td>\n",
       "      <td>1</td>\n",
       "      <td>Futrelle, Mrs. Jacques Heath (Lily May Peel)</td>\n",
       "      <td>female</td>\n",
       "      <td>35.0</td>\n",
       "      <td>1</td>\n",
       "      <td>0</td>\n",
       "      <td>113803</td>\n",
       "      <td>53.1000</td>\n",
       "      <td>C123</td>\n",
       "      <td>S</td>\n",
       "      <td>106.2000</td>\n",
       "    </tr>\n",
       "    <tr>\n",
       "      <th>4</th>\n",
       "      <td>5</td>\n",
       "      <td>0</td>\n",
       "      <td>3</td>\n",
       "      <td>Allen, Mr. William Henry</td>\n",
       "      <td>male</td>\n",
       "      <td>35.0</td>\n",
       "      <td>0</td>\n",
       "      <td>0</td>\n",
       "      <td>373450</td>\n",
       "      <td>8.0500</td>\n",
       "      <td>NaN</td>\n",
       "      <td>S</td>\n",
       "      <td>8.0500</td>\n",
       "    </tr>\n",
       "  </tbody>\n",
       "</table>\n",
       "</div>"
      ],
      "text/plain": [
       "   PassengerId  Survived  Pclass  \\\n",
       "0            1         0       3   \n",
       "1            2         1       1   \n",
       "2            3         1       3   \n",
       "3            4         1       1   \n",
       "4            5         0       3   \n",
       "\n",
       "                                                Name     Sex   Age  SibSp  \\\n",
       "0                            Braund, Mr. Owen Harris    male  22.0      1   \n",
       "1  Cumings, Mrs. John Bradley (Florence Briggs Th...  female  38.0      1   \n",
       "2                             Heikkinen, Miss. Laina  female  26.0      0   \n",
       "3       Futrelle, Mrs. Jacques Heath (Lily May Peel)  female  35.0      1   \n",
       "4                           Allen, Mr. William Henry    male  35.0      0   \n",
       "\n",
       "   Parch            Ticket     Fare Cabin Embarked  Kolom_new  \n",
       "0      0         A/5 21171   7.2500   NaN        S    14.5000  \n",
       "1      0          PC 17599  71.2833   C85        C   142.5666  \n",
       "2      0  STON/O2. 3101282   7.9250   NaN        S     7.9250  \n",
       "3      0            113803  53.1000  C123        S   106.2000  \n",
       "4      0            373450   8.0500   NaN        S     8.0500  "
      ]
     },
     "execution_count": 76,
     "metadata": {},
     "output_type": "execute_result"
    }
   ],
   "source": [
    "df_titanic['Kolom_new'] = df_titanic['Fare'] * (df_titanic['SibSp'] + 1)\n",
    "df_titanic.head()"
   ]
  },
  {
   "cell_type": "markdown",
   "id": "041cce0a",
   "metadata": {
    "ExecuteTime": {
     "end_time": "2022-09-26T09:46:33.004865Z",
     "start_time": "2022-09-26T09:46:32.997315Z"
    }
   },
   "source": [
    "### Menambahkan Baris"
   ]
  },
  {
   "cell_type": "code",
   "execution_count": 28,
   "id": "49bc9f27",
   "metadata": {
    "ExecuteTime": {
     "end_time": "2022-09-26T09:45:04.891770Z",
     "start_time": "2022-09-26T09:45:04.876935Z"
    }
   },
   "outputs": [
    {
     "name": "stdout",
     "output_type": "stream",
     "text": [
      "(893, 12)\n"
     ]
    }
   ],
   "source": [
    "print(df_titanic.shape)\n",
    "#df_titanic.loc[len(df_titanic)] = df_titanic.loc[len(df_titanic)-1].to_numpy()\n",
    "#print(df_titanic.shape)"
   ]
  },
  {
   "cell_type": "code",
   "execution_count": 31,
   "id": "c33a73bc",
   "metadata": {},
   "outputs": [
    {
     "data": {
      "text/html": [
       "<div>\n",
       "<style scoped>\n",
       "    .dataframe tbody tr th:only-of-type {\n",
       "        vertical-align: middle;\n",
       "    }\n",
       "\n",
       "    .dataframe tbody tr th {\n",
       "        vertical-align: top;\n",
       "    }\n",
       "\n",
       "    .dataframe thead th {\n",
       "        text-align: right;\n",
       "    }\n",
       "</style>\n",
       "<table border=\"1\" class=\"dataframe\">\n",
       "  <thead>\n",
       "    <tr style=\"text-align: right;\">\n",
       "      <th></th>\n",
       "      <th>PassengerId</th>\n",
       "      <th>Survived</th>\n",
       "      <th>Pclass</th>\n",
       "      <th>Name</th>\n",
       "      <th>Sex</th>\n",
       "      <th>Age</th>\n",
       "      <th>SibSp</th>\n",
       "      <th>Parch</th>\n",
       "      <th>Ticket</th>\n",
       "      <th>Fare</th>\n",
       "      <th>Cabin</th>\n",
       "      <th>Embarked</th>\n",
       "    </tr>\n",
       "  </thead>\n",
       "  <tbody>\n",
       "    <tr>\n",
       "      <th>890</th>\n",
       "      <td>891</td>\n",
       "      <td>0</td>\n",
       "      <td>3</td>\n",
       "      <td>Dooley, Mr. Patrick</td>\n",
       "      <td>male</td>\n",
       "      <td>32.0</td>\n",
       "      <td>0</td>\n",
       "      <td>0</td>\n",
       "      <td>370376</td>\n",
       "      <td>7.75</td>\n",
       "      <td>NaN</td>\n",
       "      <td>Q</td>\n",
       "    </tr>\n",
       "    <tr>\n",
       "      <th>891</th>\n",
       "      <td>891</td>\n",
       "      <td>0</td>\n",
       "      <td>3</td>\n",
       "      <td>Dooley, Mr. Patrick</td>\n",
       "      <td>male</td>\n",
       "      <td>32.0</td>\n",
       "      <td>0</td>\n",
       "      <td>0</td>\n",
       "      <td>370376</td>\n",
       "      <td>7.75</td>\n",
       "      <td>NaN</td>\n",
       "      <td>Q</td>\n",
       "    </tr>\n",
       "    <tr>\n",
       "      <th>892</th>\n",
       "      <td>891</td>\n",
       "      <td>0</td>\n",
       "      <td>3</td>\n",
       "      <td>Dooley, Mr. Patrick</td>\n",
       "      <td>male</td>\n",
       "      <td>32.0</td>\n",
       "      <td>0</td>\n",
       "      <td>0</td>\n",
       "      <td>370376</td>\n",
       "      <td>7.75</td>\n",
       "      <td>NaN</td>\n",
       "      <td>Q</td>\n",
       "    </tr>\n",
       "  </tbody>\n",
       "</table>\n",
       "</div>"
      ],
      "text/plain": [
       "     PassengerId  Survived  Pclass                 Name   Sex   Age  SibSp  \\\n",
       "890          891         0       3  Dooley, Mr. Patrick  male  32.0      0   \n",
       "891          891         0       3  Dooley, Mr. Patrick  male  32.0      0   \n",
       "892          891         0       3  Dooley, Mr. Patrick  male  32.0      0   \n",
       "\n",
       "     Parch  Ticket  Fare Cabin Embarked  \n",
       "890      0  370376  7.75   NaN        Q  \n",
       "891      0  370376  7.75   NaN        Q  \n",
       "892      0  370376  7.75   NaN        Q  "
      ]
     },
     "execution_count": 31,
     "metadata": {},
     "output_type": "execute_result"
    }
   ],
   "source": [
    "df_titanic.tail(3)\n"
   ]
  },
  {
   "cell_type": "code",
   "execution_count": 27,
   "id": "f2e37974",
   "metadata": {
    "ExecuteTime": {
     "end_time": "2022-09-26T09:46:04.241135Z",
     "start_time": "2022-09-26T09:46:04.223905Z"
    }
   },
   "outputs": [
    {
     "name": "stdout",
     "output_type": "stream",
     "text": [
      "(893, 12)\n"
     ]
    }
   ],
   "source": [
    "last_record = df_titanic.loc[len(df_titanic)-1].to_dict()\n",
    "\n",
    "df_titanic.loc[len(df_titanic)] = last_record\n",
    "\n",
    "print(df_titanic.shape)"
   ]
  },
  {
   "cell_type": "markdown",
   "id": "18d87c03",
   "metadata": {},
   "source": [
    "### Merubah Record"
   ]
  },
  {
   "cell_type": "code",
   "execution_count": 86,
   "id": "69dfa0d5",
   "metadata": {
    "ExecuteTime": {
     "end_time": "2022-09-26T09:47:23.426532Z",
     "start_time": "2022-09-26T09:47:23.402858Z"
    }
   },
   "outputs": [
    {
     "data": {
      "text/html": [
       "<div>\n",
       "<style scoped>\n",
       "    .dataframe tbody tr th:only-of-type {\n",
       "        vertical-align: middle;\n",
       "    }\n",
       "\n",
       "    .dataframe tbody tr th {\n",
       "        vertical-align: top;\n",
       "    }\n",
       "\n",
       "    .dataframe thead th {\n",
       "        text-align: right;\n",
       "    }\n",
       "</style>\n",
       "<table border=\"1\" class=\"dataframe\">\n",
       "  <thead>\n",
       "    <tr style=\"text-align: right;\">\n",
       "      <th></th>\n",
       "      <th>PassengerId</th>\n",
       "      <th>Survived</th>\n",
       "      <th>Pclass</th>\n",
       "      <th>Name</th>\n",
       "      <th>Sex</th>\n",
       "      <th>Age</th>\n",
       "      <th>SibSp</th>\n",
       "      <th>Parch</th>\n",
       "      <th>Ticket</th>\n",
       "      <th>Fare</th>\n",
       "      <th>Cabin</th>\n",
       "      <th>Embarked</th>\n",
       "      <th>Kolom_new</th>\n",
       "    </tr>\n",
       "  </thead>\n",
       "  <tbody>\n",
       "    <tr>\n",
       "      <th>0</th>\n",
       "      <td>1</td>\n",
       "      <td>0</td>\n",
       "      <td>3</td>\n",
       "      <td>Braund, Mr. Owen Harris</td>\n",
       "      <td>male</td>\n",
       "      <td>22.0</td>\n",
       "      <td>1</td>\n",
       "      <td>0</td>\n",
       "      <td>A/5 21171</td>\n",
       "      <td>7.2500</td>\n",
       "      <td>NaN</td>\n",
       "      <td>Jogjakarta</td>\n",
       "      <td>14.5000</td>\n",
       "    </tr>\n",
       "    <tr>\n",
       "      <th>1</th>\n",
       "      <td>2</td>\n",
       "      <td>1</td>\n",
       "      <td>1</td>\n",
       "      <td>Cumings, Mrs. John Bradley (Florence Briggs Th...</td>\n",
       "      <td>female</td>\n",
       "      <td>38.0</td>\n",
       "      <td>1</td>\n",
       "      <td>0</td>\n",
       "      <td>PC 17599</td>\n",
       "      <td>71.2833</td>\n",
       "      <td>C85</td>\n",
       "      <td>C</td>\n",
       "      <td>142.5666</td>\n",
       "    </tr>\n",
       "    <tr>\n",
       "      <th>2</th>\n",
       "      <td>3</td>\n",
       "      <td>1</td>\n",
       "      <td>3</td>\n",
       "      <td>Heikkinen, Miss. Laina</td>\n",
       "      <td>female</td>\n",
       "      <td>26.0</td>\n",
       "      <td>0</td>\n",
       "      <td>0</td>\n",
       "      <td>STON/O2. 3101282</td>\n",
       "      <td>7.9250</td>\n",
       "      <td>NaN</td>\n",
       "      <td>S</td>\n",
       "      <td>7.9250</td>\n",
       "    </tr>\n",
       "    <tr>\n",
       "      <th>3</th>\n",
       "      <td>4</td>\n",
       "      <td>1</td>\n",
       "      <td>1</td>\n",
       "      <td>Futrelle, Mrs. Jacques Heath (Lily May Peel)</td>\n",
       "      <td>female</td>\n",
       "      <td>35.0</td>\n",
       "      <td>1</td>\n",
       "      <td>0</td>\n",
       "      <td>113803</td>\n",
       "      <td>53.1000</td>\n",
       "      <td>C123</td>\n",
       "      <td>S</td>\n",
       "      <td>106.2000</td>\n",
       "    </tr>\n",
       "    <tr>\n",
       "      <th>4</th>\n",
       "      <td>5</td>\n",
       "      <td>0</td>\n",
       "      <td>3</td>\n",
       "      <td>Allen, Mr. William Henry</td>\n",
       "      <td>male</td>\n",
       "      <td>35.0</td>\n",
       "      <td>0</td>\n",
       "      <td>0</td>\n",
       "      <td>373450</td>\n",
       "      <td>8.0500</td>\n",
       "      <td>NaN</td>\n",
       "      <td>S</td>\n",
       "      <td>8.0500</td>\n",
       "    </tr>\n",
       "  </tbody>\n",
       "</table>\n",
       "</div>"
      ],
      "text/plain": [
       "   PassengerId  Survived  Pclass  \\\n",
       "0            1         0       3   \n",
       "1            2         1       1   \n",
       "2            3         1       3   \n",
       "3            4         1       1   \n",
       "4            5         0       3   \n",
       "\n",
       "                                                Name     Sex   Age  SibSp  \\\n",
       "0                            Braund, Mr. Owen Harris    male  22.0      1   \n",
       "1  Cumings, Mrs. John Bradley (Florence Briggs Th...  female  38.0      1   \n",
       "2                             Heikkinen, Miss. Laina  female  26.0      0   \n",
       "3       Futrelle, Mrs. Jacques Heath (Lily May Peel)  female  35.0      1   \n",
       "4                           Allen, Mr. William Henry    male  35.0      0   \n",
       "\n",
       "   Parch            Ticket     Fare Cabin    Embarked  Kolom_new  \n",
       "0      0         A/5 21171   7.2500   NaN  Jogjakarta    14.5000  \n",
       "1      0          PC 17599  71.2833   C85           C   142.5666  \n",
       "2      0  STON/O2. 3101282   7.9250   NaN           S     7.9250  \n",
       "3      0            113803  53.1000  C123           S   106.2000  \n",
       "4      0            373450   8.0500   NaN           S     8.0500  "
      ]
     },
     "execution_count": 86,
     "metadata": {},
     "output_type": "execute_result"
    }
   ],
   "source": [
    "df_titanic.loc[0,'Embarked'] = 'Jogjakarta'\n",
    "df_titanic.head()"
   ]
  },
  {
   "cell_type": "code",
   "execution_count": 33,
   "id": "1551303e",
   "metadata": {
    "ExecuteTime": {
     "end_time": "2022-09-26T08:08:45.062034Z",
     "start_time": "2022-09-26T08:08:44.779918Z"
    }
   },
   "outputs": [
    {
     "name": "stderr",
     "output_type": "stream",
     "text": [
      "C:\\Users\\aldip\\AppData\\Local\\Temp\\ipykernel_23844\\1050550027.py:1: SettingWithCopyWarning: \n",
      "A value is trying to be set on a copy of a slice from a DataFrame.\n",
      "Try using .loc[row_indexer,col_indexer] = value instead\n",
      "\n",
      "See the caveats in the documentation: https://pandas.pydata.org/pandas-docs/stable/user_guide/indexing.html#returning-a-view-versus-a-copy\n",
      "  df_titanic.query('Age > 40 and Sex == \"female\"')['Embarked'] = 'Jakarta'\n"
     ]
    }
   ],
   "source": [
    "# mengubah variable tidak bisa lewat query, harus melalui loc\n",
    "df_titanic.query('Age > 40 and Sex == \"female\"')['Embarked'] = 'Jakarta'"
   ]
  },
  {
   "cell_type": "code",
   "execution_count": 39,
   "id": "3140067d",
   "metadata": {
    "ExecuteTime": {
     "end_time": "2022-09-26T08:08:45.077596Z",
     "start_time": "2022-09-26T08:08:45.064120Z"
    }
   },
   "outputs": [
    {
     "data": {
      "text/html": [
       "<div>\n",
       "<style scoped>\n",
       "    .dataframe tbody tr th:only-of-type {\n",
       "        vertical-align: middle;\n",
       "    }\n",
       "\n",
       "    .dataframe tbody tr th {\n",
       "        vertical-align: top;\n",
       "    }\n",
       "\n",
       "    .dataframe thead th {\n",
       "        text-align: right;\n",
       "    }\n",
       "</style>\n",
       "<table border=\"1\" class=\"dataframe\">\n",
       "  <thead>\n",
       "    <tr style=\"text-align: right;\">\n",
       "      <th></th>\n",
       "      <th>PassengerId</th>\n",
       "      <th>Survived</th>\n",
       "      <th>Pclass</th>\n",
       "      <th>Name</th>\n",
       "      <th>Sex</th>\n",
       "      <th>Age</th>\n",
       "      <th>SibSp</th>\n",
       "      <th>Parch</th>\n",
       "      <th>Ticket</th>\n",
       "      <th>Fare</th>\n",
       "      <th>Cabin</th>\n",
       "      <th>Embarked</th>\n",
       "    </tr>\n",
       "  </thead>\n",
       "  <tbody>\n",
       "    <tr>\n",
       "      <th>0</th>\n",
       "      <td>1</td>\n",
       "      <td>0</td>\n",
       "      <td>3</td>\n",
       "      <td>Braund, Mr. Owen Harris</td>\n",
       "      <td>male</td>\n",
       "      <td>22.0</td>\n",
       "      <td>1</td>\n",
       "      <td>0</td>\n",
       "      <td>A/5 21171</td>\n",
       "      <td>7.2500</td>\n",
       "      <td>NaN</td>\n",
       "      <td>S</td>\n",
       "    </tr>\n",
       "    <tr>\n",
       "      <th>1</th>\n",
       "      <td>2</td>\n",
       "      <td>1</td>\n",
       "      <td>1</td>\n",
       "      <td>Cumings, Mrs. John Bradley (Florence Briggs Th...</td>\n",
       "      <td>female</td>\n",
       "      <td>38.0</td>\n",
       "      <td>1</td>\n",
       "      <td>0</td>\n",
       "      <td>PC 17599</td>\n",
       "      <td>71.2833</td>\n",
       "      <td>C85</td>\n",
       "      <td>C</td>\n",
       "    </tr>\n",
       "    <tr>\n",
       "      <th>2</th>\n",
       "      <td>3</td>\n",
       "      <td>1</td>\n",
       "      <td>3</td>\n",
       "      <td>Heikkinen, Miss. Laina</td>\n",
       "      <td>female</td>\n",
       "      <td>26.0</td>\n",
       "      <td>0</td>\n",
       "      <td>0</td>\n",
       "      <td>STON/O2. 3101282</td>\n",
       "      <td>7.9250</td>\n",
       "      <td>NaN</td>\n",
       "      <td>S</td>\n",
       "    </tr>\n",
       "    <tr>\n",
       "      <th>3</th>\n",
       "      <td>4</td>\n",
       "      <td>1</td>\n",
       "      <td>1</td>\n",
       "      <td>Futrelle, Mrs. Jacques Heath (Lily May Peel)</td>\n",
       "      <td>female</td>\n",
       "      <td>35.0</td>\n",
       "      <td>1</td>\n",
       "      <td>0</td>\n",
       "      <td>113803</td>\n",
       "      <td>53.1000</td>\n",
       "      <td>C123</td>\n",
       "      <td>S</td>\n",
       "    </tr>\n",
       "    <tr>\n",
       "      <th>4</th>\n",
       "      <td>5</td>\n",
       "      <td>0</td>\n",
       "      <td>3</td>\n",
       "      <td>Allen, Mr. William Henry</td>\n",
       "      <td>male</td>\n",
       "      <td>35.0</td>\n",
       "      <td>0</td>\n",
       "      <td>0</td>\n",
       "      <td>373450</td>\n",
       "      <td>8.0500</td>\n",
       "      <td>NaN</td>\n",
       "      <td>S</td>\n",
       "    </tr>\n",
       "    <tr>\n",
       "      <th>5</th>\n",
       "      <td>6</td>\n",
       "      <td>0</td>\n",
       "      <td>3</td>\n",
       "      <td>Moran, Mr. James</td>\n",
       "      <td>male</td>\n",
       "      <td>NaN</td>\n",
       "      <td>0</td>\n",
       "      <td>0</td>\n",
       "      <td>330877</td>\n",
       "      <td>8.4583</td>\n",
       "      <td>NaN</td>\n",
       "      <td>Q</td>\n",
       "    </tr>\n",
       "    <tr>\n",
       "      <th>6</th>\n",
       "      <td>7</td>\n",
       "      <td>0</td>\n",
       "      <td>1</td>\n",
       "      <td>McCarthy, Mr. Timothy J</td>\n",
       "      <td>male</td>\n",
       "      <td>54.0</td>\n",
       "      <td>0</td>\n",
       "      <td>0</td>\n",
       "      <td>17463</td>\n",
       "      <td>51.8625</td>\n",
       "      <td>E46</td>\n",
       "      <td>S</td>\n",
       "    </tr>\n",
       "    <tr>\n",
       "      <th>7</th>\n",
       "      <td>8</td>\n",
       "      <td>0</td>\n",
       "      <td>3</td>\n",
       "      <td>Palsson, Master. Gosta Leonard</td>\n",
       "      <td>male</td>\n",
       "      <td>2.0</td>\n",
       "      <td>3</td>\n",
       "      <td>1</td>\n",
       "      <td>349909</td>\n",
       "      <td>21.0750</td>\n",
       "      <td>NaN</td>\n",
       "      <td>S</td>\n",
       "    </tr>\n",
       "    <tr>\n",
       "      <th>8</th>\n",
       "      <td>9</td>\n",
       "      <td>1</td>\n",
       "      <td>3</td>\n",
       "      <td>Johnson, Mrs. Oscar W (Elisabeth Vilhelmina Berg)</td>\n",
       "      <td>female</td>\n",
       "      <td>27.0</td>\n",
       "      <td>0</td>\n",
       "      <td>2</td>\n",
       "      <td>347742</td>\n",
       "      <td>11.1333</td>\n",
       "      <td>NaN</td>\n",
       "      <td>S</td>\n",
       "    </tr>\n",
       "    <tr>\n",
       "      <th>9</th>\n",
       "      <td>10</td>\n",
       "      <td>1</td>\n",
       "      <td>2</td>\n",
       "      <td>Nasser, Mrs. Nicholas (Adele Achem)</td>\n",
       "      <td>female</td>\n",
       "      <td>14.0</td>\n",
       "      <td>1</td>\n",
       "      <td>0</td>\n",
       "      <td>237736</td>\n",
       "      <td>30.0708</td>\n",
       "      <td>NaN</td>\n",
       "      <td>C</td>\n",
       "    </tr>\n",
       "  </tbody>\n",
       "</table>\n",
       "</div>"
      ],
      "text/plain": [
       "   PassengerId  Survived  Pclass  \\\n",
       "0            1         0       3   \n",
       "1            2         1       1   \n",
       "2            3         1       3   \n",
       "3            4         1       1   \n",
       "4            5         0       3   \n",
       "5            6         0       3   \n",
       "6            7         0       1   \n",
       "7            8         0       3   \n",
       "8            9         1       3   \n",
       "9           10         1       2   \n",
       "\n",
       "                                                Name     Sex   Age  SibSp  \\\n",
       "0                            Braund, Mr. Owen Harris    male  22.0      1   \n",
       "1  Cumings, Mrs. John Bradley (Florence Briggs Th...  female  38.0      1   \n",
       "2                             Heikkinen, Miss. Laina  female  26.0      0   \n",
       "3       Futrelle, Mrs. Jacques Heath (Lily May Peel)  female  35.0      1   \n",
       "4                           Allen, Mr. William Henry    male  35.0      0   \n",
       "5                                   Moran, Mr. James    male   NaN      0   \n",
       "6                            McCarthy, Mr. Timothy J    male  54.0      0   \n",
       "7                     Palsson, Master. Gosta Leonard    male   2.0      3   \n",
       "8  Johnson, Mrs. Oscar W (Elisabeth Vilhelmina Berg)  female  27.0      0   \n",
       "9                Nasser, Mrs. Nicholas (Adele Achem)  female  14.0      1   \n",
       "\n",
       "   Parch            Ticket     Fare Cabin Embarked  \n",
       "0      0         A/5 21171   7.2500   NaN        S  \n",
       "1      0          PC 17599  71.2833   C85        C  \n",
       "2      0  STON/O2. 3101282   7.9250   NaN        S  \n",
       "3      0            113803  53.1000  C123        S  \n",
       "4      0            373450   8.0500   NaN        S  \n",
       "5      0            330877   8.4583   NaN        Q  \n",
       "6      0             17463  51.8625   E46        S  \n",
       "7      1            349909  21.0750   NaN        S  \n",
       "8      2            347742  11.1333   NaN        S  \n",
       "9      0            237736  30.0708   NaN        C  "
      ]
     },
     "execution_count": 39,
     "metadata": {},
     "output_type": "execute_result"
    }
   ],
   "source": [
    "df_titanic.loc[Age & Female, 'Embarked'] = 'J'\n",
    "df_titanic.head(10)"
   ]
  },
  {
   "cell_type": "code",
   "execution_count": 84,
   "id": "3a7e0c85",
   "metadata": {
    "ExecuteTime": {
     "end_time": "2022-09-26T08:08:45.279415Z",
     "start_time": "2022-09-26T08:08:45.240249Z"
    },
    "scrolled": false
   },
   "outputs": [
    {
     "data": {
      "text/html": [
       "<div>\n",
       "<style scoped>\n",
       "    .dataframe tbody tr th:only-of-type {\n",
       "        vertical-align: middle;\n",
       "    }\n",
       "\n",
       "    .dataframe tbody tr th {\n",
       "        vertical-align: top;\n",
       "    }\n",
       "\n",
       "    .dataframe thead th {\n",
       "        text-align: right;\n",
       "    }\n",
       "</style>\n",
       "<table border=\"1\" class=\"dataframe\">\n",
       "  <thead>\n",
       "    <tr style=\"text-align: right;\">\n",
       "      <th></th>\n",
       "      <th>PassengerId</th>\n",
       "      <th>Survived</th>\n",
       "      <th>Pclass</th>\n",
       "      <th>Name</th>\n",
       "      <th>Sex</th>\n",
       "      <th>Age</th>\n",
       "      <th>SibSp</th>\n",
       "      <th>Parch</th>\n",
       "      <th>Ticket</th>\n",
       "      <th>Fare</th>\n",
       "      <th>Cabin</th>\n",
       "      <th>Embarked</th>\n",
       "    </tr>\n",
       "  </thead>\n",
       "  <tbody>\n",
       "    <tr>\n",
       "      <th>11</th>\n",
       "      <td>12</td>\n",
       "      <td>1</td>\n",
       "      <td>1</td>\n",
       "      <td>Bonnell, Miss. Elizabeth</td>\n",
       "      <td>female</td>\n",
       "      <td>58.0</td>\n",
       "      <td>0</td>\n",
       "      <td>0</td>\n",
       "      <td>113783</td>\n",
       "      <td>26.5500</td>\n",
       "      <td>C103</td>\n",
       "      <td>JAKARTA</td>\n",
       "    </tr>\n",
       "    <tr>\n",
       "      <th>12</th>\n",
       "      <td>13</td>\n",
       "      <td>0</td>\n",
       "      <td>3</td>\n",
       "      <td>Saundercock, Mr. William Henry</td>\n",
       "      <td>male</td>\n",
       "      <td>20.0</td>\n",
       "      <td>0</td>\n",
       "      <td>0</td>\n",
       "      <td>A/5. 2151</td>\n",
       "      <td>8.0500</td>\n",
       "      <td>NaN</td>\n",
       "      <td>S</td>\n",
       "    </tr>\n",
       "    <tr>\n",
       "      <th>13</th>\n",
       "      <td>14</td>\n",
       "      <td>0</td>\n",
       "      <td>3</td>\n",
       "      <td>Andersson, Mr. Anders Johan</td>\n",
       "      <td>male</td>\n",
       "      <td>39.0</td>\n",
       "      <td>1</td>\n",
       "      <td>5</td>\n",
       "      <td>347082</td>\n",
       "      <td>31.2750</td>\n",
       "      <td>NaN</td>\n",
       "      <td>S</td>\n",
       "    </tr>\n",
       "    <tr>\n",
       "      <th>14</th>\n",
       "      <td>15</td>\n",
       "      <td>0</td>\n",
       "      <td>3</td>\n",
       "      <td>Vestrom, Miss. Hulda Amanda Adolfina</td>\n",
       "      <td>female</td>\n",
       "      <td>14.0</td>\n",
       "      <td>0</td>\n",
       "      <td>0</td>\n",
       "      <td>350406</td>\n",
       "      <td>7.8542</td>\n",
       "      <td>NaN</td>\n",
       "      <td>S</td>\n",
       "    </tr>\n",
       "    <tr>\n",
       "      <th>15</th>\n",
       "      <td>16</td>\n",
       "      <td>1</td>\n",
       "      <td>2</td>\n",
       "      <td>Hewlett, Mrs. (Mary D Kingcome)</td>\n",
       "      <td>female</td>\n",
       "      <td>55.0</td>\n",
       "      <td>0</td>\n",
       "      <td>0</td>\n",
       "      <td>248706</td>\n",
       "      <td>16.0000</td>\n",
       "      <td>NaN</td>\n",
       "      <td>JAKARTA</td>\n",
       "    </tr>\n",
       "    <tr>\n",
       "      <th>16</th>\n",
       "      <td>17</td>\n",
       "      <td>0</td>\n",
       "      <td>3</td>\n",
       "      <td>Rice, Master. Eugene</td>\n",
       "      <td>male</td>\n",
       "      <td>2.0</td>\n",
       "      <td>4</td>\n",
       "      <td>1</td>\n",
       "      <td>382652</td>\n",
       "      <td>29.1250</td>\n",
       "      <td>NaN</td>\n",
       "      <td>Q</td>\n",
       "    </tr>\n",
       "  </tbody>\n",
       "</table>\n",
       "</div>"
      ],
      "text/plain": [
       "    PassengerId  Survived  Pclass                                  Name  \\\n",
       "11           12         1       1              Bonnell, Miss. Elizabeth   \n",
       "12           13         0       3        Saundercock, Mr. William Henry   \n",
       "13           14         0       3           Andersson, Mr. Anders Johan   \n",
       "14           15         0       3  Vestrom, Miss. Hulda Amanda Adolfina   \n",
       "15           16         1       2      Hewlett, Mrs. (Mary D Kingcome)    \n",
       "16           17         0       3                  Rice, Master. Eugene   \n",
       "\n",
       "       Sex   Age  SibSp  Parch     Ticket     Fare Cabin Embarked  \n",
       "11  female  58.0      0      0     113783  26.5500  C103  JAKARTA  \n",
       "12    male  20.0      0      0  A/5. 2151   8.0500   NaN        S  \n",
       "13    male  39.0      1      5     347082  31.2750   NaN        S  \n",
       "14  female  14.0      0      0     350406   7.8542   NaN        S  \n",
       "15  female  55.0      0      0     248706  16.0000   NaN  JAKARTA  \n",
       "16    male   2.0      4      1     382652  29.1250   NaN        Q  "
      ]
     },
     "metadata": {},
     "output_type": "display_data"
    },
    {
     "data": {
      "text/html": [
       "<div>\n",
       "<style scoped>\n",
       "    .dataframe tbody tr th:only-of-type {\n",
       "        vertical-align: middle;\n",
       "    }\n",
       "\n",
       "    .dataframe tbody tr th {\n",
       "        vertical-align: top;\n",
       "    }\n",
       "\n",
       "    .dataframe thead th {\n",
       "        text-align: right;\n",
       "    }\n",
       "</style>\n",
       "<table border=\"1\" class=\"dataframe\">\n",
       "  <thead>\n",
       "    <tr style=\"text-align: right;\">\n",
       "      <th></th>\n",
       "      <th>PassengerId</th>\n",
       "      <th>Survived</th>\n",
       "      <th>Pclass</th>\n",
       "      <th>Name</th>\n",
       "      <th>Sex</th>\n",
       "      <th>Age</th>\n",
       "      <th>SibSp</th>\n",
       "      <th>Parch</th>\n",
       "      <th>Ticket</th>\n",
       "      <th>Fare</th>\n",
       "      <th>Cabin</th>\n",
       "      <th>Embarked</th>\n",
       "    </tr>\n",
       "  </thead>\n",
       "  <tbody>\n",
       "    <tr>\n",
       "      <th>11</th>\n",
       "      <td>12</td>\n",
       "      <td>1</td>\n",
       "      <td>1</td>\n",
       "      <td>Bonnell, Miss. Elizabeth</td>\n",
       "      <td>female</td>\n",
       "      <td>58.0</td>\n",
       "      <td>0</td>\n",
       "      <td>0</td>\n",
       "      <td>113783</td>\n",
       "      <td>26.5500</td>\n",
       "      <td>C103</td>\n",
       "      <td>JAKARTA</td>\n",
       "    </tr>\n",
       "    <tr>\n",
       "      <th>12</th>\n",
       "      <td>13</td>\n",
       "      <td>0</td>\n",
       "      <td>3</td>\n",
       "      <td>Saundercock, Mr. William Henry</td>\n",
       "      <td>male</td>\n",
       "      <td>20.0</td>\n",
       "      <td>0</td>\n",
       "      <td>0</td>\n",
       "      <td>A/5. 2151</td>\n",
       "      <td>8.0500</td>\n",
       "      <td>NaN</td>\n",
       "      <td>S</td>\n",
       "    </tr>\n",
       "    <tr>\n",
       "      <th>13</th>\n",
       "      <td>14</td>\n",
       "      <td>0</td>\n",
       "      <td>3</td>\n",
       "      <td>Andersson, Mr. Anders Johan</td>\n",
       "      <td>male</td>\n",
       "      <td>39.0</td>\n",
       "      <td>1</td>\n",
       "      <td>5</td>\n",
       "      <td>347082</td>\n",
       "      <td>31.2750</td>\n",
       "      <td>NaN</td>\n",
       "      <td>S</td>\n",
       "    </tr>\n",
       "    <tr>\n",
       "      <th>14</th>\n",
       "      <td>15</td>\n",
       "      <td>0</td>\n",
       "      <td>3</td>\n",
       "      <td>Vestrom, Miss. Hulda Amanda Adolfina</td>\n",
       "      <td>female</td>\n",
       "      <td>14.0</td>\n",
       "      <td>0</td>\n",
       "      <td>0</td>\n",
       "      <td>350406</td>\n",
       "      <td>7.8542</td>\n",
       "      <td>NaN</td>\n",
       "      <td>S</td>\n",
       "    </tr>\n",
       "    <tr>\n",
       "      <th>15</th>\n",
       "      <td>16</td>\n",
       "      <td>1</td>\n",
       "      <td>2</td>\n",
       "      <td>Hewlett, Mrs. (Mary D Kingcome)</td>\n",
       "      <td>female</td>\n",
       "      <td>55.0</td>\n",
       "      <td>0</td>\n",
       "      <td>0</td>\n",
       "      <td>248706</td>\n",
       "      <td>16.0000</td>\n",
       "      <td>NaN</td>\n",
       "      <td>JAKARTA</td>\n",
       "    </tr>\n",
       "    <tr>\n",
       "      <th>16</th>\n",
       "      <td>17</td>\n",
       "      <td>0</td>\n",
       "      <td>3</td>\n",
       "      <td>Rice, Master. Eugene</td>\n",
       "      <td>male</td>\n",
       "      <td>2.0</td>\n",
       "      <td>4</td>\n",
       "      <td>1</td>\n",
       "      <td>382652</td>\n",
       "      <td>29.1250</td>\n",
       "      <td>NaN</td>\n",
       "      <td>Q</td>\n",
       "    </tr>\n",
       "  </tbody>\n",
       "</table>\n",
       "</div>"
      ],
      "text/plain": [
       "    PassengerId  Survived  Pclass                                  Name  \\\n",
       "11           12         1       1              Bonnell, Miss. Elizabeth   \n",
       "12           13         0       3        Saundercock, Mr. William Henry   \n",
       "13           14         0       3           Andersson, Mr. Anders Johan   \n",
       "14           15         0       3  Vestrom, Miss. Hulda Amanda Adolfina   \n",
       "15           16         1       2      Hewlett, Mrs. (Mary D Kingcome)    \n",
       "16           17         0       3                  Rice, Master. Eugene   \n",
       "\n",
       "       Sex   Age  SibSp  Parch     Ticket     Fare Cabin Embarked  \n",
       "11  female  58.0      0      0     113783  26.5500  C103  JAKARTA  \n",
       "12    male  20.0      0      0  A/5. 2151   8.0500   NaN        S  \n",
       "13    male  39.0      1      5     347082  31.2750   NaN        S  \n",
       "14  female  14.0      0      0     350406   7.8542   NaN        S  \n",
       "15  female  55.0      0      0     248706  16.0000   NaN  JAKARTA  \n",
       "16    male   2.0      4      1     382652  29.1250   NaN        Q  "
      ]
     },
     "metadata": {},
     "output_type": "display_data"
    },
    {
     "data": {
      "text/html": [
       "<div>\n",
       "<style scoped>\n",
       "    .dataframe tbody tr th:only-of-type {\n",
       "        vertical-align: middle;\n",
       "    }\n",
       "\n",
       "    .dataframe tbody tr th {\n",
       "        vertical-align: top;\n",
       "    }\n",
       "\n",
       "    .dataframe thead th {\n",
       "        text-align: right;\n",
       "    }\n",
       "</style>\n",
       "<table border=\"1\" class=\"dataframe\">\n",
       "  <thead>\n",
       "    <tr style=\"text-align: right;\">\n",
       "      <th></th>\n",
       "      <th>PassengerId</th>\n",
       "      <th>Survived</th>\n",
       "      <th>Pclass</th>\n",
       "      <th>Name</th>\n",
       "      <th>Sex</th>\n",
       "      <th>Age</th>\n",
       "      <th>SibSp</th>\n",
       "      <th>Parch</th>\n",
       "      <th>Ticket</th>\n",
       "      <th>Fare</th>\n",
       "      <th>Cabin</th>\n",
       "      <th>Embarked</th>\n",
       "    </tr>\n",
       "  </thead>\n",
       "  <tbody>\n",
       "    <tr>\n",
       "      <th>11</th>\n",
       "      <td>12</td>\n",
       "      <td>1</td>\n",
       "      <td>1</td>\n",
       "      <td>Bonnell, Miss. Elizabeth</td>\n",
       "      <td>female</td>\n",
       "      <td>58.0</td>\n",
       "      <td>0</td>\n",
       "      <td>0</td>\n",
       "      <td>113783</td>\n",
       "      <td>26.5500</td>\n",
       "      <td>C103</td>\n",
       "      <td>JAKARTA</td>\n",
       "    </tr>\n",
       "    <tr>\n",
       "      <th>12</th>\n",
       "      <td>13</td>\n",
       "      <td>0</td>\n",
       "      <td>3</td>\n",
       "      <td>Saundercock, Mr. William Henry</td>\n",
       "      <td>male</td>\n",
       "      <td>20.0</td>\n",
       "      <td>0</td>\n",
       "      <td>0</td>\n",
       "      <td>A/5. 2151</td>\n",
       "      <td>8.0500</td>\n",
       "      <td>NaN</td>\n",
       "      <td>S</td>\n",
       "    </tr>\n",
       "    <tr>\n",
       "      <th>13</th>\n",
       "      <td>14</td>\n",
       "      <td>0</td>\n",
       "      <td>3</td>\n",
       "      <td>Andersson, Mr. Anders Johan</td>\n",
       "      <td>male</td>\n",
       "      <td>39.0</td>\n",
       "      <td>1</td>\n",
       "      <td>5</td>\n",
       "      <td>347082</td>\n",
       "      <td>31.2750</td>\n",
       "      <td>NaN</td>\n",
       "      <td>S</td>\n",
       "    </tr>\n",
       "    <tr>\n",
       "      <th>14</th>\n",
       "      <td>15</td>\n",
       "      <td>0</td>\n",
       "      <td>3</td>\n",
       "      <td>Vestrom, Miss. Hulda Amanda Adolfina</td>\n",
       "      <td>female</td>\n",
       "      <td>14.0</td>\n",
       "      <td>0</td>\n",
       "      <td>0</td>\n",
       "      <td>350406</td>\n",
       "      <td>7.8542</td>\n",
       "      <td>NaN</td>\n",
       "      <td>S</td>\n",
       "    </tr>\n",
       "    <tr>\n",
       "      <th>15</th>\n",
       "      <td>16</td>\n",
       "      <td>1</td>\n",
       "      <td>2</td>\n",
       "      <td>Hewlett, Mrs. (Mary D Kingcome)</td>\n",
       "      <td>female</td>\n",
       "      <td>55.0</td>\n",
       "      <td>0</td>\n",
       "      <td>0</td>\n",
       "      <td>248706</td>\n",
       "      <td>16.0000</td>\n",
       "      <td>NaN</td>\n",
       "      <td>JAKARTA</td>\n",
       "    </tr>\n",
       "    <tr>\n",
       "      <th>16</th>\n",
       "      <td>17</td>\n",
       "      <td>0</td>\n",
       "      <td>3</td>\n",
       "      <td>Rice, Master. Eugene</td>\n",
       "      <td>male</td>\n",
       "      <td>2.0</td>\n",
       "      <td>4</td>\n",
       "      <td>1</td>\n",
       "      <td>382652</td>\n",
       "      <td>29.1250</td>\n",
       "      <td>NaN</td>\n",
       "      <td>Q</td>\n",
       "    </tr>\n",
       "  </tbody>\n",
       "</table>\n",
       "</div>"
      ],
      "text/plain": [
       "    PassengerId  Survived  Pclass                                  Name  \\\n",
       "11           12         1       1              Bonnell, Miss. Elizabeth   \n",
       "12           13         0       3        Saundercock, Mr. William Henry   \n",
       "13           14         0       3           Andersson, Mr. Anders Johan   \n",
       "14           15         0       3  Vestrom, Miss. Hulda Amanda Adolfina   \n",
       "15           16         1       2      Hewlett, Mrs. (Mary D Kingcome)    \n",
       "16           17         0       3                  Rice, Master. Eugene   \n",
       "\n",
       "       Sex   Age  SibSp  Parch     Ticket     Fare Cabin Embarked  \n",
       "11  female  58.0      0      0     113783  26.5500  C103  JAKARTA  \n",
       "12    male  20.0      0      0  A/5. 2151   8.0500   NaN        S  \n",
       "13    male  39.0      1      5     347082  31.2750   NaN        S  \n",
       "14  female  14.0      0      0     350406   7.8542   NaN        S  \n",
       "15  female  55.0      0      0     248706  16.0000   NaN  JAKARTA  \n",
       "16    male   2.0      4      1     382652  29.1250   NaN        Q  "
      ]
     },
     "metadata": {},
     "output_type": "display_data"
    },
    {
     "data": {
      "text/html": [
       "<div>\n",
       "<style scoped>\n",
       "    .dataframe tbody tr th:only-of-type {\n",
       "        vertical-align: middle;\n",
       "    }\n",
       "\n",
       "    .dataframe tbody tr th {\n",
       "        vertical-align: top;\n",
       "    }\n",
       "\n",
       "    .dataframe thead th {\n",
       "        text-align: right;\n",
       "    }\n",
       "</style>\n",
       "<table border=\"1\" class=\"dataframe\">\n",
       "  <thead>\n",
       "    <tr style=\"text-align: right;\">\n",
       "      <th></th>\n",
       "      <th>PassengerId</th>\n",
       "      <th>Survived</th>\n",
       "      <th>Pclass</th>\n",
       "      <th>Name</th>\n",
       "      <th>Sex</th>\n",
       "      <th>Age</th>\n",
       "      <th>SibSp</th>\n",
       "      <th>Parch</th>\n",
       "      <th>Ticket</th>\n",
       "      <th>Fare</th>\n",
       "      <th>Cabin</th>\n",
       "      <th>Embarked</th>\n",
       "    </tr>\n",
       "  </thead>\n",
       "  <tbody>\n",
       "    <tr>\n",
       "      <th>11</th>\n",
       "      <td>12</td>\n",
       "      <td>1</td>\n",
       "      <td>1</td>\n",
       "      <td>Bonnell, Miss. Elizabeth</td>\n",
       "      <td>female</td>\n",
       "      <td>58.0</td>\n",
       "      <td>0</td>\n",
       "      <td>0</td>\n",
       "      <td>113783</td>\n",
       "      <td>26.5500</td>\n",
       "      <td>C103</td>\n",
       "      <td>BEKASI</td>\n",
       "    </tr>\n",
       "    <tr>\n",
       "      <th>12</th>\n",
       "      <td>13</td>\n",
       "      <td>0</td>\n",
       "      <td>3</td>\n",
       "      <td>Saundercock, Mr. William Henry</td>\n",
       "      <td>male</td>\n",
       "      <td>20.0</td>\n",
       "      <td>0</td>\n",
       "      <td>0</td>\n",
       "      <td>A/5. 2151</td>\n",
       "      <td>8.0500</td>\n",
       "      <td>NaN</td>\n",
       "      <td>S</td>\n",
       "    </tr>\n",
       "    <tr>\n",
       "      <th>13</th>\n",
       "      <td>14</td>\n",
       "      <td>0</td>\n",
       "      <td>3</td>\n",
       "      <td>Andersson, Mr. Anders Johan</td>\n",
       "      <td>male</td>\n",
       "      <td>39.0</td>\n",
       "      <td>1</td>\n",
       "      <td>5</td>\n",
       "      <td>347082</td>\n",
       "      <td>31.2750</td>\n",
       "      <td>NaN</td>\n",
       "      <td>S</td>\n",
       "    </tr>\n",
       "    <tr>\n",
       "      <th>14</th>\n",
       "      <td>15</td>\n",
       "      <td>0</td>\n",
       "      <td>3</td>\n",
       "      <td>Vestrom, Miss. Hulda Amanda Adolfina</td>\n",
       "      <td>female</td>\n",
       "      <td>14.0</td>\n",
       "      <td>0</td>\n",
       "      <td>0</td>\n",
       "      <td>350406</td>\n",
       "      <td>7.8542</td>\n",
       "      <td>NaN</td>\n",
       "      <td>S</td>\n",
       "    </tr>\n",
       "    <tr>\n",
       "      <th>15</th>\n",
       "      <td>16</td>\n",
       "      <td>1</td>\n",
       "      <td>2</td>\n",
       "      <td>Hewlett, Mrs. (Mary D Kingcome)</td>\n",
       "      <td>female</td>\n",
       "      <td>55.0</td>\n",
       "      <td>0</td>\n",
       "      <td>0</td>\n",
       "      <td>248706</td>\n",
       "      <td>16.0000</td>\n",
       "      <td>NaN</td>\n",
       "      <td>BEKASI</td>\n",
       "    </tr>\n",
       "    <tr>\n",
       "      <th>16</th>\n",
       "      <td>17</td>\n",
       "      <td>0</td>\n",
       "      <td>3</td>\n",
       "      <td>Rice, Master. Eugene</td>\n",
       "      <td>male</td>\n",
       "      <td>2.0</td>\n",
       "      <td>4</td>\n",
       "      <td>1</td>\n",
       "      <td>382652</td>\n",
       "      <td>29.1250</td>\n",
       "      <td>NaN</td>\n",
       "      <td>Q</td>\n",
       "    </tr>\n",
       "  </tbody>\n",
       "</table>\n",
       "</div>"
      ],
      "text/plain": [
       "    PassengerId  Survived  Pclass                                  Name  \\\n",
       "11           12         1       1              Bonnell, Miss. Elizabeth   \n",
       "12           13         0       3        Saundercock, Mr. William Henry   \n",
       "13           14         0       3           Andersson, Mr. Anders Johan   \n",
       "14           15         0       3  Vestrom, Miss. Hulda Amanda Adolfina   \n",
       "15           16         1       2      Hewlett, Mrs. (Mary D Kingcome)    \n",
       "16           17         0       3                  Rice, Master. Eugene   \n",
       "\n",
       "       Sex   Age  SibSp  Parch     Ticket     Fare Cabin Embarked  \n",
       "11  female  58.0      0      0     113783  26.5500  C103   BEKASI  \n",
       "12    male  20.0      0      0  A/5. 2151   8.0500   NaN        S  \n",
       "13    male  39.0      1      5     347082  31.2750   NaN        S  \n",
       "14  female  14.0      0      0     350406   7.8542   NaN        S  \n",
       "15  female  55.0      0      0     248706  16.0000   NaN   BEKASI  \n",
       "16    male   2.0      4      1     382652  29.1250   NaN        Q  "
      ]
     },
     "metadata": {},
     "output_type": "display_data"
    }
   ],
   "source": [
    "# Hati-hati memodifikasi Dataframe\n",
    "df_titanic_new = df_titanic\n",
    "df_titanic_new.loc[Age & Female, 'Embarked'] = 'JAKARTA'\n",
    "display(df_titanic[11:17])\n",
    "display(df_titanic_new[11:17])\n",
    "\n",
    "# Hati-hati memodifikasi Dataframe\n",
    "df_titanic_copy = df_titanic.copy()\n",
    "df_titanic_copy.loc[Age & Female, 'Embarked'] = 'BEKASI'\n",
    "display(df_titanic[11:17])\n",
    "display(df_titanic_copy[11:17])"
   ]
  },
  {
   "cell_type": "markdown",
   "id": "ab321c6b-245c-49b3-b362-67e5789c78a6",
   "metadata": {
    "id": "ab321c6b-245c-49b3-b362-67e5789c78a6"
   },
   "source": [
    "## Sorting Data\n",
    "\n",
    "> Mengurutkan data berdasarkan valuenya.\n",
    "\n",
    "Untuk melakukan sorting data pada DataFrame:\n",
    "1. Hanya satu kolom:\n",
    "```python\n",
    "DataFrame.sort_values(by='', ascending=False)\n",
    "```\n",
    "2. Beberapa kolom:\n",
    "```python\n",
    "DataFrame.sort_values([\"b\", \"c\"], ascending = (False, True))\n",
    "```"
   ]
  },
  {
   "cell_type": "code",
   "execution_count": 85,
   "id": "af83464c-9a7f-4aa2-b0a6-e31a1d63db31",
   "metadata": {
    "ExecuteTime": {
     "end_time": "2022-09-26T08:08:45.775544Z",
     "start_time": "2022-09-26T08:08:45.755663Z"
    },
    "colab": {
     "base_uri": "https://localhost:8080/",
     "height": 271
    },
    "executionInfo": {
     "elapsed": 401,
     "status": "ok",
     "timestamp": 1648711943988,
     "user": {
      "displayName": "Pratama Suprayogi",
      "userId": "14884808246882934220"
     },
     "user_tz": -420
    },
    "id": "af83464c-9a7f-4aa2-b0a6-e31a1d63db31",
    "outputId": "3ef082fd-de38-4b0f-df18-432c2273cf85"
   },
   "outputs": [
    {
     "data": {
      "text/html": [
       "<div>\n",
       "<style scoped>\n",
       "    .dataframe tbody tr th:only-of-type {\n",
       "        vertical-align: middle;\n",
       "    }\n",
       "\n",
       "    .dataframe tbody tr th {\n",
       "        vertical-align: top;\n",
       "    }\n",
       "\n",
       "    .dataframe thead th {\n",
       "        text-align: right;\n",
       "    }\n",
       "</style>\n",
       "<table border=\"1\" class=\"dataframe\">\n",
       "  <thead>\n",
       "    <tr style=\"text-align: right;\">\n",
       "      <th></th>\n",
       "      <th>PassengerId</th>\n",
       "      <th>Survived</th>\n",
       "      <th>Pclass</th>\n",
       "      <th>Name</th>\n",
       "      <th>Sex</th>\n",
       "      <th>Age</th>\n",
       "      <th>SibSp</th>\n",
       "      <th>Parch</th>\n",
       "      <th>Ticket</th>\n",
       "      <th>Fare</th>\n",
       "      <th>Cabin</th>\n",
       "      <th>Embarked</th>\n",
       "    </tr>\n",
       "  </thead>\n",
       "  <tbody>\n",
       "    <tr>\n",
       "      <th>630</th>\n",
       "      <td>631</td>\n",
       "      <td>1</td>\n",
       "      <td>1</td>\n",
       "      <td>Barkworth, Mr. Algernon Henry Wilson</td>\n",
       "      <td>male</td>\n",
       "      <td>80.0</td>\n",
       "      <td>0</td>\n",
       "      <td>0</td>\n",
       "      <td>27042</td>\n",
       "      <td>30.0000</td>\n",
       "      <td>A23</td>\n",
       "      <td>S</td>\n",
       "    </tr>\n",
       "    <tr>\n",
       "      <th>851</th>\n",
       "      <td>852</td>\n",
       "      <td>0</td>\n",
       "      <td>3</td>\n",
       "      <td>Svensson, Mr. Johan</td>\n",
       "      <td>male</td>\n",
       "      <td>74.0</td>\n",
       "      <td>0</td>\n",
       "      <td>0</td>\n",
       "      <td>347060</td>\n",
       "      <td>7.7750</td>\n",
       "      <td>NaN</td>\n",
       "      <td>S</td>\n",
       "    </tr>\n",
       "    <tr>\n",
       "      <th>493</th>\n",
       "      <td>494</td>\n",
       "      <td>0</td>\n",
       "      <td>1</td>\n",
       "      <td>Artagaveytia, Mr. Ramon</td>\n",
       "      <td>male</td>\n",
       "      <td>71.0</td>\n",
       "      <td>0</td>\n",
       "      <td>0</td>\n",
       "      <td>PC 17609</td>\n",
       "      <td>49.5042</td>\n",
       "      <td>NaN</td>\n",
       "      <td>C</td>\n",
       "    </tr>\n",
       "    <tr>\n",
       "      <th>96</th>\n",
       "      <td>97</td>\n",
       "      <td>0</td>\n",
       "      <td>1</td>\n",
       "      <td>Goldschmidt, Mr. George B</td>\n",
       "      <td>male</td>\n",
       "      <td>71.0</td>\n",
       "      <td>0</td>\n",
       "      <td>0</td>\n",
       "      <td>PC 17754</td>\n",
       "      <td>34.6542</td>\n",
       "      <td>A5</td>\n",
       "      <td>C</td>\n",
       "    </tr>\n",
       "  </tbody>\n",
       "</table>\n",
       "</div>"
      ],
      "text/plain": [
       "     PassengerId  Survived  Pclass                                  Name  \\\n",
       "630          631         1       1  Barkworth, Mr. Algernon Henry Wilson   \n",
       "851          852         0       3                   Svensson, Mr. Johan   \n",
       "493          494         0       1               Artagaveytia, Mr. Ramon   \n",
       "96            97         0       1             Goldschmidt, Mr. George B   \n",
       "\n",
       "      Sex   Age  SibSp  Parch    Ticket     Fare Cabin Embarked  \n",
       "630  male  80.0      0      0     27042  30.0000   A23        S  \n",
       "851  male  74.0      0      0    347060   7.7750   NaN        S  \n",
       "493  male  71.0      0      0  PC 17609  49.5042   NaN        C  \n",
       "96   male  71.0      0      0  PC 17754  34.6542    A5        C  "
      ]
     },
     "execution_count": 85,
     "metadata": {},
     "output_type": "execute_result"
    }
   ],
   "source": [
    "# kita akan mencoba melakukan sorting pada kolom 'Age' secara 'Menurun'\n",
    "df_titanic.sort_values('Age', ascending = False)[:4]"
   ]
  },
  {
   "cell_type": "code",
   "execution_count": 86,
   "id": "5ac628f2-0a28-49f9-824b-2506ab367a5f",
   "metadata": {
    "ExecuteTime": {
     "end_time": "2022-09-26T08:08:46.042140Z",
     "start_time": "2022-09-26T08:08:46.015672Z"
    },
    "colab": {
     "base_uri": "https://localhost:8080/",
     "height": 236
    },
    "executionInfo": {
     "elapsed": 424,
     "status": "ok",
     "timestamp": 1648711956368,
     "user": {
      "displayName": "Pratama Suprayogi",
      "userId": "14884808246882934220"
     },
     "user_tz": -420
    },
    "id": "5ac628f2-0a28-49f9-824b-2506ab367a5f",
    "outputId": "3e16de6e-1ee4-4641-bc34-be4eaf173a20"
   },
   "outputs": [
    {
     "data": {
      "text/html": [
       "<div>\n",
       "<style scoped>\n",
       "    .dataframe tbody tr th:only-of-type {\n",
       "        vertical-align: middle;\n",
       "    }\n",
       "\n",
       "    .dataframe tbody tr th {\n",
       "        vertical-align: top;\n",
       "    }\n",
       "\n",
       "    .dataframe thead th {\n",
       "        text-align: right;\n",
       "    }\n",
       "</style>\n",
       "<table border=\"1\" class=\"dataframe\">\n",
       "  <thead>\n",
       "    <tr style=\"text-align: right;\">\n",
       "      <th></th>\n",
       "      <th>PassengerId</th>\n",
       "      <th>Survived</th>\n",
       "      <th>Pclass</th>\n",
       "      <th>Name</th>\n",
       "      <th>Sex</th>\n",
       "      <th>Age</th>\n",
       "      <th>SibSp</th>\n",
       "      <th>Parch</th>\n",
       "      <th>Ticket</th>\n",
       "      <th>Fare</th>\n",
       "      <th>Cabin</th>\n",
       "      <th>Embarked</th>\n",
       "    </tr>\n",
       "  </thead>\n",
       "  <tbody>\n",
       "    <tr>\n",
       "      <th>803</th>\n",
       "      <td>804</td>\n",
       "      <td>1</td>\n",
       "      <td>3</td>\n",
       "      <td>Thomas, Master. Assad Alexander</td>\n",
       "      <td>male</td>\n",
       "      <td>0.42</td>\n",
       "      <td>0</td>\n",
       "      <td>1</td>\n",
       "      <td>2625</td>\n",
       "      <td>8.5167</td>\n",
       "      <td>NaN</td>\n",
       "      <td>C</td>\n",
       "    </tr>\n",
       "    <tr>\n",
       "      <th>755</th>\n",
       "      <td>756</td>\n",
       "      <td>1</td>\n",
       "      <td>2</td>\n",
       "      <td>Hamalainen, Master. Viljo</td>\n",
       "      <td>male</td>\n",
       "      <td>0.67</td>\n",
       "      <td>1</td>\n",
       "      <td>1</td>\n",
       "      <td>250649</td>\n",
       "      <td>14.5000</td>\n",
       "      <td>NaN</td>\n",
       "      <td>S</td>\n",
       "    </tr>\n",
       "    <tr>\n",
       "      <th>469</th>\n",
       "      <td>470</td>\n",
       "      <td>1</td>\n",
       "      <td>3</td>\n",
       "      <td>Baclini, Miss. Helene Barbara</td>\n",
       "      <td>female</td>\n",
       "      <td>0.75</td>\n",
       "      <td>2</td>\n",
       "      <td>1</td>\n",
       "      <td>2666</td>\n",
       "      <td>19.2583</td>\n",
       "      <td>NaN</td>\n",
       "      <td>C</td>\n",
       "    </tr>\n",
       "    <tr>\n",
       "      <th>644</th>\n",
       "      <td>645</td>\n",
       "      <td>1</td>\n",
       "      <td>3</td>\n",
       "      <td>Baclini, Miss. Eugenie</td>\n",
       "      <td>female</td>\n",
       "      <td>0.75</td>\n",
       "      <td>2</td>\n",
       "      <td>1</td>\n",
       "      <td>2666</td>\n",
       "      <td>19.2583</td>\n",
       "      <td>NaN</td>\n",
       "      <td>C</td>\n",
       "    </tr>\n",
       "  </tbody>\n",
       "</table>\n",
       "</div>"
      ],
      "text/plain": [
       "     PassengerId  Survived  Pclass                             Name     Sex  \\\n",
       "803          804         1       3  Thomas, Master. Assad Alexander    male   \n",
       "755          756         1       2        Hamalainen, Master. Viljo    male   \n",
       "469          470         1       3    Baclini, Miss. Helene Barbara  female   \n",
       "644          645         1       3           Baclini, Miss. Eugenie  female   \n",
       "\n",
       "      Age  SibSp  Parch  Ticket     Fare Cabin Embarked  \n",
       "803  0.42      0      1    2625   8.5167   NaN        C  \n",
       "755  0.67      1      1  250649  14.5000   NaN        S  \n",
       "469  0.75      2      1    2666  19.2583   NaN        C  \n",
       "644  0.75      2      1    2666  19.2583   NaN        C  "
      ]
     },
     "execution_count": 86,
     "metadata": {},
     "output_type": "execute_result"
    }
   ],
   "source": [
    "# untuk dua atau lebih kolom\n",
    "df_titanic.sort_values(['Age','Pclass', 'Fare'], ascending = (True,False,True))[:4]"
   ]
  },
  {
   "cell_type": "markdown",
   "id": "1ef9a851-0a88-41e5-b55a-aa3d85e6bef0",
   "metadata": {
    "id": "1ef9a851-0a88-41e5-b55a-aa3d85e6bef0"
   },
   "source": [
    "## Data Manipulation"
   ]
  },
  {
   "cell_type": "markdown",
   "id": "1591e074-bbb5-40c3-adae-8de96edc8e1c",
   "metadata": {
    "id": "1591e074-bbb5-40c3-adae-8de96edc8e1c"
   },
   "source": [
    "### Drop Row or Columns"
   ]
  },
  {
   "cell_type": "code",
   "execution_count": 87,
   "id": "6183efd8-6207-47c6-aabc-c1ceea111897",
   "metadata": {
    "ExecuteTime": {
     "end_time": "2022-09-26T08:08:46.756300Z",
     "start_time": "2022-09-26T08:08:46.742342Z"
    },
    "id": "6183efd8-6207-47c6-aabc-c1ceea111897"
   },
   "outputs": [],
   "source": [
    "#agar data awal kita tidak rusak maka kita lakukan dengan mencopy df_titanic\n",
    "df_titanic_copy = df_titanic.copy()"
   ]
  },
  {
   "cell_type": "code",
   "execution_count": 88,
   "id": "302f8249-ff1f-44fd-8d61-1f4098e5e300",
   "metadata": {
    "ExecuteTime": {
     "end_time": "2022-09-26T08:08:47.035940Z",
     "start_time": "2022-09-26T08:08:47.015239Z"
    },
    "colab": {
     "base_uri": "https://localhost:8080/",
     "height": 240
    },
    "executionInfo": {
     "elapsed": 424,
     "status": "ok",
     "timestamp": 1648712002481,
     "user": {
      "displayName": "Pratama Suprayogi",
      "userId": "14884808246882934220"
     },
     "user_tz": -420
    },
    "id": "302f8249-ff1f-44fd-8d61-1f4098e5e300",
    "outputId": "52d2490c-9b81-49b2-d119-7b93ce84654f"
   },
   "outputs": [
    {
     "data": {
      "text/html": [
       "<div>\n",
       "<style scoped>\n",
       "    .dataframe tbody tr th:only-of-type {\n",
       "        vertical-align: middle;\n",
       "    }\n",
       "\n",
       "    .dataframe tbody tr th {\n",
       "        vertical-align: top;\n",
       "    }\n",
       "\n",
       "    .dataframe thead th {\n",
       "        text-align: right;\n",
       "    }\n",
       "</style>\n",
       "<table border=\"1\" class=\"dataframe\">\n",
       "  <thead>\n",
       "    <tr style=\"text-align: right;\">\n",
       "      <th></th>\n",
       "      <th>PassengerId</th>\n",
       "      <th>Survived</th>\n",
       "      <th>Pclass</th>\n",
       "      <th>Name</th>\n",
       "      <th>Sex</th>\n",
       "      <th>Age</th>\n",
       "      <th>SibSp</th>\n",
       "      <th>Parch</th>\n",
       "      <th>Ticket</th>\n",
       "      <th>Fare</th>\n",
       "      <th>Cabin</th>\n",
       "      <th>Embarked</th>\n",
       "    </tr>\n",
       "  </thead>\n",
       "  <tbody>\n",
       "    <tr>\n",
       "      <th>0</th>\n",
       "      <td>1</td>\n",
       "      <td>0</td>\n",
       "      <td>3</td>\n",
       "      <td>Braund, Mr. Owen Harris</td>\n",
       "      <td>male</td>\n",
       "      <td>22.0</td>\n",
       "      <td>1</td>\n",
       "      <td>0</td>\n",
       "      <td>A/5 21171</td>\n",
       "      <td>7.2500</td>\n",
       "      <td>NaN</td>\n",
       "      <td>S</td>\n",
       "    </tr>\n",
       "    <tr>\n",
       "      <th>1</th>\n",
       "      <td>2</td>\n",
       "      <td>1</td>\n",
       "      <td>1</td>\n",
       "      <td>Cumings, Mrs. John Bradley (Florence Briggs Th...</td>\n",
       "      <td>female</td>\n",
       "      <td>38.0</td>\n",
       "      <td>1</td>\n",
       "      <td>0</td>\n",
       "      <td>PC 17599</td>\n",
       "      <td>71.2833</td>\n",
       "      <td>C85</td>\n",
       "      <td>C</td>\n",
       "    </tr>\n",
       "    <tr>\n",
       "      <th>2</th>\n",
       "      <td>3</td>\n",
       "      <td>1</td>\n",
       "      <td>3</td>\n",
       "      <td>Heikkinen, Miss. Laina</td>\n",
       "      <td>female</td>\n",
       "      <td>26.0</td>\n",
       "      <td>0</td>\n",
       "      <td>0</td>\n",
       "      <td>STON/O2. 3101282</td>\n",
       "      <td>7.9250</td>\n",
       "      <td>NaN</td>\n",
       "      <td>S</td>\n",
       "    </tr>\n",
       "  </tbody>\n",
       "</table>\n",
       "</div>"
      ],
      "text/plain": [
       "   PassengerId  Survived  Pclass  \\\n",
       "0            1         0       3   \n",
       "1            2         1       1   \n",
       "2            3         1       3   \n",
       "\n",
       "                                                Name     Sex   Age  SibSp  \\\n",
       "0                            Braund, Mr. Owen Harris    male  22.0      1   \n",
       "1  Cumings, Mrs. John Bradley (Florence Briggs Th...  female  38.0      1   \n",
       "2                             Heikkinen, Miss. Laina  female  26.0      0   \n",
       "\n",
       "   Parch            Ticket     Fare Cabin Embarked  \n",
       "0      0         A/5 21171   7.2500   NaN        S  \n",
       "1      0          PC 17599  71.2833   C85        C  \n",
       "2      0  STON/O2. 3101282   7.9250   NaN        S  "
      ]
     },
     "execution_count": 88,
     "metadata": {},
     "output_type": "execute_result"
    }
   ],
   "source": [
    "df_titanic_copy.head(3)"
   ]
  },
  {
   "cell_type": "markdown",
   "id": "ac965f2a-eec6-4a2f-96db-588c0fa93512",
   "metadata": {
    "id": "ac965f2a-eec6-4a2f-96db-588c0fa93512"
   },
   "source": [
    "#### Menghapus Kolom"
   ]
  },
  {
   "cell_type": "code",
   "execution_count": 89,
   "id": "86eec1d0-7e62-4a56-8e35-75eba546b4e5",
   "metadata": {
    "ExecuteTime": {
     "end_time": "2022-09-26T08:08:47.673272Z",
     "start_time": "2022-09-26T08:08:47.659149Z"
    },
    "colab": {
     "base_uri": "https://localhost:8080/",
     "height": 205
    },
    "executionInfo": {
     "elapsed": 421,
     "status": "ok",
     "timestamp": 1648712055244,
     "user": {
      "displayName": "Pratama Suprayogi",
      "userId": "14884808246882934220"
     },
     "user_tz": -420
    },
    "id": "86eec1d0-7e62-4a56-8e35-75eba546b4e5",
    "outputId": "4ca6d464-23b4-4a6e-8380-feb06afe2ac1"
   },
   "outputs": [
    {
     "data": {
      "text/html": [
       "<div>\n",
       "<style scoped>\n",
       "    .dataframe tbody tr th:only-of-type {\n",
       "        vertical-align: middle;\n",
       "    }\n",
       "\n",
       "    .dataframe tbody tr th {\n",
       "        vertical-align: top;\n",
       "    }\n",
       "\n",
       "    .dataframe thead th {\n",
       "        text-align: right;\n",
       "    }\n",
       "</style>\n",
       "<table border=\"1\" class=\"dataframe\">\n",
       "  <thead>\n",
       "    <tr style=\"text-align: right;\">\n",
       "      <th></th>\n",
       "      <th>PassengerId</th>\n",
       "      <th>Survived</th>\n",
       "      <th>Pclass</th>\n",
       "      <th>Name</th>\n",
       "      <th>Sex</th>\n",
       "      <th>Age</th>\n",
       "      <th>SibSp</th>\n",
       "      <th>Parch</th>\n",
       "      <th>Fare</th>\n",
       "      <th>Cabin</th>\n",
       "      <th>Embarked</th>\n",
       "    </tr>\n",
       "  </thead>\n",
       "  <tbody>\n",
       "    <tr>\n",
       "      <th>0</th>\n",
       "      <td>1</td>\n",
       "      <td>0</td>\n",
       "      <td>3</td>\n",
       "      <td>Braund, Mr. Owen Harris</td>\n",
       "      <td>male</td>\n",
       "      <td>22.0</td>\n",
       "      <td>1</td>\n",
       "      <td>0</td>\n",
       "      <td>7.2500</td>\n",
       "      <td>NaN</td>\n",
       "      <td>S</td>\n",
       "    </tr>\n",
       "    <tr>\n",
       "      <th>1</th>\n",
       "      <td>2</td>\n",
       "      <td>1</td>\n",
       "      <td>1</td>\n",
       "      <td>Cumings, Mrs. John Bradley (Florence Briggs Th...</td>\n",
       "      <td>female</td>\n",
       "      <td>38.0</td>\n",
       "      <td>1</td>\n",
       "      <td>0</td>\n",
       "      <td>71.2833</td>\n",
       "      <td>C85</td>\n",
       "      <td>C</td>\n",
       "    </tr>\n",
       "    <tr>\n",
       "      <th>2</th>\n",
       "      <td>3</td>\n",
       "      <td>1</td>\n",
       "      <td>3</td>\n",
       "      <td>Heikkinen, Miss. Laina</td>\n",
       "      <td>female</td>\n",
       "      <td>26.0</td>\n",
       "      <td>0</td>\n",
       "      <td>0</td>\n",
       "      <td>7.9250</td>\n",
       "      <td>NaN</td>\n",
       "      <td>S</td>\n",
       "    </tr>\n",
       "  </tbody>\n",
       "</table>\n",
       "</div>"
      ],
      "text/plain": [
       "   PassengerId  Survived  Pclass  \\\n",
       "0            1         0       3   \n",
       "1            2         1       1   \n",
       "2            3         1       3   \n",
       "\n",
       "                                                Name     Sex   Age  SibSp  \\\n",
       "0                            Braund, Mr. Owen Harris    male  22.0      1   \n",
       "1  Cumings, Mrs. John Bradley (Florence Briggs Th...  female  38.0      1   \n",
       "2                             Heikkinen, Miss. Laina  female  26.0      0   \n",
       "\n",
       "   Parch     Fare Cabin Embarked  \n",
       "0      0   7.2500   NaN        S  \n",
       "1      0  71.2833   C85        C  \n",
       "2      0   7.9250   NaN        S  "
      ]
     },
     "execution_count": 89,
     "metadata": {},
     "output_type": "execute_result"
    }
   ],
   "source": [
    "#kita akan mencoba menghapus kolom ticket dan kita simpan pada variabel yang sama\n",
    "df_titanic_copy = df_titanic_copy.drop('Ticket', axis = 1)\n",
    "df_titanic_copy.head(3)"
   ]
  },
  {
   "cell_type": "code",
   "execution_count": 90,
   "id": "49eb7680-de1a-4e53-b83e-7ccf5b7e1830",
   "metadata": {
    "ExecuteTime": {
     "end_time": "2022-09-26T08:08:47.987557Z",
     "start_time": "2022-09-26T08:08:47.971544Z"
    },
    "colab": {
     "base_uri": "https://localhost:8080/",
     "height": 143
    },
    "executionInfo": {
     "elapsed": 533,
     "status": "ok",
     "timestamp": 1648712064429,
     "user": {
      "displayName": "Pratama Suprayogi",
      "userId": "14884808246882934220"
     },
     "user_tz": -420
    },
    "id": "49eb7680-de1a-4e53-b83e-7ccf5b7e1830",
    "outputId": "57216404-2a4b-4369-8c2c-7b7fd65d3c02"
   },
   "outputs": [
    {
     "data": {
      "text/html": [
       "<div>\n",
       "<style scoped>\n",
       "    .dataframe tbody tr th:only-of-type {\n",
       "        vertical-align: middle;\n",
       "    }\n",
       "\n",
       "    .dataframe tbody tr th {\n",
       "        vertical-align: top;\n",
       "    }\n",
       "\n",
       "    .dataframe thead th {\n",
       "        text-align: right;\n",
       "    }\n",
       "</style>\n",
       "<table border=\"1\" class=\"dataframe\">\n",
       "  <thead>\n",
       "    <tr style=\"text-align: right;\">\n",
       "      <th></th>\n",
       "      <th>PassengerId</th>\n",
       "      <th>Survived</th>\n",
       "      <th>Pclass</th>\n",
       "      <th>Name</th>\n",
       "      <th>Sex</th>\n",
       "      <th>Age</th>\n",
       "      <th>SibSp</th>\n",
       "      <th>Parch</th>\n",
       "      <th>Embarked</th>\n",
       "    </tr>\n",
       "  </thead>\n",
       "  <tbody>\n",
       "    <tr>\n",
       "      <th>0</th>\n",
       "      <td>1</td>\n",
       "      <td>0</td>\n",
       "      <td>3</td>\n",
       "      <td>Braund, Mr. Owen Harris</td>\n",
       "      <td>male</td>\n",
       "      <td>22.0</td>\n",
       "      <td>1</td>\n",
       "      <td>0</td>\n",
       "      <td>S</td>\n",
       "    </tr>\n",
       "    <tr>\n",
       "      <th>1</th>\n",
       "      <td>2</td>\n",
       "      <td>1</td>\n",
       "      <td>1</td>\n",
       "      <td>Cumings, Mrs. John Bradley (Florence Briggs Th...</td>\n",
       "      <td>female</td>\n",
       "      <td>38.0</td>\n",
       "      <td>1</td>\n",
       "      <td>0</td>\n",
       "      <td>C</td>\n",
       "    </tr>\n",
       "    <tr>\n",
       "      <th>2</th>\n",
       "      <td>3</td>\n",
       "      <td>1</td>\n",
       "      <td>3</td>\n",
       "      <td>Heikkinen, Miss. Laina</td>\n",
       "      <td>female</td>\n",
       "      <td>26.0</td>\n",
       "      <td>0</td>\n",
       "      <td>0</td>\n",
       "      <td>S</td>\n",
       "    </tr>\n",
       "  </tbody>\n",
       "</table>\n",
       "</div>"
      ],
      "text/plain": [
       "   PassengerId  Survived  Pclass  \\\n",
       "0            1         0       3   \n",
       "1            2         1       1   \n",
       "2            3         1       3   \n",
       "\n",
       "                                                Name     Sex   Age  SibSp  \\\n",
       "0                            Braund, Mr. Owen Harris    male  22.0      1   \n",
       "1  Cumings, Mrs. John Bradley (Florence Briggs Th...  female  38.0      1   \n",
       "2                             Heikkinen, Miss. Laina  female  26.0      0   \n",
       "\n",
       "   Parch Embarked  \n",
       "0      0        S  \n",
       "1      0        C  \n",
       "2      0        S  "
      ]
     },
     "execution_count": 90,
     "metadata": {},
     "output_type": "execute_result"
    }
   ],
   "source": [
    "#bagaimana jika kita ingin menghapus 2 kolom\n",
    "# kita dapat menambahkan kolom dengan diberi tanda kurung siku []\n",
    "df_titanic_copy.drop(['Fare','Cabin'], axis = 1, inplace=True)\n",
    "df_titanic_copy.head(3)"
   ]
  },
  {
   "cell_type": "markdown",
   "id": "a7f7492a-0f8e-488c-9469-287bc28e1b5e",
   "metadata": {
    "id": "a7f7492a-0f8e-488c-9469-287bc28e1b5e"
   },
   "source": [
    "#### Menghapus Baris"
   ]
  },
  {
   "cell_type": "code",
   "execution_count": 91,
   "id": "3c46ed8c-04e3-43c6-8100-ffcbac17c11f",
   "metadata": {
    "ExecuteTime": {
     "end_time": "2022-09-26T08:08:48.469215Z",
     "start_time": "2022-09-26T08:08:48.448980Z"
    },
    "colab": {
     "base_uri": "https://localhost:8080/",
     "height": 206
    },
    "executionInfo": {
     "elapsed": 423,
     "status": "ok",
     "timestamp": 1648712071559,
     "user": {
      "displayName": "Pratama Suprayogi",
      "userId": "14884808246882934220"
     },
     "user_tz": -420
    },
    "id": "3c46ed8c-04e3-43c6-8100-ffcbac17c11f",
    "outputId": "c6344da0-f2ca-4f36-e129-a8a759464b8c"
   },
   "outputs": [
    {
     "data": {
      "text/html": [
       "<div>\n",
       "<style scoped>\n",
       "    .dataframe tbody tr th:only-of-type {\n",
       "        vertical-align: middle;\n",
       "    }\n",
       "\n",
       "    .dataframe tbody tr th {\n",
       "        vertical-align: top;\n",
       "    }\n",
       "\n",
       "    .dataframe thead th {\n",
       "        text-align: right;\n",
       "    }\n",
       "</style>\n",
       "<table border=\"1\" class=\"dataframe\">\n",
       "  <thead>\n",
       "    <tr style=\"text-align: right;\">\n",
       "      <th></th>\n",
       "      <th>PassengerId</th>\n",
       "      <th>Survived</th>\n",
       "      <th>Pclass</th>\n",
       "      <th>Name</th>\n",
       "      <th>Sex</th>\n",
       "      <th>Age</th>\n",
       "      <th>SibSp</th>\n",
       "      <th>Parch</th>\n",
       "      <th>Embarked</th>\n",
       "    </tr>\n",
       "  </thead>\n",
       "  <tbody>\n",
       "    <tr>\n",
       "      <th>0</th>\n",
       "      <td>1</td>\n",
       "      <td>0</td>\n",
       "      <td>3</td>\n",
       "      <td>Braund, Mr. Owen Harris</td>\n",
       "      <td>male</td>\n",
       "      <td>22.0</td>\n",
       "      <td>1</td>\n",
       "      <td>0</td>\n",
       "      <td>S</td>\n",
       "    </tr>\n",
       "    <tr>\n",
       "      <th>1</th>\n",
       "      <td>2</td>\n",
       "      <td>1</td>\n",
       "      <td>1</td>\n",
       "      <td>Cumings, Mrs. John Bradley (Florence Briggs Th...</td>\n",
       "      <td>female</td>\n",
       "      <td>38.0</td>\n",
       "      <td>1</td>\n",
       "      <td>0</td>\n",
       "      <td>C</td>\n",
       "    </tr>\n",
       "    <tr>\n",
       "      <th>3</th>\n",
       "      <td>4</td>\n",
       "      <td>1</td>\n",
       "      <td>1</td>\n",
       "      <td>Futrelle, Mrs. Jacques Heath (Lily May Peel)</td>\n",
       "      <td>female</td>\n",
       "      <td>35.0</td>\n",
       "      <td>1</td>\n",
       "      <td>0</td>\n",
       "      <td>S</td>\n",
       "    </tr>\n",
       "    <tr>\n",
       "      <th>4</th>\n",
       "      <td>5</td>\n",
       "      <td>0</td>\n",
       "      <td>3</td>\n",
       "      <td>Allen, Mr. William Henry</td>\n",
       "      <td>male</td>\n",
       "      <td>35.0</td>\n",
       "      <td>0</td>\n",
       "      <td>0</td>\n",
       "      <td>S</td>\n",
       "    </tr>\n",
       "    <tr>\n",
       "      <th>5</th>\n",
       "      <td>6</td>\n",
       "      <td>0</td>\n",
       "      <td>3</td>\n",
       "      <td>Moran, Mr. James</td>\n",
       "      <td>male</td>\n",
       "      <td>NaN</td>\n",
       "      <td>0</td>\n",
       "      <td>0</td>\n",
       "      <td>Q</td>\n",
       "    </tr>\n",
       "  </tbody>\n",
       "</table>\n",
       "</div>"
      ],
      "text/plain": [
       "   PassengerId  Survived  Pclass  \\\n",
       "0            1         0       3   \n",
       "1            2         1       1   \n",
       "3            4         1       1   \n",
       "4            5         0       3   \n",
       "5            6         0       3   \n",
       "\n",
       "                                                Name     Sex   Age  SibSp  \\\n",
       "0                            Braund, Mr. Owen Harris    male  22.0      1   \n",
       "1  Cumings, Mrs. John Bradley (Florence Briggs Th...  female  38.0      1   \n",
       "3       Futrelle, Mrs. Jacques Heath (Lily May Peel)  female  35.0      1   \n",
       "4                           Allen, Mr. William Henry    male  35.0      0   \n",
       "5                                   Moran, Mr. James    male   NaN      0   \n",
       "\n",
       "   Parch Embarked  \n",
       "0      0        S  \n",
       "1      0        C  \n",
       "3      0        S  \n",
       "4      0        S  \n",
       "5      0        Q  "
      ]
     },
     "execution_count": 91,
     "metadata": {},
     "output_type": "execute_result"
    }
   ],
   "source": [
    "#menghapus row dengan index 2\n",
    "df_titanic_copy.drop(index = 2, inplace=True)\n",
    "df_titanic_copy.head()"
   ]
  },
  {
   "cell_type": "code",
   "execution_count": 92,
   "id": "dbda6b95-91e7-4e9a-8cc1-6d9f2b064ae9",
   "metadata": {
    "ExecuteTime": {
     "end_time": "2022-09-26T08:08:48.718259Z",
     "start_time": "2022-09-26T08:08:48.707478Z"
    },
    "colab": {
     "base_uri": "https://localhost:8080/",
     "height": 206
    },
    "executionInfo": {
     "elapsed": 880,
     "status": "ok",
     "timestamp": 1648712079909,
     "user": {
      "displayName": "Pratama Suprayogi",
      "userId": "14884808246882934220"
     },
     "user_tz": -420
    },
    "id": "dbda6b95-91e7-4e9a-8cc1-6d9f2b064ae9",
    "outputId": "923ef86c-d083-4cb7-d52c-c8f088386ae7"
   },
   "outputs": [
    {
     "data": {
      "text/html": [
       "<div>\n",
       "<style scoped>\n",
       "    .dataframe tbody tr th:only-of-type {\n",
       "        vertical-align: middle;\n",
       "    }\n",
       "\n",
       "    .dataframe tbody tr th {\n",
       "        vertical-align: top;\n",
       "    }\n",
       "\n",
       "    .dataframe thead th {\n",
       "        text-align: right;\n",
       "    }\n",
       "</style>\n",
       "<table border=\"1\" class=\"dataframe\">\n",
       "  <thead>\n",
       "    <tr style=\"text-align: right;\">\n",
       "      <th></th>\n",
       "      <th>PassengerId</th>\n",
       "      <th>Survived</th>\n",
       "      <th>Pclass</th>\n",
       "      <th>Name</th>\n",
       "      <th>Sex</th>\n",
       "      <th>Age</th>\n",
       "      <th>SibSp</th>\n",
       "      <th>Parch</th>\n",
       "      <th>Embarked</th>\n",
       "    </tr>\n",
       "  </thead>\n",
       "  <tbody>\n",
       "    <tr>\n",
       "      <th>0</th>\n",
       "      <td>1</td>\n",
       "      <td>0</td>\n",
       "      <td>3</td>\n",
       "      <td>Braund, Mr. Owen Harris</td>\n",
       "      <td>male</td>\n",
       "      <td>22.0</td>\n",
       "      <td>1</td>\n",
       "      <td>0</td>\n",
       "      <td>S</td>\n",
       "    </tr>\n",
       "    <tr>\n",
       "      <th>3</th>\n",
       "      <td>4</td>\n",
       "      <td>1</td>\n",
       "      <td>1</td>\n",
       "      <td>Futrelle, Mrs. Jacques Heath (Lily May Peel)</td>\n",
       "      <td>female</td>\n",
       "      <td>35.0</td>\n",
       "      <td>1</td>\n",
       "      <td>0</td>\n",
       "      <td>S</td>\n",
       "    </tr>\n",
       "    <tr>\n",
       "      <th>5</th>\n",
       "      <td>6</td>\n",
       "      <td>0</td>\n",
       "      <td>3</td>\n",
       "      <td>Moran, Mr. James</td>\n",
       "      <td>male</td>\n",
       "      <td>NaN</td>\n",
       "      <td>0</td>\n",
       "      <td>0</td>\n",
       "      <td>Q</td>\n",
       "    </tr>\n",
       "    <tr>\n",
       "      <th>6</th>\n",
       "      <td>7</td>\n",
       "      <td>0</td>\n",
       "      <td>1</td>\n",
       "      <td>McCarthy, Mr. Timothy J</td>\n",
       "      <td>male</td>\n",
       "      <td>54.0</td>\n",
       "      <td>0</td>\n",
       "      <td>0</td>\n",
       "      <td>S</td>\n",
       "    </tr>\n",
       "    <tr>\n",
       "      <th>7</th>\n",
       "      <td>8</td>\n",
       "      <td>0</td>\n",
       "      <td>3</td>\n",
       "      <td>Palsson, Master. Gosta Leonard</td>\n",
       "      <td>male</td>\n",
       "      <td>2.0</td>\n",
       "      <td>3</td>\n",
       "      <td>1</td>\n",
       "      <td>S</td>\n",
       "    </tr>\n",
       "  </tbody>\n",
       "</table>\n",
       "</div>"
      ],
      "text/plain": [
       "   PassengerId  Survived  Pclass  \\\n",
       "0            1         0       3   \n",
       "3            4         1       1   \n",
       "5            6         0       3   \n",
       "6            7         0       1   \n",
       "7            8         0       3   \n",
       "\n",
       "                                           Name     Sex   Age  SibSp  Parch  \\\n",
       "0                       Braund, Mr. Owen Harris    male  22.0      1      0   \n",
       "3  Futrelle, Mrs. Jacques Heath (Lily May Peel)  female  35.0      1      0   \n",
       "5                              Moran, Mr. James    male   NaN      0      0   \n",
       "6                       McCarthy, Mr. Timothy J    male  54.0      0      0   \n",
       "7                Palsson, Master. Gosta Leonard    male   2.0      3      1   \n",
       "\n",
       "  Embarked  \n",
       "0        S  \n",
       "3        S  \n",
       "5        Q  \n",
       "6        S  \n",
       "7        S  "
      ]
     },
     "execution_count": 92,
     "metadata": {},
     "output_type": "execute_result"
    }
   ],
   "source": [
    "#menghapus row dengan index 1 dan 4\n",
    "df_titanic_copy.drop(index =[1,4] , inplace=True)\n",
    "df_titanic_copy.head()"
   ]
  },
  {
   "cell_type": "code",
   "execution_count": 93,
   "id": "7b366250-f9f7-4f9e-b1f3-6df6e5a8e55a",
   "metadata": {
    "ExecuteTime": {
     "end_time": "2022-09-26T08:08:48.986076Z",
     "start_time": "2022-09-26T08:08:48.974543Z"
    },
    "colab": {
     "base_uri": "https://localhost:8080/",
     "height": 206
    },
    "executionInfo": {
     "elapsed": 3,
     "status": "ok",
     "timestamp": 1648712084034,
     "user": {
      "displayName": "Pratama Suprayogi",
      "userId": "14884808246882934220"
     },
     "user_tz": -420
    },
    "id": "7b366250-f9f7-4f9e-b1f3-6df6e5a8e55a",
    "outputId": "e9814dc6-aa6d-40db-dd4f-03932629405e"
   },
   "outputs": [
    {
     "data": {
      "text/html": [
       "<div>\n",
       "<style scoped>\n",
       "    .dataframe tbody tr th:only-of-type {\n",
       "        vertical-align: middle;\n",
       "    }\n",
       "\n",
       "    .dataframe tbody tr th {\n",
       "        vertical-align: top;\n",
       "    }\n",
       "\n",
       "    .dataframe thead th {\n",
       "        text-align: right;\n",
       "    }\n",
       "</style>\n",
       "<table border=\"1\" class=\"dataframe\">\n",
       "  <thead>\n",
       "    <tr style=\"text-align: right;\">\n",
       "      <th></th>\n",
       "      <th>PassengerId</th>\n",
       "      <th>Survived</th>\n",
       "      <th>Pclass</th>\n",
       "      <th>Name</th>\n",
       "      <th>Sex</th>\n",
       "      <th>Age</th>\n",
       "      <th>SibSp</th>\n",
       "      <th>Parch</th>\n",
       "      <th>Embarked</th>\n",
       "    </tr>\n",
       "  </thead>\n",
       "  <tbody>\n",
       "    <tr>\n",
       "      <th>0</th>\n",
       "      <td>1</td>\n",
       "      <td>0</td>\n",
       "      <td>3</td>\n",
       "      <td>Braund, Mr. Owen Harris</td>\n",
       "      <td>male</td>\n",
       "      <td>22.0</td>\n",
       "      <td>1</td>\n",
       "      <td>0</td>\n",
       "      <td>S</td>\n",
       "    </tr>\n",
       "    <tr>\n",
       "      <th>1</th>\n",
       "      <td>4</td>\n",
       "      <td>1</td>\n",
       "      <td>1</td>\n",
       "      <td>Futrelle, Mrs. Jacques Heath (Lily May Peel)</td>\n",
       "      <td>female</td>\n",
       "      <td>35.0</td>\n",
       "      <td>1</td>\n",
       "      <td>0</td>\n",
       "      <td>S</td>\n",
       "    </tr>\n",
       "    <tr>\n",
       "      <th>2</th>\n",
       "      <td>6</td>\n",
       "      <td>0</td>\n",
       "      <td>3</td>\n",
       "      <td>Moran, Mr. James</td>\n",
       "      <td>male</td>\n",
       "      <td>NaN</td>\n",
       "      <td>0</td>\n",
       "      <td>0</td>\n",
       "      <td>Q</td>\n",
       "    </tr>\n",
       "    <tr>\n",
       "      <th>3</th>\n",
       "      <td>7</td>\n",
       "      <td>0</td>\n",
       "      <td>1</td>\n",
       "      <td>McCarthy, Mr. Timothy J</td>\n",
       "      <td>male</td>\n",
       "      <td>54.0</td>\n",
       "      <td>0</td>\n",
       "      <td>0</td>\n",
       "      <td>S</td>\n",
       "    </tr>\n",
       "    <tr>\n",
       "      <th>4</th>\n",
       "      <td>8</td>\n",
       "      <td>0</td>\n",
       "      <td>3</td>\n",
       "      <td>Palsson, Master. Gosta Leonard</td>\n",
       "      <td>male</td>\n",
       "      <td>2.0</td>\n",
       "      <td>3</td>\n",
       "      <td>1</td>\n",
       "      <td>S</td>\n",
       "    </tr>\n",
       "  </tbody>\n",
       "</table>\n",
       "</div>"
      ],
      "text/plain": [
       "   PassengerId  Survived  Pclass  \\\n",
       "0            1         0       3   \n",
       "1            4         1       1   \n",
       "2            6         0       3   \n",
       "3            7         0       1   \n",
       "4            8         0       3   \n",
       "\n",
       "                                           Name     Sex   Age  SibSp  Parch  \\\n",
       "0                       Braund, Mr. Owen Harris    male  22.0      1      0   \n",
       "1  Futrelle, Mrs. Jacques Heath (Lily May Peel)  female  35.0      1      0   \n",
       "2                              Moran, Mr. James    male   NaN      0      0   \n",
       "3                       McCarthy, Mr. Timothy J    male  54.0      0      0   \n",
       "4                Palsson, Master. Gosta Leonard    male   2.0      3      1   \n",
       "\n",
       "  Embarked  \n",
       "0        S  \n",
       "1        S  \n",
       "2        Q  \n",
       "3        S  \n",
       "4        S  "
      ]
     },
     "execution_count": 93,
     "metadata": {},
     "output_type": "execute_result"
    }
   ],
   "source": [
    "#jika kita ingin melakukan reset index maka kita bisa gunakan reset_index \n",
    "df_titanic_copy.reset_index(drop=True, inplace=True)\n",
    "df_titanic_copy.head()"
   ]
  },
  {
   "cell_type": "code",
   "execution_count": 94,
   "id": "c4eeb60d-9b65-4498-a8a3-cee77e12a07e",
   "metadata": {
    "ExecuteTime": {
     "end_time": "2022-09-26T08:08:49.263460Z",
     "start_time": "2022-09-26T08:08:49.253680Z"
    },
    "id": "c4eeb60d-9b65-4498-a8a3-cee77e12a07e"
   },
   "outputs": [],
   "source": [
    "#jika kita ingin menghapus baris berdasarkan isinya\n",
    "#misal kita ingin menghapus yang berumur 22 tahun\n",
    "#1. kita bisa menggunakna Filtering\n",
    "df_titanic_copy = df_titanic_copy[df_titanic_copy.Age != 22]"
   ]
  },
  {
   "cell_type": "markdown",
   "id": "16211120-aaaf-4542-a2d2-435e73708095",
   "metadata": {
    "id": "16211120-aaaf-4542-a2d2-435e73708095"
   },
   "source": [
    "### Missing Values"
   ]
  },
  {
   "cell_type": "code",
   "execution_count": 95,
   "id": "7de34424-3471-4e5c-b207-bdb5df32d288",
   "metadata": {
    "ExecuteTime": {
     "end_time": "2022-09-26T08:08:49.749448Z",
     "start_time": "2022-09-26T08:08:49.737887Z"
    },
    "id": "7de34424-3471-4e5c-b207-bdb5df32d288"
   },
   "outputs": [],
   "source": [
    "#kita copy dlu data df_titanic agar aman\n",
    "df_titanic_missing = df_titanic.copy()"
   ]
  },
  {
   "cell_type": "code",
   "execution_count": 96,
   "id": "af6ad52e-3db3-4ad1-821e-35ec6de75959",
   "metadata": {
    "ExecuteTime": {
     "end_time": "2022-09-26T08:08:49.986528Z",
     "start_time": "2022-09-26T08:08:49.975926Z"
    },
    "id": "af6ad52e-3db3-4ad1-821e-35ec6de75959",
    "outputId": "665e66eb-1e91-4ee5-b318-1513b0e6fcb1"
   },
   "outputs": [
    {
     "data": {
      "text/plain": [
       "PassengerId      0\n",
       "Survived         0\n",
       "Pclass           0\n",
       "Name             0\n",
       "Sex              0\n",
       "Age            177\n",
       "SibSp            0\n",
       "Parch            0\n",
       "Ticket           0\n",
       "Fare             0\n",
       "Cabin          687\n",
       "Embarked         1\n",
       "dtype: int64"
      ]
     },
     "execution_count": 96,
     "metadata": {},
     "output_type": "execute_result"
    }
   ],
   "source": [
    "#untuk melakukan pengecekan apakah ada missing Value dalam dataset kita maka kita dapat menggunakan (isna/isnull)\n",
    "df_titanic_missing.isnull().sum()"
   ]
  },
  {
   "cell_type": "markdown",
   "id": "21237008-7178-4591-ba23-9b8b7106d27d",
   "metadata": {
    "id": "21237008-7178-4591-ba23-9b8b7106d27d"
   },
   "source": [
    "#### Clean Missing Values"
   ]
  },
  {
   "cell_type": "code",
   "execution_count": 97,
   "id": "ab722ced-497c-41cd-babe-014890239189",
   "metadata": {
    "ExecuteTime": {
     "end_time": "2022-09-26T08:08:50.484377Z",
     "start_time": "2022-09-26T08:08:50.467798Z"
    },
    "id": "ab722ced-497c-41cd-babe-014890239189",
    "outputId": "0be4a7db-2c20-4e5d-f80d-46cdba60eefe"
   },
   "outputs": [
    {
     "data": {
      "text/html": [
       "<div>\n",
       "<style scoped>\n",
       "    .dataframe tbody tr th:only-of-type {\n",
       "        vertical-align: middle;\n",
       "    }\n",
       "\n",
       "    .dataframe tbody tr th {\n",
       "        vertical-align: top;\n",
       "    }\n",
       "\n",
       "    .dataframe thead th {\n",
       "        text-align: right;\n",
       "    }\n",
       "</style>\n",
       "<table border=\"1\" class=\"dataframe\">\n",
       "  <thead>\n",
       "    <tr style=\"text-align: right;\">\n",
       "      <th></th>\n",
       "      <th>PassengerId</th>\n",
       "      <th>Survived</th>\n",
       "      <th>Pclass</th>\n",
       "      <th>Name</th>\n",
       "      <th>Sex</th>\n",
       "      <th>Age</th>\n",
       "      <th>SibSp</th>\n",
       "      <th>Parch</th>\n",
       "      <th>Ticket</th>\n",
       "      <th>Fare</th>\n",
       "      <th>Cabin</th>\n",
       "      <th>Embarked</th>\n",
       "    </tr>\n",
       "  </thead>\n",
       "  <tbody>\n",
       "    <tr>\n",
       "      <th>1</th>\n",
       "      <td>2</td>\n",
       "      <td>1</td>\n",
       "      <td>1</td>\n",
       "      <td>Cumings, Mrs. John Bradley (Florence Briggs Th...</td>\n",
       "      <td>female</td>\n",
       "      <td>38.0</td>\n",
       "      <td>1</td>\n",
       "      <td>0</td>\n",
       "      <td>PC 17599</td>\n",
       "      <td>71.2833</td>\n",
       "      <td>C85</td>\n",
       "      <td>C</td>\n",
       "    </tr>\n",
       "    <tr>\n",
       "      <th>3</th>\n",
       "      <td>4</td>\n",
       "      <td>1</td>\n",
       "      <td>1</td>\n",
       "      <td>Futrelle, Mrs. Jacques Heath (Lily May Peel)</td>\n",
       "      <td>female</td>\n",
       "      <td>35.0</td>\n",
       "      <td>1</td>\n",
       "      <td>0</td>\n",
       "      <td>113803</td>\n",
       "      <td>53.1000</td>\n",
       "      <td>C123</td>\n",
       "      <td>S</td>\n",
       "    </tr>\n",
       "    <tr>\n",
       "      <th>6</th>\n",
       "      <td>7</td>\n",
       "      <td>0</td>\n",
       "      <td>1</td>\n",
       "      <td>McCarthy, Mr. Timothy J</td>\n",
       "      <td>male</td>\n",
       "      <td>54.0</td>\n",
       "      <td>0</td>\n",
       "      <td>0</td>\n",
       "      <td>17463</td>\n",
       "      <td>51.8625</td>\n",
       "      <td>E46</td>\n",
       "      <td>S</td>\n",
       "    </tr>\n",
       "    <tr>\n",
       "      <th>10</th>\n",
       "      <td>11</td>\n",
       "      <td>1</td>\n",
       "      <td>3</td>\n",
       "      <td>Sandstrom, Miss. Marguerite Rut</td>\n",
       "      <td>female</td>\n",
       "      <td>4.0</td>\n",
       "      <td>1</td>\n",
       "      <td>1</td>\n",
       "      <td>PP 9549</td>\n",
       "      <td>16.7000</td>\n",
       "      <td>G6</td>\n",
       "      <td>S</td>\n",
       "    </tr>\n",
       "    <tr>\n",
       "      <th>11</th>\n",
       "      <td>12</td>\n",
       "      <td>1</td>\n",
       "      <td>1</td>\n",
       "      <td>Bonnell, Miss. Elizabeth</td>\n",
       "      <td>female</td>\n",
       "      <td>58.0</td>\n",
       "      <td>0</td>\n",
       "      <td>0</td>\n",
       "      <td>113783</td>\n",
       "      <td>26.5500</td>\n",
       "      <td>C103</td>\n",
       "      <td>JAKARTA</td>\n",
       "    </tr>\n",
       "    <tr>\n",
       "      <th>...</th>\n",
       "      <td>...</td>\n",
       "      <td>...</td>\n",
       "      <td>...</td>\n",
       "      <td>...</td>\n",
       "      <td>...</td>\n",
       "      <td>...</td>\n",
       "      <td>...</td>\n",
       "      <td>...</td>\n",
       "      <td>...</td>\n",
       "      <td>...</td>\n",
       "      <td>...</td>\n",
       "      <td>...</td>\n",
       "    </tr>\n",
       "    <tr>\n",
       "      <th>871</th>\n",
       "      <td>872</td>\n",
       "      <td>1</td>\n",
       "      <td>1</td>\n",
       "      <td>Beckwith, Mrs. Richard Leonard (Sallie Monypeny)</td>\n",
       "      <td>female</td>\n",
       "      <td>47.0</td>\n",
       "      <td>1</td>\n",
       "      <td>1</td>\n",
       "      <td>11751</td>\n",
       "      <td>52.5542</td>\n",
       "      <td>D35</td>\n",
       "      <td>JAKARTA</td>\n",
       "    </tr>\n",
       "    <tr>\n",
       "      <th>872</th>\n",
       "      <td>873</td>\n",
       "      <td>0</td>\n",
       "      <td>1</td>\n",
       "      <td>Carlsson, Mr. Frans Olof</td>\n",
       "      <td>male</td>\n",
       "      <td>33.0</td>\n",
       "      <td>0</td>\n",
       "      <td>0</td>\n",
       "      <td>695</td>\n",
       "      <td>5.0000</td>\n",
       "      <td>B51 B53 B55</td>\n",
       "      <td>S</td>\n",
       "    </tr>\n",
       "    <tr>\n",
       "      <th>879</th>\n",
       "      <td>880</td>\n",
       "      <td>1</td>\n",
       "      <td>1</td>\n",
       "      <td>Potter, Mrs. Thomas Jr (Lily Alexenia Wilson)</td>\n",
       "      <td>female</td>\n",
       "      <td>56.0</td>\n",
       "      <td>0</td>\n",
       "      <td>1</td>\n",
       "      <td>11767</td>\n",
       "      <td>83.1583</td>\n",
       "      <td>C50</td>\n",
       "      <td>JAKARTA</td>\n",
       "    </tr>\n",
       "    <tr>\n",
       "      <th>887</th>\n",
       "      <td>888</td>\n",
       "      <td>1</td>\n",
       "      <td>1</td>\n",
       "      <td>Graham, Miss. Margaret Edith</td>\n",
       "      <td>female</td>\n",
       "      <td>19.0</td>\n",
       "      <td>0</td>\n",
       "      <td>0</td>\n",
       "      <td>112053</td>\n",
       "      <td>30.0000</td>\n",
       "      <td>B42</td>\n",
       "      <td>S</td>\n",
       "    </tr>\n",
       "    <tr>\n",
       "      <th>889</th>\n",
       "      <td>890</td>\n",
       "      <td>1</td>\n",
       "      <td>1</td>\n",
       "      <td>Behr, Mr. Karl Howell</td>\n",
       "      <td>male</td>\n",
       "      <td>26.0</td>\n",
       "      <td>0</td>\n",
       "      <td>0</td>\n",
       "      <td>111369</td>\n",
       "      <td>30.0000</td>\n",
       "      <td>C148</td>\n",
       "      <td>C</td>\n",
       "    </tr>\n",
       "  </tbody>\n",
       "</table>\n",
       "<p>184 rows × 12 columns</p>\n",
       "</div>"
      ],
      "text/plain": [
       "     PassengerId  Survived  Pclass  \\\n",
       "1              2         1       1   \n",
       "3              4         1       1   \n",
       "6              7         0       1   \n",
       "10            11         1       3   \n",
       "11            12         1       1   \n",
       "..           ...       ...     ...   \n",
       "871          872         1       1   \n",
       "872          873         0       1   \n",
       "879          880         1       1   \n",
       "887          888         1       1   \n",
       "889          890         1       1   \n",
       "\n",
       "                                                  Name     Sex   Age  SibSp  \\\n",
       "1    Cumings, Mrs. John Bradley (Florence Briggs Th...  female  38.0      1   \n",
       "3         Futrelle, Mrs. Jacques Heath (Lily May Peel)  female  35.0      1   \n",
       "6                              McCarthy, Mr. Timothy J    male  54.0      0   \n",
       "10                     Sandstrom, Miss. Marguerite Rut  female   4.0      1   \n",
       "11                            Bonnell, Miss. Elizabeth  female  58.0      0   \n",
       "..                                                 ...     ...   ...    ...   \n",
       "871   Beckwith, Mrs. Richard Leonard (Sallie Monypeny)  female  47.0      1   \n",
       "872                           Carlsson, Mr. Frans Olof    male  33.0      0   \n",
       "879      Potter, Mrs. Thomas Jr (Lily Alexenia Wilson)  female  56.0      0   \n",
       "887                       Graham, Miss. Margaret Edith  female  19.0      0   \n",
       "889                              Behr, Mr. Karl Howell    male  26.0      0   \n",
       "\n",
       "     Parch    Ticket     Fare        Cabin Embarked  \n",
       "1        0  PC 17599  71.2833          C85        C  \n",
       "3        0    113803  53.1000         C123        S  \n",
       "6        0     17463  51.8625          E46        S  \n",
       "10       1   PP 9549  16.7000           G6        S  \n",
       "11       0    113783  26.5500         C103  JAKARTA  \n",
       "..     ...       ...      ...          ...      ...  \n",
       "871      1     11751  52.5542          D35  JAKARTA  \n",
       "872      0       695   5.0000  B51 B53 B55        S  \n",
       "879      1     11767  83.1583          C50  JAKARTA  \n",
       "887      0    112053  30.0000          B42        S  \n",
       "889      0    111369  30.0000         C148        C  \n",
       "\n",
       "[184 rows x 12 columns]"
      ]
     },
     "execution_count": 97,
     "metadata": {},
     "output_type": "execute_result"
    }
   ],
   "source": [
    "#kita dapat menghapus seluruh row nilai NA dengan dropna\n",
    "#nb: kita biarkan inplacenya tidak dibuat True agar bisa kita pakai kembali dataframenya\n",
    "df_titanic_missing.dropna()"
   ]
  },
  {
   "cell_type": "code",
   "execution_count": 98,
   "id": "257580e9-5f92-4cf2-ac5d-25c0a9e06c03",
   "metadata": {
    "ExecuteTime": {
     "end_time": "2022-09-26T08:08:50.734005Z",
     "start_time": "2022-09-26T08:08:50.706652Z"
    },
    "id": "257580e9-5f92-4cf2-ac5d-25c0a9e06c03",
    "outputId": "a9d936ae-7561-4893-9cbc-f5782a2bc915"
   },
   "outputs": [
    {
     "data": {
      "text/html": [
       "<div>\n",
       "<style scoped>\n",
       "    .dataframe tbody tr th:only-of-type {\n",
       "        vertical-align: middle;\n",
       "    }\n",
       "\n",
       "    .dataframe tbody tr th {\n",
       "        vertical-align: top;\n",
       "    }\n",
       "\n",
       "    .dataframe thead th {\n",
       "        text-align: right;\n",
       "    }\n",
       "</style>\n",
       "<table border=\"1\" class=\"dataframe\">\n",
       "  <thead>\n",
       "    <tr style=\"text-align: right;\">\n",
       "      <th></th>\n",
       "      <th>PassengerId</th>\n",
       "      <th>Survived</th>\n",
       "      <th>Pclass</th>\n",
       "      <th>Name</th>\n",
       "      <th>Sex</th>\n",
       "      <th>SibSp</th>\n",
       "      <th>Parch</th>\n",
       "      <th>Ticket</th>\n",
       "      <th>Fare</th>\n",
       "    </tr>\n",
       "  </thead>\n",
       "  <tbody>\n",
       "    <tr>\n",
       "      <th>0</th>\n",
       "      <td>1</td>\n",
       "      <td>0</td>\n",
       "      <td>3</td>\n",
       "      <td>Braund, Mr. Owen Harris</td>\n",
       "      <td>male</td>\n",
       "      <td>1</td>\n",
       "      <td>0</td>\n",
       "      <td>A/5 21171</td>\n",
       "      <td>7.2500</td>\n",
       "    </tr>\n",
       "    <tr>\n",
       "      <th>1</th>\n",
       "      <td>2</td>\n",
       "      <td>1</td>\n",
       "      <td>1</td>\n",
       "      <td>Cumings, Mrs. John Bradley (Florence Briggs Th...</td>\n",
       "      <td>female</td>\n",
       "      <td>1</td>\n",
       "      <td>0</td>\n",
       "      <td>PC 17599</td>\n",
       "      <td>71.2833</td>\n",
       "    </tr>\n",
       "    <tr>\n",
       "      <th>2</th>\n",
       "      <td>3</td>\n",
       "      <td>1</td>\n",
       "      <td>3</td>\n",
       "      <td>Heikkinen, Miss. Laina</td>\n",
       "      <td>female</td>\n",
       "      <td>0</td>\n",
       "      <td>0</td>\n",
       "      <td>STON/O2. 3101282</td>\n",
       "      <td>7.9250</td>\n",
       "    </tr>\n",
       "    <tr>\n",
       "      <th>3</th>\n",
       "      <td>4</td>\n",
       "      <td>1</td>\n",
       "      <td>1</td>\n",
       "      <td>Futrelle, Mrs. Jacques Heath (Lily May Peel)</td>\n",
       "      <td>female</td>\n",
       "      <td>1</td>\n",
       "      <td>0</td>\n",
       "      <td>113803</td>\n",
       "      <td>53.1000</td>\n",
       "    </tr>\n",
       "    <tr>\n",
       "      <th>4</th>\n",
       "      <td>5</td>\n",
       "      <td>0</td>\n",
       "      <td>3</td>\n",
       "      <td>Allen, Mr. William Henry</td>\n",
       "      <td>male</td>\n",
       "      <td>0</td>\n",
       "      <td>0</td>\n",
       "      <td>373450</td>\n",
       "      <td>8.0500</td>\n",
       "    </tr>\n",
       "    <tr>\n",
       "      <th>...</th>\n",
       "      <td>...</td>\n",
       "      <td>...</td>\n",
       "      <td>...</td>\n",
       "      <td>...</td>\n",
       "      <td>...</td>\n",
       "      <td>...</td>\n",
       "      <td>...</td>\n",
       "      <td>...</td>\n",
       "      <td>...</td>\n",
       "    </tr>\n",
       "    <tr>\n",
       "      <th>886</th>\n",
       "      <td>887</td>\n",
       "      <td>0</td>\n",
       "      <td>2</td>\n",
       "      <td>Montvila, Rev. Juozas</td>\n",
       "      <td>male</td>\n",
       "      <td>0</td>\n",
       "      <td>0</td>\n",
       "      <td>211536</td>\n",
       "      <td>13.0000</td>\n",
       "    </tr>\n",
       "    <tr>\n",
       "      <th>887</th>\n",
       "      <td>888</td>\n",
       "      <td>1</td>\n",
       "      <td>1</td>\n",
       "      <td>Graham, Miss. Margaret Edith</td>\n",
       "      <td>female</td>\n",
       "      <td>0</td>\n",
       "      <td>0</td>\n",
       "      <td>112053</td>\n",
       "      <td>30.0000</td>\n",
       "    </tr>\n",
       "    <tr>\n",
       "      <th>888</th>\n",
       "      <td>889</td>\n",
       "      <td>0</td>\n",
       "      <td>3</td>\n",
       "      <td>Johnston, Miss. Catherine Helen \"Carrie\"</td>\n",
       "      <td>female</td>\n",
       "      <td>1</td>\n",
       "      <td>2</td>\n",
       "      <td>W./C. 6607</td>\n",
       "      <td>23.4500</td>\n",
       "    </tr>\n",
       "    <tr>\n",
       "      <th>889</th>\n",
       "      <td>890</td>\n",
       "      <td>1</td>\n",
       "      <td>1</td>\n",
       "      <td>Behr, Mr. Karl Howell</td>\n",
       "      <td>male</td>\n",
       "      <td>0</td>\n",
       "      <td>0</td>\n",
       "      <td>111369</td>\n",
       "      <td>30.0000</td>\n",
       "    </tr>\n",
       "    <tr>\n",
       "      <th>890</th>\n",
       "      <td>891</td>\n",
       "      <td>0</td>\n",
       "      <td>3</td>\n",
       "      <td>Dooley, Mr. Patrick</td>\n",
       "      <td>male</td>\n",
       "      <td>0</td>\n",
       "      <td>0</td>\n",
       "      <td>370376</td>\n",
       "      <td>7.7500</td>\n",
       "    </tr>\n",
       "  </tbody>\n",
       "</table>\n",
       "<p>891 rows × 9 columns</p>\n",
       "</div>"
      ],
      "text/plain": [
       "     PassengerId  Survived  Pclass  \\\n",
       "0              1         0       3   \n",
       "1              2         1       1   \n",
       "2              3         1       3   \n",
       "3              4         1       1   \n",
       "4              5         0       3   \n",
       "..           ...       ...     ...   \n",
       "886          887         0       2   \n",
       "887          888         1       1   \n",
       "888          889         0       3   \n",
       "889          890         1       1   \n",
       "890          891         0       3   \n",
       "\n",
       "                                                  Name     Sex  SibSp  Parch  \\\n",
       "0                              Braund, Mr. Owen Harris    male      1      0   \n",
       "1    Cumings, Mrs. John Bradley (Florence Briggs Th...  female      1      0   \n",
       "2                               Heikkinen, Miss. Laina  female      0      0   \n",
       "3         Futrelle, Mrs. Jacques Heath (Lily May Peel)  female      1      0   \n",
       "4                             Allen, Mr. William Henry    male      0      0   \n",
       "..                                                 ...     ...    ...    ...   \n",
       "886                              Montvila, Rev. Juozas    male      0      0   \n",
       "887                       Graham, Miss. Margaret Edith  female      0      0   \n",
       "888           Johnston, Miss. Catherine Helen \"Carrie\"  female      1      2   \n",
       "889                              Behr, Mr. Karl Howell    male      0      0   \n",
       "890                                Dooley, Mr. Patrick    male      0      0   \n",
       "\n",
       "               Ticket     Fare  \n",
       "0           A/5 21171   7.2500  \n",
       "1            PC 17599  71.2833  \n",
       "2    STON/O2. 3101282   7.9250  \n",
       "3              113803  53.1000  \n",
       "4              373450   8.0500  \n",
       "..                ...      ...  \n",
       "886            211536  13.0000  \n",
       "887            112053  30.0000  \n",
       "888        W./C. 6607  23.4500  \n",
       "889            111369  30.0000  \n",
       "890            370376   7.7500  \n",
       "\n",
       "[891 rows x 9 columns]"
      ]
     },
     "execution_count": 98,
     "metadata": {},
     "output_type": "execute_result"
    }
   ],
   "source": [
    "#kita dapat menghapus seluruh baris nilai NA dengan dropna dan menambahkan axis =1\n",
    "df_titanic_missing.dropna(axis=1)"
   ]
  },
  {
   "cell_type": "markdown",
   "id": "0dec895c-8fca-4249-8500-459983306f0f",
   "metadata": {
    "id": "0dec895c-8fca-4249-8500-459983306f0f"
   },
   "source": [
    "#### Imputed Missing Values"
   ]
  },
  {
   "cell_type": "code",
   "execution_count": 99,
   "id": "a5fb89cc-5cb3-4a32-8287-9f9ceb03cc99",
   "metadata": {
    "ExecuteTime": {
     "end_time": "2022-09-26T08:08:51.230637Z",
     "start_time": "2022-09-26T08:08:51.206646Z"
    },
    "id": "a5fb89cc-5cb3-4a32-8287-9f9ceb03cc99",
    "outputId": "f2669d7e-9008-4d59-e38b-fcbcd5a581ff"
   },
   "outputs": [
    {
     "data": {
      "text/plain": [
       "PassengerId      0\n",
       "Survived         0\n",
       "Pclass           0\n",
       "Name             0\n",
       "Sex              0\n",
       "Age              0\n",
       "SibSp            0\n",
       "Parch            0\n",
       "Ticket           0\n",
       "Fare             0\n",
       "Cabin          687\n",
       "Embarked         1\n",
       "dtype: int64"
      ]
     },
     "execution_count": 99,
     "metadata": {},
     "output_type": "execute_result"
    }
   ],
   "source": [
    "#pada data titanic terdapat 3 kolom yang memiliki data kosong yaitu age, Cabin dan Embarked\n",
    "#kita akan mencoba bagaimana mengisi data kosong tersebut\n",
    "#kita mulai dengan data age\n",
    "#untuk mengisi data kita dapat menggunakan method .fillna\n",
    "#karena df_titanic_missing tidak kita edit permanen jadi masih bisa kita gunakan\n",
    "#tapi kali ini kita akan coba langsung merubahnya secara permanen\n",
    "df_titanic_missing['Age'] = df_titanic_missing['Age'].fillna(df_titanic_missing['Age'].median())\n",
    "#kita bisa menggunakan beberapa cara misal dengan memberikan nilai mean atau mode atau dengan memberikan nilai nol\n",
    "#dapat kita lihat bahwa data Age sudah tidak ada yang na/null\n",
    "df_titanic_missing.isna().sum()"
   ]
  },
  {
   "cell_type": "code",
   "execution_count": 100,
   "id": "b5cc2b5c-2958-4a22-9099-c9aad27b50ad",
   "metadata": {
    "ExecuteTime": {
     "end_time": "2022-09-26T08:08:51.482348Z",
     "start_time": "2022-09-26T08:08:51.458142Z"
    },
    "id": "b5cc2b5c-2958-4a22-9099-c9aad27b50ad",
    "outputId": "3852f164-153e-43cf-e0be-031ba364c951"
   },
   "outputs": [
    {
     "data": {
      "text/plain": [
       "PassengerId    0\n",
       "Survived       0\n",
       "Pclass         0\n",
       "Name           0\n",
       "Sex            0\n",
       "Age            0\n",
       "SibSp          0\n",
       "Parch          0\n",
       "Ticket         0\n",
       "Fare           0\n",
       "Cabin          0\n",
       "Embarked       1\n",
       "dtype: int64"
      ]
     },
     "execution_count": 100,
     "metadata": {},
     "output_type": "execute_result"
    }
   ],
   "source": [
    "#untuk data Cabin karena categorical maka mari kita isikan data null dengan kosong\n",
    "df_titanic_missing['Cabin'] = df_titanic_missing['Cabin'].fillna(\"kosong\")\n",
    "#data terlihat bahwa data cabin sudah terisi\n",
    "df_titanic_missing.isna().sum()"
   ]
  },
  {
   "cell_type": "code",
   "execution_count": 101,
   "id": "1dcc6c05-718a-452f-95be-086e6432b360",
   "metadata": {
    "ExecuteTime": {
     "end_time": "2022-09-26T08:08:51.729093Z",
     "start_time": "2022-09-26T08:08:51.708192Z"
    },
    "id": "1dcc6c05-718a-452f-95be-086e6432b360",
    "outputId": "bd406ba8-630d-4ae2-ac20-11dfde18f66b"
   },
   "outputs": [
    {
     "data": {
      "text/plain": [
       "S          612\n",
       "C          153\n",
       "Q           77\n",
       "JAKARTA     48\n",
       "Name: Embarked, dtype: int64"
      ]
     },
     "execution_count": 101,
     "metadata": {},
     "output_type": "execute_result"
    }
   ],
   "source": [
    "#data embarked adalah data kategorikal, mari kita coba untuk isikan dengan nilai terbanyak\n",
    "#kita cari tau dulu data apa terbanyak\n",
    "df_titanic_missing['Embarked'].value_counts()"
   ]
  },
  {
   "cell_type": "code",
   "execution_count": 102,
   "id": "0a84d21b-dc04-4b63-8826-e5c4ef76598c",
   "metadata": {
    "ExecuteTime": {
     "end_time": "2022-09-26T08:08:51.962930Z",
     "start_time": "2022-09-26T08:08:51.947035Z"
    },
    "id": "0a84d21b-dc04-4b63-8826-e5c4ef76598c",
    "outputId": "211d6eed-42ce-4ac9-c291-255dac396ebe"
   },
   "outputs": [
    {
     "data": {
      "text/plain": [
       "PassengerId    0\n",
       "Survived       0\n",
       "Pclass         0\n",
       "Name           0\n",
       "Sex            0\n",
       "Age            0\n",
       "SibSp          0\n",
       "Parch          0\n",
       "Ticket         0\n",
       "Fare           0\n",
       "Cabin          0\n",
       "Embarked       0\n",
       "dtype: int64"
      ]
     },
     "execution_count": 102,
     "metadata": {},
     "output_type": "execute_result"
    }
   ],
   "source": [
    "#karena S adalah yang terbanyak maka kita bisa isikan data kosong dengan S\n",
    "df_titanic_missing['Embarked'] = df_titanic_missing['Embarked'].fillna(\"S\")\n",
    "df_titanic_missing.isna().sum()"
   ]
  },
  {
   "cell_type": "markdown",
   "id": "75c6b3ee-f4ce-4793-8e34-4f418f23a7af",
   "metadata": {
    "id": "75c6b3ee-f4ce-4793-8e34-4f418f23a7af"
   },
   "source": [
    "### Duplicated Data"
   ]
  },
  {
   "cell_type": "code",
   "execution_count": 90,
   "id": "bac1310b",
   "metadata": {
    "ExecuteTime": {
     "end_time": "2022-09-26T09:50:57.140337Z",
     "start_time": "2022-09-26T09:50:57.130185Z"
    },
    "id": "4ef7c8a0-1786-4d25-ae91-20f6a2bfcfde",
    "outputId": "8624425b-b998-47f1-d31a-0500efc7d71c"
   },
   "outputs": [
    {
     "data": {
      "text/plain": [
       "0"
      ]
     },
     "execution_count": 90,
     "metadata": {},
     "output_type": "execute_result"
    }
   ],
   "source": [
    "# mengecek duplikasi row data\n",
    "df_titanic.duplicated().sum()\n",
    "#jika ada data duplicated kita bisa hapus dengan drop_duplicates"
   ]
  },
  {
   "cell_type": "code",
   "execution_count": 89,
   "id": "39b54c9e",
   "metadata": {
    "ExecuteTime": {
     "end_time": "2022-09-26T09:50:55.185226Z",
     "start_time": "2022-09-26T09:50:55.171902Z"
    }
   },
   "outputs": [],
   "source": [
    "df_titanic.drop_duplicates(keep='last', inplace=True, ignore_index=True)"
   ]
  },
  {
   "cell_type": "code",
   "execution_count": 91,
   "id": "455a5562-fd21-4dae-9526-9710c6d644d1",
   "metadata": {
    "ExecuteTime": {
     "end_time": "2022-09-26T09:51:00.558554Z",
     "start_time": "2022-09-26T09:51:00.547501Z"
    },
    "id": "455a5562-fd21-4dae-9526-9710c6d644d1",
    "outputId": "6027b712-9cdb-42a4-9162-37968f3cea24"
   },
   "outputs": [
    {
     "data": {
      "text/plain": [
       "210"
      ]
     },
     "execution_count": 91,
     "metadata": {},
     "output_type": "execute_result"
    }
   ],
   "source": [
    "# mengecek duplikasi tiap kolom\n",
    "df_titanic.Ticket.duplicated().sum()"
   ]
  },
  {
   "cell_type": "markdown",
   "id": "93bbe242-f063-42d8-a62c-bdfbef5aec7c",
   "metadata": {
    "id": "93bbe242-f063-42d8-a62c-bdfbef5aec7c"
   },
   "source": [
    "##  Write Data\n",
    "\n",
    "Untuk menyimpan dataframe dapat menggunakan beberapa fungsi berikut:\n",
    "\n",
    "```python\n",
    "dataframe.to_csv()\n",
    "dataframe.to_excel()\n",
    "```"
   ]
  },
  {
   "cell_type": "code",
   "execution_count": 104,
   "id": "4e7d64b9-fe92-4bd0-8431-6a33d7544c22",
   "metadata": {
    "ExecuteTime": {
     "end_time": "2022-09-26T08:08:53.403510Z",
     "start_time": "2022-09-26T08:08:53.140901Z"
    },
    "id": "4e7d64b9-fe92-4bd0-8431-6a33d7544c22"
   },
   "outputs": [],
   "source": [
    "#CSV\n",
    "df_titanic_missing.to_csv('titanic_imputed.csv')\n",
    "#Excel\n",
    "df_titanic_missing.to_excel('titanic_imputed.xlsx',sheet_name='Sheet1',index=False)"
   ]
  },
  {
   "cell_type": "markdown",
   "id": "U8cYeq2Q-HFx",
   "metadata": {
    "id": "U8cYeq2Q-HFx"
   },
   "source": [
    "##  Menggabungkan Data"
   ]
  },
  {
   "cell_type": "markdown",
   "id": "sklGFKIF-KJ8",
   "metadata": {
    "id": "sklGFKIF-KJ8"
   },
   "source": [
    "> dalam mengolah data terkadang kita butuh menggabungkan data baik secara horizontal (merge) maupun vertikal (Concatenation)"
   ]
  },
  {
   "cell_type": "markdown",
   "id": "k9L8NFUb-PXz",
   "metadata": {
    "id": "k9L8NFUb-PXz"
   },
   "source": [
    "### Concatenate\n",
    "<img src=\"https://static.javatpoint.com/tutorial/numpy/images/numpy-concatenate.png\">"
   ]
  },
  {
   "cell_type": "code",
   "execution_count": 105,
   "id": "Urf8UxBo-WAB",
   "metadata": {
    "ExecuteTime": {
     "end_time": "2022-09-26T08:08:54.045448Z",
     "start_time": "2022-09-26T08:08:54.030830Z"
    },
    "colab": {
     "base_uri": "https://localhost:8080/"
    },
    "executionInfo": {
     "elapsed": 400,
     "status": "ok",
     "timestamp": 1648713376436,
     "user": {
      "displayName": "Fransiskus Indra Pratama",
      "userId": "02733887561050835608"
     },
     "user_tz": -420
    },
    "id": "Urf8UxBo-WAB",
    "outputId": "25e1624c-c2af-4b48-9573-99698dd4959b"
   },
   "outputs": [
    {
     "data": {
      "text/plain": [
       "1    A\n",
       "2    B\n",
       "3    C\n",
       "4    D\n",
       "5    E\n",
       "6    F\n",
       "dtype: object"
      ]
     },
     "execution_count": 105,
     "metadata": {},
     "output_type": "execute_result"
    }
   ],
   "source": [
    "#kita coba membuat 2 buah series\n",
    "ser1 = pd.Series(['A', 'B', 'C'], index=[1, 2, 3])\n",
    "ser2 = pd.Series(['D', 'E', 'F'], index=[4, 5, 6])\n",
    "pd.concat([ser1, ser2])"
   ]
  },
  {
   "cell_type": "markdown",
   "id": "4qySpcxx-cPZ",
   "metadata": {
    "id": "4qySpcxx-cPZ"
   },
   "source": [
    "> diatas tadi sengaja dibuat seriesnya berurut kalo sama bagaimana?"
   ]
  },
  {
   "cell_type": "code",
   "execution_count": 106,
   "id": "NoFIN98w-d2F",
   "metadata": {
    "ExecuteTime": {
     "end_time": "2022-09-26T08:08:54.482039Z",
     "start_time": "2022-09-26T08:08:54.461382Z"
    },
    "colab": {
     "base_uri": "https://localhost:8080/"
    },
    "executionInfo": {
     "elapsed": 348,
     "status": "ok",
     "timestamp": 1648713404452,
     "user": {
      "displayName": "Fransiskus Indra Pratama",
      "userId": "02733887561050835608"
     },
     "user_tz": -420
    },
    "id": "NoFIN98w-d2F",
    "outputId": "6eb477a2-e790-469f-f860-5ff78f736189"
   },
   "outputs": [
    {
     "data": {
      "text/plain": [
       "0    A\n",
       "1    B\n",
       "2    C\n",
       "0    D\n",
       "1    E\n",
       "2    F\n",
       "dtype: object"
      ]
     },
     "execution_count": 106,
     "metadata": {},
     "output_type": "execute_result"
    }
   ],
   "source": [
    "#kita coba membuat 2 buah series\n",
    "ser1 = pd.Series(['A', 'B', 'C'])\n",
    "ser2 = pd.Series(['D', 'E', 'F'])\n",
    "pd.concat([ser1, ser2])"
   ]
  },
  {
   "cell_type": "code",
   "execution_count": 107,
   "id": "lqkCM-eH-gqp",
   "metadata": {
    "ExecuteTime": {
     "end_time": "2022-09-26T08:08:54.668936Z",
     "start_time": "2022-09-26T08:08:54.650331Z"
    },
    "colab": {
     "base_uri": "https://localhost:8080/"
    },
    "executionInfo": {
     "elapsed": 445,
     "status": "ok",
     "timestamp": 1648713410184,
     "user": {
      "displayName": "Fransiskus Indra Pratama",
      "userId": "02733887561050835608"
     },
     "user_tz": -420
    },
    "id": "lqkCM-eH-gqp",
    "outputId": "9d2dc66b-f044-4621-fdb0-8da4e2814e3c"
   },
   "outputs": [
    {
     "data": {
      "text/plain": [
       "0    A\n",
       "1    B\n",
       "2    C\n",
       "3    D\n",
       "4    E\n",
       "5    F\n",
       "dtype: object"
      ]
     },
     "execution_count": 107,
     "metadata": {},
     "output_type": "execute_result"
    }
   ],
   "source": [
    "#ketika indexnya sama maka indexnya akan berulang\n",
    "#untuk mengatasinya kita bisa menambahkan ignore_index=True\n",
    "pd.concat([ser1, ser2], ignore_index=True)"
   ]
  },
  {
   "cell_type": "code",
   "execution_count": 108,
   "id": "HJKxtyZk-iKO",
   "metadata": {
    "ExecuteTime": {
     "end_time": "2022-09-26T08:08:54.882299Z",
     "start_time": "2022-09-26T08:08:54.865834Z"
    },
    "colab": {
     "base_uri": "https://localhost:8080/"
    },
    "executionInfo": {
     "elapsed": 402,
     "status": "ok",
     "timestamp": 1648713416174,
     "user": {
      "displayName": "Fransiskus Indra Pratama",
      "userId": "02733887561050835608"
     },
     "user_tz": -420
    },
    "id": "HJKxtyZk-iKO",
    "outputId": "643a5c7a-6e5f-476b-f05c-51659783b5a4"
   },
   "outputs": [
    {
     "name": "stdout",
     "output_type": "stream",
     "text": [
      "      Nama    Jurusan\n",
      "0    Anton  Akuntansi\n",
      "1     Budi    Tambang\n",
      "2  Bambang     Bisnis\n",
      "       Nama    Jurusan\n",
      "0    Susilo  Pertanian\n",
      "1  Sulastri  Akuntansi\n",
      "2      Jane  Managemen\n",
      "3    Samsul  Seni Rupa\n"
     ]
    }
   ],
   "source": [
    "#kita buat 2 dataframe yang berisi nama mahasiswa dan jurusannya\n",
    "df1 = pd.DataFrame({'Nama': ['Anton', 'Budi', 'Bambang'],\n",
    "                    'Jurusan': ['Akuntansi', 'Tambang', 'Bisnis']})\n",
    "df2 = pd.DataFrame({'Nama': ['Susilo', 'Sulastri', 'Jane', 'Samsul'],\n",
    "                    'Jurusan': ['Pertanian', 'Akuntansi', 'Managemen', 'Seni Rupa']})\n",
    "print(df1)\n",
    "print(df2)"
   ]
  },
  {
   "cell_type": "code",
   "execution_count": 109,
   "id": "exVcwkYA-ji2",
   "metadata": {
    "ExecuteTime": {
     "end_time": "2022-09-26T08:08:55.039636Z",
     "start_time": "2022-09-26T08:08:55.028161Z"
    },
    "colab": {
     "base_uri": "https://localhost:8080/",
     "height": 269
    },
    "executionInfo": {
     "elapsed": 386,
     "status": "ok",
     "timestamp": 1648713435966,
     "user": {
      "displayName": "Fransiskus Indra Pratama",
      "userId": "02733887561050835608"
     },
     "user_tz": -420
    },
    "id": "exVcwkYA-ji2",
    "outputId": "551fd88d-f89e-4f65-de61-d72a8b4b21d6"
   },
   "outputs": [
    {
     "data": {
      "text/html": [
       "<div>\n",
       "<style scoped>\n",
       "    .dataframe tbody tr th:only-of-type {\n",
       "        vertical-align: middle;\n",
       "    }\n",
       "\n",
       "    .dataframe tbody tr th {\n",
       "        vertical-align: top;\n",
       "    }\n",
       "\n",
       "    .dataframe thead th {\n",
       "        text-align: right;\n",
       "    }\n",
       "</style>\n",
       "<table border=\"1\" class=\"dataframe\">\n",
       "  <thead>\n",
       "    <tr style=\"text-align: right;\">\n",
       "      <th></th>\n",
       "      <th>Nama</th>\n",
       "      <th>Jurusan</th>\n",
       "    </tr>\n",
       "  </thead>\n",
       "  <tbody>\n",
       "    <tr>\n",
       "      <th>0</th>\n",
       "      <td>Anton</td>\n",
       "      <td>Akuntansi</td>\n",
       "    </tr>\n",
       "    <tr>\n",
       "      <th>1</th>\n",
       "      <td>Budi</td>\n",
       "      <td>Tambang</td>\n",
       "    </tr>\n",
       "    <tr>\n",
       "      <th>2</th>\n",
       "      <td>Bambang</td>\n",
       "      <td>Bisnis</td>\n",
       "    </tr>\n",
       "    <tr>\n",
       "      <th>3</th>\n",
       "      <td>Susilo</td>\n",
       "      <td>Pertanian</td>\n",
       "    </tr>\n",
       "    <tr>\n",
       "      <th>4</th>\n",
       "      <td>Sulastri</td>\n",
       "      <td>Akuntansi</td>\n",
       "    </tr>\n",
       "    <tr>\n",
       "      <th>5</th>\n",
       "      <td>Jane</td>\n",
       "      <td>Managemen</td>\n",
       "    </tr>\n",
       "    <tr>\n",
       "      <th>6</th>\n",
       "      <td>Samsul</td>\n",
       "      <td>Seni Rupa</td>\n",
       "    </tr>\n",
       "  </tbody>\n",
       "</table>\n",
       "</div>"
      ],
      "text/plain": [
       "       Nama    Jurusan\n",
       "0     Anton  Akuntansi\n",
       "1      Budi    Tambang\n",
       "2   Bambang     Bisnis\n",
       "3    Susilo  Pertanian\n",
       "4  Sulastri  Akuntansi\n",
       "5      Jane  Managemen\n",
       "6    Samsul  Seni Rupa"
      ]
     },
     "execution_count": 109,
     "metadata": {},
     "output_type": "execute_result"
    }
   ],
   "source": [
    "pd.concat([df1, df2], ignore_index=True)"
   ]
  },
  {
   "cell_type": "code",
   "execution_count": 110,
   "id": "-Yn1XVdW-oW8",
   "metadata": {
    "ExecuteTime": {
     "end_time": "2022-09-26T08:08:55.257567Z",
     "start_time": "2022-09-26T08:08:55.226886Z"
    },
    "colab": {
     "base_uri": "https://localhost:8080/",
     "height": 269
    },
    "executionInfo": {
     "elapsed": 405,
     "status": "ok",
     "timestamp": 1648713464768,
     "user": {
      "displayName": "Fransiskus Indra Pratama",
      "userId": "02733887561050835608"
     },
     "user_tz": -420
    },
    "id": "-Yn1XVdW-oW8",
    "outputId": "465b7bda-23b5-44fe-a900-75fe03dd277c"
   },
   "outputs": [
    {
     "name": "stderr",
     "output_type": "stream",
     "text": [
      "C:\\Users\\Administrator\\AppData\\Local\\Temp\\ipykernel_21572\\1304998113.py:1: FutureWarning: The frame.append method is deprecated and will be removed from pandas in a future version. Use pandas.concat instead.\n",
      "  appended = df1.append(df2, ignore_index=True)\n"
     ]
    },
    {
     "data": {
      "text/html": [
       "<div>\n",
       "<style scoped>\n",
       "    .dataframe tbody tr th:only-of-type {\n",
       "        vertical-align: middle;\n",
       "    }\n",
       "\n",
       "    .dataframe tbody tr th {\n",
       "        vertical-align: top;\n",
       "    }\n",
       "\n",
       "    .dataframe thead th {\n",
       "        text-align: right;\n",
       "    }\n",
       "</style>\n",
       "<table border=\"1\" class=\"dataframe\">\n",
       "  <thead>\n",
       "    <tr style=\"text-align: right;\">\n",
       "      <th></th>\n",
       "      <th>Nama</th>\n",
       "      <th>Jurusan</th>\n",
       "    </tr>\n",
       "  </thead>\n",
       "  <tbody>\n",
       "    <tr>\n",
       "      <th>0</th>\n",
       "      <td>Anton</td>\n",
       "      <td>Akuntansi</td>\n",
       "    </tr>\n",
       "    <tr>\n",
       "      <th>1</th>\n",
       "      <td>Budi</td>\n",
       "      <td>Tambang</td>\n",
       "    </tr>\n",
       "    <tr>\n",
       "      <th>2</th>\n",
       "      <td>Bambang</td>\n",
       "      <td>Bisnis</td>\n",
       "    </tr>\n",
       "    <tr>\n",
       "      <th>3</th>\n",
       "      <td>Susilo</td>\n",
       "      <td>Pertanian</td>\n",
       "    </tr>\n",
       "    <tr>\n",
       "      <th>4</th>\n",
       "      <td>Sulastri</td>\n",
       "      <td>Akuntansi</td>\n",
       "    </tr>\n",
       "    <tr>\n",
       "      <th>5</th>\n",
       "      <td>Jane</td>\n",
       "      <td>Managemen</td>\n",
       "    </tr>\n",
       "    <tr>\n",
       "      <th>6</th>\n",
       "      <td>Samsul</td>\n",
       "      <td>Seni Rupa</td>\n",
       "    </tr>\n",
       "  </tbody>\n",
       "</table>\n",
       "</div>"
      ],
      "text/plain": [
       "       Nama    Jurusan\n",
       "0     Anton  Akuntansi\n",
       "1      Budi    Tambang\n",
       "2   Bambang     Bisnis\n",
       "3    Susilo  Pertanian\n",
       "4  Sulastri  Akuntansi\n",
       "5      Jane  Managemen\n",
       "6    Samsul  Seni Rupa"
      ]
     },
     "execution_count": 110,
     "metadata": {},
     "output_type": "execute_result"
    }
   ],
   "source": [
    "appended = df1.append(df2, ignore_index=True)\n",
    "appended"
   ]
  },
  {
   "cell_type": "markdown",
   "id": "gJaqztuGEB3Z",
   "metadata": {
    "id": "gJaqztuGEB3Z"
   },
   "source": [
    "> bagaimana kalo ada kolom yang di tabel berikutnya tidak ada. apakah masih bisa kita gabung?"
   ]
  },
  {
   "cell_type": "code",
   "execution_count": 111,
   "id": "eBVQJKMJABAL",
   "metadata": {
    "ExecuteTime": {
     "end_time": "2022-09-26T08:08:55.629114Z",
     "start_time": "2022-09-26T08:08:55.607736Z"
    },
    "colab": {
     "base_uri": "https://localhost:8080/"
    },
    "executionInfo": {
     "elapsed": 397,
     "status": "ok",
     "timestamp": 1648715426857,
     "user": {
      "displayName": "Fransiskus Indra Pratama",
      "userId": "02733887561050835608"
     },
     "user_tz": -420
    },
    "id": "eBVQJKMJABAL",
    "outputId": "3d9a2afe-b22d-47a7-d54b-3622a8a9f17b"
   },
   "outputs": [
    {
     "name": "stdout",
     "output_type": "stream",
     "text": [
      "      Nama    Jurusan  Tahun\n",
      "0    Anton  Akuntansi   2020\n",
      "1     Budi    Tambang   2019\n",
      "2  Bambang     Bisnis   2021\n",
      "       Nama    Jurusan  Tahun_lahir\n",
      "0    Susilo  Pertanian         2002\n",
      "1  Sulastri  Akuntansi         2001\n",
      "2      Jane  Managemen         2000\n",
      "3    Samsul  Seni Rupa         2001\n"
     ]
    }
   ],
   "source": [
    "#kita buat 2 dataframe\n",
    "df3 = pd.DataFrame({'Nama': ['Anton', 'Budi', 'Bambang'],\n",
    "                    'Jurusan': ['Akuntansi', 'Tambang', 'Bisnis'],\n",
    "                    'Tahun': [2020,2019,2021]})\n",
    "df4 = pd.DataFrame({'Nama': ['Susilo', 'Sulastri', 'Jane', 'Samsul'],\n",
    "                    'Jurusan': ['Pertanian', 'Akuntansi', 'Managemen', 'Seni Rupa'],\n",
    "                    'Tahun_lahir': [2002,2001,2000,2001]})\n",
    "print(df3)\n",
    "print(df4)"
   ]
  },
  {
   "cell_type": "code",
   "execution_count": 112,
   "id": "E87UMvZvD_lR",
   "metadata": {
    "ExecuteTime": {
     "end_time": "2022-09-26T08:08:55.810266Z",
     "start_time": "2022-09-26T08:08:55.795166Z"
    },
    "colab": {
     "base_uri": "https://localhost:8080/",
     "height": 269
    },
    "executionInfo": {
     "elapsed": 456,
     "status": "ok",
     "timestamp": 1648715443931,
     "user": {
      "displayName": "Fransiskus Indra Pratama",
      "userId": "02733887561050835608"
     },
     "user_tz": -420
    },
    "id": "E87UMvZvD_lR",
    "outputId": "0cd0eb8e-222b-47aa-a782-ccb49e6aa644"
   },
   "outputs": [
    {
     "data": {
      "text/html": [
       "<div>\n",
       "<style scoped>\n",
       "    .dataframe tbody tr th:only-of-type {\n",
       "        vertical-align: middle;\n",
       "    }\n",
       "\n",
       "    .dataframe tbody tr th {\n",
       "        vertical-align: top;\n",
       "    }\n",
       "\n",
       "    .dataframe thead th {\n",
       "        text-align: right;\n",
       "    }\n",
       "</style>\n",
       "<table border=\"1\" class=\"dataframe\">\n",
       "  <thead>\n",
       "    <tr style=\"text-align: right;\">\n",
       "      <th></th>\n",
       "      <th>Nama</th>\n",
       "      <th>Jurusan</th>\n",
       "      <th>Tahun</th>\n",
       "      <th>Tahun_lahir</th>\n",
       "    </tr>\n",
       "  </thead>\n",
       "  <tbody>\n",
       "    <tr>\n",
       "      <th>0</th>\n",
       "      <td>Anton</td>\n",
       "      <td>Akuntansi</td>\n",
       "      <td>2020.0</td>\n",
       "      <td>NaN</td>\n",
       "    </tr>\n",
       "    <tr>\n",
       "      <th>1</th>\n",
       "      <td>Budi</td>\n",
       "      <td>Tambang</td>\n",
       "      <td>2019.0</td>\n",
       "      <td>NaN</td>\n",
       "    </tr>\n",
       "    <tr>\n",
       "      <th>2</th>\n",
       "      <td>Bambang</td>\n",
       "      <td>Bisnis</td>\n",
       "      <td>2021.0</td>\n",
       "      <td>NaN</td>\n",
       "    </tr>\n",
       "    <tr>\n",
       "      <th>3</th>\n",
       "      <td>Susilo</td>\n",
       "      <td>Pertanian</td>\n",
       "      <td>NaN</td>\n",
       "      <td>2002.0</td>\n",
       "    </tr>\n",
       "    <tr>\n",
       "      <th>4</th>\n",
       "      <td>Sulastri</td>\n",
       "      <td>Akuntansi</td>\n",
       "      <td>NaN</td>\n",
       "      <td>2001.0</td>\n",
       "    </tr>\n",
       "    <tr>\n",
       "      <th>5</th>\n",
       "      <td>Jane</td>\n",
       "      <td>Managemen</td>\n",
       "      <td>NaN</td>\n",
       "      <td>2000.0</td>\n",
       "    </tr>\n",
       "    <tr>\n",
       "      <th>6</th>\n",
       "      <td>Samsul</td>\n",
       "      <td>Seni Rupa</td>\n",
       "      <td>NaN</td>\n",
       "      <td>2001.0</td>\n",
       "    </tr>\n",
       "  </tbody>\n",
       "</table>\n",
       "</div>"
      ],
      "text/plain": [
       "       Nama    Jurusan   Tahun  Tahun_lahir\n",
       "0     Anton  Akuntansi  2020.0          NaN\n",
       "1      Budi    Tambang  2019.0          NaN\n",
       "2   Bambang     Bisnis  2021.0          NaN\n",
       "3    Susilo  Pertanian     NaN       2002.0\n",
       "4  Sulastri  Akuntansi     NaN       2001.0\n",
       "5      Jane  Managemen     NaN       2000.0\n",
       "6    Samsul  Seni Rupa     NaN       2001.0"
      ]
     },
     "execution_count": 112,
     "metadata": {},
     "output_type": "execute_result"
    }
   ],
   "source": [
    "#mari kita gabungkan\n",
    "concatenated = pd.concat([df3,df4], ignore_index=True)\n",
    "concatenated"
   ]
  },
  {
   "cell_type": "markdown",
   "id": "hoKvV46pGbKX",
   "metadata": {
    "id": "hoKvV46pGbKX"
   },
   "source": [
    "> terlihat bahwa diatas ada row yang isinya NaN, bagaimana kalo kita ingin menghapusnya?"
   ]
  },
  {
   "cell_type": "code",
   "execution_count": 113,
   "id": "LS7bHYw7DBSE",
   "metadata": {
    "ExecuteTime": {
     "end_time": "2022-09-26T08:08:56.202463Z",
     "start_time": "2022-09-26T08:08:56.188560Z"
    },
    "colab": {
     "base_uri": "https://localhost:8080/",
     "height": 269
    },
    "executionInfo": {
     "elapsed": 434,
     "status": "ok",
     "timestamp": 1648715528165,
     "user": {
      "displayName": "Fransiskus Indra Pratama",
      "userId": "02733887561050835608"
     },
     "user_tz": -420
    },
    "id": "LS7bHYw7DBSE",
    "outputId": "d617afb7-db7c-4c61-f792-52336f129cf8"
   },
   "outputs": [
    {
     "data": {
      "text/html": [
       "<div>\n",
       "<style scoped>\n",
       "    .dataframe tbody tr th:only-of-type {\n",
       "        vertical-align: middle;\n",
       "    }\n",
       "\n",
       "    .dataframe tbody tr th {\n",
       "        vertical-align: top;\n",
       "    }\n",
       "\n",
       "    .dataframe thead th {\n",
       "        text-align: right;\n",
       "    }\n",
       "</style>\n",
       "<table border=\"1\" class=\"dataframe\">\n",
       "  <thead>\n",
       "    <tr style=\"text-align: right;\">\n",
       "      <th></th>\n",
       "      <th>Nama</th>\n",
       "      <th>Jurusan</th>\n",
       "    </tr>\n",
       "  </thead>\n",
       "  <tbody>\n",
       "    <tr>\n",
       "      <th>0</th>\n",
       "      <td>Anton</td>\n",
       "      <td>Akuntansi</td>\n",
       "    </tr>\n",
       "    <tr>\n",
       "      <th>1</th>\n",
       "      <td>Budi</td>\n",
       "      <td>Tambang</td>\n",
       "    </tr>\n",
       "    <tr>\n",
       "      <th>2</th>\n",
       "      <td>Bambang</td>\n",
       "      <td>Bisnis</td>\n",
       "    </tr>\n",
       "    <tr>\n",
       "      <th>3</th>\n",
       "      <td>Susilo</td>\n",
       "      <td>Pertanian</td>\n",
       "    </tr>\n",
       "    <tr>\n",
       "      <th>4</th>\n",
       "      <td>Sulastri</td>\n",
       "      <td>Akuntansi</td>\n",
       "    </tr>\n",
       "    <tr>\n",
       "      <th>5</th>\n",
       "      <td>Jane</td>\n",
       "      <td>Managemen</td>\n",
       "    </tr>\n",
       "    <tr>\n",
       "      <th>6</th>\n",
       "      <td>Samsul</td>\n",
       "      <td>Seni Rupa</td>\n",
       "    </tr>\n",
       "  </tbody>\n",
       "</table>\n",
       "</div>"
      ],
      "text/plain": [
       "       Nama    Jurusan\n",
       "0     Anton  Akuntansi\n",
       "1      Budi    Tambang\n",
       "2   Bambang     Bisnis\n",
       "3    Susilo  Pertanian\n",
       "4  Sulastri  Akuntansi\n",
       "5      Jane  Managemen\n",
       "6    Samsul  Seni Rupa"
      ]
     },
     "execution_count": 113,
     "metadata": {},
     "output_type": "execute_result"
    }
   ],
   "source": [
    "#kita bisa menambahkan join='inner'\n",
    "concatenated = pd.concat([df3,df4], ignore_index=True, join='inner')\n",
    "concatenated"
   ]
  },
  {
   "cell_type": "markdown",
   "id": "DAJOsU1cGrLh",
   "metadata": {
    "id": "DAJOsU1cGrLh"
   },
   "source": [
    "### Merge\n",
    "<details>\n",
    "<img src=\"https://www.absentdata.com/wp-content/uploads/2019/07/pd.merge-1.png\">\n",
    "</details>"
   ]
  },
  {
   "cell_type": "code",
   "execution_count": 114,
   "id": "_mfBw9kkDrGA",
   "metadata": {
    "ExecuteTime": {
     "end_time": "2022-09-26T08:08:56.829609Z",
     "start_time": "2022-09-26T08:08:56.816902Z"
    },
    "colab": {
     "base_uri": "https://localhost:8080/"
    },
    "executionInfo": {
     "elapsed": 452,
     "status": "ok",
     "timestamp": 1648715777056,
     "user": {
      "displayName": "Fransiskus Indra Pratama",
      "userId": "02733887561050835608"
     },
     "user_tz": -420
    },
    "id": "_mfBw9kkDrGA",
    "outputId": "56aa38d0-f0b3-473b-eea5-222accb0ef48"
   },
   "outputs": [
    {
     "name": "stdout",
     "output_type": "stream",
     "text": [
      "    id     Nama  Tahun_masuk\n",
      "0  001    Anton         2020\n",
      "1  002     Budi         2019\n",
      "2  003  Bambang         2021\n",
      "    id    Jurusan\n",
      "0  001  Akuntansi\n",
      "1  002    Tambang\n",
      "2  003     Bisnis\n"
     ]
    }
   ],
   "source": [
    "#kita buat 2 dataframe \n",
    "df1 = pd.DataFrame({\"id\": ['001','002','003'],\n",
    "                    'Nama': ['Anton', 'Budi', 'Bambang'],\n",
    "                    'Tahun_masuk': [2020,2019,2021]})\n",
    "df2 = pd.DataFrame({\"id\": ['001','002','003'],\n",
    "                    'Jurusan': ['Akuntansi', 'Tambang', 'Bisnis']})\n",
    "print(df1)\n",
    "print(df2)"
   ]
  },
  {
   "cell_type": "code",
   "execution_count": 115,
   "id": "3jHXCj1oHkAV",
   "metadata": {
    "ExecuteTime": {
     "end_time": "2022-09-26T08:08:57.048752Z",
     "start_time": "2022-09-26T08:08:57.029575Z"
    },
    "colab": {
     "base_uri": "https://localhost:8080/",
     "height": 143
    },
    "executionInfo": {
     "elapsed": 441,
     "status": "ok",
     "timestamp": 1648715820019,
     "user": {
      "displayName": "Fransiskus Indra Pratama",
      "userId": "02733887561050835608"
     },
     "user_tz": -420
    },
    "id": "3jHXCj1oHkAV",
    "outputId": "7604e468-d17a-4e68-ce2d-24196260e4b6"
   },
   "outputs": [
    {
     "data": {
      "text/html": [
       "<div>\n",
       "<style scoped>\n",
       "    .dataframe tbody tr th:only-of-type {\n",
       "        vertical-align: middle;\n",
       "    }\n",
       "\n",
       "    .dataframe tbody tr th {\n",
       "        vertical-align: top;\n",
       "    }\n",
       "\n",
       "    .dataframe thead th {\n",
       "        text-align: right;\n",
       "    }\n",
       "</style>\n",
       "<table border=\"1\" class=\"dataframe\">\n",
       "  <thead>\n",
       "    <tr style=\"text-align: right;\">\n",
       "      <th></th>\n",
       "      <th>id</th>\n",
       "      <th>Nama</th>\n",
       "      <th>Tahun_masuk</th>\n",
       "      <th>Jurusan</th>\n",
       "    </tr>\n",
       "  </thead>\n",
       "  <tbody>\n",
       "    <tr>\n",
       "      <th>0</th>\n",
       "      <td>001</td>\n",
       "      <td>Anton</td>\n",
       "      <td>2020</td>\n",
       "      <td>Akuntansi</td>\n",
       "    </tr>\n",
       "    <tr>\n",
       "      <th>1</th>\n",
       "      <td>002</td>\n",
       "      <td>Budi</td>\n",
       "      <td>2019</td>\n",
       "      <td>Tambang</td>\n",
       "    </tr>\n",
       "    <tr>\n",
       "      <th>2</th>\n",
       "      <td>003</td>\n",
       "      <td>Bambang</td>\n",
       "      <td>2021</td>\n",
       "      <td>Bisnis</td>\n",
       "    </tr>\n",
       "  </tbody>\n",
       "</table>\n",
       "</div>"
      ],
      "text/plain": [
       "    id     Nama  Tahun_masuk    Jurusan\n",
       "0  001    Anton         2020  Akuntansi\n",
       "1  002     Budi         2019    Tambang\n",
       "2  003  Bambang         2021     Bisnis"
      ]
     },
     "execution_count": 115,
     "metadata": {},
     "output_type": "execute_result"
    }
   ],
   "source": [
    "#kita akan menggabungkan kedua dataframe tersebut dengan menggunakan method .merge\n",
    "df3 = pd.merge(df1, df2)\n",
    "df3"
   ]
  },
  {
   "cell_type": "markdown",
   "id": "wXn_NsFmHzGJ",
   "metadata": {
    "id": "wXn_NsFmHzGJ"
   },
   "source": [
    "* Fungsi `pd.merge()` mengenali bahwa terdapat kolom id yang sama di kedua dataframe sehingga langsung tergabung\n",
    "* sekarang bagaimana kalo nama kolomnya beda"
   ]
  },
  {
   "cell_type": "code",
   "execution_count": 116,
   "id": "ABAh6HAUHuYx",
   "metadata": {
    "ExecuteTime": {
     "end_time": "2022-09-26T08:08:57.482814Z",
     "start_time": "2022-09-26T08:08:57.471633Z"
    },
    "colab": {
     "base_uri": "https://localhost:8080/"
    },
    "executionInfo": {
     "elapsed": 414,
     "status": "ok",
     "timestamp": 1648716861724,
     "user": {
      "displayName": "Fransiskus Indra Pratama",
      "userId": "02733887561050835608"
     },
     "user_tz": -420
    },
    "id": "ABAh6HAUHuYx",
    "outputId": "5ec85824-58a1-47ea-ab4c-b86ea5fc4aa6"
   },
   "outputs": [
    {
     "name": "stdout",
     "output_type": "stream",
     "text": [
      "    id     Nama  Tahun_masuk\n",
      "0  001    Anton         2020\n",
      "1  002     Budi         2019\n",
      "2  003  Bambang         2021\n",
      "  no_mahasiswa    Jurusan\n",
      "0          001  Akuntansi\n",
      "1          002    Tambang\n",
      "2          003     Bisnis\n"
     ]
    }
   ],
   "source": [
    "#kita buat 2 dataframe \n",
    "df1 = pd.DataFrame({\"id\": ['001','002','003'],\n",
    "                    'Nama': ['Anton', 'Budi', 'Bambang'],\n",
    "                    'Tahun_masuk': [2020,2019,2021]})\n",
    "df2 = pd.DataFrame({\"no_mahasiswa\": ['001','002','003'],\n",
    "                    'Jurusan': ['Akuntansi', 'Tambang', 'Bisnis']})\n",
    "print(df1)\n",
    "print(df2)"
   ]
  },
  {
   "cell_type": "code",
   "execution_count": 117,
   "id": "KImmN2f5KDLI",
   "metadata": {
    "ExecuteTime": {
     "end_time": "2022-09-26T08:08:57.747869Z",
     "start_time": "2022-09-26T08:08:57.723523Z"
    },
    "colab": {
     "base_uri": "https://localhost:8080/",
     "height": 143
    },
    "executionInfo": {
     "elapsed": 3,
     "status": "ok",
     "timestamp": 1648716863398,
     "user": {
      "displayName": "Fransiskus Indra Pratama",
      "userId": "02733887561050835608"
     },
     "user_tz": -420
    },
    "id": "KImmN2f5KDLI",
    "outputId": "397a3958-3905-46c5-b269-959089a8f98c"
   },
   "outputs": [
    {
     "data": {
      "text/html": [
       "<div>\n",
       "<style scoped>\n",
       "    .dataframe tbody tr th:only-of-type {\n",
       "        vertical-align: middle;\n",
       "    }\n",
       "\n",
       "    .dataframe tbody tr th {\n",
       "        vertical-align: top;\n",
       "    }\n",
       "\n",
       "    .dataframe thead th {\n",
       "        text-align: right;\n",
       "    }\n",
       "</style>\n",
       "<table border=\"1\" class=\"dataframe\">\n",
       "  <thead>\n",
       "    <tr style=\"text-align: right;\">\n",
       "      <th></th>\n",
       "      <th>id</th>\n",
       "      <th>Nama</th>\n",
       "      <th>Tahun_masuk</th>\n",
       "      <th>no_mahasiswa</th>\n",
       "      <th>Jurusan</th>\n",
       "    </tr>\n",
       "  </thead>\n",
       "  <tbody>\n",
       "    <tr>\n",
       "      <th>0</th>\n",
       "      <td>001</td>\n",
       "      <td>Anton</td>\n",
       "      <td>2020</td>\n",
       "      <td>001</td>\n",
       "      <td>Akuntansi</td>\n",
       "    </tr>\n",
       "    <tr>\n",
       "      <th>1</th>\n",
       "      <td>002</td>\n",
       "      <td>Budi</td>\n",
       "      <td>2019</td>\n",
       "      <td>002</td>\n",
       "      <td>Tambang</td>\n",
       "    </tr>\n",
       "    <tr>\n",
       "      <th>2</th>\n",
       "      <td>003</td>\n",
       "      <td>Bambang</td>\n",
       "      <td>2021</td>\n",
       "      <td>003</td>\n",
       "      <td>Bisnis</td>\n",
       "    </tr>\n",
       "  </tbody>\n",
       "</table>\n",
       "</div>"
      ],
      "text/plain": [
       "    id     Nama  Tahun_masuk no_mahasiswa    Jurusan\n",
       "0  001    Anton         2020          001  Akuntansi\n",
       "1  002     Budi         2019          002    Tambang\n",
       "2  003  Bambang         2021          003     Bisnis"
      ]
     },
     "execution_count": 117,
     "metadata": {},
     "output_type": "execute_result"
    }
   ],
   "source": [
    "#kita akan menggabungkan kedua dataframe yang mempunyai nama kolom key yang bebeda\n",
    "df3 = pd.merge(df1, df2, left_on=\"id\", right_on=\"no_mahasiswa\")\n",
    "df3"
   ]
  },
  {
   "cell_type": "markdown",
   "id": "GyC0Pe9vLDXy",
   "metadata": {
    "id": "GyC0Pe9vLDXy"
   },
   "source": [
    "> nb: kalo dia ada 2 key maka bisa ditambahkan ,on=[key1,key2]"
   ]
  },
  {
   "cell_type": "markdown",
   "id": "7fzQeLcDLLLc",
   "metadata": {
    "id": "7fzQeLcDLLLc"
   },
   "source": [
    "#### Merge Method\n",
    "ada 4 method\n",
    "- inner\n",
    "- left\n",
    "- right\n",
    "- outer"
   ]
  },
  {
   "cell_type": "markdown",
   "id": "Cb_2FPTuKpqO",
   "metadata": {
    "id": "Cb_2FPTuKpqO"
   },
   "source": [
    "<img src=\"https://storage.googleapis.com/kotakode-prod-public/images/b41cac0f-e745-4696-a890-d5f709cc6d7f-join.jpg\">"
   ]
  },
  {
   "cell_type": "code",
   "execution_count": 118,
   "id": "zhLkA61QKFR8",
   "metadata": {
    "ExecuteTime": {
     "end_time": "2022-09-26T08:08:58.685411Z",
     "start_time": "2022-09-26T08:08:58.663945Z"
    },
    "colab": {
     "base_uri": "https://localhost:8080/"
    },
    "executionInfo": {
     "elapsed": 401,
     "status": "ok",
     "timestamp": 1648717229839,
     "user": {
      "displayName": "Fransiskus Indra Pratama",
      "userId": "02733887561050835608"
     },
     "user_tz": -420
    },
    "id": "zhLkA61QKFR8",
    "outputId": "07d9e172-3e02-4f42-c216-4def97b9ce1d"
   },
   "outputs": [
    {
     "name": "stdout",
     "output_type": "stream",
     "text": [
      "    id     Nama  Tahun_masuk\n",
      "0  001    Anton         2020\n",
      "1  002     Budi         2019\n",
      "2  003  Bambang         2021\n",
      "3  004     leon         2018\n",
      "    id    Jurusan\n",
      "0  001  Akuntansi\n",
      "1  002    Tambang\n",
      "2  003     Bisnis\n",
      "3  005  Managemen\n"
     ]
    }
   ],
   "source": [
    "#kita buat 2 dataframe \n",
    "df1 = pd.DataFrame({\"id\": ['001','002','003','004'],\n",
    "                    'Nama': ['Anton', 'Budi', 'Bambang','leon'],\n",
    "                    'Tahun_masuk': [2020,2019,2021,2018]})\n",
    "df2 = pd.DataFrame({\"id\": ['001','002','003','005'],\n",
    "                    'Jurusan': ['Akuntansi', 'Tambang', 'Bisnis','Managemen']})\n",
    "print(df1)\n",
    "print(df2)"
   ]
  },
  {
   "cell_type": "code",
   "execution_count": 119,
   "id": "L1JqLbAWLWeO",
   "metadata": {
    "ExecuteTime": {
     "end_time": "2022-09-26T08:08:58.902685Z",
     "start_time": "2022-09-26T08:08:58.883238Z"
    },
    "colab": {
     "base_uri": "https://localhost:8080/",
     "height": 143
    },
    "executionInfo": {
     "elapsed": 389,
     "status": "ok",
     "timestamp": 1648717053910,
     "user": {
      "displayName": "Fransiskus Indra Pratama",
      "userId": "02733887561050835608"
     },
     "user_tz": -420
    },
    "id": "L1JqLbAWLWeO",
    "outputId": "adaad6e5-46c4-46b3-94d1-603176c4767b"
   },
   "outputs": [
    {
     "data": {
      "text/html": [
       "<div>\n",
       "<style scoped>\n",
       "    .dataframe tbody tr th:only-of-type {\n",
       "        vertical-align: middle;\n",
       "    }\n",
       "\n",
       "    .dataframe tbody tr th {\n",
       "        vertical-align: top;\n",
       "    }\n",
       "\n",
       "    .dataframe thead th {\n",
       "        text-align: right;\n",
       "    }\n",
       "</style>\n",
       "<table border=\"1\" class=\"dataframe\">\n",
       "  <thead>\n",
       "    <tr style=\"text-align: right;\">\n",
       "      <th></th>\n",
       "      <th>id</th>\n",
       "      <th>Nama</th>\n",
       "      <th>Tahun_masuk</th>\n",
       "      <th>Jurusan</th>\n",
       "    </tr>\n",
       "  </thead>\n",
       "  <tbody>\n",
       "    <tr>\n",
       "      <th>0</th>\n",
       "      <td>001</td>\n",
       "      <td>Anton</td>\n",
       "      <td>2020</td>\n",
       "      <td>Akuntansi</td>\n",
       "    </tr>\n",
       "    <tr>\n",
       "      <th>1</th>\n",
       "      <td>002</td>\n",
       "      <td>Budi</td>\n",
       "      <td>2019</td>\n",
       "      <td>Tambang</td>\n",
       "    </tr>\n",
       "    <tr>\n",
       "      <th>2</th>\n",
       "      <td>003</td>\n",
       "      <td>Bambang</td>\n",
       "      <td>2021</td>\n",
       "      <td>Bisnis</td>\n",
       "    </tr>\n",
       "  </tbody>\n",
       "</table>\n",
       "</div>"
      ],
      "text/plain": [
       "    id     Nama  Tahun_masuk    Jurusan\n",
       "0  001    Anton         2020  Akuntansi\n",
       "1  002     Budi         2019    Tambang\n",
       "2  003  Bambang         2021     Bisnis"
      ]
     },
     "execution_count": 119,
     "metadata": {},
     "output_type": "execute_result"
    }
   ],
   "source": [
    "#terlihat pada dataframe bahwa ada masing-masing 1 yang tidak memiliki pasangan\n",
    "#secara default dia pakai inner, data yang tersambung yang akan ditampilkan\n",
    "hoo = pd.merge(df1,df2)\n",
    "hoo"
   ]
  },
  {
   "cell_type": "code",
   "execution_count": 120,
   "id": "_iX1ZecsMPz3",
   "metadata": {
    "ExecuteTime": {
     "end_time": "2022-09-26T08:08:59.166676Z",
     "start_time": "2022-09-26T08:08:59.154045Z"
    },
    "colab": {
     "base_uri": "https://localhost:8080/",
     "height": 206
    },
    "executionInfo": {
     "elapsed": 466,
     "status": "ok",
     "timestamp": 1648717115342,
     "user": {
      "displayName": "Fransiskus Indra Pratama",
      "userId": "02733887561050835608"
     },
     "user_tz": -420
    },
    "id": "_iX1ZecsMPz3",
    "outputId": "8f28dae6-a4cf-4377-adbd-c3def1555240"
   },
   "outputs": [
    {
     "data": {
      "text/html": [
       "<div>\n",
       "<style scoped>\n",
       "    .dataframe tbody tr th:only-of-type {\n",
       "        vertical-align: middle;\n",
       "    }\n",
       "\n",
       "    .dataframe tbody tr th {\n",
       "        vertical-align: top;\n",
       "    }\n",
       "\n",
       "    .dataframe thead th {\n",
       "        text-align: right;\n",
       "    }\n",
       "</style>\n",
       "<table border=\"1\" class=\"dataframe\">\n",
       "  <thead>\n",
       "    <tr style=\"text-align: right;\">\n",
       "      <th></th>\n",
       "      <th>id</th>\n",
       "      <th>Nama</th>\n",
       "      <th>Tahun_masuk</th>\n",
       "      <th>Jurusan</th>\n",
       "    </tr>\n",
       "  </thead>\n",
       "  <tbody>\n",
       "    <tr>\n",
       "      <th>0</th>\n",
       "      <td>001</td>\n",
       "      <td>Anton</td>\n",
       "      <td>2020.0</td>\n",
       "      <td>Akuntansi</td>\n",
       "    </tr>\n",
       "    <tr>\n",
       "      <th>1</th>\n",
       "      <td>002</td>\n",
       "      <td>Budi</td>\n",
       "      <td>2019.0</td>\n",
       "      <td>Tambang</td>\n",
       "    </tr>\n",
       "    <tr>\n",
       "      <th>2</th>\n",
       "      <td>003</td>\n",
       "      <td>Bambang</td>\n",
       "      <td>2021.0</td>\n",
       "      <td>Bisnis</td>\n",
       "    </tr>\n",
       "    <tr>\n",
       "      <th>3</th>\n",
       "      <td>004</td>\n",
       "      <td>leon</td>\n",
       "      <td>2018.0</td>\n",
       "      <td>NaN</td>\n",
       "    </tr>\n",
       "    <tr>\n",
       "      <th>4</th>\n",
       "      <td>005</td>\n",
       "      <td>NaN</td>\n",
       "      <td>NaN</td>\n",
       "      <td>Managemen</td>\n",
       "    </tr>\n",
       "  </tbody>\n",
       "</table>\n",
       "</div>"
      ],
      "text/plain": [
       "    id     Nama  Tahun_masuk    Jurusan\n",
       "0  001    Anton       2020.0  Akuntansi\n",
       "1  002     Budi       2019.0    Tambang\n",
       "2  003  Bambang       2021.0     Bisnis\n",
       "3  004     leon       2018.0        NaN\n",
       "4  005      NaN          NaN  Managemen"
      ]
     },
     "execution_count": 120,
     "metadata": {},
     "output_type": "execute_result"
    }
   ],
   "source": [
    "#jika kita ingin menampilkan semuanya maka gunakan outer\n",
    "hoo = pd.merge(df1,df2, how='outer')\n",
    "hoo"
   ]
  },
  {
   "cell_type": "code",
   "execution_count": 121,
   "id": "aybTtVJkMqsz",
   "metadata": {
    "ExecuteTime": {
     "end_time": "2022-09-26T08:08:59.381559Z",
     "start_time": "2022-09-26T08:08:59.358622Z"
    },
    "colab": {
     "base_uri": "https://localhost:8080/",
     "height": 175
    },
    "executionInfo": {
     "elapsed": 425,
     "status": "ok",
     "timestamp": 1648717164156,
     "user": {
      "displayName": "Fransiskus Indra Pratama",
      "userId": "02733887561050835608"
     },
     "user_tz": -420
    },
    "id": "aybTtVJkMqsz",
    "outputId": "9af8cfbb-76b4-4955-8e53-df68cae6ac62"
   },
   "outputs": [
    {
     "data": {
      "text/html": [
       "<div>\n",
       "<style scoped>\n",
       "    .dataframe tbody tr th:only-of-type {\n",
       "        vertical-align: middle;\n",
       "    }\n",
       "\n",
       "    .dataframe tbody tr th {\n",
       "        vertical-align: top;\n",
       "    }\n",
       "\n",
       "    .dataframe thead th {\n",
       "        text-align: right;\n",
       "    }\n",
       "</style>\n",
       "<table border=\"1\" class=\"dataframe\">\n",
       "  <thead>\n",
       "    <tr style=\"text-align: right;\">\n",
       "      <th></th>\n",
       "      <th>id</th>\n",
       "      <th>Nama</th>\n",
       "      <th>Tahun_masuk</th>\n",
       "      <th>Jurusan</th>\n",
       "    </tr>\n",
       "  </thead>\n",
       "  <tbody>\n",
       "    <tr>\n",
       "      <th>0</th>\n",
       "      <td>001</td>\n",
       "      <td>Anton</td>\n",
       "      <td>2020</td>\n",
       "      <td>Akuntansi</td>\n",
       "    </tr>\n",
       "    <tr>\n",
       "      <th>1</th>\n",
       "      <td>002</td>\n",
       "      <td>Budi</td>\n",
       "      <td>2019</td>\n",
       "      <td>Tambang</td>\n",
       "    </tr>\n",
       "    <tr>\n",
       "      <th>2</th>\n",
       "      <td>003</td>\n",
       "      <td>Bambang</td>\n",
       "      <td>2021</td>\n",
       "      <td>Bisnis</td>\n",
       "    </tr>\n",
       "    <tr>\n",
       "      <th>3</th>\n",
       "      <td>004</td>\n",
       "      <td>leon</td>\n",
       "      <td>2018</td>\n",
       "      <td>NaN</td>\n",
       "    </tr>\n",
       "  </tbody>\n",
       "</table>\n",
       "</div>"
      ],
      "text/plain": [
       "    id     Nama  Tahun_masuk    Jurusan\n",
       "0  001    Anton         2020  Akuntansi\n",
       "1  002     Budi         2019    Tambang\n",
       "2  003  Bambang         2021     Bisnis\n",
       "3  004     leon         2018        NaN"
      ]
     },
     "execution_count": 121,
     "metadata": {},
     "output_type": "execute_result"
    }
   ],
   "source": [
    "#jika kita ingin menampilkan data sebelah kiri full\n",
    "hoo = pd.merge(df1,df2, how='left')\n",
    "hoo"
   ]
  },
  {
   "cell_type": "code",
   "execution_count": 122,
   "id": "Qv57uRc6M2mZ",
   "metadata": {
    "ExecuteTime": {
     "end_time": "2022-09-26T08:08:59.599133Z",
     "start_time": "2022-09-26T08:08:59.574011Z"
    },
    "colab": {
     "base_uri": "https://localhost:8080/",
     "height": 175
    },
    "executionInfo": {
     "elapsed": 412,
     "status": "ok",
     "timestamp": 1648717174278,
     "user": {
      "displayName": "Fransiskus Indra Pratama",
      "userId": "02733887561050835608"
     },
     "user_tz": -420
    },
    "id": "Qv57uRc6M2mZ",
    "outputId": "1b12a408-eef3-489e-dff3-1c69e490cab0"
   },
   "outputs": [
    {
     "data": {
      "text/html": [
       "<div>\n",
       "<style scoped>\n",
       "    .dataframe tbody tr th:only-of-type {\n",
       "        vertical-align: middle;\n",
       "    }\n",
       "\n",
       "    .dataframe tbody tr th {\n",
       "        vertical-align: top;\n",
       "    }\n",
       "\n",
       "    .dataframe thead th {\n",
       "        text-align: right;\n",
       "    }\n",
       "</style>\n",
       "<table border=\"1\" class=\"dataframe\">\n",
       "  <thead>\n",
       "    <tr style=\"text-align: right;\">\n",
       "      <th></th>\n",
       "      <th>id</th>\n",
       "      <th>Nama</th>\n",
       "      <th>Tahun_masuk</th>\n",
       "      <th>Jurusan</th>\n",
       "    </tr>\n",
       "  </thead>\n",
       "  <tbody>\n",
       "    <tr>\n",
       "      <th>0</th>\n",
       "      <td>001</td>\n",
       "      <td>Anton</td>\n",
       "      <td>2020.0</td>\n",
       "      <td>Akuntansi</td>\n",
       "    </tr>\n",
       "    <tr>\n",
       "      <th>1</th>\n",
       "      <td>002</td>\n",
       "      <td>Budi</td>\n",
       "      <td>2019.0</td>\n",
       "      <td>Tambang</td>\n",
       "    </tr>\n",
       "    <tr>\n",
       "      <th>2</th>\n",
       "      <td>003</td>\n",
       "      <td>Bambang</td>\n",
       "      <td>2021.0</td>\n",
       "      <td>Bisnis</td>\n",
       "    </tr>\n",
       "    <tr>\n",
       "      <th>3</th>\n",
       "      <td>005</td>\n",
       "      <td>NaN</td>\n",
       "      <td>NaN</td>\n",
       "      <td>Managemen</td>\n",
       "    </tr>\n",
       "  </tbody>\n",
       "</table>\n",
       "</div>"
      ],
      "text/plain": [
       "    id     Nama  Tahun_masuk    Jurusan\n",
       "0  001    Anton       2020.0  Akuntansi\n",
       "1  002     Budi       2019.0    Tambang\n",
       "2  003  Bambang       2021.0     Bisnis\n",
       "3  005      NaN          NaN  Managemen"
      ]
     },
     "execution_count": 122,
     "metadata": {},
     "output_type": "execute_result"
    }
   ],
   "source": [
    "#jika kita ingin menampilkan data sebelah kanan full\n",
    "hoo = pd.merge(df1,df2, how='right')\n",
    "hoo"
   ]
  },
  {
   "cell_type": "markdown",
   "id": "aV69O78eN8Ti",
   "metadata": {
    "id": "aV69O78eN8Ti"
   },
   "source": [
    "### Group By"
   ]
  },
  {
   "cell_type": "markdown",
   "id": "dx_B-ds2UTwq",
   "metadata": {
    "id": "dx_B-ds2UTwq"
   },
   "source": [
    "> terkadang kita membutuhkan data yang sudah di grouping. cara yang ditawarkan pandas adalah dengan method .groupby"
   ]
  },
  {
   "cell_type": "code",
   "execution_count": 123,
   "id": "DZuEZSmgM5IA",
   "metadata": {
    "ExecuteTime": {
     "end_time": "2022-09-26T08:09:01.788135Z",
     "start_time": "2022-09-26T08:09:00.938425Z"
    },
    "colab": {
     "base_uri": "https://localhost:8080/",
     "height": 345
    },
    "executionInfo": {
     "elapsed": 554,
     "status": "error",
     "timestamp": 1648719054789,
     "user": {
      "displayName": "Fransiskus Indra Pratama",
      "userId": "02733887561050835608"
     },
     "user_tz": -420
    },
    "id": "DZuEZSmgM5IA",
    "outputId": "407e8c8a-3d66-4556-8bc7-656c56807a29"
   },
   "outputs": [
    {
     "data": {
      "text/html": [
       "<div>\n",
       "<style scoped>\n",
       "    .dataframe tbody tr th:only-of-type {\n",
       "        vertical-align: middle;\n",
       "    }\n",
       "\n",
       "    .dataframe tbody tr th {\n",
       "        vertical-align: top;\n",
       "    }\n",
       "\n",
       "    .dataframe thead th {\n",
       "        text-align: right;\n",
       "    }\n",
       "</style>\n",
       "<table border=\"1\" class=\"dataframe\">\n",
       "  <thead>\n",
       "    <tr style=\"text-align: right;\">\n",
       "      <th></th>\n",
       "      <th>rank</th>\n",
       "      <th>name</th>\n",
       "      <th>usps</th>\n",
       "      <th>pop2022</th>\n",
       "      <th>pop2010</th>\n",
       "      <th>growth</th>\n",
       "      <th>density</th>\n",
       "      <th>aland_sqmi</th>\n",
       "    </tr>\n",
       "  </thead>\n",
       "  <tbody>\n",
       "    <tr>\n",
       "      <th>0</th>\n",
       "      <td>1</td>\n",
       "      <td>New York City</td>\n",
       "      <td>NY</td>\n",
       "      <td>8177025</td>\n",
       "      <td>8190209</td>\n",
       "      <td>-0.0016</td>\n",
       "      <td>27222</td>\n",
       "      <td>300.381</td>\n",
       "    </tr>\n",
       "    <tr>\n",
       "      <th>1</th>\n",
       "      <td>2</td>\n",
       "      <td>Los Angeles</td>\n",
       "      <td>CA</td>\n",
       "      <td>3985516</td>\n",
       "      <td>3795512</td>\n",
       "      <td>0.0501</td>\n",
       "      <td>8499</td>\n",
       "      <td>468.956</td>\n",
       "    </tr>\n",
       "    <tr>\n",
       "      <th>2</th>\n",
       "      <td>3</td>\n",
       "      <td>Chicago</td>\n",
       "      <td>IL</td>\n",
       "      <td>2671635</td>\n",
       "      <td>2697477</td>\n",
       "      <td>-0.0096</td>\n",
       "      <td>11750</td>\n",
       "      <td>227.369</td>\n",
       "    </tr>\n",
       "    <tr>\n",
       "      <th>3</th>\n",
       "      <td>4</td>\n",
       "      <td>Houston</td>\n",
       "      <td>TX</td>\n",
       "      <td>2325353</td>\n",
       "      <td>2100280</td>\n",
       "      <td>0.1072</td>\n",
       "      <td>3632</td>\n",
       "      <td>640.194</td>\n",
       "    </tr>\n",
       "    <tr>\n",
       "      <th>4</th>\n",
       "      <td>5</td>\n",
       "      <td>Phoenix</td>\n",
       "      <td>AZ</td>\n",
       "      <td>1759943</td>\n",
       "      <td>1449038</td>\n",
       "      <td>0.2146</td>\n",
       "      <td>3400</td>\n",
       "      <td>517.673</td>\n",
       "    </tr>\n",
       "    <tr>\n",
       "      <th>...</th>\n",
       "      <td>...</td>\n",
       "      <td>...</td>\n",
       "      <td>...</td>\n",
       "      <td>...</td>\n",
       "      <td>...</td>\n",
       "      <td>...</td>\n",
       "      <td>...</td>\n",
       "      <td>...</td>\n",
       "    </tr>\n",
       "    <tr>\n",
       "      <th>195</th>\n",
       "      <td>196</td>\n",
       "      <td>Waco</td>\n",
       "      <td>TX</td>\n",
       "      <td>143286</td>\n",
       "      <td>125377</td>\n",
       "      <td>0.1428</td>\n",
       "      <td>1613</td>\n",
       "      <td>88.856</td>\n",
       "    </tr>\n",
       "    <tr>\n",
       "      <th>196</th>\n",
       "      <td>197</td>\n",
       "      <td>Bridgeport</td>\n",
       "      <td>CT</td>\n",
       "      <td>143280</td>\n",
       "      <td>144864</td>\n",
       "      <td>-0.0109</td>\n",
       "      <td>8919</td>\n",
       "      <td>16.064</td>\n",
       "    </tr>\n",
       "    <tr>\n",
       "      <th>197</th>\n",
       "      <td>198</td>\n",
       "      <td>Miramar</td>\n",
       "      <td>FL</td>\n",
       "      <td>143072</td>\n",
       "      <td>122300</td>\n",
       "      <td>0.1698</td>\n",
       "      <td>4959</td>\n",
       "      <td>28.853</td>\n",
       "    </tr>\n",
       "    <tr>\n",
       "      <th>198</th>\n",
       "      <td>199</td>\n",
       "      <td>Olathe</td>\n",
       "      <td>KS</td>\n",
       "      <td>142906</td>\n",
       "      <td>126269</td>\n",
       "      <td>0.1318</td>\n",
       "      <td>2318</td>\n",
       "      <td>61.642</td>\n",
       "    </tr>\n",
       "    <tr>\n",
       "      <th>199</th>\n",
       "      <td>200</td>\n",
       "      <td>Metairie</td>\n",
       "      <td>LA</td>\n",
       "      <td>142135</td>\n",
       "      <td>138481</td>\n",
       "      <td>0.0264</td>\n",
       "      <td>6111</td>\n",
       "      <td>23.259</td>\n",
       "    </tr>\n",
       "  </tbody>\n",
       "</table>\n",
       "<p>200 rows × 8 columns</p>\n",
       "</div>"
      ],
      "text/plain": [
       "     rank           name usps  pop2022  pop2010  growth  density  aland_sqmi\n",
       "0       1  New York City   NY  8177025  8190209 -0.0016    27222     300.381\n",
       "1       2    Los Angeles   CA  3985516  3795512  0.0501     8499     468.956\n",
       "2       3        Chicago   IL  2671635  2697477 -0.0096    11750     227.369\n",
       "3       4        Houston   TX  2325353  2100280  0.1072     3632     640.194\n",
       "4       5        Phoenix   AZ  1759943  1449038  0.2146     3400     517.673\n",
       "..    ...            ...  ...      ...      ...     ...      ...         ...\n",
       "195   196           Waco   TX   143286   125377  0.1428     1613      88.856\n",
       "196   197     Bridgeport   CT   143280   144864 -0.0109     8919      16.064\n",
       "197   198        Miramar   FL   143072   122300  0.1698     4959      28.853\n",
       "198   199         Olathe   KS   142906   126269  0.1318     2318      61.642\n",
       "199   200       Metairie   LA   142135   138481  0.0264     6111      23.259\n",
       "\n",
       "[200 rows x 8 columns]"
      ]
     },
     "execution_count": 123,
     "metadata": {},
     "output_type": "execute_result"
    }
   ],
   "source": [
    "# mari kita buka data populasi amerika\n",
    "# df_amerika = pd.read_csv('america_population.csv')\n",
    "\n",
    "df_amerika = pd.read_csv(link_population)\n",
    "df_amerika"
   ]
  },
  {
   "cell_type": "code",
   "execution_count": 124,
   "id": "xOXE1fXxUEGf",
   "metadata": {
    "ExecuteTime": {
     "end_time": "2022-09-26T08:09:01.803240Z",
     "start_time": "2022-09-26T08:09:01.789600Z"
    },
    "id": "xOXE1fXxUEGf"
   },
   "outputs": [
    {
     "data": {
      "text/plain": [
       "43"
      ]
     },
     "execution_count": 124,
     "metadata": {},
     "output_type": "execute_result"
    }
   ],
   "source": [
    "#kita akan melakukan grouping terhadap jumlah populasi berdasarkan state\n",
    "#kita cek terlebih dahulu ada berapa state\n",
    "df_amerika.usps.nunique()"
   ]
  },
  {
   "cell_type": "code",
   "execution_count": 125,
   "id": "D-5GMLeDUdRg",
   "metadata": {
    "ExecuteTime": {
     "end_time": "2022-09-26T08:09:01.819089Z",
     "start_time": "2022-09-26T08:09:01.804400Z"
    },
    "id": "D-5GMLeDUdRg"
   },
   "outputs": [
    {
     "data": {
      "text/plain": [
       "<pandas.core.groupby.generic.DataFrameGroupBy object at 0x00000214E1D4A520>"
      ]
     },
     "execution_count": 125,
     "metadata": {},
     "output_type": "execute_result"
    }
   ],
   "source": [
    "#kita akan grouping dengan method .groupby\n",
    "state_population = df_amerika.groupby(['usps'])\n",
    "state_population"
   ]
  },
  {
   "cell_type": "markdown",
   "id": "OuIc8ZIuUgwY",
   "metadata": {
    "id": "OuIc8ZIuUgwY"
   },
   "source": [
    "> terlihat bahwa hasil dari groupby tidak menghasilkan dataframe tapi DataFrameGroupBy, untuk mengeluarkan datanya kita perlu method seperti, .count(), .sum(), .mean(), atau [lainnya](https://pandas.pydata.org/pandas-docs/stable/user_guide/groupby.html)"
   ]
  },
  {
   "cell_type": "code",
   "execution_count": 126,
   "id": "Df7wH1MaUeyq",
   "metadata": {
    "ExecuteTime": {
     "end_time": "2022-09-26T08:09:02.604222Z",
     "start_time": "2022-09-26T08:09:02.585193Z"
    },
    "id": "Df7wH1MaUeyq"
   },
   "outputs": [
    {
     "data": {
      "text/html": [
       "<div>\n",
       "<style scoped>\n",
       "    .dataframe tbody tr th:only-of-type {\n",
       "        vertical-align: middle;\n",
       "    }\n",
       "\n",
       "    .dataframe tbody tr th {\n",
       "        vertical-align: top;\n",
       "    }\n",
       "\n",
       "    .dataframe thead th {\n",
       "        text-align: right;\n",
       "    }\n",
       "</style>\n",
       "<table border=\"1\" class=\"dataframe\">\n",
       "  <thead>\n",
       "    <tr style=\"text-align: right;\">\n",
       "      <th></th>\n",
       "      <th>rank</th>\n",
       "      <th>pop2022</th>\n",
       "      <th>pop2010</th>\n",
       "      <th>growth</th>\n",
       "      <th>density</th>\n",
       "      <th>aland_sqmi</th>\n",
       "    </tr>\n",
       "    <tr>\n",
       "      <th>usps</th>\n",
       "      <th></th>\n",
       "      <th></th>\n",
       "      <th></th>\n",
       "      <th></th>\n",
       "      <th></th>\n",
       "      <th></th>\n",
       "    </tr>\n",
       "  </thead>\n",
       "  <tbody>\n",
       "    <tr>\n",
       "      <th>AK</th>\n",
       "      <td>76</td>\n",
       "      <td>280437</td>\n",
       "      <td>293321</td>\n",
       "      <td>-0.0439</td>\n",
       "      <td>164</td>\n",
       "      <td>1706.800</td>\n",
       "    </tr>\n",
       "    <tr>\n",
       "      <th>AL</th>\n",
       "      <td>511</td>\n",
       "      <td>796928</td>\n",
       "      <td>793439</td>\n",
       "      <td>0.0333</td>\n",
       "      <td>4946</td>\n",
       "      <td>659.786</td>\n",
       "    </tr>\n",
       "    <tr>\n",
       "      <th>AR</th>\n",
       "      <td>132</td>\n",
       "      <td>196796</td>\n",
       "      <td>193972</td>\n",
       "      <td>0.0146</td>\n",
       "      <td>1640</td>\n",
       "      <td>119.992</td>\n",
       "    </tr>\n",
       "    <tr>\n",
       "      <th>AZ</th>\n",
       "      <td>837</td>\n",
       "      <td>4482730</td>\n",
       "      <td>3741824</td>\n",
       "      <td>2.1209</td>\n",
       "      <td>31166</td>\n",
       "      <td>1596.979</td>\n",
       "    </tr>\n",
       "    <tr>\n",
       "      <th>CA</th>\n",
       "      <td>4155</td>\n",
       "      <td>16002144</td>\n",
       "      <td>14869641</td>\n",
       "      <td>3.3407</td>\n",
       "      <td>220517</td>\n",
       "      <td>2925.911</td>\n",
       "    </tr>\n",
       "    <tr>\n",
       "      <th>CO</th>\n",
       "      <td>620</td>\n",
       "      <td>2134166</td>\n",
       "      <td>1757517</td>\n",
       "      <td>1.2256</td>\n",
       "      <td>20999</td>\n",
       "      <td>638.684</td>\n",
       "    </tr>\n",
       "    <tr>\n",
       "      <th>CT</th>\n",
       "      <td>197</td>\n",
       "      <td>143280</td>\n",
       "      <td>144864</td>\n",
       "      <td>-0.0109</td>\n",
       "      <td>8919</td>\n",
       "      <td>16.064</td>\n",
       "    </tr>\n",
       "    <tr>\n",
       "      <th>DC</th>\n",
       "      <td>20</td>\n",
       "      <td>718355</td>\n",
       "      <td>605226</td>\n",
       "      <td>0.1869</td>\n",
       "      <td>11750</td>\n",
       "      <td>61.136</td>\n",
       "    </tr>\n",
       "    <tr>\n",
       "      <th>FL</th>\n",
       "      <td>1376</td>\n",
       "      <td>3911142</td>\n",
       "      <td>3356685</td>\n",
       "      <td>2.2194</td>\n",
       "      <td>63105</td>\n",
       "      <td>1540.489</td>\n",
       "    </tr>\n",
       "    <tr>\n",
       "      <th>GA</th>\n",
       "      <td>464</td>\n",
       "      <td>1087668</td>\n",
       "      <td>972700</td>\n",
       "      <td>0.2988</td>\n",
       "      <td>6131</td>\n",
       "      <td>903.888</td>\n",
       "    </tr>\n",
       "    <tr>\n",
       "      <th>HI</th>\n",
       "      <td>57</td>\n",
       "      <td>339421</td>\n",
       "      <td>339121</td>\n",
       "      <td>0.0009</td>\n",
       "      <td>5606</td>\n",
       "      <td>60.544</td>\n",
       "    </tr>\n",
       "    <tr>\n",
       "      <th>IA</th>\n",
       "      <td>115</td>\n",
       "      <td>208966</td>\n",
       "      <td>205032</td>\n",
       "      <td>0.0192</td>\n",
       "      <td>2370</td>\n",
       "      <td>88.180</td>\n",
       "    </tr>\n",
       "    <tr>\n",
       "      <th>ID</th>\n",
       "      <td>101</td>\n",
       "      <td>230510</td>\n",
       "      <td>209576</td>\n",
       "      <td>0.0999</td>\n",
       "      <td>2755</td>\n",
       "      <td>83.674</td>\n",
       "    </tr>\n",
       "    <tr>\n",
       "      <th>IL</th>\n",
       "      <td>714</td>\n",
       "      <td>3304293</td>\n",
       "      <td>3338757</td>\n",
       "      <td>-0.0557</td>\n",
       "      <td>24409</td>\n",
       "      <td>439.720</td>\n",
       "    </tr>\n",
       "    <tr>\n",
       "      <th>IN</th>\n",
       "      <td>93</td>\n",
       "      <td>1171884</td>\n",
       "      <td>1075740</td>\n",
       "      <td>0.1851</td>\n",
       "      <td>4993</td>\n",
       "      <td>472.207</td>\n",
       "    </tr>\n",
       "    <tr>\n",
       "      <th>KS</th>\n",
       "      <td>549</td>\n",
       "      <td>891714</td>\n",
       "      <td>828932</td>\n",
       "      <td>0.3755</td>\n",
       "      <td>8679</td>\n",
       "      <td>423.299</td>\n",
       "    </tr>\n",
       "    <tr>\n",
       "      <th>KY</th>\n",
       "      <td>90</td>\n",
       "      <td>940397</td>\n",
       "      <td>893330</td>\n",
       "      <td>0.1271</td>\n",
       "      <td>3482</td>\n",
       "      <td>547.071</td>\n",
       "    </tr>\n",
       "    <tr>\n",
       "      <th>LA</th>\n",
       "      <td>515</td>\n",
       "      <td>924441</td>\n",
       "      <td>917064</td>\n",
       "      <td>-0.0292</td>\n",
       "      <td>12558</td>\n",
       "      <td>386.503</td>\n",
       "    </tr>\n",
       "    <tr>\n",
       "      <th>MA</th>\n",
       "      <td>347</td>\n",
       "      <td>1033443</td>\n",
       "      <td>956376</td>\n",
       "      <td>0.1264</td>\n",
       "      <td>24123</td>\n",
       "      <td>117.568</td>\n",
       "    </tr>\n",
       "    <tr>\n",
       "      <th>MD</th>\n",
       "      <td>31</td>\n",
       "      <td>566631</td>\n",
       "      <td>620915</td>\n",
       "      <td>-0.0874</td>\n",
       "      <td>7000</td>\n",
       "      <td>80.947</td>\n",
       "    </tr>\n",
       "    <tr>\n",
       "      <th>MI</th>\n",
       "      <td>150</td>\n",
       "      <td>864837</td>\n",
       "      <td>899138</td>\n",
       "      <td>0.0130</td>\n",
       "      <td>9317</td>\n",
       "      <td>183.471</td>\n",
       "    </tr>\n",
       "    <tr>\n",
       "      <th>MN</th>\n",
       "      <td>110</td>\n",
       "      <td>755219</td>\n",
       "      <td>668577</td>\n",
       "      <td>0.2493</td>\n",
       "      <td>14210</td>\n",
       "      <td>105.978</td>\n",
       "    </tr>\n",
       "    <tr>\n",
       "      <th>MO</th>\n",
       "      <td>273</td>\n",
       "      <td>966230</td>\n",
       "      <td>939409</td>\n",
       "      <td>0.0711</td>\n",
       "      <td>8385</td>\n",
       "      <td>459.022</td>\n",
       "    </tr>\n",
       "    <tr>\n",
       "      <th>MS</th>\n",
       "      <td>183</td>\n",
       "      <td>151196</td>\n",
       "      <td>173698</td>\n",
       "      <td>-0.1295</td>\n",
       "      <td>1361</td>\n",
       "      <td>111.086</td>\n",
       "    </tr>\n",
       "    <tr>\n",
       "      <th>NC</th>\n",
       "      <td>549</td>\n",
       "      <td>2652772</td>\n",
       "      <td>2220567</td>\n",
       "      <td>1.2631</td>\n",
       "      <td>17680</td>\n",
       "      <td>1033.599</td>\n",
       "    </tr>\n",
       "    <tr>\n",
       "      <th>NE</th>\n",
       "      <td>111</td>\n",
       "      <td>776489</td>\n",
       "      <td>719114</td>\n",
       "      <td>0.1855</td>\n",
       "      <td>6483</td>\n",
       "      <td>237.206</td>\n",
       "    </tr>\n",
       "    <tr>\n",
       "      <th>NJ</th>\n",
       "      <td>358</td>\n",
       "      <td>683685</td>\n",
       "      <td>671890</td>\n",
       "      <td>0.0389</td>\n",
       "      <td>46261</td>\n",
       "      <td>47.301</td>\n",
       "    </tr>\n",
       "    <tr>\n",
       "      <th>NM</th>\n",
       "      <td>32</td>\n",
       "      <td>563165</td>\n",
       "      <td>546755</td>\n",
       "      <td>0.0300</td>\n",
       "      <td>3008</td>\n",
       "      <td>187.215</td>\n",
       "    </tr>\n",
       "    <tr>\n",
       "      <th>NV</th>\n",
       "      <td>753</td>\n",
       "      <td>2378712</td>\n",
       "      <td>1983931</td>\n",
       "      <td>1.7977</td>\n",
       "      <td>33774</td>\n",
       "      <td>619.098</td>\n",
       "    </tr>\n",
       "    <tr>\n",
       "      <th>NY</th>\n",
       "      <td>336</td>\n",
       "      <td>8837417</td>\n",
       "      <td>8858108</td>\n",
       "      <td>-0.0285</td>\n",
       "      <td>50437</td>\n",
       "      <td>394.537</td>\n",
       "    </tr>\n",
       "    <tr>\n",
       "      <th>OH</th>\n",
       "      <td>352</td>\n",
       "      <td>2068188</td>\n",
       "      <td>1969995</td>\n",
       "      <td>0.0676</td>\n",
       "      <td>19480</td>\n",
       "      <td>517.149</td>\n",
       "    </tr>\n",
       "    <tr>\n",
       "      <th>OK</th>\n",
       "      <td>72</td>\n",
       "      <td>1080010</td>\n",
       "      <td>974919</td>\n",
       "      <td>0.1896</td>\n",
       "      <td>3159</td>\n",
       "      <td>803.923</td>\n",
       "    </tr>\n",
       "    <tr>\n",
       "      <th>OR</th>\n",
       "      <td>332</td>\n",
       "      <td>1024360</td>\n",
       "      <td>897203</td>\n",
       "      <td>0.4344</td>\n",
       "      <td>12724</td>\n",
       "      <td>226.250</td>\n",
       "    </tr>\n",
       "    <tr>\n",
       "      <th>PA</th>\n",
       "      <td>75</td>\n",
       "      <td>1884914</td>\n",
       "      <td>1833566</td>\n",
       "      <td>0.0182</td>\n",
       "      <td>17214</td>\n",
       "      <td>189.655</td>\n",
       "    </tr>\n",
       "    <tr>\n",
       "      <th>PR</th>\n",
       "      <td>229</td>\n",
       "      <td>484313</td>\n",
       "      <td>567927</td>\n",
       "      <td>-0.2878</td>\n",
       "      <td>14146</td>\n",
       "      <td>66.511</td>\n",
       "    </tr>\n",
       "    <tr>\n",
       "      <th>RI</th>\n",
       "      <td>150</td>\n",
       "      <td>180972</td>\n",
       "      <td>178029</td>\n",
       "      <td>0.0165</td>\n",
       "      <td>9832</td>\n",
       "      <td>18.406</td>\n",
       "    </tr>\n",
       "    <tr>\n",
       "      <th>SD</th>\n",
       "      <td>137</td>\n",
       "      <td>193978</td>\n",
       "      <td>154533</td>\n",
       "      <td>0.2553</td>\n",
       "      <td>2480</td>\n",
       "      <td>78.229</td>\n",
       "    </tr>\n",
       "    <tr>\n",
       "      <th>TN</th>\n",
       "      <td>665</td>\n",
       "      <td>2033740</td>\n",
       "      <td>1848805</td>\n",
       "      <td>0.9847</td>\n",
       "      <td>10991</td>\n",
       "      <td>1195.081</td>\n",
       "    </tr>\n",
       "    <tr>\n",
       "      <th>TX</th>\n",
       "      <td>2701</td>\n",
       "      <td>12199457</td>\n",
       "      <td>10461078</td>\n",
       "      <td>5.4331</td>\n",
       "      <td>76597</td>\n",
       "      <td>4017.308</td>\n",
       "    </tr>\n",
       "    <tr>\n",
       "      <th>UT</th>\n",
       "      <td>125</td>\n",
       "      <td>200963</td>\n",
       "      <td>186643</td>\n",
       "      <td>0.0767</td>\n",
       "      <td>1815</td>\n",
       "      <td>110.698</td>\n",
       "    </tr>\n",
       "    <tr>\n",
       "      <th>VA</th>\n",
       "      <td>745</td>\n",
       "      <td>1752206</td>\n",
       "      <td>1638960</td>\n",
       "      <td>0.5562</td>\n",
       "      <td>33356</td>\n",
       "      <td>806.354</td>\n",
       "    </tr>\n",
       "    <tr>\n",
       "      <th>WA</th>\n",
       "      <td>545</td>\n",
       "      <td>1581953</td>\n",
       "      <td>1314337</td>\n",
       "      <td>0.8235</td>\n",
       "      <td>25635</td>\n",
       "      <td>284.585</td>\n",
       "    </tr>\n",
       "    <tr>\n",
       "      <th>WI</th>\n",
       "      <td>117</td>\n",
       "      <td>851661</td>\n",
       "      <td>828595</td>\n",
       "      <td>0.1204</td>\n",
       "      <td>9440</td>\n",
       "      <td>175.523</td>\n",
       "    </tr>\n",
       "  </tbody>\n",
       "</table>\n",
       "</div>"
      ],
      "text/plain": [
       "      rank   pop2022   pop2010  growth  density  aland_sqmi\n",
       "usps                                                       \n",
       "AK      76    280437    293321 -0.0439      164    1706.800\n",
       "AL     511    796928    793439  0.0333     4946     659.786\n",
       "AR     132    196796    193972  0.0146     1640     119.992\n",
       "AZ     837   4482730   3741824  2.1209    31166    1596.979\n",
       "CA    4155  16002144  14869641  3.3407   220517    2925.911\n",
       "CO     620   2134166   1757517  1.2256    20999     638.684\n",
       "CT     197    143280    144864 -0.0109     8919      16.064\n",
       "DC      20    718355    605226  0.1869    11750      61.136\n",
       "FL    1376   3911142   3356685  2.2194    63105    1540.489\n",
       "GA     464   1087668    972700  0.2988     6131     903.888\n",
       "HI      57    339421    339121  0.0009     5606      60.544\n",
       "IA     115    208966    205032  0.0192     2370      88.180\n",
       "ID     101    230510    209576  0.0999     2755      83.674\n",
       "IL     714   3304293   3338757 -0.0557    24409     439.720\n",
       "IN      93   1171884   1075740  0.1851     4993     472.207\n",
       "KS     549    891714    828932  0.3755     8679     423.299\n",
       "KY      90    940397    893330  0.1271     3482     547.071\n",
       "LA     515    924441    917064 -0.0292    12558     386.503\n",
       "MA     347   1033443    956376  0.1264    24123     117.568\n",
       "MD      31    566631    620915 -0.0874     7000      80.947\n",
       "MI     150    864837    899138  0.0130     9317     183.471\n",
       "MN     110    755219    668577  0.2493    14210     105.978\n",
       "MO     273    966230    939409  0.0711     8385     459.022\n",
       "MS     183    151196    173698 -0.1295     1361     111.086\n",
       "NC     549   2652772   2220567  1.2631    17680    1033.599\n",
       "NE     111    776489    719114  0.1855     6483     237.206\n",
       "NJ     358    683685    671890  0.0389    46261      47.301\n",
       "NM      32    563165    546755  0.0300     3008     187.215\n",
       "NV     753   2378712   1983931  1.7977    33774     619.098\n",
       "NY     336   8837417   8858108 -0.0285    50437     394.537\n",
       "OH     352   2068188   1969995  0.0676    19480     517.149\n",
       "OK      72   1080010    974919  0.1896     3159     803.923\n",
       "OR     332   1024360    897203  0.4344    12724     226.250\n",
       "PA      75   1884914   1833566  0.0182    17214     189.655\n",
       "PR     229    484313    567927 -0.2878    14146      66.511\n",
       "RI     150    180972    178029  0.0165     9832      18.406\n",
       "SD     137    193978    154533  0.2553     2480      78.229\n",
       "TN     665   2033740   1848805  0.9847    10991    1195.081\n",
       "TX    2701  12199457  10461078  5.4331    76597    4017.308\n",
       "UT     125    200963    186643  0.0767     1815     110.698\n",
       "VA     745   1752206   1638960  0.5562    33356     806.354\n",
       "WA     545   1581953   1314337  0.8235    25635     284.585\n",
       "WI     117    851661    828595  0.1204     9440     175.523"
      ]
     },
     "execution_count": 126,
     "metadata": {},
     "output_type": "execute_result"
    }
   ],
   "source": [
    "state_population.sum()"
   ]
  },
  {
   "cell_type": "code",
   "execution_count": 127,
   "id": "fI2blfr0UibR",
   "metadata": {
    "ExecuteTime": {
     "end_time": "2022-09-26T08:09:03.020339Z",
     "start_time": "2022-09-26T08:09:03.003024Z"
    },
    "id": "fI2blfr0UibR"
   },
   "outputs": [
    {
     "data": {
      "text/html": [
       "<div>\n",
       "<style scoped>\n",
       "    .dataframe tbody tr th:only-of-type {\n",
       "        vertical-align: middle;\n",
       "    }\n",
       "\n",
       "    .dataframe tbody tr th {\n",
       "        vertical-align: top;\n",
       "    }\n",
       "\n",
       "    .dataframe thead th {\n",
       "        text-align: right;\n",
       "    }\n",
       "</style>\n",
       "<table border=\"1\" class=\"dataframe\">\n",
       "  <thead>\n",
       "    <tr style=\"text-align: right;\">\n",
       "      <th></th>\n",
       "      <th>rank</th>\n",
       "      <th>name</th>\n",
       "      <th>usps</th>\n",
       "      <th>pop2022</th>\n",
       "      <th>pop2010</th>\n",
       "      <th>growth</th>\n",
       "      <th>density</th>\n",
       "      <th>aland_sqmi</th>\n",
       "    </tr>\n",
       "  </thead>\n",
       "  <tbody>\n",
       "    <tr>\n",
       "      <th>3</th>\n",
       "      <td>4</td>\n",
       "      <td>Houston</td>\n",
       "      <td>TX</td>\n",
       "      <td>2325353</td>\n",
       "      <td>2100280</td>\n",
       "      <td>0.1072</td>\n",
       "      <td>3632</td>\n",
       "      <td>640.194</td>\n",
       "    </tr>\n",
       "    <tr>\n",
       "      <th>5</th>\n",
       "      <td>6</td>\n",
       "      <td>San Antonio</td>\n",
       "      <td>TX</td>\n",
       "      <td>1598964</td>\n",
       "      <td>1332299</td>\n",
       "      <td>0.2002</td>\n",
       "      <td>3296</td>\n",
       "      <td>485.113</td>\n",
       "    </tr>\n",
       "    <tr>\n",
       "      <th>8</th>\n",
       "      <td>9</td>\n",
       "      <td>Dallas</td>\n",
       "      <td>TX</td>\n",
       "      <td>1348886</td>\n",
       "      <td>1200350</td>\n",
       "      <td>0.1237</td>\n",
       "      <td>3970</td>\n",
       "      <td>339.736</td>\n",
       "    </tr>\n",
       "    <tr>\n",
       "      <th>9</th>\n",
       "      <td>10</td>\n",
       "      <td>Austin</td>\n",
       "      <td>TX</td>\n",
       "      <td>1028225</td>\n",
       "      <td>806164</td>\n",
       "      <td>0.2755</td>\n",
       "      <td>3214</td>\n",
       "      <td>319.939</td>\n",
       "    </tr>\n",
       "    <tr>\n",
       "      <th>11</th>\n",
       "      <td>12</td>\n",
       "      <td>Fort Worth</td>\n",
       "      <td>TX</td>\n",
       "      <td>958692</td>\n",
       "      <td>748441</td>\n",
       "      <td>0.2809</td>\n",
       "      <td>2774</td>\n",
       "      <td>345.584</td>\n",
       "    </tr>\n",
       "    <tr>\n",
       "      <th>21</th>\n",
       "      <td>22</td>\n",
       "      <td>El Paso</td>\n",
       "      <td>TX</td>\n",
       "      <td>687287</td>\n",
       "      <td>650671</td>\n",
       "      <td>0.0563</td>\n",
       "      <td>2670</td>\n",
       "      <td>257.420</td>\n",
       "    </tr>\n",
       "    <tr>\n",
       "      <th>48</th>\n",
       "      <td>49</td>\n",
       "      <td>Arlington</td>\n",
       "      <td>TX</td>\n",
       "      <td>401047</td>\n",
       "      <td>365892</td>\n",
       "      <td>0.0961</td>\n",
       "      <td>4187</td>\n",
       "      <td>95.779</td>\n",
       "    </tr>\n",
       "    <tr>\n",
       "      <th>59</th>\n",
       "      <td>60</td>\n",
       "      <td>Corpus Christi</td>\n",
       "      <td>TX</td>\n",
       "      <td>327423</td>\n",
       "      <td>305272</td>\n",
       "      <td>0.0726</td>\n",
       "      <td>2050</td>\n",
       "      <td>159.703</td>\n",
       "    </tr>\n",
       "    <tr>\n",
       "      <th>73</th>\n",
       "      <td>74</td>\n",
       "      <td>Plano</td>\n",
       "      <td>TX</td>\n",
       "      <td>284467</td>\n",
       "      <td>261234</td>\n",
       "      <td>0.0889</td>\n",
       "      <td>3968</td>\n",
       "      <td>71.682</td>\n",
       "    </tr>\n",
       "    <tr>\n",
       "      <th>82</th>\n",
       "      <td>83</td>\n",
       "      <td>Laredo</td>\n",
       "      <td>TX</td>\n",
       "      <td>267396</td>\n",
       "      <td>236807</td>\n",
       "      <td>0.1292</td>\n",
       "      <td>2529</td>\n",
       "      <td>105.743</td>\n",
       "    </tr>\n",
       "    <tr>\n",
       "      <th>85</th>\n",
       "      <td>86</td>\n",
       "      <td>Lubbock</td>\n",
       "      <td>TX</td>\n",
       "      <td>266041</td>\n",
       "      <td>231105</td>\n",
       "      <td>0.1512</td>\n",
       "      <td>1975</td>\n",
       "      <td>134.723</td>\n",
       "    </tr>\n",
       "    <tr>\n",
       "      <th>94</th>\n",
       "      <td>95</td>\n",
       "      <td>Frisco</td>\n",
       "      <td>TX</td>\n",
       "      <td>236604</td>\n",
       "      <td>118201</td>\n",
       "      <td>1.0017</td>\n",
       "      <td>3473</td>\n",
       "      <td>68.125</td>\n",
       "    </tr>\n",
       "    <tr>\n",
       "      <th>96</th>\n",
       "      <td>97</td>\n",
       "      <td>Irving</td>\n",
       "      <td>TX</td>\n",
       "      <td>234920</td>\n",
       "      <td>216859</td>\n",
       "      <td>0.0833</td>\n",
       "      <td>3503</td>\n",
       "      <td>67.060</td>\n",
       "    </tr>\n",
       "    <tr>\n",
       "      <th>97</th>\n",
       "      <td>98</td>\n",
       "      <td>Garland</td>\n",
       "      <td>TX</td>\n",
       "      <td>234585</td>\n",
       "      <td>227345</td>\n",
       "      <td>0.0318</td>\n",
       "      <td>4111</td>\n",
       "      <td>57.060</td>\n",
       "    </tr>\n",
       "    <tr>\n",
       "      <th>106</th>\n",
       "      <td>107</td>\n",
       "      <td>McKinney</td>\n",
       "      <td>TX</td>\n",
       "      <td>221464</td>\n",
       "      <td>132934</td>\n",
       "      <td>0.6660</td>\n",
       "      <td>3308</td>\n",
       "      <td>66.940</td>\n",
       "    </tr>\n",
       "    <tr>\n",
       "      <th>127</th>\n",
       "      <td>128</td>\n",
       "      <td>Amarillo</td>\n",
       "      <td>TX</td>\n",
       "      <td>199935</td>\n",
       "      <td>191249</td>\n",
       "      <td>0.0454</td>\n",
       "      <td>1965</td>\n",
       "      <td>101.744</td>\n",
       "    </tr>\n",
       "    <tr>\n",
       "      <th>134</th>\n",
       "      <td>135</td>\n",
       "      <td>Grand Prairie</td>\n",
       "      <td>TX</td>\n",
       "      <td>196205</td>\n",
       "      <td>175974</td>\n",
       "      <td>0.1150</td>\n",
       "      <td>2715</td>\n",
       "      <td>72.255</td>\n",
       "    </tr>\n",
       "    <tr>\n",
       "      <th>145</th>\n",
       "      <td>146</td>\n",
       "      <td>Brownsville</td>\n",
       "      <td>TX</td>\n",
       "      <td>184125</td>\n",
       "      <td>175362</td>\n",
       "      <td>0.0500</td>\n",
       "      <td>1391</td>\n",
       "      <td>132.322</td>\n",
       "    </tr>\n",
       "    <tr>\n",
       "      <th>167</th>\n",
       "      <td>168</td>\n",
       "      <td>Killeen</td>\n",
       "      <td>TX</td>\n",
       "      <td>160615</td>\n",
       "      <td>129024</td>\n",
       "      <td>0.2448</td>\n",
       "      <td>2945</td>\n",
       "      <td>54.545</td>\n",
       "    </tr>\n",
       "    <tr>\n",
       "      <th>169</th>\n",
       "      <td>170</td>\n",
       "      <td>Midland</td>\n",
       "      <td>TX</td>\n",
       "      <td>157633</td>\n",
       "      <td>111276</td>\n",
       "      <td>0.4166</td>\n",
       "      <td>2119</td>\n",
       "      <td>74.383</td>\n",
       "    </tr>\n",
       "    <tr>\n",
       "      <th>181</th>\n",
       "      <td>182</td>\n",
       "      <td>Denton</td>\n",
       "      <td>TX</td>\n",
       "      <td>151219</td>\n",
       "      <td>117010</td>\n",
       "      <td>0.2924</td>\n",
       "      <td>1571</td>\n",
       "      <td>96.236</td>\n",
       "    </tr>\n",
       "    <tr>\n",
       "      <th>188</th>\n",
       "      <td>189</td>\n",
       "      <td>Round Rock</td>\n",
       "      <td>TX</td>\n",
       "      <td>146941</td>\n",
       "      <td>100772</td>\n",
       "      <td>0.4582</td>\n",
       "      <td>4058</td>\n",
       "      <td>36.213</td>\n",
       "    </tr>\n",
       "    <tr>\n",
       "      <th>189</th>\n",
       "      <td>190</td>\n",
       "      <td>Pasadena</td>\n",
       "      <td>TX</td>\n",
       "      <td>146709</td>\n",
       "      <td>149523</td>\n",
       "      <td>-0.0188</td>\n",
       "      <td>3366</td>\n",
       "      <td>43.586</td>\n",
       "    </tr>\n",
       "    <tr>\n",
       "      <th>191</th>\n",
       "      <td>192</td>\n",
       "      <td>Carrollton</td>\n",
       "      <td>TX</td>\n",
       "      <td>145953</td>\n",
       "      <td>119564</td>\n",
       "      <td>0.2207</td>\n",
       "      <td>3980</td>\n",
       "      <td>36.669</td>\n",
       "    </tr>\n",
       "    <tr>\n",
       "      <th>192</th>\n",
       "      <td>193</td>\n",
       "      <td>McAllen</td>\n",
       "      <td>TX</td>\n",
       "      <td>145482</td>\n",
       "      <td>132093</td>\n",
       "      <td>0.1014</td>\n",
       "      <td>2214</td>\n",
       "      <td>65.698</td>\n",
       "    </tr>\n",
       "    <tr>\n",
       "      <th>195</th>\n",
       "      <td>196</td>\n",
       "      <td>Waco</td>\n",
       "      <td>TX</td>\n",
       "      <td>143286</td>\n",
       "      <td>125377</td>\n",
       "      <td>0.1428</td>\n",
       "      <td>1613</td>\n",
       "      <td>88.856</td>\n",
       "    </tr>\n",
       "  </tbody>\n",
       "</table>\n",
       "</div>"
      ],
      "text/plain": [
       "     rank            name usps  pop2022  pop2010  growth  density  aland_sqmi\n",
       "3       4         Houston   TX  2325353  2100280  0.1072     3632     640.194\n",
       "5       6     San Antonio   TX  1598964  1332299  0.2002     3296     485.113\n",
       "8       9          Dallas   TX  1348886  1200350  0.1237     3970     339.736\n",
       "9      10          Austin   TX  1028225   806164  0.2755     3214     319.939\n",
       "11     12      Fort Worth   TX   958692   748441  0.2809     2774     345.584\n",
       "21     22         El Paso   TX   687287   650671  0.0563     2670     257.420\n",
       "48     49       Arlington   TX   401047   365892  0.0961     4187      95.779\n",
       "59     60  Corpus Christi   TX   327423   305272  0.0726     2050     159.703\n",
       "73     74           Plano   TX   284467   261234  0.0889     3968      71.682\n",
       "82     83          Laredo   TX   267396   236807  0.1292     2529     105.743\n",
       "85     86         Lubbock   TX   266041   231105  0.1512     1975     134.723\n",
       "94     95          Frisco   TX   236604   118201  1.0017     3473      68.125\n",
       "96     97          Irving   TX   234920   216859  0.0833     3503      67.060\n",
       "97     98         Garland   TX   234585   227345  0.0318     4111      57.060\n",
       "106   107        McKinney   TX   221464   132934  0.6660     3308      66.940\n",
       "127   128        Amarillo   TX   199935   191249  0.0454     1965     101.744\n",
       "134   135   Grand Prairie   TX   196205   175974  0.1150     2715      72.255\n",
       "145   146     Brownsville   TX   184125   175362  0.0500     1391     132.322\n",
       "167   168         Killeen   TX   160615   129024  0.2448     2945      54.545\n",
       "169   170         Midland   TX   157633   111276  0.4166     2119      74.383\n",
       "181   182          Denton   TX   151219   117010  0.2924     1571      96.236\n",
       "188   189      Round Rock   TX   146941   100772  0.4582     4058      36.213\n",
       "189   190        Pasadena   TX   146709   149523 -0.0188     3366      43.586\n",
       "191   192      Carrollton   TX   145953   119564  0.2207     3980      36.669\n",
       "192   193         McAllen   TX   145482   132093  0.1014     2214      65.698\n",
       "195   196            Waco   TX   143286   125377  0.1428     1613      88.856"
      ]
     },
     "execution_count": 127,
     "metadata": {},
     "output_type": "execute_result"
    }
   ],
   "source": [
    "#jika kita hanya ingin melihat data pada state tertentu maka kita bisa gunakan method get_group\n",
    "Texas_population = df_amerika.groupby(['usps']).get_group('TX')\n",
    "Texas_population"
   ]
  },
  {
   "cell_type": "code",
   "execution_count": 128,
   "id": "JpUeNcebUkJU",
   "metadata": {
    "ExecuteTime": {
     "end_time": "2022-09-26T08:09:03.582411Z",
     "start_time": "2022-09-26T08:09:03.574495Z"
    },
    "id": "JpUeNcebUkJU"
   },
   "outputs": [
    {
     "data": {
      "text/plain": [
       "usps\n",
       "AK      280437\n",
       "AL      796928\n",
       "AR      196796\n",
       "AZ     4482730\n",
       "CA    16002144\n",
       "CO     2134166\n",
       "CT      143280\n",
       "DC      718355\n",
       "FL     3911142\n",
       "GA     1087668\n",
       "HI      339421\n",
       "IA      208966\n",
       "ID      230510\n",
       "IL     3304293\n",
       "IN     1171884\n",
       "KS      891714\n",
       "KY      940397\n",
       "LA      924441\n",
       "MA     1033443\n",
       "MD      566631\n",
       "MI      864837\n",
       "MN      755219\n",
       "MO      966230\n",
       "MS      151196\n",
       "NC     2652772\n",
       "NE      776489\n",
       "NJ      683685\n",
       "NM      563165\n",
       "NV     2378712\n",
       "NY     8837417\n",
       "OH     2068188\n",
       "OK     1080010\n",
       "OR     1024360\n",
       "PA     1884914\n",
       "PR      484313\n",
       "RI      180972\n",
       "SD      193978\n",
       "TN     2033740\n",
       "TX    12199457\n",
       "UT      200963\n",
       "VA     1752206\n",
       "WA     1581953\n",
       "WI      851661\n",
       "Name: pop2022, dtype: int64"
      ]
     },
     "execution_count": 128,
     "metadata": {},
     "output_type": "execute_result"
    }
   ],
   "source": [
    "#jika kita hanya ingin melihat kolom tertentu saja maka kita bisa tambahkan syntax .groupby(['Nama Kolom grouping'])['Nama kolom target 1', 'Nama kolom target 2', ...]\n",
    "#disini kita ingin melihat populasi pada tahun 2022 per State\n",
    "population_2022 = df_amerika.groupby(['usps'])['pop2022']\n",
    "population_2022.sum()"
   ]
  },
  {
   "cell_type": "code",
   "execution_count": 129,
   "id": "PABhU74XVQRx",
   "metadata": {
    "ExecuteTime": {
     "end_time": "2022-09-26T08:09:04.018766Z",
     "start_time": "2022-09-26T08:09:04.003964Z"
    },
    "id": "PABhU74XVQRx"
   },
   "outputs": [
    {
     "data": {
      "text/html": [
       "<div>\n",
       "<style scoped>\n",
       "    .dataframe tbody tr th:only-of-type {\n",
       "        vertical-align: middle;\n",
       "    }\n",
       "\n",
       "    .dataframe tbody tr th {\n",
       "        vertical-align: top;\n",
       "    }\n",
       "\n",
       "    .dataframe thead th {\n",
       "        text-align: right;\n",
       "    }\n",
       "</style>\n",
       "<table border=\"1\" class=\"dataframe\">\n",
       "  <thead>\n",
       "    <tr style=\"text-align: right;\">\n",
       "      <th></th>\n",
       "      <th>pop2022</th>\n",
       "    </tr>\n",
       "    <tr>\n",
       "      <th>usps</th>\n",
       "      <th></th>\n",
       "    </tr>\n",
       "  </thead>\n",
       "  <tbody>\n",
       "    <tr>\n",
       "      <th>AK</th>\n",
       "      <td>2.804370e+05</td>\n",
       "    </tr>\n",
       "    <tr>\n",
       "      <th>AL</th>\n",
       "      <td>1.992320e+05</td>\n",
       "    </tr>\n",
       "    <tr>\n",
       "      <th>AR</th>\n",
       "      <td>1.967960e+05</td>\n",
       "    </tr>\n",
       "    <tr>\n",
       "      <th>AZ</th>\n",
       "      <td>4.482730e+05</td>\n",
       "    </tr>\n",
       "    <tr>\n",
       "      <th>CA</th>\n",
       "      <td>4.103114e+05</td>\n",
       "    </tr>\n",
       "    <tr>\n",
       "      <th>CO</th>\n",
       "      <td>3.556943e+05</td>\n",
       "    </tr>\n",
       "    <tr>\n",
       "      <th>CT</th>\n",
       "      <td>1.432800e+05</td>\n",
       "    </tr>\n",
       "    <tr>\n",
       "      <th>DC</th>\n",
       "      <td>7.183550e+05</td>\n",
       "    </tr>\n",
       "    <tr>\n",
       "      <th>FL</th>\n",
       "      <td>3.008571e+05</td>\n",
       "    </tr>\n",
       "    <tr>\n",
       "      <th>GA</th>\n",
       "      <td>2.719170e+05</td>\n",
       "    </tr>\n",
       "    <tr>\n",
       "      <th>HI</th>\n",
       "      <td>3.394210e+05</td>\n",
       "    </tr>\n",
       "    <tr>\n",
       "      <th>IA</th>\n",
       "      <td>2.089660e+05</td>\n",
       "    </tr>\n",
       "    <tr>\n",
       "      <th>ID</th>\n",
       "      <td>2.305100e+05</td>\n",
       "    </tr>\n",
       "    <tr>\n",
       "      <th>IL</th>\n",
       "      <td>6.608586e+05</td>\n",
       "    </tr>\n",
       "    <tr>\n",
       "      <th>IN</th>\n",
       "      <td>5.859420e+05</td>\n",
       "    </tr>\n",
       "    <tr>\n",
       "      <th>KS</th>\n",
       "      <td>2.229285e+05</td>\n",
       "    </tr>\n",
       "    <tr>\n",
       "      <th>KY</th>\n",
       "      <td>4.701985e+05</td>\n",
       "    </tr>\n",
       "    <tr>\n",
       "      <th>LA</th>\n",
       "      <td>2.311102e+05</td>\n",
       "    </tr>\n",
       "    <tr>\n",
       "      <th>MA</th>\n",
       "      <td>3.444810e+05</td>\n",
       "    </tr>\n",
       "    <tr>\n",
       "      <th>MD</th>\n",
       "      <td>5.666310e+05</td>\n",
       "    </tr>\n",
       "    <tr>\n",
       "      <th>MI</th>\n",
       "      <td>4.324185e+05</td>\n",
       "    </tr>\n",
       "    <tr>\n",
       "      <th>MN</th>\n",
       "      <td>3.776095e+05</td>\n",
       "    </tr>\n",
       "    <tr>\n",
       "      <th>MO</th>\n",
       "      <td>3.220767e+05</td>\n",
       "    </tr>\n",
       "    <tr>\n",
       "      <th>MS</th>\n",
       "      <td>1.511960e+05</td>\n",
       "    </tr>\n",
       "    <tr>\n",
       "      <th>NC</th>\n",
       "      <td>3.789674e+05</td>\n",
       "    </tr>\n",
       "    <tr>\n",
       "      <th>NE</th>\n",
       "      <td>3.882445e+05</td>\n",
       "    </tr>\n",
       "    <tr>\n",
       "      <th>NJ</th>\n",
       "      <td>2.278950e+05</td>\n",
       "    </tr>\n",
       "    <tr>\n",
       "      <th>NM</th>\n",
       "      <td>5.631650e+05</td>\n",
       "    </tr>\n",
       "    <tr>\n",
       "      <th>NV</th>\n",
       "      <td>2.973390e+05</td>\n",
       "    </tr>\n",
       "    <tr>\n",
       "      <th>NY</th>\n",
       "      <td>2.209354e+06</td>\n",
       "    </tr>\n",
       "    <tr>\n",
       "      <th>OH</th>\n",
       "      <td>4.136376e+05</td>\n",
       "    </tr>\n",
       "    <tr>\n",
       "      <th>OK</th>\n",
       "      <td>5.400050e+05</td>\n",
       "    </tr>\n",
       "    <tr>\n",
       "      <th>OR</th>\n",
       "      <td>3.414533e+05</td>\n",
       "    </tr>\n",
       "    <tr>\n",
       "      <th>PA</th>\n",
       "      <td>9.424570e+05</td>\n",
       "    </tr>\n",
       "    <tr>\n",
       "      <th>PR</th>\n",
       "      <td>2.421565e+05</td>\n",
       "    </tr>\n",
       "    <tr>\n",
       "      <th>RI</th>\n",
       "      <td>1.809720e+05</td>\n",
       "    </tr>\n",
       "    <tr>\n",
       "      <th>SD</th>\n",
       "      <td>1.939780e+05</td>\n",
       "    </tr>\n",
       "    <tr>\n",
       "      <th>TN</th>\n",
       "      <td>3.389567e+05</td>\n",
       "    </tr>\n",
       "    <tr>\n",
       "      <th>TX</th>\n",
       "      <td>4.692099e+05</td>\n",
       "    </tr>\n",
       "    <tr>\n",
       "      <th>UT</th>\n",
       "      <td>2.009630e+05</td>\n",
       "    </tr>\n",
       "    <tr>\n",
       "      <th>VA</th>\n",
       "      <td>2.503151e+05</td>\n",
       "    </tr>\n",
       "    <tr>\n",
       "      <th>WA</th>\n",
       "      <td>3.163906e+05</td>\n",
       "    </tr>\n",
       "    <tr>\n",
       "      <th>WI</th>\n",
       "      <td>4.258305e+05</td>\n",
       "    </tr>\n",
       "  </tbody>\n",
       "</table>\n",
       "</div>"
      ],
      "text/plain": [
       "           pop2022\n",
       "usps              \n",
       "AK    2.804370e+05\n",
       "AL    1.992320e+05\n",
       "AR    1.967960e+05\n",
       "AZ    4.482730e+05\n",
       "CA    4.103114e+05\n",
       "CO    3.556943e+05\n",
       "CT    1.432800e+05\n",
       "DC    7.183550e+05\n",
       "FL    3.008571e+05\n",
       "GA    2.719170e+05\n",
       "HI    3.394210e+05\n",
       "IA    2.089660e+05\n",
       "ID    2.305100e+05\n",
       "IL    6.608586e+05\n",
       "IN    5.859420e+05\n",
       "KS    2.229285e+05\n",
       "KY    4.701985e+05\n",
       "LA    2.311102e+05\n",
       "MA    3.444810e+05\n",
       "MD    5.666310e+05\n",
       "MI    4.324185e+05\n",
       "MN    3.776095e+05\n",
       "MO    3.220767e+05\n",
       "MS    1.511960e+05\n",
       "NC    3.789674e+05\n",
       "NE    3.882445e+05\n",
       "NJ    2.278950e+05\n",
       "NM    5.631650e+05\n",
       "NV    2.973390e+05\n",
       "NY    2.209354e+06\n",
       "OH    4.136376e+05\n",
       "OK    5.400050e+05\n",
       "OR    3.414533e+05\n",
       "PA    9.424570e+05\n",
       "PR    2.421565e+05\n",
       "RI    1.809720e+05\n",
       "SD    1.939780e+05\n",
       "TN    3.389567e+05\n",
       "TX    4.692099e+05\n",
       "UT    2.009630e+05\n",
       "VA    2.503151e+05\n",
       "WA    3.163906e+05\n",
       "WI    4.258305e+05"
      ]
     },
     "execution_count": 129,
     "metadata": {},
     "output_type": "execute_result"
    }
   ],
   "source": [
    "#selain cara diatas kita juga bisa menggunakan pivot table\n",
    "df_amerika.pivot_table('pop2022', index='usps')"
   ]
  },
  {
   "cell_type": "markdown",
   "id": "47fe566d",
   "metadata": {},
   "source": [
    "# Basic Visualization with Python"
   ]
  },
  {
   "cell_type": "code",
   "execution_count": 130,
   "id": "5cf2b9b4",
   "metadata": {
    "ExecuteTime": {
     "end_time": "2022-09-26T08:09:09.830842Z",
     "start_time": "2022-09-26T08:09:09.807281Z"
    }
   },
   "outputs": [
    {
     "data": {
      "text/html": [
       "<div>\n",
       "<style scoped>\n",
       "    .dataframe tbody tr th:only-of-type {\n",
       "        vertical-align: middle;\n",
       "    }\n",
       "\n",
       "    .dataframe tbody tr th {\n",
       "        vertical-align: top;\n",
       "    }\n",
       "\n",
       "    .dataframe thead th {\n",
       "        text-align: right;\n",
       "    }\n",
       "</style>\n",
       "<table border=\"1\" class=\"dataframe\">\n",
       "  <thead>\n",
       "    <tr style=\"text-align: right;\">\n",
       "      <th></th>\n",
       "      <th>PassengerId</th>\n",
       "      <th>Survived</th>\n",
       "      <th>Pclass</th>\n",
       "      <th>Name</th>\n",
       "      <th>Sex</th>\n",
       "      <th>Age</th>\n",
       "      <th>SibSp</th>\n",
       "      <th>Parch</th>\n",
       "      <th>Ticket</th>\n",
       "      <th>Fare</th>\n",
       "      <th>Cabin</th>\n",
       "      <th>Embarked</th>\n",
       "    </tr>\n",
       "  </thead>\n",
       "  <tbody>\n",
       "    <tr>\n",
       "      <th>0</th>\n",
       "      <td>1</td>\n",
       "      <td>0</td>\n",
       "      <td>3</td>\n",
       "      <td>Braund, Mr. Owen Harris</td>\n",
       "      <td>male</td>\n",
       "      <td>22.0</td>\n",
       "      <td>1</td>\n",
       "      <td>0</td>\n",
       "      <td>A/5 21171</td>\n",
       "      <td>7.2500</td>\n",
       "      <td>NaN</td>\n",
       "      <td>S</td>\n",
       "    </tr>\n",
       "    <tr>\n",
       "      <th>1</th>\n",
       "      <td>2</td>\n",
       "      <td>1</td>\n",
       "      <td>1</td>\n",
       "      <td>Cumings, Mrs. John Bradley (Florence Briggs Th...</td>\n",
       "      <td>female</td>\n",
       "      <td>38.0</td>\n",
       "      <td>1</td>\n",
       "      <td>0</td>\n",
       "      <td>PC 17599</td>\n",
       "      <td>71.2833</td>\n",
       "      <td>C85</td>\n",
       "      <td>C</td>\n",
       "    </tr>\n",
       "    <tr>\n",
       "      <th>2</th>\n",
       "      <td>3</td>\n",
       "      <td>1</td>\n",
       "      <td>3</td>\n",
       "      <td>Heikkinen, Miss. Laina</td>\n",
       "      <td>female</td>\n",
       "      <td>26.0</td>\n",
       "      <td>0</td>\n",
       "      <td>0</td>\n",
       "      <td>STON/O2. 3101282</td>\n",
       "      <td>7.9250</td>\n",
       "      <td>NaN</td>\n",
       "      <td>S</td>\n",
       "    </tr>\n",
       "    <tr>\n",
       "      <th>3</th>\n",
       "      <td>4</td>\n",
       "      <td>1</td>\n",
       "      <td>1</td>\n",
       "      <td>Futrelle, Mrs. Jacques Heath (Lily May Peel)</td>\n",
       "      <td>female</td>\n",
       "      <td>35.0</td>\n",
       "      <td>1</td>\n",
       "      <td>0</td>\n",
       "      <td>113803</td>\n",
       "      <td>53.1000</td>\n",
       "      <td>C123</td>\n",
       "      <td>S</td>\n",
       "    </tr>\n",
       "    <tr>\n",
       "      <th>4</th>\n",
       "      <td>5</td>\n",
       "      <td>0</td>\n",
       "      <td>3</td>\n",
       "      <td>Allen, Mr. William Henry</td>\n",
       "      <td>male</td>\n",
       "      <td>35.0</td>\n",
       "      <td>0</td>\n",
       "      <td>0</td>\n",
       "      <td>373450</td>\n",
       "      <td>8.0500</td>\n",
       "      <td>NaN</td>\n",
       "      <td>S</td>\n",
       "    </tr>\n",
       "    <tr>\n",
       "      <th>...</th>\n",
       "      <td>...</td>\n",
       "      <td>...</td>\n",
       "      <td>...</td>\n",
       "      <td>...</td>\n",
       "      <td>...</td>\n",
       "      <td>...</td>\n",
       "      <td>...</td>\n",
       "      <td>...</td>\n",
       "      <td>...</td>\n",
       "      <td>...</td>\n",
       "      <td>...</td>\n",
       "      <td>...</td>\n",
       "    </tr>\n",
       "    <tr>\n",
       "      <th>886</th>\n",
       "      <td>887</td>\n",
       "      <td>0</td>\n",
       "      <td>2</td>\n",
       "      <td>Montvila, Rev. Juozas</td>\n",
       "      <td>male</td>\n",
       "      <td>27.0</td>\n",
       "      <td>0</td>\n",
       "      <td>0</td>\n",
       "      <td>211536</td>\n",
       "      <td>13.0000</td>\n",
       "      <td>NaN</td>\n",
       "      <td>S</td>\n",
       "    </tr>\n",
       "    <tr>\n",
       "      <th>887</th>\n",
       "      <td>888</td>\n",
       "      <td>1</td>\n",
       "      <td>1</td>\n",
       "      <td>Graham, Miss. Margaret Edith</td>\n",
       "      <td>female</td>\n",
       "      <td>19.0</td>\n",
       "      <td>0</td>\n",
       "      <td>0</td>\n",
       "      <td>112053</td>\n",
       "      <td>30.0000</td>\n",
       "      <td>B42</td>\n",
       "      <td>S</td>\n",
       "    </tr>\n",
       "    <tr>\n",
       "      <th>888</th>\n",
       "      <td>889</td>\n",
       "      <td>0</td>\n",
       "      <td>3</td>\n",
       "      <td>Johnston, Miss. Catherine Helen \"Carrie\"</td>\n",
       "      <td>female</td>\n",
       "      <td>NaN</td>\n",
       "      <td>1</td>\n",
       "      <td>2</td>\n",
       "      <td>W./C. 6607</td>\n",
       "      <td>23.4500</td>\n",
       "      <td>NaN</td>\n",
       "      <td>S</td>\n",
       "    </tr>\n",
       "    <tr>\n",
       "      <th>889</th>\n",
       "      <td>890</td>\n",
       "      <td>1</td>\n",
       "      <td>1</td>\n",
       "      <td>Behr, Mr. Karl Howell</td>\n",
       "      <td>male</td>\n",
       "      <td>26.0</td>\n",
       "      <td>0</td>\n",
       "      <td>0</td>\n",
       "      <td>111369</td>\n",
       "      <td>30.0000</td>\n",
       "      <td>C148</td>\n",
       "      <td>C</td>\n",
       "    </tr>\n",
       "    <tr>\n",
       "      <th>890</th>\n",
       "      <td>891</td>\n",
       "      <td>0</td>\n",
       "      <td>3</td>\n",
       "      <td>Dooley, Mr. Patrick</td>\n",
       "      <td>male</td>\n",
       "      <td>32.0</td>\n",
       "      <td>0</td>\n",
       "      <td>0</td>\n",
       "      <td>370376</td>\n",
       "      <td>7.7500</td>\n",
       "      <td>NaN</td>\n",
       "      <td>Q</td>\n",
       "    </tr>\n",
       "  </tbody>\n",
       "</table>\n",
       "<p>891 rows × 12 columns</p>\n",
       "</div>"
      ],
      "text/plain": [
       "     PassengerId  Survived  Pclass  \\\n",
       "0              1         0       3   \n",
       "1              2         1       1   \n",
       "2              3         1       3   \n",
       "3              4         1       1   \n",
       "4              5         0       3   \n",
       "..           ...       ...     ...   \n",
       "886          887         0       2   \n",
       "887          888         1       1   \n",
       "888          889         0       3   \n",
       "889          890         1       1   \n",
       "890          891         0       3   \n",
       "\n",
       "                                                  Name     Sex   Age  SibSp  \\\n",
       "0                              Braund, Mr. Owen Harris    male  22.0      1   \n",
       "1    Cumings, Mrs. John Bradley (Florence Briggs Th...  female  38.0      1   \n",
       "2                               Heikkinen, Miss. Laina  female  26.0      0   \n",
       "3         Futrelle, Mrs. Jacques Heath (Lily May Peel)  female  35.0      1   \n",
       "4                             Allen, Mr. William Henry    male  35.0      0   \n",
       "..                                                 ...     ...   ...    ...   \n",
       "886                              Montvila, Rev. Juozas    male  27.0      0   \n",
       "887                       Graham, Miss. Margaret Edith  female  19.0      0   \n",
       "888           Johnston, Miss. Catherine Helen \"Carrie\"  female   NaN      1   \n",
       "889                              Behr, Mr. Karl Howell    male  26.0      0   \n",
       "890                                Dooley, Mr. Patrick    male  32.0      0   \n",
       "\n",
       "     Parch            Ticket     Fare Cabin Embarked  \n",
       "0        0         A/5 21171   7.2500   NaN        S  \n",
       "1        0          PC 17599  71.2833   C85        C  \n",
       "2        0  STON/O2. 3101282   7.9250   NaN        S  \n",
       "3        0            113803  53.1000  C123        S  \n",
       "4        0            373450   8.0500   NaN        S  \n",
       "..     ...               ...      ...   ...      ...  \n",
       "886      0            211536  13.0000   NaN        S  \n",
       "887      0            112053  30.0000   B42        S  \n",
       "888      2        W./C. 6607  23.4500   NaN        S  \n",
       "889      0            111369  30.0000  C148        C  \n",
       "890      0            370376   7.7500   NaN        Q  \n",
       "\n",
       "[891 rows x 12 columns]"
      ]
     },
     "execution_count": 130,
     "metadata": {},
     "output_type": "execute_result"
    }
   ],
   "source": [
    "df_titanic"
   ]
  },
  {
   "cell_type": "code",
   "execution_count": 134,
   "id": "70d45cdd",
   "metadata": {
    "ExecuteTime": {
     "end_time": "2022-09-26T08:11:39.112148Z",
     "start_time": "2022-09-26T08:11:38.989644Z"
    }
   },
   "outputs": [
    {
     "data": {
      "text/plain": [
       "<AxesSubplot:xlabel='Fare', ylabel='Age'>"
      ]
     },
     "execution_count": 134,
     "metadata": {},
     "output_type": "execute_result"
    },
    {
     "data": {
      "image/png": "[encoded data removed]",
      "text/plain": [
       "<Figure size 432x288 with 1 Axes>"
      ]
     },
     "metadata": {
      "needs_background": "light"
     },
     "output_type": "display_data"
    }
   ],
   "source": [
    "df_titanic.plot(kind = 'scatter', x = 'Fare', y = 'Age')"
   ]
  },
  {
   "cell_type": "code",
   "execution_count": 143,
   "id": "08b324e6",
   "metadata": {
    "ExecuteTime": {
     "end_time": "2022-09-26T08:15:21.999052Z",
     "start_time": "2022-09-26T08:15:21.843258Z"
    }
   },
   "outputs": [
    {
     "data": {
      "text/plain": [
       "<AxesSubplot:ylabel='Frequency'>"
      ]
     },
     "execution_count": 143,
     "metadata": {},
     "output_type": "execute_result"
    },
    {
     "data": {
      "image/png": "[encoded data removed]",
      "text/plain": [
       "<Figure size 432x288 with 1 Axes>"
      ]
     },
     "metadata": {
      "needs_background": "light"
     },
     "output_type": "display_data"
    }
   ],
   "source": [
    "df_titanic[\"Age\"].plot(kind = 'hist')"
   ]
  },
  {
   "cell_type": "code",
   "execution_count": 92,
   "id": "cd2bff6f",
   "metadata": {
    "ExecuteTime": {
     "end_time": "2022-09-26T09:53:01.189834Z",
     "start_time": "2022-09-26T09:53:00.209191Z"
    }
   },
   "outputs": [
    {
     "data": {
      "text/plain": [
       "<AxesSubplot:ylabel='Frequency'>"
      ]
     },
     "execution_count": 92,
     "metadata": {},
     "output_type": "execute_result"
    },
    {
     "data": {
      "image/png": "[encoded data removed]",
      "text/plain": [
       "<Figure size 432x288 with 1 Axes>"
      ]
     },
     "metadata": {
      "needs_background": "light"
     },
     "output_type": "display_data"
    }
   ],
   "source": [
    "df_titanic[\"Fare\"].plot(kind = 'hist')"
   ]
  }
 ],
 "metadata": {
  "celltoolbar": "Edit Metadata",
  "colab": {
   "collapsed_sections": [
    "f99158bd-6662-4d91-95f8-dc78e36487f6",
    "31cbbbb5-0084-412b-9810-c670c181ed79",
    "f44fe82d-6950-4807-8a11-cd249594e2ba",
    "710ee1fb-b055-4405-a5bf-10f481b1e2ad",
    "679f393c-75f4-4903-84ac-8288f56cdfa2",
    "3c48e008-9b51-401d-bf2f-e3b1da553d91",
    "dc601b1e-5c19-4820-a452-06b792ad4ab4",
    "d51f167b-1ddf-49f0-a326-b4104426a8c9",
    "3db45008-59af-4976-a47f-31fd85cb692b",
    "7f541b88-7520-443d-910f-ad75057f342c",
    "8d4ec717-f43f-4315-8431-6ee46b987c08",
    "72ede3f0-43e3-4089-993b-04554484fca9",
    "651585f4-4c33-44e5-8cf8-dca13a829b68",
    "4a7eab06-2dca-42e8-aba3-6d3db4b9ec8d",
    "18f814d1-1448-4f4a-95a3-e1bd02256c50",
    "1591e074-bbb5-40c3-adae-8de96edc8e1c",
    "ac965f2a-eec6-4a2f-96db-588c0fa93512",
    "a7f7492a-0f8e-488c-9469-287bc28e1b5e",
    "16211120-aaaf-4542-a2d2-435e73708095",
    "21237008-7178-4591-ba23-9b8b7106d27d",
    "0dec895c-8fca-4249-8500-459983306f0f",
    "75c6b3ee-f4ce-4793-8e34-4f418f23a7af"
   ],
   "name": "Pandas.ipynb",
   "provenance": [],
   "toc_visible": true
  },
  "hide_input": false,
  "kernelspec": {
   "display_name": "Python 3.9.12 ('PJJ Data Analytics': venv)",
   "language": "python",
   "name": "python3"
  },
  "language_info": {
   "codemirror_mode": {
    "name": "ipython",
    "version": 3
   },
   "file_extension": ".py",
   "mimetype": "text/x-python",
   "name": "python",
   "nbconvert_exporter": "python",
   "pygments_lexer": "ipython3",
   "version": "3.9.12"
  },
  "toc": {
   "base_numbering": 1,
   "nav_menu": {},
   "number_sections": true,
   "sideBar": true,
   "skip_h1_title": false,
   "title_cell": "Table of Contents",
   "title_sidebar": "Contents",
   "toc_cell": false,
   "toc_position": {
    "height": "calc(100% - 180px)",
    "left": "10px",
    "top": "150px",
    "width": "226.55px"
   },
   "toc_section_display": true,
   "toc_window_display": true
  },
  "toc-autonumbering": true,
  "toc-showmarkdowntxt": false,
  "vscode": {
   "interpreter": {
    "hash": "a40b76ff39e1e929c58a7653bf3ef9007f5c1e310e333ad54b5bebec9703d5df"
   }
  }
 },
 "nbformat": 4,
 "nbformat_minor": 5
}
