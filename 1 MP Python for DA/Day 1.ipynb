{
 "cells": [
  {
   "cell_type": "code",
   "execution_count": 3,
   "id": "74ac656f",
   "metadata": {},
   "outputs": [
    {
     "name": "stdout",
     "output_type": "stream",
     "text": [
      "Hello\n",
      "World\n"
     ]
    }
   ],
   "source": [
    "print(\"Hello\")\n",
    "print(\"World\")"
   ]
  },
  {
   "cell_type": "code",
   "execution_count": 11,
   "id": "dc5b31c5",
   "metadata": {},
   "outputs": [
    {
     "name": "stdout",
     "output_type": "stream",
     "text": [
      "Sama\n"
     ]
    }
   ],
   "source": [
    "# contoh penggunaan indentasi\n",
    "x = 2\n",
    "if x == 2:\n",
    "    print(\"Sama\")\n",
    "else:\n",
    "    print(\"Tidak Sama\")\n",
    "    \n",
    "# gunakan 4 spasi untuk indentasi, bukan tab"
   ]
  },
  {
   "cell_type": "code",
   "execution_count": 17,
   "id": "f4d76bd6",
   "metadata": {},
   "outputs": [
    {
     "name": "stdout",
     "output_type": "stream",
     "text": [
      "Aldi Pratama\n",
      "tes variable\n"
     ]
    }
   ],
   "source": [
    "# penamaan variable\n",
    "# bisa menggunakan kombinasi upper dan lowecase\n",
    "# tidak bisa dimulai dengan angkat\n",
    "# antar kata tidak boleh ada spasi, gunakan underscore\n",
    "# apabila variable digunakan atau di-assign lebih dari sekali maka nilai yang digunakan adalah nilai terakhir\n",
    "\n",
    "nama = 'Aldi'\n",
    "nama_lengkap = 'Aldi Pratama'\n",
    "a = 'tes variable'\n",
    "#a = 'tes lagi'\n",
    "print(nama_lengkap)\n",
    "print(a)\n"
   ]
  },
  {
   "cell_type": "code",
   "execution_count": 19,
   "id": "cb1982b6",
   "metadata": {},
   "outputs": [
    {
     "name": "stdout",
     "output_type": "stream",
     "text": [
      "var_one 1\n",
      "var_two 2\n"
     ]
    }
   ],
   "source": [
    "# baris lanjutan\n",
    "\n",
    "var_one = 1\n",
    "var_two = 2\n",
    "def function_tambah(\n",
    "        var_one,\n",
    "        var_two):\n",
    "    print(var_two)\n",
    "\n",
    "# maksimal panjang baris\n",
    "print(\"var_one\", var_one)             # > ini merupakan contoh dari indentansi# > ini merupakan contoh dari indentansi, gunakan 4 spasi (bukan tabs) untuk indentasi (rekomendasi) (193 karakter)\n",
    "print(\"var_two\", var_two)             # > ini contoh indentansi (77 karakter)\n"
   ]
  },
  {
   "cell_type": "code",
   "execution_count": 1,
   "id": "65795d61",
   "metadata": {},
   "outputs": [
    {
     "name": "stdout",
     "output_type": "stream",
     "text": [
      "Income = 10590\n"
     ]
    }
   ],
   "source": [
    "gross_wages = 10000\n",
    "taxable_interest = 500\n",
    "dividends = 100\n",
    "qualified_dividends = 10\n",
    "\n",
    "income = (gross_wages\n",
    "         + taxable_interest\n",
    "         + (dividends - qualified_dividends)\n",
    "         )\n",
    "print(\"Income =\",income)"
   ]
  },
  {
   "cell_type": "code",
   "execution_count": 13,
   "id": "929339cf",
   "metadata": {},
   "outputs": [
    {
     "data": {
      "text/plain": [
       "int"
      ]
     },
     "execution_count": 13,
     "metadata": {},
     "output_type": "execute_result"
    }
   ],
   "source": [
    "#python menggunakan 10 digit di belakang koma\n",
    "\n",
    "a = 'variable teks' # str\n",
    "b = 1,2,3           # tuple\n",
    "c = 12.3            # float\n",
    "d = 10000           # int\n",
    "\n",
    "\n",
    "type (d)"
   ]
  },
  {
   "cell_type": "code",
   "execution_count": 36,
   "id": "20cb1fb6",
   "metadata": {},
   "outputs": [
    {
     "name": "stdout",
     "output_type": "stream",
     "text": [
      "32\n",
      "13.0\n",
      "3.4\n",
      "3\n",
      "1\n"
     ]
    },
    {
     "data": {
      "text/plain": [
       "(int, float, float, int, int)"
      ]
     },
     "execution_count": 36,
     "metadata": {},
     "output_type": "execute_result"
    }
   ],
   "source": [
    "# 2 pangkat 5\n",
    "a =2**5\n",
    "print(a)                 # integer\n",
    "\n",
    "# akar kuadrat dari 169\n",
    "b = 169**0.5\n",
    "print(b)             # float\n",
    "\n",
    "# hasil pembagian\n",
    "c = 17/5 \n",
    "print(c)                 # float\n",
    "\n",
    "# hasil pembagian bulat\n",
    "d = 17//5\n",
    "print(d)                # integer\n",
    "\n",
    "# sisa hasil bagi (modulo)\n",
    "e = 97%3\n",
    "print(e)                 # integer\n",
    "\n",
    "type(a), type(b), type(c), type(d), type(e)"
   ]
  },
  {
   "cell_type": "code",
   "execution_count": 39,
   "id": "179e9beb",
   "metadata": {},
   "outputs": [
    {
     "data": {
      "text/plain": [
       "(False, bool)"
      ]
     },
     "execution_count": 39,
     "metadata": {},
     "output_type": "execute_result"
    }
   ],
   "source": [
    "a = \"PYTHON\"\n",
    "b = \"python\"\n",
    "\n",
    "a==b, type(a==b)"
   ]
  },
  {
   "cell_type": "code",
   "execution_count": 44,
   "id": "1ad8f144",
   "metadata": {},
   "outputs": [
    {
     "data": {
      "text/plain": [
       "False"
      ]
     },
     "execution_count": 44,
     "metadata": {},
     "output_type": "execute_result"
    }
   ],
   "source": [
    "# python menggunakan ASCII code untuk komparasi data berupa text\n",
    "\n",
    "a = \"a\" # ASCII code 97\n",
    "b = \"A\" # ASCII code 65\n",
    " \n",
    "b > a"
   ]
  },
  {
   "cell_type": "code",
   "execution_count": 46,
   "id": "04aec62e",
   "metadata": {},
   "outputs": [
    {
     "data": {
      "text/plain": [
       "(True, True)"
      ]
     },
     "execution_count": 46,
     "metadata": {},
     "output_type": "execute_result"
    }
   ],
   "source": [
    "x = 5\n",
    "x < 10, not x != 5"
   ]
  },
  {
   "cell_type": "code",
   "execution_count": 54,
   "id": "738b3dbd",
   "metadata": {},
   "outputs": [
    {
     "name": "stdout",
     "output_type": "stream",
     "text": [
      "False\n",
      "True\n"
     ]
    }
   ],
   "source": [
    "# penggunaan operator AND dan OR\n",
    "\n",
    "x = 5\n",
    "print((x > 3 and x < 2))\n",
    "print((x > 3 or x < 2))"
   ]
  },
  {
   "cell_type": "code",
   "execution_count": 77,
   "id": "2d35ce9a",
   "metadata": {},
   "outputs": [
    {
     "name": "stdout",
     "output_type": "stream",
     "text": [
      "Hello World\n",
      "HelloWorld\n",
      "Hello World\n",
      "Python for 'Data Analytics'\n",
      "Python for \"Data Analytics\"\n"
     ]
    }
   ],
   "source": [
    "# operator text\n",
    "print(\"Hello\", \"World\")\n",
    "print(\"Hello\"+\"World\")\n",
    "print(\"Hello\"+\" \"+\"World\")\n",
    "print(\"Python for 'Data Analytics'\")\n",
    "print('Python for \"Data Analytics\"')"
   ]
  },
  {
   "cell_type": "code",
   "execution_count": 61,
   "id": "64bdacbe",
   "metadata": {},
   "outputs": [
    {
     "name": "stdout",
     "output_type": "stream",
     "text": [
      "umur saya 25\n",
      "umur saya 25\n",
      "umur saya umur saya umur saya umur saya umur saya \n"
     ]
    }
   ],
   "source": [
    "# operator text\n",
    "print(\"umur saya\", 25)\n",
    "print(\"umur saya\", str(25))\n",
    "print(\"umur saya \"*5)"
   ]
  },
  {
   "cell_type": "code",
   "execution_count": 74,
   "id": "6e47f0cb",
   "metadata": {},
   "outputs": [
    {
     "data": {
      "text/plain": [
       "(' PYTHON | FOR | DATA | ANALYTICS ',\n",
       " ' python | for | data | analytics ',\n",
       " 'Python | for | Data | Analytics ',\n",
       " ' Python | for | Data | Analytics',\n",
       " [' Python ', ' for ', ' Data ', ' Analytics '],\n",
       " False,\n",
       " True)"
      ]
     },
     "execution_count": 74,
     "metadata": {},
     "output_type": "execute_result"
    }
   ],
   "source": [
    "a = \" Python | for | Data | Analytics \"\n",
    "a.upper(), a.lower(), a.lstrip(), a.rstrip(), a.split('|'), a.startswith(\"pyhton\"), a.endswith(\"tics \")"
   ]
  },
  {
   "cell_type": "code",
   "execution_count": 75,
   "id": "c9dc099a",
   "metadata": {},
   "outputs": [
    {
     "name": "stdout",
     "output_type": "stream",
     "text": [
      "Python for Data Analytics\n"
     ]
    }
   ],
   "source": [
    "a = \"Python\"\n",
    "b = \"for\"\n",
    "c = \"Data Analytics\"\n",
    "\n",
    "print(a,b,c)"
   ]
  },
  {
   "cell_type": "code",
   "execution_count": 87,
   "id": "87d93c5d",
   "metadata": {},
   "outputs": [
    {
     "name": "stdout",
     "output_type": "stream",
     "text": [
      "(1, 2, 3, 4, 5, 5)\n",
      "<class 'tuple'>\n",
      "<class 'list'>\n",
      "<class 'set'>\n"
     ]
    },
    {
     "data": {
      "text/plain": [
       "(None, None, None)"
      ]
     },
     "execution_count": 87,
     "metadata": {},
     "output_type": "execute_result"
    }
   ],
   "source": [
    "# membuat list dengan tipe data integer\n",
    "int_list = (1,2,3,4,5,5)\n",
    "int_list_2 = [1,2,3,4,5,5]\n",
    "int_list_3 = {1,2,3,4,5,5}\n",
    "print (int_list)\n",
    "print(type(int_list)), print(type(int_list_2)), print(type(int_list_3))"
   ]
  },
  {
   "cell_type": "code",
   "execution_count": 100,
   "id": "8a961d96",
   "metadata": {},
   "outputs": [
    {
     "name": "stdout",
     "output_type": "stream",
     "text": [
      "['A', 'A', 'A', 'A', 'A', 'A', 'A', 1, 2, 3, 4, 5, 5, 0, 0]\n"
     ]
    }
   ],
   "source": [
    "#int_list_2.append(0)\n",
    "int_list_2.insert(0, \"A\")\n",
    "int_list_2.remove(0)\n",
    "print(int_list_2)\n"
   ]
  },
  {
   "cell_type": "code",
   "execution_count": 98,
   "id": "39c9b4ba",
   "metadata": {},
   "outputs": [
    {
     "ename": "TypeError",
     "evalue": "'<' not supported between instances of 'int' and 'str'",
     "output_type": "error",
     "traceback": [
      "\u001b[1;31m---------------------------------------------------------------------------\u001b[0m",
      "\u001b[1;31mTypeError\u001b[0m                                 Traceback (most recent call last)",
      "Cell \u001b[1;32mIn [98], line 1\u001b[0m\n\u001b[1;32m----> 1\u001b[0m int_list_2\u001b[38;5;241m.\u001b[39msort()\n",
      "\u001b[1;31mTypeError\u001b[0m: '<' not supported between instances of 'int' and 'str'"
     ]
    }
   ],
   "source": [
    "int_list_2.sort()"
   ]
  },
  {
   "cell_type": "code",
   "execution_count": 104,
   "id": "24ba0d29",
   "metadata": {},
   "outputs": [
    {
     "name": "stdout",
     "output_type": "stream",
     "text": [
      "[1, 2, 3, 4, 5, 6]\n"
     ]
    }
   ],
   "source": [
    "a = [1,3,2,4,5,6]\n",
    "a.sort()\n",
    "a *3\n",
    "print(a)"
   ]
  },
  {
   "cell_type": "code",
   "execution_count": 108,
   "id": "71e5f073",
   "metadata": {},
   "outputs": [
    {
     "name": "stdout",
     "output_type": "stream",
     "text": [
      "(1, 2, 3, 4, 5)\n",
      "[1, 2, 3, 4, 5]\n"
     ]
    }
   ],
   "source": [
    "# tuple\n",
    "int_tuple = (1,2,3,4,5)\n",
    "print(int_tuple)\n",
    "list_int_tuple = list(int_tuple)\n",
    "print(list_int_tuple)"
   ]
  },
  {
   "cell_type": "code",
   "execution_count": 113,
   "id": "2d1edab9",
   "metadata": {},
   "outputs": [
    {
     "name": "stdout",
     "output_type": "stream",
     "text": [
      "<class 'set'>\n"
     ]
    },
    {
     "data": {
      "text/plain": [
       "{2, 3, 4, 5}"
      ]
     },
     "execution_count": 113,
     "metadata": {},
     "output_type": "execute_result"
    }
   ],
   "source": [
    "# set\n",
    "int_set = {1,2,3,4,5}\n",
    "print(type(int_set))\n",
    "int_set.remove(1)\n",
    "int_set\n"
   ]
  },
  {
   "cell_type": "code",
   "execution_count": 117,
   "id": "1525dd8f",
   "metadata": {},
   "outputs": [
    {
     "name": "stdout",
     "output_type": "stream",
     "text": [
      "{'Setjen': 123, 'DJP': 456, 'BPPK': 789}\n",
      "123\n"
     ]
    }
   ],
   "source": [
    "# dictionary\n",
    "num_of_employee = {'Setjen' : 123, 'DJP' : 456, 'BPPK' : 789}\n",
    "print(num_of_employee),\n",
    "print(num_of_employee['Setjen'])"
   ]
  },
  {
   "cell_type": "code",
   "execution_count": 121,
   "id": "38deed36",
   "metadata": {},
   "outputs": [
    {
     "name": "stdout",
     "output_type": "stream",
     "text": [
      "1.0\n",
      "3\n",
      "2.5\n"
     ]
    }
   ],
   "source": [
    "# Konversi antar tipe data\n",
    "print(float(1))\n",
    "print(int(3.23))\n",
    "print(float(\"2.5\"))"
   ]
  },
  {
   "cell_type": "code",
   "execution_count": 123,
   "id": "941072c6",
   "metadata": {},
   "outputs": [
    {
     "name": "stdout",
     "output_type": "stream",
     "text": [
      "{1, 2, 3, 4, 5}\n",
      "['A', 'l', 'd', 'i']\n"
     ]
    }
   ],
   "source": [
    "#Konversi\n",
    "print(set([1,2,3,4,5]))\n",
    "print(list('Aldi'))"
   ]
  },
  {
   "cell_type": "code",
   "execution_count": 126,
   "id": "ba970d16",
   "metadata": {},
   "outputs": [
    {
     "name": "stdout",
     "output_type": "stream",
     "text": [
      "Hai,  Aldi !\n",
      "Hai, Aldi!\n"
     ]
    }
   ],
   "source": [
    "# input\n",
    "nama = input(\"Ketik namamu (lalu tekan Enter): \")\n",
    "# output\n",
    "print(\"Hai, \", nama, \"!\")\n",
    "print(\"Hai, %s!\" %nama)\n",
    "\n",
    "# identifier \n",
    "# %s untuk string\n",
    "# %d untuk integer\n",
    "# %f untuk float\n",
    "\n",
    "\n",
    "\n"
   ]
  },
  {
   "cell_type": "code",
   "execution_count": 135,
   "id": "7fb79962",
   "metadata": {},
   "outputs": [
    {
     "name": "stdout",
     "output_type": "stream",
     "text": [
      "\n",
      "Umur Aldi adalah 34.\n"
     ]
    }
   ],
   "source": [
    "# identifier \n",
    "# %s untuk string\n",
    "# %d untuk integer\n",
    "# %f untuk float\n",
    "# \\n untuk new line\n",
    "\n",
    "# input\n",
    "nama = input(\"Siapa namamu: \")\n",
    "umur = int(input(\"Umurmu berapa? \"))\n",
    "\n",
    "# output\n",
    "print(\"\\nUmur %s adalah %d.\" % (nama, umur))\n"
   ]
  },
  {
   "cell_type": "code",
   "execution_count": 136,
   "id": "0fee1a83",
   "metadata": {},
   "outputs": [
    {
     "name": "stdout",
     "output_type": "stream",
     "text": [
      "8.18\n"
     ]
    }
   ],
   "source": [
    "meatPrice = 4.00\n",
    "meatTax = 0.03 * meatPrice\n",
    "milkPrice = 2.00\n",
    "milkTax = 0.03 * milkPrice\n",
    "print(meatTax + meatPrice + milkTax + meatPrice)"
   ]
  },
  {
   "cell_type": "code",
   "execution_count": 137,
   "id": "367d6520",
   "metadata": {},
   "outputs": [],
   "source": [
    "populationIn2012 = 1000\n",
    "populationIn2013 = populationIn2012 * 0.1\n",
    "populationIn2014 = populationIn2013 * 0.1\n",
    "populationIn2015 = populationIn2014 * 0.1\n",
    "\n"
   ]
  },
  {
   "cell_type": "code",
   "execution_count": 157,
   "id": "59ffc78c",
   "metadata": {},
   "outputs": [
    {
     "name": "stdout",
     "output_type": "stream",
     "text": [
      "12.600000000000001\n"
     ]
    }
   ],
   "source": [
    "balance = 600\n",
    "threshold = 10\n",
    "if balance < threshold:\n",
    "    print(balance)\n",
    "else:\n",
    "    print(max(10, (2.1/100)*balance))"
   ]
  },
  {
   "cell_type": "code",
   "execution_count": null,
   "id": "fe3b443a",
   "metadata": {},
   "outputs": [],
   "source": [
    "L = float(str(inputStr)\n",
    "A = L*L\n",
    "print(A//100)"
   ]
  },
  {
   "cell_type": "code",
   "execution_count": 160,
   "id": "7a5ba13c",
   "metadata": {},
   "outputs": [
    {
     "name": "stdout",
     "output_type": "stream",
     "text": [
      "avalanche\n",
      "avalanche\n"
     ]
    }
   ],
   "source": [
    "input_str = input()\n",
    "input_str_2 = input()\n",
    "print(input_str)\n",
    "print(input_str_2)"
   ]
  },
  {
   "cell_type": "code",
   "execution_count": 166,
   "id": "ab7b55b5",
   "metadata": {},
   "outputs": [
    {
     "name": "stdout",
     "output_type": "stream",
     "text": [
      "Yum!\n"
     ]
    }
   ],
   "source": [
    "pancakes = input()\n",
    "pancakes = int(pancakes)\n",
    "if pancakes > 3:\n",
    "     print(\"Yum!\")\n",
    "else:\n",
    "     print(\"Still hungry!\")\n"
   ]
  },
  {
   "cell_type": "code",
   "execution_count": 170,
   "id": "6c5ba13f",
   "metadata": {},
   "outputs": [
    {
     "name": "stdout",
     "output_type": "stream",
     "text": [
      "Zero\n"
     ]
    }
   ],
   "source": [
    "x=int(input())\n",
    "if x == 0:\n",
    "   print(\"Zero\")\n",
    "elif x > 0:\n",
    "   print(\"Positive\")\n",
    "else:\n",
    "   print(\"Negative\")\n",
    "# delete this comment and enter your code here\n",
    "\n"
   ]
  },
  {
   "cell_type": "code",
   "execution_count": 181,
   "id": "58aed8c5",
   "metadata": {},
   "outputs": [
    {
     "name": "stdout",
     "output_type": "stream",
     "text": [
      "You are a time traveller\n"
     ]
    }
   ],
   "source": [
    "age = int(input())\n",
    "if age >= 18:\n",
    "    print(\"You can vote\")\n",
    "elif age < 0:\n",
    "    print(\"You are a time traveller\")\n",
    "else :\n",
    "    print(\"Too young to vote\")"
   ]
  },
  {
   "cell_type": "code",
   "execution_count": 182,
   "id": "34316b10",
   "metadata": {},
   "outputs": [
    {
     "name": "stdout",
     "output_type": "stream",
     "text": [
      "aldialdialdi\n"
     ]
    }
   ],
   "source": [
    "name = input()\n",
    "print(name * 3)"
   ]
  },
  {
   "cell_type": "code",
   "execution_count": 184,
   "id": "1c9e1833",
   "metadata": {},
   "outputs": [
    {
     "name": "stdout",
     "output_type": "stream",
     "text": [
      "aldi, aldi, bo-bldi\n",
      "banana-fana fo-fldi\n",
      "fee-fi-mo-mldi\n",
      "aldi!\n"
     ]
    }
   ],
   "source": [
    "\n",
    "name = input()\n",
    "\n",
    "print((name + \",\" + \" \") * 2 + (\"bo-b\" + name[1:len(name)]))\n",
    "print(\"banana-fana fo-f\" + name[1:len(name)])\n",
    "print(\"fee-fi-mo-m\"  + name[1:len(name)])\n",
    "print(name + \"!\")\n"
   ]
  },
  {
   "cell_type": "code",
   "execution_count": 1,
   "id": "54f0bf74",
   "metadata": {},
   "outputs": [],
   "source": [
    "import math\n",
    "\n",
    "import pandas as pd\n"
   ]
  }
 ],
 "metadata": {
  "kernelspec": {
   "display_name": "Python 3.9.12 ('Analytics': venv)",
   "language": "python",
   "name": "python3"
  },
  "language_info": {
   "codemirror_mode": {
    "name": "ipython",
    "version": 3
   },
   "file_extension": ".py",
   "mimetype": "text/x-python",
   "name": "python",
   "nbconvert_exporter": "python",
   "pygments_lexer": "ipython3",
   "version": "3.9.12"
  },
  "vscode": {
   "interpreter": {
    "hash": "87c62f4088c0119f3b54951049db164074c85f84a3c6ad6c9047e703721a0150"
   }
  }
 },
 "nbformat": 4,
 "nbformat_minor": 5
}
